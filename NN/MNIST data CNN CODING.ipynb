{
 "cells": [
  {
   "cell_type": "code",
   "execution_count": 1,
   "id": "a391fd98",
   "metadata": {},
   "outputs": [],
   "source": [
    "import pandas as pd \n",
    "import numpy as np\n",
    "import matplotlib.pyplot as plt\n",
    "import seaborn as sn\n",
    "import tensorflow as tf\n",
    "import keras"
   ]
  },
  {
   "cell_type": "code",
   "execution_count": 3,
   "id": "7f9429ec",
   "metadata": {},
   "outputs": [],
   "source": [
    "mnist = pd.read_csv(r'F:\\DS\\KAGGLE DATASET\\Neural Network\\mnist data\\mnist_test.csv')"
   ]
  },
  {
   "cell_type": "code",
   "execution_count": 4,
   "id": "c1aba199",
   "metadata": {},
   "outputs": [
    {
     "data": {
      "text/html": [
       "<div>\n",
       "<style scoped>\n",
       "    .dataframe tbody tr th:only-of-type {\n",
       "        vertical-align: middle;\n",
       "    }\n",
       "\n",
       "    .dataframe tbody tr th {\n",
       "        vertical-align: top;\n",
       "    }\n",
       "\n",
       "    .dataframe thead th {\n",
       "        text-align: right;\n",
       "    }\n",
       "</style>\n",
       "<table border=\"1\" class=\"dataframe\">\n",
       "  <thead>\n",
       "    <tr style=\"text-align: right;\">\n",
       "      <th></th>\n",
       "      <th>label</th>\n",
       "      <th>1x1</th>\n",
       "      <th>1x2</th>\n",
       "      <th>1x3</th>\n",
       "      <th>1x4</th>\n",
       "      <th>1x5</th>\n",
       "      <th>1x6</th>\n",
       "      <th>1x7</th>\n",
       "      <th>1x8</th>\n",
       "      <th>1x9</th>\n",
       "      <th>...</th>\n",
       "      <th>28x19</th>\n",
       "      <th>28x20</th>\n",
       "      <th>28x21</th>\n",
       "      <th>28x22</th>\n",
       "      <th>28x23</th>\n",
       "      <th>28x24</th>\n",
       "      <th>28x25</th>\n",
       "      <th>28x26</th>\n",
       "      <th>28x27</th>\n",
       "      <th>28x28</th>\n",
       "    </tr>\n",
       "  </thead>\n",
       "  <tbody>\n",
       "    <tr>\n",
       "      <th>0</th>\n",
       "      <td>7</td>\n",
       "      <td>0</td>\n",
       "      <td>0</td>\n",
       "      <td>0</td>\n",
       "      <td>0</td>\n",
       "      <td>0</td>\n",
       "      <td>0</td>\n",
       "      <td>0</td>\n",
       "      <td>0</td>\n",
       "      <td>0</td>\n",
       "      <td>...</td>\n",
       "      <td>0</td>\n",
       "      <td>0</td>\n",
       "      <td>0</td>\n",
       "      <td>0</td>\n",
       "      <td>0</td>\n",
       "      <td>0</td>\n",
       "      <td>0</td>\n",
       "      <td>0</td>\n",
       "      <td>0</td>\n",
       "      <td>0</td>\n",
       "    </tr>\n",
       "    <tr>\n",
       "      <th>1</th>\n",
       "      <td>2</td>\n",
       "      <td>0</td>\n",
       "      <td>0</td>\n",
       "      <td>0</td>\n",
       "      <td>0</td>\n",
       "      <td>0</td>\n",
       "      <td>0</td>\n",
       "      <td>0</td>\n",
       "      <td>0</td>\n",
       "      <td>0</td>\n",
       "      <td>...</td>\n",
       "      <td>0</td>\n",
       "      <td>0</td>\n",
       "      <td>0</td>\n",
       "      <td>0</td>\n",
       "      <td>0</td>\n",
       "      <td>0</td>\n",
       "      <td>0</td>\n",
       "      <td>0</td>\n",
       "      <td>0</td>\n",
       "      <td>0</td>\n",
       "    </tr>\n",
       "    <tr>\n",
       "      <th>2</th>\n",
       "      <td>1</td>\n",
       "      <td>0</td>\n",
       "      <td>0</td>\n",
       "      <td>0</td>\n",
       "      <td>0</td>\n",
       "      <td>0</td>\n",
       "      <td>0</td>\n",
       "      <td>0</td>\n",
       "      <td>0</td>\n",
       "      <td>0</td>\n",
       "      <td>...</td>\n",
       "      <td>0</td>\n",
       "      <td>0</td>\n",
       "      <td>0</td>\n",
       "      <td>0</td>\n",
       "      <td>0</td>\n",
       "      <td>0</td>\n",
       "      <td>0</td>\n",
       "      <td>0</td>\n",
       "      <td>0</td>\n",
       "      <td>0</td>\n",
       "    </tr>\n",
       "    <tr>\n",
       "      <th>3</th>\n",
       "      <td>0</td>\n",
       "      <td>0</td>\n",
       "      <td>0</td>\n",
       "      <td>0</td>\n",
       "      <td>0</td>\n",
       "      <td>0</td>\n",
       "      <td>0</td>\n",
       "      <td>0</td>\n",
       "      <td>0</td>\n",
       "      <td>0</td>\n",
       "      <td>...</td>\n",
       "      <td>0</td>\n",
       "      <td>0</td>\n",
       "      <td>0</td>\n",
       "      <td>0</td>\n",
       "      <td>0</td>\n",
       "      <td>0</td>\n",
       "      <td>0</td>\n",
       "      <td>0</td>\n",
       "      <td>0</td>\n",
       "      <td>0</td>\n",
       "    </tr>\n",
       "    <tr>\n",
       "      <th>4</th>\n",
       "      <td>4</td>\n",
       "      <td>0</td>\n",
       "      <td>0</td>\n",
       "      <td>0</td>\n",
       "      <td>0</td>\n",
       "      <td>0</td>\n",
       "      <td>0</td>\n",
       "      <td>0</td>\n",
       "      <td>0</td>\n",
       "      <td>0</td>\n",
       "      <td>...</td>\n",
       "      <td>0</td>\n",
       "      <td>0</td>\n",
       "      <td>0</td>\n",
       "      <td>0</td>\n",
       "      <td>0</td>\n",
       "      <td>0</td>\n",
       "      <td>0</td>\n",
       "      <td>0</td>\n",
       "      <td>0</td>\n",
       "      <td>0</td>\n",
       "    </tr>\n",
       "  </tbody>\n",
       "</table>\n",
       "<p>5 rows × 785 columns</p>\n",
       "</div>"
      ],
      "text/plain": [
       "   label  1x1  1x2  1x3  1x4  1x5  1x6  1x7  1x8  1x9  ...  28x19  28x20  \\\n",
       "0      7    0    0    0    0    0    0    0    0    0  ...      0      0   \n",
       "1      2    0    0    0    0    0    0    0    0    0  ...      0      0   \n",
       "2      1    0    0    0    0    0    0    0    0    0  ...      0      0   \n",
       "3      0    0    0    0    0    0    0    0    0    0  ...      0      0   \n",
       "4      4    0    0    0    0    0    0    0    0    0  ...      0      0   \n",
       "\n",
       "   28x21  28x22  28x23  28x24  28x25  28x26  28x27  28x28  \n",
       "0      0      0      0      0      0      0      0      0  \n",
       "1      0      0      0      0      0      0      0      0  \n",
       "2      0      0      0      0      0      0      0      0  \n",
       "3      0      0      0      0      0      0      0      0  \n",
       "4      0      0      0      0      0      0      0      0  \n",
       "\n",
       "[5 rows x 785 columns]"
      ]
     },
     "execution_count": 4,
     "metadata": {},
     "output_type": "execute_result"
    }
   ],
   "source": [
    "mnist.head()"
   ]
  },
  {
   "cell_type": "code",
   "execution_count": 5,
   "id": "d721c6a5",
   "metadata": {},
   "outputs": [
    {
     "data": {
      "text/plain": [
       "(10000, 785)"
      ]
     },
     "execution_count": 5,
     "metadata": {},
     "output_type": "execute_result"
    }
   ],
   "source": [
    "mnist.shape"
   ]
  },
  {
   "cell_type": "markdown",
   "id": "9fd5ddde",
   "metadata": {},
   "source": [
    "Image data has no nulls and nonnumaric but just for check it your confirmation"
   ]
  },
  {
   "cell_type": "code",
   "execution_count": 8,
   "id": "05462949",
   "metadata": {},
   "outputs": [
    {
     "data": {
      "text/plain": [
       "Index([], dtype='object')"
      ]
     },
     "execution_count": 8,
     "metadata": {},
     "output_type": "execute_result"
    }
   ],
   "source": [
    "mnist.columns[mnist.isnull().sum()> 0]"
   ]
  },
  {
   "cell_type": "code",
   "execution_count": 9,
   "id": "32e722a1",
   "metadata": {},
   "outputs": [
    {
     "data": {
      "text/plain": [
       "Index([], dtype='object')"
      ]
     },
     "execution_count": 9,
     "metadata": {},
     "output_type": "execute_result"
    }
   ],
   "source": [
    "mnist.columns[mnist.dtypes == 'object']"
   ]
  },
  {
   "cell_type": "code",
   "execution_count": 11,
   "id": "2c6039b9",
   "metadata": {},
   "outputs": [],
   "source": [
    "mnist = np.array(mnist)\n"
   ]
  },
  {
   "cell_type": "code",
   "execution_count": 13,
   "id": "bb4e7631",
   "metadata": {},
   "outputs": [],
   "source": [
    "mnist_x = mnist[: , 1:] \n",
    "mnist_y = mnist[: , 0]"
   ]
  },
  {
   "cell_type": "code",
   "execution_count": 14,
   "id": "06789dda",
   "metadata": {},
   "outputs": [
    {
     "data": {
      "text/plain": [
       "(10000, 785)"
      ]
     },
     "execution_count": 14,
     "metadata": {},
     "output_type": "execute_result"
    }
   ],
   "source": [
    "mnist.shape"
   ]
  },
  {
   "cell_type": "code",
   "execution_count": 15,
   "id": "2f70a329",
   "metadata": {},
   "outputs": [
    {
     "data": {
      "text/plain": [
       "array([7, 2, 1, ..., 4, 5, 6], dtype=int64)"
      ]
     },
     "execution_count": 15,
     "metadata": {},
     "output_type": "execute_result"
    }
   ],
   "source": [
    "mnist_y"
   ]
  },
  {
   "cell_type": "code",
   "execution_count": 16,
   "id": "4e818859",
   "metadata": {},
   "outputs": [
    {
     "data": {
      "text/plain": [
       "(10000, 784)"
      ]
     },
     "execution_count": 16,
     "metadata": {},
     "output_type": "execute_result"
    }
   ],
   "source": [
    "mnist_x.shape"
   ]
  },
  {
   "cell_type": "code",
   "execution_count": 18,
   "id": "39d02c8f",
   "metadata": {},
   "outputs": [
    {
     "data": {
      "text/plain": [
       "(10000, 28, 28, 1)"
      ]
     },
     "execution_count": 18,
     "metadata": {},
     "output_type": "execute_result"
    }
   ],
   "source": [
    "mnist_x = mnist_x.reshape(-1,28,28,1)\n",
    "mnist_x.shape"
   ]
  },
  {
   "cell_type": "code",
   "execution_count": 21,
   "id": "e0b6f646",
   "metadata": {},
   "outputs": [],
   "source": [
    "from keras.models import Sequential"
   ]
  },
  {
   "cell_type": "code",
   "execution_count": 24,
   "id": "b36a445a",
   "metadata": {},
   "outputs": [],
   "source": [
    "from keras.layers import Conv2D , Flatten, Dense, Dropout"
   ]
  },
  {
   "cell_type": "code",
   "execution_count": 27,
   "id": "75cce413",
   "metadata": {},
   "outputs": [],
   "source": [
    " from tensorflow.keras.layers import MaxPool2D"
   ]
  },
  {
   "cell_type": "code",
   "execution_count": 30,
   "id": "1a6acf86",
   "metadata": {},
   "outputs": [],
   "source": [
    "from keras.utils.np_utils import to_categorical"
   ]
  },
  {
   "cell_type": "code",
   "execution_count": 31,
   "id": "9ef0a8dd",
   "metadata": {},
   "outputs": [],
   "source": [
    "mnist_x = tf.keras.utils.normalize(mnist_x)\n",
    "mnist_y = to_categorical(mnist_y)"
   ]
  },
  {
   "cell_type": "code",
   "execution_count": 32,
   "id": "58892016",
   "metadata": {},
   "outputs": [
    {
     "data": {
      "text/plain": [
       "(10000, 10)"
      ]
     },
     "execution_count": 32,
     "metadata": {},
     "output_type": "execute_result"
    }
   ],
   "source": [
    "mnist_y.shape"
   ]
  },
  {
   "cell_type": "code",
   "execution_count": 35,
   "id": "342080d3",
   "metadata": {},
   "outputs": [],
   "source": [
    "model = Sequential()\n",
    "model.add(Conv2D(filters = 16, kernel_size = (5,5), activation = 'relu', padding = 'same',input_shape = (28,28,1) ))\n",
    "model.add(MaxPool2D(pool_size = (2,2)))\n",
    "model.add(Flatten())\n",
    "model.add(Dense(128, activation = 'relu'))\n",
    "model.add(Dropout(0.4))\n",
    "model.add(Dense(10, activation = 'softmax'))\n",
    "\n",
    "adam = tf.keras.optimizers.Adam()\n",
    "\n",
    "\n",
    "model.compile(optimizer = 'adam', loss = 'categorical_crossentropy', metrics = ['accuracy'])"
   ]
  },
  {
   "cell_type": "code",
   "execution_count": 36,
   "id": "a3b16590",
   "metadata": {},
   "outputs": [
    {
     "name": "stdout",
     "output_type": "stream",
     "text": [
      "Epoch 1/2\n",
      "250/250 [==============================] - 9s 31ms/step - loss: 0.5611 - accuracy: 0.8249 - val_loss: 0.1513 - val_accuracy: 0.9550\n",
      "Epoch 2/2\n",
      "250/250 [==============================] - 7s 30ms/step - loss: 0.2103 - accuracy: 0.9339 - val_loss: 0.1041 - val_accuracy: 0.9665\n"
     ]
    },
    {
     "data": {
      "text/plain": [
       "<keras.callbacks.History at 0x1585f1712b0>"
      ]
     },
     "execution_count": 36,
     "metadata": {},
     "output_type": "execute_result"
    }
   ],
   "source": [
    "model.fit(mnist_x, mnist_y,epochs = 2, validation_split = 0.2)"
   ]
  },
  {
   "cell_type": "code",
   "execution_count": 39,
   "id": "a60ea9c9",
   "metadata": {},
   "outputs": [],
   "source": [
    "pred_value = model.predict(mnist_x)"
   ]
  },
  {
   "cell_type": "code",
   "execution_count": 40,
   "id": "0249391f",
   "metadata": {},
   "outputs": [
    {
     "data": {
      "text/plain": [
       "array([[2.72938069e-05, 1.85257193e-07, 1.05971885e-04, ...,\n",
       "        9.99047101e-01, 2.51866422e-05, 1.76252244e-04],\n",
       "       [2.19194794e-06, 4.46288504e-05, 9.99565065e-01, ...,\n",
       "        1.71283176e-07, 1.67651015e-05, 1.15968078e-07],\n",
       "       [5.91904109e-06, 9.99185145e-01, 1.06319691e-04, ...,\n",
       "        1.52350403e-04, 1.38294345e-04, 1.30090804e-04],\n",
       "       ...,\n",
       "       [2.24863557e-04, 2.30582533e-04, 4.24086938e-05, ...,\n",
       "        1.41646527e-03, 6.39364263e-03, 3.86360846e-02],\n",
       "       [1.17653915e-04, 9.03271866e-05, 1.22893880e-05, ...,\n",
       "        3.37289894e-05, 9.55654308e-02, 8.90740557e-05],\n",
       "       [1.98643756e-05, 6.19124933e-07, 4.47515107e-04, ...,\n",
       "        6.06587358e-09, 4.27207215e-06, 1.66746258e-06]], dtype=float32)"
      ]
     },
     "execution_count": 40,
     "metadata": {},
     "output_type": "execute_result"
    }
   ],
   "source": [
    "pred_value"
   ]
  },
  {
   "cell_type": "code",
   "execution_count": 41,
   "id": "531d0fb1",
   "metadata": {},
   "outputs": [],
   "source": [
    "pred_value = np.argmax(pred_value, axis = 1)"
   ]
  },
  {
   "cell_type": "code",
   "execution_count": 42,
   "id": "c0bdce57",
   "metadata": {},
   "outputs": [
    {
     "data": {
      "text/plain": [
       "array([7, 2, 1, ..., 4, 5, 6], dtype=int64)"
      ]
     },
     "execution_count": 42,
     "metadata": {},
     "output_type": "execute_result"
    }
   ],
   "source": [
    "pred_value"
   ]
  },
  {
   "cell_type": "code",
   "execution_count": 44,
   "id": "4d641c52",
   "metadata": {},
   "outputs": [
    {
     "data": {
      "text/plain": [
       "array([[ 962,    0,    5,    0,    0,    1,    2,    3,    2,    2],\n",
       "       [   1, 1123,    2,    0,    4,    0,    3,    4,   12,    6],\n",
       "       [   2,    3, 1001,    7,    2,    0,    0,   13,    1,    1],\n",
       "       [   2,    2,    4,  962,    0,    7,    0,    1,    6,    6],\n",
       "       [   1,    0,    5,    0,  958,    0,    5,    3,    2,   16],\n",
       "       [   1,    2,    0,   14,    0,  874,    6,    1,   10,    5],\n",
       "       [   6,    1,    1,    0,    1,    5,  941,    0,    3,    1],\n",
       "       [   1,    0,    3,    5,    1,    0,    0,  978,    1,    4],\n",
       "       [   4,    4,   10,   17,    1,    4,    1,    4,  932,    7],\n",
       "       [   0,    0,    1,    5,   15,    1,    0,   21,    5,  961]],\n",
       "      dtype=int64)"
      ]
     },
     "execution_count": 44,
     "metadata": {},
     "output_type": "execute_result"
    }
   ],
   "source": [
    "from sklearn.metrics import confusion_matrix\n",
    "tab = confusion_matrix(pred_value, np.argmax(mnist_y , axis = 1))\n",
    "tab # from top actual and left right predict"
   ]
  },
  {
   "cell_type": "code",
   "execution_count": 45,
   "id": "2ab4a5b5",
   "metadata": {},
   "outputs": [
    {
     "data": {
      "text/plain": [
       "96.92"
      ]
     },
     "execution_count": 45,
     "metadata": {},
     "output_type": "execute_result"
    }
   ],
   "source": [
    "tab.diagonal().sum() * 100 /tab.sum()"
   ]
  },
  {
   "cell_type": "code",
   "execution_count": 46,
   "id": "8e7e6530",
   "metadata": {},
   "outputs": [
    {
     "data": {
      "text/plain": [
       "array([[ 962,    1,    2,    2,    1,    1,    6,    1,    4,    0],\n",
       "       [   0, 1123,    3,    2,    0,    2,    1,    0,    4,    0],\n",
       "       [   5,    2, 1001,    4,    5,    0,    1,    3,   10,    1],\n",
       "       [   0,    0,    7,  962,    0,   14,    0,    5,   17,    5],\n",
       "       [   0,    4,    2,    0,  958,    0,    1,    1,    1,   15],\n",
       "       [   1,    0,    0,    7,    0,  874,    5,    0,    4,    1],\n",
       "       [   2,    3,    0,    0,    5,    6,  941,    0,    1,    0],\n",
       "       [   3,    4,   13,    1,    3,    1,    0,  978,    4,   21],\n",
       "       [   2,   12,    1,    6,    2,   10,    3,    1,  932,    5],\n",
       "       [   2,    6,    1,    6,   16,    5,    1,    4,    7,  961]],\n",
       "      dtype=int64)"
      ]
     },
     "execution_count": 46,
     "metadata": {},
     "output_type": "execute_result"
    }
   ],
   "source": [
    "tab1 = confusion_matrix(np.argmax(mnist_y , axis = 1),pred_value)\n",
    "tab1 # from top predict and left right actual"
   ]
  }
 ],
 "metadata": {
  "kernelspec": {
   "display_name": "Python 3 (ipykernel)",
   "language": "python",
   "name": "python3"
  },
  "language_info": {
   "codemirror_mode": {
    "name": "ipython",
    "version": 3
   },
   "file_extension": ".py",
   "mimetype": "text/x-python",
   "name": "python",
   "nbconvert_exporter": "python",
   "pygments_lexer": "ipython3",
   "version": "3.9.7"
  }
 },
 "nbformat": 4,
 "nbformat_minor": 5
}
