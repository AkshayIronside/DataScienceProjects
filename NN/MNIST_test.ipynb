{
 "cells": [
  {
   "cell_type": "code",
   "execution_count": 1,
   "id": "d57e6dfc",
   "metadata": {},
   "outputs": [],
   "source": [
    "import pandas as pd \n",
    "import numpy as np\n",
    "import matplotlib.pyplot as plt\n",
    "import seaborn as sn\n",
    "import tensorflow as tf\n",
    "import keras "
   ]
  },
  {
   "cell_type": "code",
   "execution_count": 2,
   "id": "142f8a4e",
   "metadata": {},
   "outputs": [
    {
     "data": {
      "text/plain": [
       "'2.8.0'"
      ]
     },
     "execution_count": 2,
     "metadata": {},
     "output_type": "execute_result"
    }
   ],
   "source": [
    "tf.__version__"
   ]
  },
  {
   "cell_type": "code",
   "execution_count": 3,
   "id": "7b0a0014",
   "metadata": {},
   "outputs": [
    {
     "data": {
      "text/plain": [
       "'2.8.0'"
      ]
     },
     "execution_count": 3,
     "metadata": {},
     "output_type": "execute_result"
    }
   ],
   "source": [
    "keras.__version__"
   ]
  },
  {
   "cell_type": "code",
   "execution_count": 4,
   "id": "b679b9dc",
   "metadata": {},
   "outputs": [],
   "source": [
    "mnist = pd.read_csv(r'F:\\DS\\KAGGLE DATASET\\Neural Network\\mnist_test.csv')"
   ]
  },
  {
   "cell_type": "code",
   "execution_count": 5,
   "id": "cbff68a8",
   "metadata": {},
   "outputs": [
    {
     "data": {
      "text/html": [
       "<div>\n",
       "<style scoped>\n",
       "    .dataframe tbody tr th:only-of-type {\n",
       "        vertical-align: middle;\n",
       "    }\n",
       "\n",
       "    .dataframe tbody tr th {\n",
       "        vertical-align: top;\n",
       "    }\n",
       "\n",
       "    .dataframe thead th {\n",
       "        text-align: right;\n",
       "    }\n",
       "</style>\n",
       "<table border=\"1\" class=\"dataframe\">\n",
       "  <thead>\n",
       "    <tr style=\"text-align: right;\">\n",
       "      <th></th>\n",
       "      <th>label</th>\n",
       "      <th>1x1</th>\n",
       "      <th>1x2</th>\n",
       "      <th>1x3</th>\n",
       "      <th>1x4</th>\n",
       "      <th>1x5</th>\n",
       "      <th>1x6</th>\n",
       "      <th>1x7</th>\n",
       "      <th>1x8</th>\n",
       "      <th>1x9</th>\n",
       "      <th>...</th>\n",
       "      <th>28x19</th>\n",
       "      <th>28x20</th>\n",
       "      <th>28x21</th>\n",
       "      <th>28x22</th>\n",
       "      <th>28x23</th>\n",
       "      <th>28x24</th>\n",
       "      <th>28x25</th>\n",
       "      <th>28x26</th>\n",
       "      <th>28x27</th>\n",
       "      <th>28x28</th>\n",
       "    </tr>\n",
       "  </thead>\n",
       "  <tbody>\n",
       "    <tr>\n",
       "      <th>0</th>\n",
       "      <td>7</td>\n",
       "      <td>0</td>\n",
       "      <td>0</td>\n",
       "      <td>0</td>\n",
       "      <td>0</td>\n",
       "      <td>0</td>\n",
       "      <td>0</td>\n",
       "      <td>0</td>\n",
       "      <td>0</td>\n",
       "      <td>0</td>\n",
       "      <td>...</td>\n",
       "      <td>0</td>\n",
       "      <td>0</td>\n",
       "      <td>0</td>\n",
       "      <td>0</td>\n",
       "      <td>0</td>\n",
       "      <td>0</td>\n",
       "      <td>0</td>\n",
       "      <td>0</td>\n",
       "      <td>0</td>\n",
       "      <td>0</td>\n",
       "    </tr>\n",
       "    <tr>\n",
       "      <th>1</th>\n",
       "      <td>2</td>\n",
       "      <td>0</td>\n",
       "      <td>0</td>\n",
       "      <td>0</td>\n",
       "      <td>0</td>\n",
       "      <td>0</td>\n",
       "      <td>0</td>\n",
       "      <td>0</td>\n",
       "      <td>0</td>\n",
       "      <td>0</td>\n",
       "      <td>...</td>\n",
       "      <td>0</td>\n",
       "      <td>0</td>\n",
       "      <td>0</td>\n",
       "      <td>0</td>\n",
       "      <td>0</td>\n",
       "      <td>0</td>\n",
       "      <td>0</td>\n",
       "      <td>0</td>\n",
       "      <td>0</td>\n",
       "      <td>0</td>\n",
       "    </tr>\n",
       "    <tr>\n",
       "      <th>2</th>\n",
       "      <td>1</td>\n",
       "      <td>0</td>\n",
       "      <td>0</td>\n",
       "      <td>0</td>\n",
       "      <td>0</td>\n",
       "      <td>0</td>\n",
       "      <td>0</td>\n",
       "      <td>0</td>\n",
       "      <td>0</td>\n",
       "      <td>0</td>\n",
       "      <td>...</td>\n",
       "      <td>0</td>\n",
       "      <td>0</td>\n",
       "      <td>0</td>\n",
       "      <td>0</td>\n",
       "      <td>0</td>\n",
       "      <td>0</td>\n",
       "      <td>0</td>\n",
       "      <td>0</td>\n",
       "      <td>0</td>\n",
       "      <td>0</td>\n",
       "    </tr>\n",
       "    <tr>\n",
       "      <th>3</th>\n",
       "      <td>0</td>\n",
       "      <td>0</td>\n",
       "      <td>0</td>\n",
       "      <td>0</td>\n",
       "      <td>0</td>\n",
       "      <td>0</td>\n",
       "      <td>0</td>\n",
       "      <td>0</td>\n",
       "      <td>0</td>\n",
       "      <td>0</td>\n",
       "      <td>...</td>\n",
       "      <td>0</td>\n",
       "      <td>0</td>\n",
       "      <td>0</td>\n",
       "      <td>0</td>\n",
       "      <td>0</td>\n",
       "      <td>0</td>\n",
       "      <td>0</td>\n",
       "      <td>0</td>\n",
       "      <td>0</td>\n",
       "      <td>0</td>\n",
       "    </tr>\n",
       "    <tr>\n",
       "      <th>4</th>\n",
       "      <td>4</td>\n",
       "      <td>0</td>\n",
       "      <td>0</td>\n",
       "      <td>0</td>\n",
       "      <td>0</td>\n",
       "      <td>0</td>\n",
       "      <td>0</td>\n",
       "      <td>0</td>\n",
       "      <td>0</td>\n",
       "      <td>0</td>\n",
       "      <td>...</td>\n",
       "      <td>0</td>\n",
       "      <td>0</td>\n",
       "      <td>0</td>\n",
       "      <td>0</td>\n",
       "      <td>0</td>\n",
       "      <td>0</td>\n",
       "      <td>0</td>\n",
       "      <td>0</td>\n",
       "      <td>0</td>\n",
       "      <td>0</td>\n",
       "    </tr>\n",
       "  </tbody>\n",
       "</table>\n",
       "<p>5 rows × 785 columns</p>\n",
       "</div>"
      ],
      "text/plain": [
       "   label  1x1  1x2  1x3  1x4  1x5  1x6  1x7  1x8  1x9  ...  28x19  28x20  \\\n",
       "0      7    0    0    0    0    0    0    0    0    0  ...      0      0   \n",
       "1      2    0    0    0    0    0    0    0    0    0  ...      0      0   \n",
       "2      1    0    0    0    0    0    0    0    0    0  ...      0      0   \n",
       "3      0    0    0    0    0    0    0    0    0    0  ...      0      0   \n",
       "4      4    0    0    0    0    0    0    0    0    0  ...      0      0   \n",
       "\n",
       "   28x21  28x22  28x23  28x24  28x25  28x26  28x27  28x28  \n",
       "0      0      0      0      0      0      0      0      0  \n",
       "1      0      0      0      0      0      0      0      0  \n",
       "2      0      0      0      0      0      0      0      0  \n",
       "3      0      0      0      0      0      0      0      0  \n",
       "4      0      0      0      0      0      0      0      0  \n",
       "\n",
       "[5 rows x 785 columns]"
      ]
     },
     "execution_count": 5,
     "metadata": {},
     "output_type": "execute_result"
    }
   ],
   "source": [
    "mnist.head()"
   ]
  },
  {
   "cell_type": "code",
   "execution_count": 6,
   "id": "02a21a35",
   "metadata": {},
   "outputs": [
    {
     "data": {
      "text/plain": [
       "(10000, 785)"
      ]
     },
     "execution_count": 6,
     "metadata": {},
     "output_type": "execute_result"
    }
   ],
   "source": [
    "mnist.shape"
   ]
  },
  {
   "cell_type": "markdown",
   "id": "7a0994fd",
   "metadata": {},
   "source": [
    "Image data has no nulls and nonnumaric but just for check it your confirmation"
   ]
  },
  {
   "cell_type": "code",
   "execution_count": 7,
   "id": "8522e76e",
   "metadata": {},
   "outputs": [
    {
     "data": {
      "text/plain": [
       "Index([], dtype='object')"
      ]
     },
     "execution_count": 7,
     "metadata": {},
     "output_type": "execute_result"
    }
   ],
   "source": [
    "mnist.columns[mnist.isnull().sum()> 0]"
   ]
  },
  {
   "cell_type": "code",
   "execution_count": 8,
   "id": "daa8427b",
   "metadata": {},
   "outputs": [
    {
     "data": {
      "text/plain": [
       "Index([], dtype='object')"
      ]
     },
     "execution_count": 8,
     "metadata": {},
     "output_type": "execute_result"
    }
   ],
   "source": [
    "mnist.columns[mnist.dtypes == 'object']"
   ]
  },
  {
   "cell_type": "code",
   "execution_count": 9,
   "id": "267af7e5",
   "metadata": {},
   "outputs": [],
   "source": [
    "abcd = np.array(mnist.iloc[0 , 1:])"
   ]
  },
  {
   "cell_type": "code",
   "execution_count": 10,
   "id": "604061ca",
   "metadata": {},
   "outputs": [
    {
     "data": {
      "text/plain": [
       "(784,)"
      ]
     },
     "execution_count": 10,
     "metadata": {},
     "output_type": "execute_result"
    }
   ],
   "source": [
    "abcd.shape"
   ]
  },
  {
   "cell_type": "code",
   "execution_count": 11,
   "id": "44be53f9",
   "metadata": {},
   "outputs": [
    {
     "data": {
      "text/plain": [
       "28.0"
      ]
     },
     "execution_count": 11,
     "metadata": {},
     "output_type": "execute_result"
    }
   ],
   "source": [
    "np.sqrt(784)"
   ]
  },
  {
   "cell_type": "markdown",
   "id": "cd450965",
   "metadata": {},
   "source": [
    "Therefore reshape it into ( 28,28)"
   ]
  },
  {
   "cell_type": "code",
   "execution_count": 12,
   "id": "3703d8b7",
   "metadata": {},
   "outputs": [],
   "source": [
    "abcd = abcd.reshape(28,28)"
   ]
  },
  {
   "cell_type": "code",
   "execution_count": 13,
   "id": "f5032c41",
   "metadata": {},
   "outputs": [
    {
     "data": {
      "text/plain": [
       "(28, 28)"
      ]
     },
     "execution_count": 13,
     "metadata": {},
     "output_type": "execute_result"
    }
   ],
   "source": [
    "abcd.shape"
   ]
  },
  {
   "cell_type": "code",
   "execution_count": 14,
   "id": "c30184ec",
   "metadata": {},
   "outputs": [
    {
     "data": {
      "image/png": "[encoded data removed]",
      "text/plain": [
       "<Figure size 432x288 with 1 Axes>"
      ]
     },
     "metadata": {
      "needs_background": "light"
     },
     "output_type": "display_data"
    }
   ],
   "source": [
    "plt.imshow(abcd);"
   ]
  },
  {
   "cell_type": "code",
   "execution_count": 15,
   "id": "2fc89a86",
   "metadata": {},
   "outputs": [
    {
     "data": {
      "image/png": "[encoded data removed]",
      "text/plain": [
       "<Figure size 432x288 with 1 Axes>"
      ]
     },
     "metadata": {
      "needs_background": "light"
     },
     "output_type": "display_data"
    }
   ],
   "source": [
    "abcd = np.array(mnist.iloc[1 , 1:])\n",
    "abcd = abcd.reshape(28,28)\n",
    "plt.imshow(abcd);"
   ]
  },
  {
   "cell_type": "code",
   "execution_count": 16,
   "id": "f5d699e0",
   "metadata": {},
   "outputs": [
    {
     "data": {
      "image/png": "[encoded data removed]",
      "text/plain": [
       "<Figure size 432x288 with 1 Axes>"
      ]
     },
     "metadata": {
      "needs_background": "light"
     },
     "output_type": "display_data"
    }
   ],
   "source": [
    "abcd = np.array(mnist.iloc[2 , 1:])\n",
    "abcd = abcd.reshape(28,28)\n",
    "plt.imshow(abcd);"
   ]
  },
  {
   "cell_type": "code",
   "execution_count": 17,
   "id": "f89a0a48",
   "metadata": {},
   "outputs": [
    {
     "data": {
      "image/png": "[encoded data removed]",
      "text/plain": [
       "<Figure size 432x288 with 1 Axes>"
      ]
     },
     "metadata": {
      "needs_background": "light"
     },
     "output_type": "display_data"
    }
   ],
   "source": [
    "abcd = np.array(mnist.iloc[3 , 1:])\n",
    "abcd = abcd.reshape(28,28)\n",
    "plt.imshow(abcd);"
   ]
  },
  {
   "cell_type": "code",
   "execution_count": 18,
   "id": "a4b59cee",
   "metadata": {},
   "outputs": [
    {
     "data": {
      "image/png": "[encoded data removed]",
      "text/plain": [
       "<Figure size 432x288 with 1 Axes>"
      ]
     },
     "metadata": {
      "needs_background": "light"
     },
     "output_type": "display_data"
    }
   ],
   "source": [
    "abcd = np.array(mnist.iloc[10 , 1:])\n",
    "abcd = abcd.reshape(28,28)\n",
    "plt.imshow(abcd);"
   ]
  },
  {
   "cell_type": "code",
   "execution_count": 19,
   "id": "601645f9",
   "metadata": {},
   "outputs": [
    {
     "data": {
      "image/png": "[encoded data removed]",
      "text/plain": [
       "<Figure size 432x288 with 50 Axes>"
      ]
     },
     "metadata": {
      "needs_background": "light"
     },
     "output_type": "display_data"
    }
   ],
   "source": [
    "mnist1 = mnist.iloc[:, 1:786]\n",
    "mnist1 = np.array(mnist1)\n",
    "for i in range(50):\n",
    "    plt.subplot(5,10,i+1)\n",
    "    plt.imshow(mnist1[i , :].reshape(28,28))\n",
    "    plt.axis('off')"
   ]
  },
  {
   "cell_type": "markdown",
   "id": "6bed1ae7",
   "metadata": {},
   "source": [
    "## Building a NN model"
   ]
  },
  {
   "cell_type": "code",
   "execution_count": 20,
   "id": "57ea2f24",
   "metadata": {},
   "outputs": [],
   "source": [
    "mnist = pd.read_csv(r'F:\\DS\\KAGGLE DATASET\\Neural Network\\mnist_test.csv')"
   ]
  },
  {
   "cell_type": "code",
   "execution_count": 21,
   "id": "65632313",
   "metadata": {},
   "outputs": [],
   "source": [
    "mnist_x = mnist.iloc[: , 1:786] \n",
    "mnist_y = mnist.iloc[: , 0]"
   ]
  },
  {
   "cell_type": "code",
   "execution_count": 22,
   "id": "cdcf6312",
   "metadata": {},
   "outputs": [],
   "source": [
    "from sklearn.model_selection import train_test_split\n",
    "mnist_x_train,mnist_x_test, mnist_y_train,mnist_y_test = train_test_split(mnist_x,mnist_y ,test_size = 0.2, random_state = 420)"
   ]
  },
  {
   "cell_type": "code",
   "execution_count": 23,
   "id": "f4828da8",
   "metadata": {},
   "outputs": [
    {
     "name": "stdout",
     "output_type": "stream",
     "text": [
      "(8000, 784)\n",
      "(8000,)\n"
     ]
    }
   ],
   "source": [
    "print(mnist_x_train.shape)\n",
    "print(mnist_y_train.shape)"
   ]
  },
  {
   "cell_type": "code",
   "execution_count": 24,
   "id": "1dbac55a",
   "metadata": {},
   "outputs": [
    {
     "name": "stdout",
     "output_type": "stream",
     "text": [
      "(2000, 784)\n",
      "(2000,)\n"
     ]
    }
   ],
   "source": [
    "print(mnist_x_test.shape)\n",
    "print(mnist_y_test.shape)"
   ]
  },
  {
   "cell_type": "markdown",
   "id": "67fcbf36",
   "metadata": {},
   "source": [
    "### For Tensorflow  (NN) your data has to be in array format and not in DF format because for doing mathematical calculations we can't do on DataFrame"
   ]
  },
  {
   "cell_type": "code",
   "execution_count": 25,
   "id": "37106c3e",
   "metadata": {},
   "outputs": [],
   "source": [
    "mnist_x_train = np.array(mnist_x_train)\n",
    "mnist_x_test  = np.array(mnist_x_test)"
   ]
  },
  {
   "cell_type": "code",
   "execution_count": 26,
   "id": "97724cc3",
   "metadata": {},
   "outputs": [],
   "source": [
    "mnist_y_train = np.array(mnist_y_train)"
   ]
  },
  {
   "cell_type": "markdown",
   "id": "0cb42445",
   "metadata": {},
   "source": [
    "### And then Normalize the data ( It is not mandnatory but if you normalize the data you get the better model"
   ]
  },
  {
   "cell_type": "code",
   "execution_count": 27,
   "id": "4f4ea07f",
   "metadata": {},
   "outputs": [],
   "source": [
    "mnist_x_train = tf.keras.utils.normalize(mnist_x_train)\n",
    "mnist_x_test  = tf.keras.utils.normalize(mnist_x_test)"
   ]
  },
  {
   "cell_type": "code",
   "execution_count": 28,
   "id": "071af658",
   "metadata": {
    "scrolled": false
   },
   "outputs": [],
   "source": [
    "# list(mnist_x_train[0:])"
   ]
  },
  {
   "cell_type": "code",
   "execution_count": 29,
   "id": "7ef2e630",
   "metadata": {},
   "outputs": [],
   "source": [
    "model = tf.keras.models.Sequential()  # initialize the model\n",
    "model.add(tf.keras.layers.Dense(128, activation = tf.nn.relu))  # 1st hidden layer\n",
    "model.add(tf.keras.layers.Dense(256, activation = tf.nn.relu))  # 2nd hidden layer\n",
    "model.add(tf.keras.layers.Dense(128, activation = tf.nn.relu))  # 3rd hidden layer\n",
    "model.add(tf.keras.layers.Dense(10, activation = tf.nn.softmax))# o/p layer this 10 is not a hyperparameter\n",
    "# its mapped to number of levels in y \n",
    "# here 128 and 256 are the no of neurons which is always take in 2 power for good model take neuron \n",
    "# more than 100, and atleast hidden layer 3 to 5 which gives good result \n",
    "\n",
    "model.compile(optimizer = 'adam', loss = 'sparse_categorical_crossentropy', metrics = ['accuracy'])\n",
    "# adam = is like GD\n",
    "# sparse_categorical_crossentropy is cross entropy (loss)\n",
    "# metrics = "
   ]
  },
  {
   "cell_type": "code",
   "execution_count": 30,
   "id": "6f25f8d5",
   "metadata": {},
   "outputs": [
    {
     "name": "stdout",
     "output_type": "stream",
     "text": [
      "Epoch 1/50\n",
      "64/64 [==============================] - 2s 18ms/step - loss: 1.2688 - accuracy: 0.6672 - val_loss: 0.4761 - val_accuracy: 0.8569\n",
      "Epoch 2/50\n",
      "64/64 [==============================] - 1s 10ms/step - loss: 0.3742 - accuracy: 0.8902 - val_loss: 0.3820 - val_accuracy: 0.8856\n",
      "Epoch 3/50\n",
      "64/64 [==============================] - 1s 11ms/step - loss: 0.2848 - accuracy: 0.9145 - val_loss: 0.3367 - val_accuracy: 0.8963\n",
      "Epoch 4/50\n",
      "64/64 [==============================] - 1s 10ms/step - loss: 0.2328 - accuracy: 0.9280 - val_loss: 0.3028 - val_accuracy: 0.9087\n",
      "Epoch 5/50\n",
      "64/64 [==============================] - 1s 10ms/step - loss: 0.1985 - accuracy: 0.9358 - val_loss: 0.2791 - val_accuracy: 0.9206\n",
      "Epoch 6/50\n",
      "64/64 [==============================] - 1s 9ms/step - loss: 0.1693 - accuracy: 0.9480 - val_loss: 0.2517 - val_accuracy: 0.9281\n",
      "Epoch 7/50\n",
      "64/64 [==============================] - 1s 14ms/step - loss: 0.1424 - accuracy: 0.9559 - val_loss: 0.2596 - val_accuracy: 0.9250\n",
      "Epoch 8/50\n",
      "64/64 [==============================] - 1s 10ms/step - loss: 0.1301 - accuracy: 0.9573 - val_loss: 0.2536 - val_accuracy: 0.9262\n",
      "Epoch 9/50\n",
      "64/64 [==============================] - 1s 9ms/step - loss: 0.1050 - accuracy: 0.9673 - val_loss: 0.2415 - val_accuracy: 0.9312\n",
      "Epoch 10/50\n",
      "64/64 [==============================] - 1s 10ms/step - loss: 0.0871 - accuracy: 0.9733 - val_loss: 0.2318 - val_accuracy: 0.9356\n",
      "Epoch 11/50\n",
      "64/64 [==============================] - 1s 9ms/step - loss: 0.0740 - accuracy: 0.9800 - val_loss: 0.2473 - val_accuracy: 0.9306\n",
      "Epoch 12/50\n",
      "64/64 [==============================] - 1s 9ms/step - loss: 0.0621 - accuracy: 0.9827 - val_loss: 0.2260 - val_accuracy: 0.9419\n",
      "Epoch 13/50\n",
      "64/64 [==============================] - 1s 11ms/step - loss: 0.0524 - accuracy: 0.9856 - val_loss: 0.2257 - val_accuracy: 0.9388\n",
      "Epoch 14/50\n",
      "64/64 [==============================] - 1s 11ms/step - loss: 0.0382 - accuracy: 0.9908 - val_loss: 0.2384 - val_accuracy: 0.9362\n",
      "Epoch 15/50\n",
      "64/64 [==============================] - 1s 9ms/step - loss: 0.0374 - accuracy: 0.9897 - val_loss: 0.2413 - val_accuracy: 0.9400\n",
      "Epoch 16/50\n",
      "64/64 [==============================] - 1s 9ms/step - loss: 0.0318 - accuracy: 0.9919 - val_loss: 0.2376 - val_accuracy: 0.9425\n",
      "Epoch 17/50\n",
      "64/64 [==============================] - 1s 9ms/step - loss: 0.0248 - accuracy: 0.9947 - val_loss: 0.2552 - val_accuracy: 0.9463\n",
      "Epoch 18/50\n",
      "64/64 [==============================] - 1s 9ms/step - loss: 0.0172 - accuracy: 0.9973 - val_loss: 0.2410 - val_accuracy: 0.9431\n",
      "Epoch 19/50\n",
      "64/64 [==============================] - 1s 9ms/step - loss: 0.0157 - accuracy: 0.9980 - val_loss: 0.2480 - val_accuracy: 0.9400\n",
      "Epoch 20/50\n",
      "64/64 [==============================] - 1s 13ms/step - loss: 0.0108 - accuracy: 0.9991 - val_loss: 0.2614 - val_accuracy: 0.9413\n",
      "Epoch 21/50\n",
      "64/64 [==============================] - 1s 10ms/step - loss: 0.0091 - accuracy: 0.9994 - val_loss: 0.2579 - val_accuracy: 0.9444\n",
      "Epoch 22/50\n",
      "64/64 [==============================] - 1s 9ms/step - loss: 0.0063 - accuracy: 1.0000 - val_loss: 0.2691 - val_accuracy: 0.9463\n",
      "Epoch 23/50\n",
      "64/64 [==============================] - 1s 9ms/step - loss: 0.0058 - accuracy: 0.9998 - val_loss: 0.2760 - val_accuracy: 0.9469\n",
      "Epoch 24/50\n",
      "64/64 [==============================] - 1s 9ms/step - loss: 0.0051 - accuracy: 0.9998 - val_loss: 0.2778 - val_accuracy: 0.9463\n",
      "Epoch 25/50\n",
      "64/64 [==============================] - 1s 9ms/step - loss: 0.0038 - accuracy: 1.0000 - val_loss: 0.2779 - val_accuracy: 0.9456\n",
      "Epoch 26/50\n",
      "64/64 [==============================] - 1s 12ms/step - loss: 0.0032 - accuracy: 1.0000 - val_loss: 0.2830 - val_accuracy: 0.9450\n",
      "Epoch 27/50\n",
      "64/64 [==============================] - 1s 13ms/step - loss: 0.0034 - accuracy: 0.9997 - val_loss: 0.3017 - val_accuracy: 0.9475\n",
      "Epoch 28/50\n",
      "64/64 [==============================] - 1s 15ms/step - loss: 0.0029 - accuracy: 1.0000 - val_loss: 0.2899 - val_accuracy: 0.9438\n",
      "Epoch 29/50\n",
      "64/64 [==============================] - 1s 13ms/step - loss: 0.0022 - accuracy: 1.0000 - val_loss: 0.2930 - val_accuracy: 0.9456\n",
      "Epoch 30/50\n",
      "64/64 [==============================] - 1s 14ms/step - loss: 0.0020 - accuracy: 1.0000 - val_loss: 0.2964 - val_accuracy: 0.9450\n",
      "Epoch 31/50\n",
      "64/64 [==============================] - 1s 12ms/step - loss: 0.0017 - accuracy: 1.0000 - val_loss: 0.3038 - val_accuracy: 0.9431\n",
      "Epoch 32/50\n",
      "64/64 [==============================] - 1s 13ms/step - loss: 0.0016 - accuracy: 1.0000 - val_loss: 0.3092 - val_accuracy: 0.9438\n",
      "Epoch 33/50\n",
      "64/64 [==============================] - 1s 9ms/step - loss: 0.0016 - accuracy: 1.0000 - val_loss: 0.3084 - val_accuracy: 0.9456\n",
      "Epoch 34/50\n",
      "64/64 [==============================] - 1s 10ms/step - loss: 0.0013 - accuracy: 1.0000 - val_loss: 0.3100 - val_accuracy: 0.9425\n",
      "Epoch 35/50\n",
      "64/64 [==============================] - 1s 10ms/step - loss: 0.0011 - accuracy: 1.0000 - val_loss: 0.3129 - val_accuracy: 0.9450\n",
      "Epoch 36/50\n",
      "64/64 [==============================] - 1s 10ms/step - loss: 9.9537e-04 - accuracy: 1.0000 - val_loss: 0.3203 - val_accuracy: 0.9456\n",
      "Epoch 37/50\n",
      "64/64 [==============================] - 1s 11ms/step - loss: 9.0403e-04 - accuracy: 1.0000 - val_loss: 0.3203 - val_accuracy: 0.9456\n",
      "Epoch 38/50\n",
      "64/64 [==============================] - 1s 13ms/step - loss: 8.3674e-04 - accuracy: 1.0000 - val_loss: 0.3210 - val_accuracy: 0.9456\n",
      "Epoch 39/50\n",
      "64/64 [==============================] - 1s 11ms/step - loss: 7.8554e-04 - accuracy: 1.0000 - val_loss: 0.3257 - val_accuracy: 0.9450\n",
      "Epoch 40/50\n",
      "64/64 [==============================] - 1s 10ms/step - loss: 6.9571e-04 - accuracy: 1.0000 - val_loss: 0.3258 - val_accuracy: 0.9431\n",
      "Epoch 41/50\n",
      "64/64 [==============================] - 1s 10ms/step - loss: 6.5692e-04 - accuracy: 1.0000 - val_loss: 0.3307 - val_accuracy: 0.9456\n",
      "Epoch 42/50\n",
      "64/64 [==============================] - 1s 11ms/step - loss: 6.1594e-04 - accuracy: 1.0000 - val_loss: 0.3331 - val_accuracy: 0.9450\n",
      "Epoch 43/50\n",
      "64/64 [==============================] - 1s 10ms/step - loss: 5.6474e-04 - accuracy: 1.0000 - val_loss: 0.3343 - val_accuracy: 0.9431\n",
      "Epoch 44/50\n",
      "64/64 [==============================] - 1s 14ms/step - loss: 5.1495e-04 - accuracy: 1.0000 - val_loss: 0.3381 - val_accuracy: 0.9444\n",
      "Epoch 45/50\n",
      "64/64 [==============================] - 1s 11ms/step - loss: 4.8700e-04 - accuracy: 1.0000 - val_loss: 0.3421 - val_accuracy: 0.9456\n",
      "Epoch 46/50\n",
      "64/64 [==============================] - 1s 11ms/step - loss: 4.6577e-04 - accuracy: 1.0000 - val_loss: 0.3437 - val_accuracy: 0.9431\n",
      "Epoch 47/50\n",
      "64/64 [==============================] - 1s 9ms/step - loss: 4.2252e-04 - accuracy: 1.0000 - val_loss: 0.3451 - val_accuracy: 0.9456\n",
      "Epoch 48/50\n",
      "64/64 [==============================] - 1s 9ms/step - loss: 3.8801e-04 - accuracy: 1.0000 - val_loss: 0.3487 - val_accuracy: 0.9456\n",
      "Epoch 49/50\n",
      "64/64 [==============================] - 1s 9ms/step - loss: 3.6005e-04 - accuracy: 1.0000 - val_loss: 0.3497 - val_accuracy: 0.9456\n",
      "Epoch 50/50\n",
      "64/64 [==============================] - 1s 11ms/step - loss: 3.7020e-04 - accuracy: 1.0000 - val_loss: 0.3558 - val_accuracy: 0.9444\n"
     ]
    }
   ],
   "source": [
    "abcd = model.fit(mnist_x_train,mnist_y_train, epochs = 50,validation_split = 0.2, batch_size = 100)"
   ]
  },
  {
   "cell_type": "code",
   "execution_count": 31,
   "id": "dd61e2d3",
   "metadata": {},
   "outputs": [
    {
     "data": {
      "text/plain": [
       "array([[5.04348660e-04, 8.49921804e-13, 9.99203503e-01, ...,\n",
       "        3.10614978e-10, 6.02157213e-10, 2.63644104e-14],\n",
       "       [1.74474879e-14, 1.70099503e-12, 1.00000000e+00, ...,\n",
       "        1.16529907e-21, 7.86115617e-11, 3.30318556e-26],\n",
       "       [3.39379870e-16, 9.99999881e-01, 1.95313543e-10, ...,\n",
       "        1.69849779e-09, 7.15571824e-09, 1.27158839e-11],\n",
       "       ...,\n",
       "       [4.37326600e-14, 1.03856562e-10, 4.36674655e-11, ...,\n",
       "        2.90154456e-14, 4.39934200e-11, 1.82589408e-15],\n",
       "       [1.00000000e+00, 6.34464574e-21, 3.01826168e-11, ...,\n",
       "        1.20768449e-16, 7.18198567e-09, 6.15604442e-11],\n",
       "       [5.27847052e-20, 9.99999881e-01, 2.63899944e-11, ...,\n",
       "        5.91157487e-08, 6.95833391e-10, 1.10276874e-11]], dtype=float32)"
      ]
     },
     "execution_count": 31,
     "metadata": {},
     "output_type": "execute_result"
    }
   ],
   "source": [
    "model.predict(mnist_x_test)"
   ]
  },
  {
   "cell_type": "code",
   "execution_count": 32,
   "id": "ce6e174e",
   "metadata": {},
   "outputs": [],
   "source": [
    "pred_prob=model.predict(mnist_x_test)"
   ]
  },
  {
   "cell_type": "code",
   "execution_count": 33,
   "id": "f99d753c",
   "metadata": {},
   "outputs": [
    {
     "data": {
      "text/plain": [
       "array([5.0434866e-04, 8.4992180e-13, 9.9920350e-01, 2.9212912e-04,\n",
       "       3.3515557e-09, 6.3557093e-09, 6.5602351e-10, 3.1061498e-10,\n",
       "       6.0215721e-10, 2.6364410e-14], dtype=float32)"
      ]
     },
     "execution_count": 33,
     "metadata": {},
     "output_type": "execute_result"
    }
   ],
   "source": [
    "pred_prob[0]"
   ]
  },
  {
   "cell_type": "code",
   "execution_count": 34,
   "id": "6f7e3369",
   "metadata": {},
   "outputs": [
    {
     "data": {
      "text/plain": [
       "1.0"
      ]
     },
     "execution_count": 34,
     "metadata": {},
     "output_type": "execute_result"
    }
   ],
   "source": [
    "pred_prob[0].sum()"
   ]
  },
  {
   "cell_type": "code",
   "execution_count": 35,
   "id": "f140b990",
   "metadata": {},
   "outputs": [
    {
     "data": {
      "text/plain": [
       "2"
      ]
     },
     "execution_count": 35,
     "metadata": {},
     "output_type": "execute_result"
    }
   ],
   "source": [
    "np.argmax(pred_prob[0])"
   ]
  },
  {
   "cell_type": "code",
   "execution_count": 36,
   "id": "d1238098",
   "metadata": {},
   "outputs": [],
   "source": [
    "pred_classes = np.argmax(pred_prob, axis = 1)"
   ]
  },
  {
   "cell_type": "code",
   "execution_count": 37,
   "id": "cc14524a",
   "metadata": {},
   "outputs": [
    {
     "data": {
      "text/plain": [
       "array([2, 2, 1, ..., 3, 0, 1], dtype=int64)"
      ]
     },
     "execution_count": 37,
     "metadata": {},
     "output_type": "execute_result"
    }
   ],
   "source": [
    "pred_classes"
   ]
  },
  {
   "cell_type": "code",
   "execution_count": 38,
   "id": "53445aab",
   "metadata": {},
   "outputs": [
    {
     "data": {
      "text/plain": [
       "array([[179,   0,   0,   1,   0,   0,   0,   1,   0,   1],\n",
       "       [  0, 202,   1,   0,   0,   1,   0,   1,   0,   0],\n",
       "       [  3,   0, 203,   1,   2,   1,   0,   2,   2,   0],\n",
       "       [  0,   0,   2, 188,   0,   5,   0,   3,   3,   2],\n",
       "       [  0,   0,   1,   0, 190,   0,   2,   0,   1,   4],\n",
       "       [  1,   2,   0,   3,   2, 154,   4,   3,   2,   1],\n",
       "       [  2,   0,   0,   0,   1,   5, 173,   0,   0,   0],\n",
       "       [  0,   2,   5,   3,   1,   1,   0, 211,   0,   0],\n",
       "       [  0,   3,   2,   2,   1,   2,   1,   2, 192,   2],\n",
       "       [  2,   0,   0,   1,   3,   1,   0,   2,   2, 204]], dtype=int64)"
      ]
     },
     "execution_count": 38,
     "metadata": {},
     "output_type": "execute_result"
    }
   ],
   "source": [
    "from sklearn.metrics import confusion_matrix\n",
    "tab = confusion_matrix(mnist_y_test,pred_classes)\n",
    "tab"
   ]
  },
  {
   "cell_type": "code",
   "execution_count": 39,
   "id": "a1de362c",
   "metadata": {},
   "outputs": [
    {
     "data": {
      "text/plain": [
       "94.8"
      ]
     },
     "execution_count": 39,
     "metadata": {},
     "output_type": "execute_result"
    }
   ],
   "source": [
    "tab.diagonal().sum() * 100  / tab.sum()"
   ]
  },
  {
   "cell_type": "code",
   "execution_count": 40,
   "id": "474cd44d",
   "metadata": {},
   "outputs": [
    {
     "data": {
      "text/plain": [
       "{'loss': [1.2687870264053345,\n",
       "  0.37418049573898315,\n",
       "  0.2847762405872345,\n",
       "  0.23280306160449982,\n",
       "  0.19850875437259674,\n",
       "  0.16927622258663177,\n",
       "  0.14244908094406128,\n",
       "  0.13012605905532837,\n",
       "  0.10496586561203003,\n",
       "  0.08711469918489456,\n",
       "  0.07403483241796494,\n",
       "  0.062060292810201645,\n",
       "  0.052354440093040466,\n",
       "  0.0382237434387207,\n",
       "  0.03740047663450241,\n",
       "  0.031785182654857635,\n",
       "  0.024800555780529976,\n",
       "  0.01717865653336048,\n",
       "  0.015727858990430832,\n",
       "  0.010837038978934288,\n",
       "  0.009149132296442986,\n",
       "  0.006300602573901415,\n",
       "  0.005826849956065416,\n",
       "  0.005136442370712757,\n",
       "  0.0038010375574231148,\n",
       "  0.0032158964313566685,\n",
       "  0.0033790352754294872,\n",
       "  0.0028702886775135994,\n",
       "  0.0021981396712362766,\n",
       "  0.0019751866348087788,\n",
       "  0.0017099594697356224,\n",
       "  0.0015904194442555308,\n",
       "  0.0015522551257163286,\n",
       "  0.0012597691966220737,\n",
       "  0.00109415827319026,\n",
       "  0.0009953650878742337,\n",
       "  0.000904033484403044,\n",
       "  0.0008367350092157722,\n",
       "  0.0007855419535189867,\n",
       "  0.0006957136210985482,\n",
       "  0.0006569166434928775,\n",
       "  0.0006159439217299223,\n",
       "  0.0005647402140311897,\n",
       "  0.0005149510107003152,\n",
       "  0.0004870020202361047,\n",
       "  0.0004657673416659236,\n",
       "  0.00042252495768480003,\n",
       "  0.0003880056319758296,\n",
       "  0.00036004860885441303,\n",
       "  0.00037020075251348317],\n",
       " 'accuracy': [0.667187511920929,\n",
       "  0.8901562690734863,\n",
       "  0.9145312309265137,\n",
       "  0.9279687404632568,\n",
       "  0.9357812404632568,\n",
       "  0.9479687213897705,\n",
       "  0.9559375047683716,\n",
       "  0.9573437571525574,\n",
       "  0.9673437476158142,\n",
       "  0.9732812643051147,\n",
       "  0.9800000190734863,\n",
       "  0.9826562404632568,\n",
       "  0.9856250286102295,\n",
       "  0.9907812476158142,\n",
       "  0.9896875023841858,\n",
       "  0.9918749928474426,\n",
       "  0.9946874976158142,\n",
       "  0.9973437786102295,\n",
       "  0.9979687333106995,\n",
       "  0.9990624785423279,\n",
       "  0.9993749856948853,\n",
       "  1.0,\n",
       "  0.9998437762260437,\n",
       "  0.9998437762260437,\n",
       "  1.0,\n",
       "  1.0,\n",
       "  0.9996874928474426,\n",
       "  1.0,\n",
       "  1.0,\n",
       "  1.0,\n",
       "  1.0,\n",
       "  1.0,\n",
       "  1.0,\n",
       "  1.0,\n",
       "  1.0,\n",
       "  1.0,\n",
       "  1.0,\n",
       "  1.0,\n",
       "  1.0,\n",
       "  1.0,\n",
       "  1.0,\n",
       "  1.0,\n",
       "  1.0,\n",
       "  1.0,\n",
       "  1.0,\n",
       "  1.0,\n",
       "  1.0,\n",
       "  1.0,\n",
       "  1.0,\n",
       "  1.0],\n",
       " 'val_loss': [0.476129412651062,\n",
       "  0.38196125626564026,\n",
       "  0.33674490451812744,\n",
       "  0.3027849793434143,\n",
       "  0.27908429503440857,\n",
       "  0.25165724754333496,\n",
       "  0.2596447765827179,\n",
       "  0.2536451816558838,\n",
       "  0.2415449023246765,\n",
       "  0.23180019855499268,\n",
       "  0.24727801978588104,\n",
       "  0.22602973878383636,\n",
       "  0.2257285714149475,\n",
       "  0.238423153758049,\n",
       "  0.2412787675857544,\n",
       "  0.23764118552207947,\n",
       "  0.2551811635494232,\n",
       "  0.24101287126541138,\n",
       "  0.24802611768245697,\n",
       "  0.26142650842666626,\n",
       "  0.2579400837421417,\n",
       "  0.2691141366958618,\n",
       "  0.2759822905063629,\n",
       "  0.27777987718582153,\n",
       "  0.27790606021881104,\n",
       "  0.2829587459564209,\n",
       "  0.30171871185302734,\n",
       "  0.28988713026046753,\n",
       "  0.29300999641418457,\n",
       "  0.2963634133338928,\n",
       "  0.3037756681442261,\n",
       "  0.3091621696949005,\n",
       "  0.3084191083908081,\n",
       "  0.3100232183933258,\n",
       "  0.31289398670196533,\n",
       "  0.3203012943267822,\n",
       "  0.32032936811447144,\n",
       "  0.32097503542900085,\n",
       "  0.3257174789905548,\n",
       "  0.32576075196266174,\n",
       "  0.33066287636756897,\n",
       "  0.33313944935798645,\n",
       "  0.3342537581920624,\n",
       "  0.3381456136703491,\n",
       "  0.34210529923439026,\n",
       "  0.34372055530548096,\n",
       "  0.3451092541217804,\n",
       "  0.34870192408561707,\n",
       "  0.3497227132320404,\n",
       "  0.3557998538017273],\n",
       " 'val_accuracy': [0.8568750023841858,\n",
       "  0.8856250047683716,\n",
       "  0.8962500095367432,\n",
       "  0.9087499976158142,\n",
       "  0.9206249713897705,\n",
       "  0.9281250238418579,\n",
       "  0.925000011920929,\n",
       "  0.9262499809265137,\n",
       "  0.9312499761581421,\n",
       "  0.9356250166893005,\n",
       "  0.9306250214576721,\n",
       "  0.9418749809265137,\n",
       "  0.9387500286102295,\n",
       "  0.9362499713897705,\n",
       "  0.9399999976158142,\n",
       "  0.9424999952316284,\n",
       "  0.9462500214576721,\n",
       "  0.9431250095367432,\n",
       "  0.9399999976158142,\n",
       "  0.9412500262260437,\n",
       "  0.9443749785423279,\n",
       "  0.9462500214576721,\n",
       "  0.9468749761581421,\n",
       "  0.9462500214576721,\n",
       "  0.9456250071525574,\n",
       "  0.9449999928474426,\n",
       "  0.9474999904632568,\n",
       "  0.9437500238418579,\n",
       "  0.9456250071525574,\n",
       "  0.9449999928474426,\n",
       "  0.9431250095367432,\n",
       "  0.9437500238418579,\n",
       "  0.9456250071525574,\n",
       "  0.9424999952316284,\n",
       "  0.9449999928474426,\n",
       "  0.9456250071525574,\n",
       "  0.9456250071525574,\n",
       "  0.9456250071525574,\n",
       "  0.9449999928474426,\n",
       "  0.9431250095367432,\n",
       "  0.9456250071525574,\n",
       "  0.9449999928474426,\n",
       "  0.9431250095367432,\n",
       "  0.9443749785423279,\n",
       "  0.9456250071525574,\n",
       "  0.9431250095367432,\n",
       "  0.9456250071525574,\n",
       "  0.9456250071525574,\n",
       "  0.9456250071525574,\n",
       "  0.9443749785423279]}"
      ]
     },
     "execution_count": 40,
     "metadata": {},
     "output_type": "execute_result"
    }
   ],
   "source": [
    "abcd.history"
   ]
  },
  {
   "cell_type": "code",
   "execution_count": 41,
   "id": "2907e3c7",
   "metadata": {},
   "outputs": [
    {
     "data": {
      "text/plain": [
       "keras.callbacks.History"
      ]
     },
     "execution_count": 41,
     "metadata": {},
     "output_type": "execute_result"
    }
   ],
   "source": [
    "type(model.history)"
   ]
  },
  {
   "cell_type": "code",
   "execution_count": 42,
   "id": "09be2b14",
   "metadata": {},
   "outputs": [],
   "source": [
    "df1 = pd.DataFrame(abcd.history)"
   ]
  },
  {
   "cell_type": "code",
   "execution_count": 43,
   "id": "4f5f3b4c",
   "metadata": {},
   "outputs": [
    {
     "data": {
      "text/html": [
       "<div>\n",
       "<style scoped>\n",
       "    .dataframe tbody tr th:only-of-type {\n",
       "        vertical-align: middle;\n",
       "    }\n",
       "\n",
       "    .dataframe tbody tr th {\n",
       "        vertical-align: top;\n",
       "    }\n",
       "\n",
       "    .dataframe thead th {\n",
       "        text-align: right;\n",
       "    }\n",
       "</style>\n",
       "<table border=\"1\" class=\"dataframe\">\n",
       "  <thead>\n",
       "    <tr style=\"text-align: right;\">\n",
       "      <th></th>\n",
       "      <th>loss</th>\n",
       "      <th>accuracy</th>\n",
       "      <th>val_loss</th>\n",
       "      <th>val_accuracy</th>\n",
       "    </tr>\n",
       "  </thead>\n",
       "  <tbody>\n",
       "    <tr>\n",
       "      <th>0</th>\n",
       "      <td>1.268787</td>\n",
       "      <td>0.667188</td>\n",
       "      <td>0.476129</td>\n",
       "      <td>0.856875</td>\n",
       "    </tr>\n",
       "    <tr>\n",
       "      <th>1</th>\n",
       "      <td>0.374180</td>\n",
       "      <td>0.890156</td>\n",
       "      <td>0.381961</td>\n",
       "      <td>0.885625</td>\n",
       "    </tr>\n",
       "    <tr>\n",
       "      <th>2</th>\n",
       "      <td>0.284776</td>\n",
       "      <td>0.914531</td>\n",
       "      <td>0.336745</td>\n",
       "      <td>0.896250</td>\n",
       "    </tr>\n",
       "    <tr>\n",
       "      <th>3</th>\n",
       "      <td>0.232803</td>\n",
       "      <td>0.927969</td>\n",
       "      <td>0.302785</td>\n",
       "      <td>0.908750</td>\n",
       "    </tr>\n",
       "    <tr>\n",
       "      <th>4</th>\n",
       "      <td>0.198509</td>\n",
       "      <td>0.935781</td>\n",
       "      <td>0.279084</td>\n",
       "      <td>0.920625</td>\n",
       "    </tr>\n",
       "    <tr>\n",
       "      <th>5</th>\n",
       "      <td>0.169276</td>\n",
       "      <td>0.947969</td>\n",
       "      <td>0.251657</td>\n",
       "      <td>0.928125</td>\n",
       "    </tr>\n",
       "    <tr>\n",
       "      <th>6</th>\n",
       "      <td>0.142449</td>\n",
       "      <td>0.955938</td>\n",
       "      <td>0.259645</td>\n",
       "      <td>0.925000</td>\n",
       "    </tr>\n",
       "    <tr>\n",
       "      <th>7</th>\n",
       "      <td>0.130126</td>\n",
       "      <td>0.957344</td>\n",
       "      <td>0.253645</td>\n",
       "      <td>0.926250</td>\n",
       "    </tr>\n",
       "    <tr>\n",
       "      <th>8</th>\n",
       "      <td>0.104966</td>\n",
       "      <td>0.967344</td>\n",
       "      <td>0.241545</td>\n",
       "      <td>0.931250</td>\n",
       "    </tr>\n",
       "    <tr>\n",
       "      <th>9</th>\n",
       "      <td>0.087115</td>\n",
       "      <td>0.973281</td>\n",
       "      <td>0.231800</td>\n",
       "      <td>0.935625</td>\n",
       "    </tr>\n",
       "    <tr>\n",
       "      <th>10</th>\n",
       "      <td>0.074035</td>\n",
       "      <td>0.980000</td>\n",
       "      <td>0.247278</td>\n",
       "      <td>0.930625</td>\n",
       "    </tr>\n",
       "    <tr>\n",
       "      <th>11</th>\n",
       "      <td>0.062060</td>\n",
       "      <td>0.982656</td>\n",
       "      <td>0.226030</td>\n",
       "      <td>0.941875</td>\n",
       "    </tr>\n",
       "    <tr>\n",
       "      <th>12</th>\n",
       "      <td>0.052354</td>\n",
       "      <td>0.985625</td>\n",
       "      <td>0.225729</td>\n",
       "      <td>0.938750</td>\n",
       "    </tr>\n",
       "    <tr>\n",
       "      <th>13</th>\n",
       "      <td>0.038224</td>\n",
       "      <td>0.990781</td>\n",
       "      <td>0.238423</td>\n",
       "      <td>0.936250</td>\n",
       "    </tr>\n",
       "    <tr>\n",
       "      <th>14</th>\n",
       "      <td>0.037400</td>\n",
       "      <td>0.989688</td>\n",
       "      <td>0.241279</td>\n",
       "      <td>0.940000</td>\n",
       "    </tr>\n",
       "    <tr>\n",
       "      <th>15</th>\n",
       "      <td>0.031785</td>\n",
       "      <td>0.991875</td>\n",
       "      <td>0.237641</td>\n",
       "      <td>0.942500</td>\n",
       "    </tr>\n",
       "    <tr>\n",
       "      <th>16</th>\n",
       "      <td>0.024801</td>\n",
       "      <td>0.994687</td>\n",
       "      <td>0.255181</td>\n",
       "      <td>0.946250</td>\n",
       "    </tr>\n",
       "    <tr>\n",
       "      <th>17</th>\n",
       "      <td>0.017179</td>\n",
       "      <td>0.997344</td>\n",
       "      <td>0.241013</td>\n",
       "      <td>0.943125</td>\n",
       "    </tr>\n",
       "    <tr>\n",
       "      <th>18</th>\n",
       "      <td>0.015728</td>\n",
       "      <td>0.997969</td>\n",
       "      <td>0.248026</td>\n",
       "      <td>0.940000</td>\n",
       "    </tr>\n",
       "    <tr>\n",
       "      <th>19</th>\n",
       "      <td>0.010837</td>\n",
       "      <td>0.999062</td>\n",
       "      <td>0.261427</td>\n",
       "      <td>0.941250</td>\n",
       "    </tr>\n",
       "    <tr>\n",
       "      <th>20</th>\n",
       "      <td>0.009149</td>\n",
       "      <td>0.999375</td>\n",
       "      <td>0.257940</td>\n",
       "      <td>0.944375</td>\n",
       "    </tr>\n",
       "    <tr>\n",
       "      <th>21</th>\n",
       "      <td>0.006301</td>\n",
       "      <td>1.000000</td>\n",
       "      <td>0.269114</td>\n",
       "      <td>0.946250</td>\n",
       "    </tr>\n",
       "    <tr>\n",
       "      <th>22</th>\n",
       "      <td>0.005827</td>\n",
       "      <td>0.999844</td>\n",
       "      <td>0.275982</td>\n",
       "      <td>0.946875</td>\n",
       "    </tr>\n",
       "    <tr>\n",
       "      <th>23</th>\n",
       "      <td>0.005136</td>\n",
       "      <td>0.999844</td>\n",
       "      <td>0.277780</td>\n",
       "      <td>0.946250</td>\n",
       "    </tr>\n",
       "    <tr>\n",
       "      <th>24</th>\n",
       "      <td>0.003801</td>\n",
       "      <td>1.000000</td>\n",
       "      <td>0.277906</td>\n",
       "      <td>0.945625</td>\n",
       "    </tr>\n",
       "    <tr>\n",
       "      <th>25</th>\n",
       "      <td>0.003216</td>\n",
       "      <td>1.000000</td>\n",
       "      <td>0.282959</td>\n",
       "      <td>0.945000</td>\n",
       "    </tr>\n",
       "    <tr>\n",
       "      <th>26</th>\n",
       "      <td>0.003379</td>\n",
       "      <td>0.999687</td>\n",
       "      <td>0.301719</td>\n",
       "      <td>0.947500</td>\n",
       "    </tr>\n",
       "    <tr>\n",
       "      <th>27</th>\n",
       "      <td>0.002870</td>\n",
       "      <td>1.000000</td>\n",
       "      <td>0.289887</td>\n",
       "      <td>0.943750</td>\n",
       "    </tr>\n",
       "    <tr>\n",
       "      <th>28</th>\n",
       "      <td>0.002198</td>\n",
       "      <td>1.000000</td>\n",
       "      <td>0.293010</td>\n",
       "      <td>0.945625</td>\n",
       "    </tr>\n",
       "    <tr>\n",
       "      <th>29</th>\n",
       "      <td>0.001975</td>\n",
       "      <td>1.000000</td>\n",
       "      <td>0.296363</td>\n",
       "      <td>0.945000</td>\n",
       "    </tr>\n",
       "    <tr>\n",
       "      <th>30</th>\n",
       "      <td>0.001710</td>\n",
       "      <td>1.000000</td>\n",
       "      <td>0.303776</td>\n",
       "      <td>0.943125</td>\n",
       "    </tr>\n",
       "    <tr>\n",
       "      <th>31</th>\n",
       "      <td>0.001590</td>\n",
       "      <td>1.000000</td>\n",
       "      <td>0.309162</td>\n",
       "      <td>0.943750</td>\n",
       "    </tr>\n",
       "    <tr>\n",
       "      <th>32</th>\n",
       "      <td>0.001552</td>\n",
       "      <td>1.000000</td>\n",
       "      <td>0.308419</td>\n",
       "      <td>0.945625</td>\n",
       "    </tr>\n",
       "    <tr>\n",
       "      <th>33</th>\n",
       "      <td>0.001260</td>\n",
       "      <td>1.000000</td>\n",
       "      <td>0.310023</td>\n",
       "      <td>0.942500</td>\n",
       "    </tr>\n",
       "    <tr>\n",
       "      <th>34</th>\n",
       "      <td>0.001094</td>\n",
       "      <td>1.000000</td>\n",
       "      <td>0.312894</td>\n",
       "      <td>0.945000</td>\n",
       "    </tr>\n",
       "    <tr>\n",
       "      <th>35</th>\n",
       "      <td>0.000995</td>\n",
       "      <td>1.000000</td>\n",
       "      <td>0.320301</td>\n",
       "      <td>0.945625</td>\n",
       "    </tr>\n",
       "    <tr>\n",
       "      <th>36</th>\n",
       "      <td>0.000904</td>\n",
       "      <td>1.000000</td>\n",
       "      <td>0.320329</td>\n",
       "      <td>0.945625</td>\n",
       "    </tr>\n",
       "    <tr>\n",
       "      <th>37</th>\n",
       "      <td>0.000837</td>\n",
       "      <td>1.000000</td>\n",
       "      <td>0.320975</td>\n",
       "      <td>0.945625</td>\n",
       "    </tr>\n",
       "    <tr>\n",
       "      <th>38</th>\n",
       "      <td>0.000786</td>\n",
       "      <td>1.000000</td>\n",
       "      <td>0.325717</td>\n",
       "      <td>0.945000</td>\n",
       "    </tr>\n",
       "    <tr>\n",
       "      <th>39</th>\n",
       "      <td>0.000696</td>\n",
       "      <td>1.000000</td>\n",
       "      <td>0.325761</td>\n",
       "      <td>0.943125</td>\n",
       "    </tr>\n",
       "    <tr>\n",
       "      <th>40</th>\n",
       "      <td>0.000657</td>\n",
       "      <td>1.000000</td>\n",
       "      <td>0.330663</td>\n",
       "      <td>0.945625</td>\n",
       "    </tr>\n",
       "    <tr>\n",
       "      <th>41</th>\n",
       "      <td>0.000616</td>\n",
       "      <td>1.000000</td>\n",
       "      <td>0.333139</td>\n",
       "      <td>0.945000</td>\n",
       "    </tr>\n",
       "    <tr>\n",
       "      <th>42</th>\n",
       "      <td>0.000565</td>\n",
       "      <td>1.000000</td>\n",
       "      <td>0.334254</td>\n",
       "      <td>0.943125</td>\n",
       "    </tr>\n",
       "    <tr>\n",
       "      <th>43</th>\n",
       "      <td>0.000515</td>\n",
       "      <td>1.000000</td>\n",
       "      <td>0.338146</td>\n",
       "      <td>0.944375</td>\n",
       "    </tr>\n",
       "    <tr>\n",
       "      <th>44</th>\n",
       "      <td>0.000487</td>\n",
       "      <td>1.000000</td>\n",
       "      <td>0.342105</td>\n",
       "      <td>0.945625</td>\n",
       "    </tr>\n",
       "    <tr>\n",
       "      <th>45</th>\n",
       "      <td>0.000466</td>\n",
       "      <td>1.000000</td>\n",
       "      <td>0.343721</td>\n",
       "      <td>0.943125</td>\n",
       "    </tr>\n",
       "    <tr>\n",
       "      <th>46</th>\n",
       "      <td>0.000423</td>\n",
       "      <td>1.000000</td>\n",
       "      <td>0.345109</td>\n",
       "      <td>0.945625</td>\n",
       "    </tr>\n",
       "    <tr>\n",
       "      <th>47</th>\n",
       "      <td>0.000388</td>\n",
       "      <td>1.000000</td>\n",
       "      <td>0.348702</td>\n",
       "      <td>0.945625</td>\n",
       "    </tr>\n",
       "    <tr>\n",
       "      <th>48</th>\n",
       "      <td>0.000360</td>\n",
       "      <td>1.000000</td>\n",
       "      <td>0.349723</td>\n",
       "      <td>0.945625</td>\n",
       "    </tr>\n",
       "    <tr>\n",
       "      <th>49</th>\n",
       "      <td>0.000370</td>\n",
       "      <td>1.000000</td>\n",
       "      <td>0.355800</td>\n",
       "      <td>0.944375</td>\n",
       "    </tr>\n",
       "  </tbody>\n",
       "</table>\n",
       "</div>"
      ],
      "text/plain": [
       "        loss  accuracy  val_loss  val_accuracy\n",
       "0   1.268787  0.667188  0.476129      0.856875\n",
       "1   0.374180  0.890156  0.381961      0.885625\n",
       "2   0.284776  0.914531  0.336745      0.896250\n",
       "3   0.232803  0.927969  0.302785      0.908750\n",
       "4   0.198509  0.935781  0.279084      0.920625\n",
       "5   0.169276  0.947969  0.251657      0.928125\n",
       "6   0.142449  0.955938  0.259645      0.925000\n",
       "7   0.130126  0.957344  0.253645      0.926250\n",
       "8   0.104966  0.967344  0.241545      0.931250\n",
       "9   0.087115  0.973281  0.231800      0.935625\n",
       "10  0.074035  0.980000  0.247278      0.930625\n",
       "11  0.062060  0.982656  0.226030      0.941875\n",
       "12  0.052354  0.985625  0.225729      0.938750\n",
       "13  0.038224  0.990781  0.238423      0.936250\n",
       "14  0.037400  0.989688  0.241279      0.940000\n",
       "15  0.031785  0.991875  0.237641      0.942500\n",
       "16  0.024801  0.994687  0.255181      0.946250\n",
       "17  0.017179  0.997344  0.241013      0.943125\n",
       "18  0.015728  0.997969  0.248026      0.940000\n",
       "19  0.010837  0.999062  0.261427      0.941250\n",
       "20  0.009149  0.999375  0.257940      0.944375\n",
       "21  0.006301  1.000000  0.269114      0.946250\n",
       "22  0.005827  0.999844  0.275982      0.946875\n",
       "23  0.005136  0.999844  0.277780      0.946250\n",
       "24  0.003801  1.000000  0.277906      0.945625\n",
       "25  0.003216  1.000000  0.282959      0.945000\n",
       "26  0.003379  0.999687  0.301719      0.947500\n",
       "27  0.002870  1.000000  0.289887      0.943750\n",
       "28  0.002198  1.000000  0.293010      0.945625\n",
       "29  0.001975  1.000000  0.296363      0.945000\n",
       "30  0.001710  1.000000  0.303776      0.943125\n",
       "31  0.001590  1.000000  0.309162      0.943750\n",
       "32  0.001552  1.000000  0.308419      0.945625\n",
       "33  0.001260  1.000000  0.310023      0.942500\n",
       "34  0.001094  1.000000  0.312894      0.945000\n",
       "35  0.000995  1.000000  0.320301      0.945625\n",
       "36  0.000904  1.000000  0.320329      0.945625\n",
       "37  0.000837  1.000000  0.320975      0.945625\n",
       "38  0.000786  1.000000  0.325717      0.945000\n",
       "39  0.000696  1.000000  0.325761      0.943125\n",
       "40  0.000657  1.000000  0.330663      0.945625\n",
       "41  0.000616  1.000000  0.333139      0.945000\n",
       "42  0.000565  1.000000  0.334254      0.943125\n",
       "43  0.000515  1.000000  0.338146      0.944375\n",
       "44  0.000487  1.000000  0.342105      0.945625\n",
       "45  0.000466  1.000000  0.343721      0.943125\n",
       "46  0.000423  1.000000  0.345109      0.945625\n",
       "47  0.000388  1.000000  0.348702      0.945625\n",
       "48  0.000360  1.000000  0.349723      0.945625\n",
       "49  0.000370  1.000000  0.355800      0.944375"
      ]
     },
     "execution_count": 43,
     "metadata": {},
     "output_type": "execute_result"
    }
   ],
   "source": [
    "df1"
   ]
  },
  {
   "cell_type": "code",
   "execution_count": 44,
   "id": "ea77732a",
   "metadata": {},
   "outputs": [],
   "source": [
    "import matplotlib.pyplot as plt"
   ]
  },
  {
   "cell_type": "code",
   "execution_count": 45,
   "id": "d0ddc437",
   "metadata": {},
   "outputs": [
    {
     "data": {
      "text/plain": [
       "<matplotlib.legend.Legend at 0x1fea46902b0>"
      ]
     },
     "execution_count": 45,
     "metadata": {},
     "output_type": "execute_result"
    },
    {
     "data": {
      "image/png": "[encoded data removed]",
      "text/plain": [
       "<Figure size 576x576 with 1 Axes>"
      ]
     },
     "metadata": {
      "needs_background": "light"
     },
     "output_type": "display_data"
    }
   ],
   "source": [
    "plt.figure(figsize = (8 ,8))\n",
    "plt.plot(df1.loss, color = 'b', label='Loss', marker = '*')\n",
    "plt.plot(df1.val_loss, color = 'r', label='Validation_Loss', marker = '*')\n",
    "plt.xlabel('Iterations', size = 15)\n",
    "plt.xlabel('Error_CrossEntropy', size = 15)\n",
    "plt.title('Cross Validation Graph on MNIST', color = 'blue',size = 15)\n",
    "plt.grid(color = 'green')\n",
    "plt.legend()\n"
   ]
  },
  {
   "cell_type": "markdown",
   "id": "2abedd9c",
   "metadata": {},
   "source": [
    "* Hence from the above graph it is clear thet after 14th iteratin validation loss increasing so next time you have to take only \n",
    "* 14 iteration for the given model"
   ]
  },
  {
   "cell_type": "code",
   "execution_count": null,
   "id": "fa95b3d1",
   "metadata": {},
   "outputs": [],
   "source": [
    "# from keras.layer import dropout\n",
    "# model.add(Dropout(0.2))\n",
    "# optimizer = tf.keras.optimizers.RMSprop(5)\n",
    "# model.compile(optimizer = optimizer, loss = 'sparse_categorical_crossentropy', metrics = ['accuracy'])"
   ]
  }
 ],
 "metadata": {
  "kernelspec": {
   "display_name": "Python 3 (ipykernel)",
   "language": "python",
   "name": "python3"
  },
  "language_info": {
   "codemirror_mode": {
    "name": "ipython",
    "version": 3
   },
   "file_extension": ".py",
   "mimetype": "text/x-python",
   "name": "python",
   "nbconvert_exporter": "python",
   "pygments_lexer": "ipython3",
   "version": "3.9.7"
  }
 },
 "nbformat": 4,
 "nbformat_minor": 5
}
