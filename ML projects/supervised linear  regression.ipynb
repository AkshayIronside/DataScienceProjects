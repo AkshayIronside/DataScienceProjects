{
 "cells": [
  {
   "cell_type": "raw",
   "id": "3075dd3c",
   "metadata": {},
   "source": [
    "           ####  MACHINE LEARNING   #####"
   ]
  },
  {
   "cell_type": "raw",
   "id": "9c02edfd",
   "metadata": {},
   "source": [
    "             #### SUPERVIDED LEARNING ####"
   ]
  },
  {
   "cell_type": "raw",
   "id": "1efad716",
   "metadata": {},
   "source": [
    "                ****      LINEAR REGRESSION     *****"
   ]
  },
  {
   "cell_type": "markdown",
   "id": "a9e12184",
   "metadata": {},
   "source": [
    "# CODINGS "
   ]
  },
  {
   "cell_type": "markdown",
   "id": "20cf1517",
   "metadata": {},
   "source": [
    "LINEAR REGRESSION CLASSIFICATION REGRESSION \n",
    "FOR LINEAR REGRESSION WE HAVE TO CONVERT THE DATA INTO CONTINUOUS AND NUMERIC \n",
    "FOR CLASSIFICATION REGRESSION WE HAVE TO CONVERT THE DATA INTO CATOGORAL\n",
    "Y SHOULD BE NUMERIC AND CONTINUOUS \n",
    "NUMBER OF RECORDS SHOULD BE MORE THAN NUMBER OF X VARIABLE\n",
    "\n",
    "ASSUMPTIONS:\n",
    "THERE IS A LINEAR RELATIONSHIP BETWEEN X VARIABLE AND Y VARIABLE \n",
    "ERROR TERMS SHOULD BE NORMALLY DISTRIBUTED \n"
   ]
  },
  {
   "cell_type": "code",
   "execution_count": 6,
   "id": "44c338e7",
   "metadata": {},
   "outputs": [],
   "source": [
    "import pandas as pd"
   ]
  },
  {
   "cell_type": "code",
   "execution_count": 7,
   "id": "69683bff",
   "metadata": {},
   "outputs": [],
   "source": [
    "lcn = pd.read_csv(r'F:\\DS\\PANDAS 2\\LungCapData.csv')"
   ]
  },
  {
   "cell_type": "code",
   "execution_count": 8,
   "id": "dee181a8",
   "metadata": {},
   "outputs": [
    {
     "data": {
      "text/html": [
       "<div>\n",
       "<style scoped>\n",
       "    .dataframe tbody tr th:only-of-type {\n",
       "        vertical-align: middle;\n",
       "    }\n",
       "\n",
       "    .dataframe tbody tr th {\n",
       "        vertical-align: top;\n",
       "    }\n",
       "\n",
       "    .dataframe thead th {\n",
       "        text-align: right;\n",
       "    }\n",
       "</style>\n",
       "<table border=\"1\" class=\"dataframe\">\n",
       "  <thead>\n",
       "    <tr style=\"text-align: right;\">\n",
       "      <th></th>\n",
       "      <th>LungCap</th>\n",
       "      <th>Age</th>\n",
       "      <th>Height</th>\n",
       "      <th>Smoke</th>\n",
       "      <th>Gender</th>\n",
       "      <th>Caesarean</th>\n",
       "    </tr>\n",
       "  </thead>\n",
       "  <tbody>\n",
       "    <tr>\n",
       "      <th>0</th>\n",
       "      <td>6.475</td>\n",
       "      <td>6</td>\n",
       "      <td>62.1</td>\n",
       "      <td>no</td>\n",
       "      <td>male</td>\n",
       "      <td>no</td>\n",
       "    </tr>\n",
       "    <tr>\n",
       "      <th>1</th>\n",
       "      <td>10.125</td>\n",
       "      <td>18</td>\n",
       "      <td>74.7</td>\n",
       "      <td>yes</td>\n",
       "      <td>female</td>\n",
       "      <td>no</td>\n",
       "    </tr>\n",
       "    <tr>\n",
       "      <th>2</th>\n",
       "      <td>9.550</td>\n",
       "      <td>16</td>\n",
       "      <td>69.7</td>\n",
       "      <td>no</td>\n",
       "      <td>female</td>\n",
       "      <td>yes</td>\n",
       "    </tr>\n",
       "    <tr>\n",
       "      <th>3</th>\n",
       "      <td>11.125</td>\n",
       "      <td>14</td>\n",
       "      <td>71.0</td>\n",
       "      <td>no</td>\n",
       "      <td>male</td>\n",
       "      <td>no</td>\n",
       "    </tr>\n",
       "    <tr>\n",
       "      <th>4</th>\n",
       "      <td>4.800</td>\n",
       "      <td>5</td>\n",
       "      <td>56.9</td>\n",
       "      <td>no</td>\n",
       "      <td>male</td>\n",
       "      <td>no</td>\n",
       "    </tr>\n",
       "  </tbody>\n",
       "</table>\n",
       "</div>"
      ],
      "text/plain": [
       "   LungCap  Age  Height Smoke  Gender Caesarean\n",
       "0    6.475    6    62.1    no    male        no\n",
       "1   10.125   18    74.7   yes  female        no\n",
       "2    9.550   16    69.7    no  female       yes\n",
       "3   11.125   14    71.0    no    male        no\n",
       "4    4.800    5    56.9    no    male        no"
      ]
     },
     "execution_count": 8,
     "metadata": {},
     "output_type": "execute_result"
    }
   ],
   "source": [
    "lcn.head()"
   ]
  },
  {
   "cell_type": "code",
   "execution_count": 9,
   "id": "8245f8e4",
   "metadata": {},
   "outputs": [],
   "source": [
    "# ps build teh predictive model which can predict the lung capacity of the peerson  "
   ]
  },
  {
   "cell_type": "code",
   "execution_count": 10,
   "id": "00d3a02e",
   "metadata": {},
   "outputs": [
    {
     "data": {
      "text/plain": [
       "LungCap      0\n",
       "Age          0\n",
       "Height       0\n",
       "Smoke        0\n",
       "Gender       0\n",
       "Caesarean    0\n",
       "dtype: int64"
      ]
     },
     "execution_count": 10,
     "metadata": {},
     "output_type": "execute_result"
    }
   ],
   "source": [
    "lcn.isnull().sum()"
   ]
  },
  {
   "cell_type": "code",
   "execution_count": 11,
   "id": "73392e17",
   "metadata": {},
   "outputs": [],
   "source": [
    "lcn.Smoke = lcn.Smoke.replace({'no':0,'yes':1})\n",
    "lcn.Caesarean = lcn.Caesarean.replace({'no':0,'yes':1})\n",
    "lcn.Gender = lcn.Gender.replace({'male':0,'female':1})"
   ]
  },
  {
   "cell_type": "code",
   "execution_count": 12,
   "id": "23fc08f7",
   "metadata": {
    "scrolled": true
   },
   "outputs": [
    {
     "data": {
      "text/html": [
       "<div>\n",
       "<style scoped>\n",
       "    .dataframe tbody tr th:only-of-type {\n",
       "        vertical-align: middle;\n",
       "    }\n",
       "\n",
       "    .dataframe tbody tr th {\n",
       "        vertical-align: top;\n",
       "    }\n",
       "\n",
       "    .dataframe thead th {\n",
       "        text-align: right;\n",
       "    }\n",
       "</style>\n",
       "<table border=\"1\" class=\"dataframe\">\n",
       "  <thead>\n",
       "    <tr style=\"text-align: right;\">\n",
       "      <th></th>\n",
       "      <th>LungCap</th>\n",
       "      <th>Age</th>\n",
       "      <th>Height</th>\n",
       "      <th>Smoke</th>\n",
       "      <th>Gender</th>\n",
       "      <th>Caesarean</th>\n",
       "    </tr>\n",
       "  </thead>\n",
       "  <tbody>\n",
       "    <tr>\n",
       "      <th>0</th>\n",
       "      <td>6.475</td>\n",
       "      <td>6</td>\n",
       "      <td>62.1</td>\n",
       "      <td>0</td>\n",
       "      <td>0</td>\n",
       "      <td>0</td>\n",
       "    </tr>\n",
       "    <tr>\n",
       "      <th>1</th>\n",
       "      <td>10.125</td>\n",
       "      <td>18</td>\n",
       "      <td>74.7</td>\n",
       "      <td>1</td>\n",
       "      <td>1</td>\n",
       "      <td>0</td>\n",
       "    </tr>\n",
       "    <tr>\n",
       "      <th>2</th>\n",
       "      <td>9.550</td>\n",
       "      <td>16</td>\n",
       "      <td>69.7</td>\n",
       "      <td>0</td>\n",
       "      <td>1</td>\n",
       "      <td>1</td>\n",
       "    </tr>\n",
       "    <tr>\n",
       "      <th>3</th>\n",
       "      <td>11.125</td>\n",
       "      <td>14</td>\n",
       "      <td>71.0</td>\n",
       "      <td>0</td>\n",
       "      <td>0</td>\n",
       "      <td>0</td>\n",
       "    </tr>\n",
       "    <tr>\n",
       "      <th>4</th>\n",
       "      <td>4.800</td>\n",
       "      <td>5</td>\n",
       "      <td>56.9</td>\n",
       "      <td>0</td>\n",
       "      <td>0</td>\n",
       "      <td>0</td>\n",
       "    </tr>\n",
       "  </tbody>\n",
       "</table>\n",
       "</div>"
      ],
      "text/plain": [
       "   LungCap  Age  Height  Smoke  Gender  Caesarean\n",
       "0    6.475    6    62.1      0       0          0\n",
       "1   10.125   18    74.7      1       1          0\n",
       "2    9.550   16    69.7      0       1          1\n",
       "3   11.125   14    71.0      0       0          0\n",
       "4    4.800    5    56.9      0       0          0"
      ]
     },
     "execution_count": 12,
     "metadata": {},
     "output_type": "execute_result"
    }
   ],
   "source": [
    "lcn.head()"
   ]
  },
  {
   "cell_type": "code",
   "execution_count": 13,
   "id": "0b3a275a",
   "metadata": {},
   "outputs": [],
   "source": [
    "# lcn.iloc[: , :]"
   ]
  },
  {
   "cell_type": "markdown",
   "id": "0b15b31c",
   "metadata": {},
   "source": [
    "# SAMPLING-------------\n",
    "\n",
    "\n"
   ]
  },
  {
   "cell_type": "code",
   "execution_count": 14,
   "id": "873f5418",
   "metadata": {},
   "outputs": [],
   "source": [
    "from sklearn.model_selection import train_test_split\n",
    "lcn_train, lcn_test = train_test_split(lcn , test_size  = 0.2)"
   ]
  },
  {
   "cell_type": "code",
   "execution_count": 15,
   "id": "f32a2ff4",
   "metadata": {},
   "outputs": [],
   "source": [
    "lcn_train_x = lcn_train.iloc[: , 1::]\n",
    "lcn_train_y = lcn_train.iloc[: , 0]"
   ]
  },
  {
   "cell_type": "code",
   "execution_count": 16,
   "id": "30c79ea4",
   "metadata": {},
   "outputs": [],
   "source": [
    "lcn_test_x = lcn_train.iloc[: , 1::]\n",
    "lcn_test_y = lcn_train.iloc[: , 0]"
   ]
  },
  {
   "cell_type": "code",
   "execution_count": 17,
   "id": "c8e3ac7b",
   "metadata": {},
   "outputs": [],
   "source": [
    "# lcn_train_x = lcn_train.iloc[: , 1::]\n",
    "# lcn_train_x"
   ]
  },
  {
   "cell_type": "code",
   "execution_count": null,
   "id": "0cb9a7b4",
   "metadata": {},
   "outputs": [],
   "source": []
  },
  {
   "cell_type": "code",
   "execution_count": null,
   "id": "7152d475",
   "metadata": {},
   "outputs": [],
   "source": []
  },
  {
   "cell_type": "markdown",
   "id": "1642902c",
   "metadata": {},
   "source": [
    "MODEL BUILDING\n"
   ]
  },
  {
   "cell_type": "code",
   "execution_count": 68,
   "id": "16df45d9",
   "metadata": {},
   "outputs": [],
   "source": [
    "# model building\n",
    "# do an import from sk learn\n",
    "# object \n",
    "# fit(x,y) \n",
    "# predict(x)\n",
    "from sklearn.linear_model import LinearRegression\n",
    "lin_lcn = LinearRegression()"
   ]
  },
  {
   "cell_type": "code",
   "execution_count": 69,
   "id": "ea9210cb",
   "metadata": {},
   "outputs": [
    {
     "data": {
      "text/html": [
       "<style>#sk-container-id-4 {color: black;background-color: white;}#sk-container-id-4 pre{padding: 0;}#sk-container-id-4 div.sk-toggleable {background-color: white;}#sk-container-id-4 label.sk-toggleable__label {cursor: pointer;display: block;width: 100%;margin-bottom: 0;padding: 0.3em;box-sizing: border-box;text-align: center;}#sk-container-id-4 label.sk-toggleable__label-arrow:before {content: \"▸\";float: left;margin-right: 0.25em;color: #696969;}#sk-container-id-4 label.sk-toggleable__label-arrow:hover:before {color: black;}#sk-container-id-4 div.sk-estimator:hover label.sk-toggleable__label-arrow:before {color: black;}#sk-container-id-4 div.sk-toggleable__content {max-height: 0;max-width: 0;overflow: hidden;text-align: left;background-color: #f0f8ff;}#sk-container-id-4 div.sk-toggleable__content pre {margin: 0.2em;color: black;border-radius: 0.25em;background-color: #f0f8ff;}#sk-container-id-4 input.sk-toggleable__control:checked~div.sk-toggleable__content {max-height: 200px;max-width: 100%;overflow: auto;}#sk-container-id-4 input.sk-toggleable__control:checked~label.sk-toggleable__label-arrow:before {content: \"▾\";}#sk-container-id-4 div.sk-estimator input.sk-toggleable__control:checked~label.sk-toggleable__label {background-color: #d4ebff;}#sk-container-id-4 div.sk-label input.sk-toggleable__control:checked~label.sk-toggleable__label {background-color: #d4ebff;}#sk-container-id-4 input.sk-hidden--visually {border: 0;clip: rect(1px 1px 1px 1px);clip: rect(1px, 1px, 1px, 1px);height: 1px;margin: -1px;overflow: hidden;padding: 0;position: absolute;width: 1px;}#sk-container-id-4 div.sk-estimator {font-family: monospace;background-color: #f0f8ff;border: 1px dotted black;border-radius: 0.25em;box-sizing: border-box;margin-bottom: 0.5em;}#sk-container-id-4 div.sk-estimator:hover {background-color: #d4ebff;}#sk-container-id-4 div.sk-parallel-item::after {content: \"\";width: 100%;border-bottom: 1px solid gray;flex-grow: 1;}#sk-container-id-4 div.sk-label:hover label.sk-toggleable__label {background-color: #d4ebff;}#sk-container-id-4 div.sk-serial::before {content: \"\";position: absolute;border-left: 1px solid gray;box-sizing: border-box;top: 0;bottom: 0;left: 50%;z-index: 0;}#sk-container-id-4 div.sk-serial {display: flex;flex-direction: column;align-items: center;background-color: white;padding-right: 0.2em;padding-left: 0.2em;position: relative;}#sk-container-id-4 div.sk-item {position: relative;z-index: 1;}#sk-container-id-4 div.sk-parallel {display: flex;align-items: stretch;justify-content: center;background-color: white;position: relative;}#sk-container-id-4 div.sk-item::before, #sk-container-id-4 div.sk-parallel-item::before {content: \"\";position: absolute;border-left: 1px solid gray;box-sizing: border-box;top: 0;bottom: 0;left: 50%;z-index: -1;}#sk-container-id-4 div.sk-parallel-item {display: flex;flex-direction: column;z-index: 1;position: relative;background-color: white;}#sk-container-id-4 div.sk-parallel-item:first-child::after {align-self: flex-end;width: 50%;}#sk-container-id-4 div.sk-parallel-item:last-child::after {align-self: flex-start;width: 50%;}#sk-container-id-4 div.sk-parallel-item:only-child::after {width: 0;}#sk-container-id-4 div.sk-dashed-wrapped {border: 1px dashed gray;margin: 0 0.4em 0.5em 0.4em;box-sizing: border-box;padding-bottom: 0.4em;background-color: white;}#sk-container-id-4 div.sk-label label {font-family: monospace;font-weight: bold;display: inline-block;line-height: 1.2em;}#sk-container-id-4 div.sk-label-container {text-align: center;}#sk-container-id-4 div.sk-container {/* jupyter's `normalize.less` sets `[hidden] { display: none; }` but bootstrap.min.css set `[hidden] { display: none !important; }` so we also need the `!important` here to be able to override the default hidden behavior on the sphinx rendered scikit-learn.org. See: https://github.com/scikit-learn/scikit-learn/issues/21755 */display: inline-block !important;position: relative;}#sk-container-id-4 div.sk-text-repr-fallback {display: none;}</style><div id=\"sk-container-id-4\" class=\"sk-top-container\"><div class=\"sk-text-repr-fallback\"><pre>LinearRegression()</pre><b>In a Jupyter environment, please rerun this cell to show the HTML representation or trust the notebook. <br />On GitHub, the HTML representation is unable to render, please try loading this page with nbviewer.org.</b></div><div class=\"sk-container\" hidden><div class=\"sk-item\"><div class=\"sk-estimator sk-toggleable\"><input class=\"sk-toggleable__control sk-hidden--visually\" id=\"sk-estimator-id-4\" type=\"checkbox\" checked><label for=\"sk-estimator-id-4\" class=\"sk-toggleable__label sk-toggleable__label-arrow\">LinearRegression</label><div class=\"sk-toggleable__content\"><pre>LinearRegression()</pre></div></div></div></div></div>"
      ],
      "text/plain": [
       "LinearRegression()"
      ]
     },
     "execution_count": 69,
     "metadata": {},
     "output_type": "execute_result"
    }
   ],
   "source": [
    "lin_lcn.fit(lcn_train_x , lcn_train_y) # model has beeen cteated"
   ]
  },
  {
   "cell_type": "markdown",
   "id": "cd0e32a1",
   "metadata": {},
   "source": [
    "MODEL EVALUATION------\n"
   ]
  },
  {
   "cell_type": "code",
   "execution_count": 20,
   "id": "afc1005a",
   "metadata": {},
   "outputs": [
    {
     "data": {
      "text/plain": [
       "0.8599044016745442"
      ]
     },
     "execution_count": 20,
     "metadata": {},
     "output_type": "execute_result"
    }
   ],
   "source": [
    "Rsquare = lin_lcn.score(lcn_train_x , lcn_train_y)\n",
    "Rsquare  "
   ]
  },
  {
   "cell_type": "code",
   "execution_count": 21,
   "id": "b6e85a22",
   "metadata": {},
   "outputs": [],
   "source": [
    "N = lcn_train_x.shape[0]\n",
    "K = lcn_train_x.shape[1]"
   ]
  },
  {
   "cell_type": "code",
   "execution_count": 22,
   "id": "9c2b8e08",
   "metadata": {},
   "outputs": [
    {
     "data": {
      "text/plain": [
       "0.8586840567413956"
      ]
     },
     "execution_count": 22,
     "metadata": {},
     "output_type": "execute_result"
    }
   ],
   "source": [
    "adjRsquare = 1-   (1- Rsquare) * (N - 1) / (N - K - 1)\n",
    "adjRsquare"
   ]
  },
  {
   "cell_type": "code",
   "execution_count": 23,
   "id": "b6f91da7",
   "metadata": {},
   "outputs": [
    {
     "data": {
      "text/plain": [
       "580"
      ]
     },
     "execution_count": 23,
     "metadata": {},
     "output_type": "execute_result"
    }
   ],
   "source": [
    "lcn_train_x.shape[0]"
   ]
  },
  {
   "cell_type": "code",
   "execution_count": 24,
   "id": "9759b642",
   "metadata": {},
   "outputs": [
    {
     "data": {
      "text/plain": [
       "5"
      ]
     },
     "execution_count": 24,
     "metadata": {},
     "output_type": "execute_result"
    }
   ],
   "source": [
    "lcn_train_x.shape[1]"
   ]
  },
  {
   "cell_type": "code",
   "execution_count": 25,
   "id": "0590db21",
   "metadata": {},
   "outputs": [
    {
     "data": {
      "text/html": [
       "<div>\n",
       "<style scoped>\n",
       "    .dataframe tbody tr th:only-of-type {\n",
       "        vertical-align: middle;\n",
       "    }\n",
       "\n",
       "    .dataframe tbody tr th {\n",
       "        vertical-align: top;\n",
       "    }\n",
       "\n",
       "    .dataframe thead th {\n",
       "        text-align: right;\n",
       "    }\n",
       "</style>\n",
       "<table border=\"1\" class=\"dataframe\">\n",
       "  <thead>\n",
       "    <tr style=\"text-align: right;\">\n",
       "      <th></th>\n",
       "      <th>LungCap</th>\n",
       "      <th>Age</th>\n",
       "      <th>Height</th>\n",
       "      <th>Smoke</th>\n",
       "      <th>Gender</th>\n",
       "      <th>Caesarean</th>\n",
       "    </tr>\n",
       "  </thead>\n",
       "  <tbody>\n",
       "    <tr>\n",
       "      <th>0</th>\n",
       "      <td>6.475</td>\n",
       "      <td>6</td>\n",
       "      <td>62.1</td>\n",
       "      <td>0</td>\n",
       "      <td>0</td>\n",
       "      <td>0</td>\n",
       "    </tr>\n",
       "    <tr>\n",
       "      <th>1</th>\n",
       "      <td>10.125</td>\n",
       "      <td>18</td>\n",
       "      <td>74.7</td>\n",
       "      <td>1</td>\n",
       "      <td>1</td>\n",
       "      <td>0</td>\n",
       "    </tr>\n",
       "    <tr>\n",
       "      <th>2</th>\n",
       "      <td>9.550</td>\n",
       "      <td>16</td>\n",
       "      <td>69.7</td>\n",
       "      <td>0</td>\n",
       "      <td>1</td>\n",
       "      <td>1</td>\n",
       "    </tr>\n",
       "    <tr>\n",
       "      <th>3</th>\n",
       "      <td>11.125</td>\n",
       "      <td>14</td>\n",
       "      <td>71.0</td>\n",
       "      <td>0</td>\n",
       "      <td>0</td>\n",
       "      <td>0</td>\n",
       "    </tr>\n",
       "    <tr>\n",
       "      <th>4</th>\n",
       "      <td>4.800</td>\n",
       "      <td>5</td>\n",
       "      <td>56.9</td>\n",
       "      <td>0</td>\n",
       "      <td>0</td>\n",
       "      <td>0</td>\n",
       "    </tr>\n",
       "  </tbody>\n",
       "</table>\n",
       "</div>"
      ],
      "text/plain": [
       "   LungCap  Age  Height  Smoke  Gender  Caesarean\n",
       "0    6.475    6    62.1      0       0          0\n",
       "1   10.125   18    74.7      1       1          0\n",
       "2    9.550   16    69.7      0       1          1\n",
       "3   11.125   14    71.0      0       0          0\n",
       "4    4.800    5    56.9      0       0          0"
      ]
     },
     "execution_count": 25,
     "metadata": {},
     "output_type": "execute_result"
    }
   ],
   "source": [
    "lcn.head()"
   ]
  },
  {
   "cell_type": "markdown",
   "id": "81bf2144",
   "metadata": {},
   "source": [
    "prediction of medel"
   ]
  },
  {
   "cell_type": "code",
   "execution_count": 26,
   "id": "82459c1c",
   "metadata": {},
   "outputs": [
    {
     "data": {
      "text/plain": [
       "array([ 0.18054429,  0.25664012, -0.56475527, -0.42334048, -0.11794999])"
      ]
     },
     "execution_count": 26,
     "metadata": {},
     "output_type": "execute_result"
    }
   ],
   "source": [
    "lin_lcn.coef_"
   ]
  },
  {
   "cell_type": "code",
   "execution_count": 27,
   "id": "7a07ab6c",
   "metadata": {},
   "outputs": [
    {
     "data": {
      "text/plain": [
       "-10.73117940607349"
      ]
     },
     "execution_count": 27,
     "metadata": {},
     "output_type": "execute_result"
    }
   ],
   "source": [
    "lin_lcn.intercept_"
   ]
  },
  {
   "cell_type": "code",
   "execution_count": 28,
   "id": "06aa471a",
   "metadata": {},
   "outputs": [
    {
     "data": {
      "text/plain": [
       "array([ 5.30328147,  6.535265  ,  5.84312192, 10.95742994,  8.33353825,\n",
       "        8.11695988,  6.33163436,  4.53336111,  8.41221174,  7.21603085,\n",
       "        5.33986936, 10.27562089, 11.33033861,  4.75049329,  8.98040481,\n",
       "        7.95100872, 11.25155417, 12.469029  ,  6.62665478,  5.90661242,\n",
       "        4.46818916, 11.04893068,  6.84656   ,  7.04944144,  7.19215925,\n",
       "        7.9364156 ,  5.70185414,  2.51179321,  6.77974265, 11.56041851,\n",
       "       11.0984663 ,  6.97155321,  5.08412545,  7.16470283,  3.2492643 ,\n",
       "        7.40769441,  4.18588502,  8.38923633,  7.17008004, 10.43888344,\n",
       "        8.88632643,  8.26076927,  5.70275034,  8.90072417,  5.17585761,\n",
       "        9.17008058,  9.88133384,  9.16952676, 10.4432535 , 11.13618183,\n",
       "        7.79627545, 11.71384877,  6.39478247,  8.39747161,  8.6067109 ,\n",
       "        4.1566362 ,  7.17854675,  8.20958825,  9.74853277,  5.32894548,\n",
       "        3.35012794,  3.15573973,  8.22051213, 12.04803474,  6.28943781,\n",
       "        9.29106156, 10.54770195,  9.8398865 ,  5.89534615,  5.68913785,\n",
       "        7.37180733,  6.35909077,  5.04753755,  3.29879992, 12.03352605,\n",
       "        7.7826269 ,  7.10424332,  9.27452903, 10.00606909,  7.79806785,\n",
       "        8.60133369,  9.55359074, 11.34239013,  8.44879964, 10.64688415,\n",
       "       11.50819429,  6.61121383,  5.74136208,  7.94678566,  8.66974806,\n",
       "        6.48741083,  9.84771496,  5.6720515 ,  7.9016201 ,  8.11950149,\n",
       "       11.04658445, 10.44504591, 10.16259477,  8.15478637,  7.15721675,\n",
       "        5.53604998,  2.47575913,  1.9899353 ,  5.97308738,  7.08894938,\n",
       "        4.5315687 ,  8.24348754,  7.71749101,  7.74057736,  8.91344046,\n",
       "       12.39114076,  7.0529153 ,  7.70543949,  6.80451046,  6.28943781,\n",
       "        9.78870548,  6.34166204, 10.70168603,  6.83107067,  3.44841393,\n",
       "        8.1069322 ,  6.59006688,  9.82552481,  8.98898248,  7.35909104,\n",
       "        4.36553311,  9.94213573,  5.22808184,  6.18033889,  9.19484839,\n",
       "        3.90358089,  7.74236977,  5.4177576 ,  8.96566469,  7.51486752,\n",
       "        8.73199997, 11.24152648,  3.13186812,  8.12732995,  5.35371329,\n",
       "        7.74326597,  8.80988821,  9.70064255,  3.9283487 ,  5.66437004,\n",
       "        3.96696043,  5.26411592,  9.6311366 ,  8.05291557,  7.01285355,\n",
       "        8.15736402, 13.12681945, 11.58518632,  5.63691362,  9.06742453,\n",
       "        9.44414943,  7.01161496,  6.64318731,  4.9823656 ,  9.33611617,\n",
       "        3.38671584,  7.60188724, 10.89136179,  6.25808012,  5.01929588,\n",
       "       10.50495159,  7.9602872 ,  7.96207961,  6.01181007,  2.24926403,\n",
       "       10.34070841,  8.20432199,  6.35819457,  8.91344046,  8.83555222,\n",
       "        5.72771353,  3.98236533,  4.06961648,  7.92459551, 10.94089741,\n",
       "        5.53515378,  7.55145542,  9.72466116,  7.19984071, 10.0069653 ,\n",
       "        7.6927232 ,  6.07589044,  9.47804873,  4.26018845,  6.43608281,\n",
       "        4.35192062,  3.9534589 ,  7.88722236,  5.61214581,  7.12811493,\n",
       "        7.11427101,  8.98987868,  8.3736    ,  9.91612934,  9.77867779,\n",
       "        3.13007572, 11.69053098,  9.35007105,  9.26345814, 11.59813404,\n",
       "        6.27772868, 12.27901085,  5.48547116,  7.80664552,  8.33790831,\n",
       "        5.4454094 ,  5.05846143,  3.30059232,  3.89944226,  5.10978946,\n",
       "        9.51934907,  4.20886043,  4.37848083, 10.73648152,  6.52579113,\n",
       "       10.55896822,  8.81078441,  6.64304031,  7.67887927,  8.02800076,\n",
       "        9.00338022, 13.25513951,  7.18213156, 12.33213128,  6.69182673,\n",
       "        9.8382411 ,  4.54373117,  5.67260532,  6.71491308,  9.94268955,\n",
       "        5.89624235,  7.12643348,  9.68515323,  7.1393812 , 10.84092997,\n",
       "        7.21368463,  7.87326748,  4.87791715, 12.43389113, 11.7409628 ,\n",
       "        9.88867292,  9.36446879,  5.7934393 ,  8.56709201,  4.74959709,\n",
       "        5.84323288, 12.07549116,  8.5798083 ,  8.61763479, 10.34328606,\n",
       "       10.96835383, 10.64677319,  5.12015953, 10.2377944 ,  8.7858696 ,\n",
       "        6.84054454,  7.70723189, 11.26629429,  4.87970955,  5.86878594,\n",
       "        3.32625634, 10.03442171,  9.00606882,  8.01340763,  9.98205048,\n",
       "        8.44056436, 11.67344463,  9.49189265,  7.01340736,  6.36677223,\n",
       "        4.77649969,  6.25553852,  6.75173241,  4.12273691,  3.01828819,\n",
       "        7.46353949,  6.02725102, 11.52293441, 10.76483414,  8.75856018,\n",
       "        9.00606882,  5.29122995, 10.08574974, 10.80523828,  9.41400441,\n",
       "       10.99670645,  6.08591812, 12.39203697,  9.29929684,  8.69630828,\n",
       "        7.85852736, 10.07011341,  7.19036684,  2.9396147 ,  8.32316818,\n",
       "       10.90531667, 10.29106183,  2.78114962, 11.50894348,  9.8024024 ,\n",
       "       10.05560471,  4.84043305,  7.77330004,  2.06603114,  6.95025925,\n",
       "        7.15273574,  3.51682831,  6.79537898, 10.5076402 , 10.09577742,\n",
       "        7.43787548,  7.43877168,  9.60726499,  4.86699326, 10.72208378,\n",
       "        5.68824165,  5.72662195,  7.87416369,  9.88956912,  6.98595095,\n",
       "        9.2214086 ,  4.9814694 , 12.99939559,  9.26270895,  9.40105669,\n",
       "        7.61931597, 11.30377839, 11.11216322, 10.22409748,  7.50102359,\n",
       "        3.01649579,  8.23614846,  9.91736792, 10.24886529,  8.09308828,\n",
       "        4.37937703,  4.58468913, 10.76483414,  6.97592326, 11.61104572,\n",
       "        9.58339338,  8.25475381,  7.35909104,  6.2280821 ,  9.20611466,\n",
       "       11.27632197, 12.40912332, 11.68873857,  6.40862639, 11.22663935,\n",
       "        5.27761746,  6.74494716,  8.01375002,  7.95115572, 10.90262806,\n",
       "        4.97129471, 12.35779529, 11.37987423, 11.03184433,  9.40105669,\n",
       "        8.51486779, 12.34070894,  9.01520031, 10.92046361, 12.06019721,\n",
       "        9.19738999,  7.56604854,  9.247415  ,  5.63870603,  4.80271752,\n",
       "        8.88867265,  7.87416369, 10.81526596,  5.23900572, 10.31672585,\n",
       "        6.08681432,  8.7494287 ,  8.58838597,  5.66347384,  4.90358116,\n",
       "        9.32227225,  9.46622864,  6.89713882, 11.68818476,  3.87702068,\n",
       "        7.21603085, 12.70179752,  6.50855778,  7.5257914 ,  6.99889867,\n",
       "        7.59350495, 10.80254967,  8.5798083 ,  2.29790345,  7.88274135,\n",
       "        3.22360029,  9.22320101,  6.40769414, 10.0086107 ,  4.23576303,\n",
       "        4.37758463,  4.79000123,  5.38206591,  8.10435455,  6.39567867,\n",
       "       10.67602201,  5.11068566,  8.3987102 ,  1.44919864,  7.42388455,\n",
       "        4.31241268,  6.75228623,  7.45827323,  9.1839245 , 10.99655945,\n",
       "        5.13400345,  6.25733093,  7.15120129,  6.39497785,  4.15932481,\n",
       "        9.65948921, 11.1223379 , 10.52114174, 10.01788918,  2.55543977,\n",
       "        7.21871946, 11.52383062, 11.43209845,  4.7743649 ,  8.75890257,\n",
       "        1.01291044,  6.03369389, 10.37972695,  6.99979487,  3.73508812,\n",
       "        8.00248375,  5.95849426,  6.78063885,  6.92369904,  3.07051242,\n",
       "        7.88598377,  6.25464232,  9.00169877,  5.05756523,  4.40324864,\n",
       "        9.41669302,  5.72517193,  3.76254454,  3.13007572,  9.22175099,\n",
       "       10.17366566,  9.5970903 ,  9.17082978,  3.90178849, 10.41590804,\n",
       "        9.21726998,  9.76468687,  7.64304057,  4.25195317,  7.13724641,\n",
       "        6.46085062, 11.50998669,  9.86390511,  5.94577797,  7.41041906,\n",
       "        6.02277001, 12.18851727,  4.31096266, 10.22588988, 12.94717137,\n",
       "        2.49026782,  2.90268442,  9.75945666,  5.61124961,  7.24348727,\n",
       "        9.46787404,  8.06652806, 10.39267468,  4.31006646,  7.2957115 ,\n",
       "       11.09667389,  8.04071705,  7.49009971,  7.83734436,  7.47715199,\n",
       "       12.20381122,  7.93462319, 10.14889785, 10.5449773 , 13.00976566,\n",
       "        7.97861214,  5.54518146, 10.74006633,  7.24169487,  7.34524712,\n",
       "        1.91294327,  7.46264329, 11.68948777,  9.3883404 ,  8.21782353,\n",
       "       10.40319175,  9.99312137, 11.10614776,  3.05666849, 10.88722317,\n",
       "       10.06921721,  8.59454843,  2.50153409, 10.10872514,  5.30160002,\n",
       "        7.21816564, 10.892258  ,  6.39512485,  6.07499423,  3.602398  ,\n",
       "       10.51752088,  5.12721819,  8.01520004, 10.1547869 ,  5.41989239,\n",
       "        9.08306086, 10.6887383 ,  7.98505501,  7.12643348,  4.37848083,\n",
       "       10.73827392,  6.75696262,  7.23256338,  5.57084547,  6.96028693,\n",
       "        9.16828818,  8.7476363 , 10.99401784,  9.81436949,  3.43983627,\n",
       "        7.61662736,  7.794594  ,  5.90750862, 13.51177963,  8.49957384,\n",
       "        8.16683789,  7.90895918,  7.75855992,  7.77150764,  8.41400414,\n",
       "        6.30593429, 10.88043791,  8.39926402, 11.67691849,  8.7476363 ,\n",
       "        7.88419137, 10.06921721,  3.95077029,  6.08805291,  4.63601715,\n",
       "        8.02725156, 10.95832615,  7.1750729 ,  9.83000582,  9.39192521,\n",
       "        3.93048349,  6.2416946 ,  5.61304202,  5.09707317,  3.00444427,\n",
       "        5.06204624,  6.65052639,  8.45148824,  8.07510572,  5.40593752,\n",
       "        7.26859746,  6.19215898,  7.32047931,  8.20958825,  8.60636852])"
      ]
     },
     "execution_count": 28,
     "metadata": {},
     "output_type": "execute_result"
    }
   ],
   "source": [
    "pred_test = lin_lcn.predict(lcn_test_x)\n",
    "pred_test    "
   ]
  },
  {
   "cell_type": "code",
   "execution_count": 29,
   "id": "e772e5b2",
   "metadata": {},
   "outputs": [
    {
     "data": {
      "text/plain": [
       "6.2850805026317005"
      ]
     },
     "execution_count": 29,
     "metadata": {},
     "output_type": "execute_result"
    }
   ],
   "source": [
    "-11.0530225493683 + 0.1644448*6 + 0.26330812*62.1 + 0 + 0 + 0"
   ]
  },
  {
   "cell_type": "code",
   "execution_count": 30,
   "id": "661d2530",
   "metadata": {},
   "outputs": [],
   "source": [
    "# build the rel bet x and y is a model bduilding "
   ]
  },
  {
   "cell_type": "code",
   "execution_count": 31,
   "id": "13fdba69",
   "metadata": {},
   "outputs": [
    {
     "data": {
      "text/plain": [
       "array([ 5.30328147,  6.535265  ,  5.84312192, 10.95742994,  8.33353825,\n",
       "        8.11695988,  6.33163436,  4.53336111,  8.41221174,  7.21603085,\n",
       "        5.33986936, 10.27562089, 11.33033861,  4.75049329,  8.98040481,\n",
       "        7.95100872, 11.25155417, 12.469029  ,  6.62665478,  5.90661242,\n",
       "        4.46818916, 11.04893068,  6.84656   ,  7.04944144,  7.19215925,\n",
       "        7.9364156 ,  5.70185414,  2.51179321,  6.77974265, 11.56041851,\n",
       "       11.0984663 ,  6.97155321,  5.08412545,  7.16470283,  3.2492643 ,\n",
       "        7.40769441,  4.18588502,  8.38923633,  7.17008004, 10.43888344,\n",
       "        8.88632643,  8.26076927,  5.70275034,  8.90072417,  5.17585761,\n",
       "        9.17008058,  9.88133384,  9.16952676, 10.4432535 , 11.13618183,\n",
       "        7.79627545, 11.71384877,  6.39478247,  8.39747161,  8.6067109 ,\n",
       "        4.1566362 ,  7.17854675,  8.20958825,  9.74853277,  5.32894548,\n",
       "        3.35012794,  3.15573973,  8.22051213, 12.04803474,  6.28943781,\n",
       "        9.29106156, 10.54770195,  9.8398865 ,  5.89534615,  5.68913785,\n",
       "        7.37180733,  6.35909077,  5.04753755,  3.29879992, 12.03352605,\n",
       "        7.7826269 ,  7.10424332,  9.27452903, 10.00606909,  7.79806785,\n",
       "        8.60133369,  9.55359074, 11.34239013,  8.44879964, 10.64688415,\n",
       "       11.50819429,  6.61121383,  5.74136208,  7.94678566,  8.66974806,\n",
       "        6.48741083,  9.84771496,  5.6720515 ,  7.9016201 ,  8.11950149,\n",
       "       11.04658445, 10.44504591, 10.16259477,  8.15478637,  7.15721675,\n",
       "        5.53604998,  2.47575913,  1.9899353 ,  5.97308738,  7.08894938,\n",
       "        4.5315687 ,  8.24348754,  7.71749101,  7.74057736,  8.91344046,\n",
       "       12.39114076,  7.0529153 ,  7.70543949,  6.80451046,  6.28943781,\n",
       "        9.78870548,  6.34166204, 10.70168603,  6.83107067,  3.44841393,\n",
       "        8.1069322 ,  6.59006688,  9.82552481,  8.98898248,  7.35909104,\n",
       "        4.36553311,  9.94213573,  5.22808184,  6.18033889,  9.19484839,\n",
       "        3.90358089,  7.74236977,  5.4177576 ,  8.96566469,  7.51486752,\n",
       "        8.73199997, 11.24152648,  3.13186812,  8.12732995,  5.35371329,\n",
       "        7.74326597,  8.80988821,  9.70064255,  3.9283487 ,  5.66437004,\n",
       "        3.96696043,  5.26411592,  9.6311366 ,  8.05291557,  7.01285355,\n",
       "        8.15736402, 13.12681945, 11.58518632,  5.63691362,  9.06742453,\n",
       "        9.44414943,  7.01161496,  6.64318731,  4.9823656 ,  9.33611617,\n",
       "        3.38671584,  7.60188724, 10.89136179,  6.25808012,  5.01929588,\n",
       "       10.50495159,  7.9602872 ,  7.96207961,  6.01181007,  2.24926403,\n",
       "       10.34070841,  8.20432199,  6.35819457,  8.91344046,  8.83555222,\n",
       "        5.72771353,  3.98236533,  4.06961648,  7.92459551, 10.94089741,\n",
       "        5.53515378,  7.55145542,  9.72466116,  7.19984071, 10.0069653 ,\n",
       "        7.6927232 ,  6.07589044,  9.47804873,  4.26018845,  6.43608281,\n",
       "        4.35192062,  3.9534589 ,  7.88722236,  5.61214581,  7.12811493,\n",
       "        7.11427101,  8.98987868,  8.3736    ,  9.91612934,  9.77867779,\n",
       "        3.13007572, 11.69053098,  9.35007105,  9.26345814, 11.59813404,\n",
       "        6.27772868, 12.27901085,  5.48547116,  7.80664552,  8.33790831,\n",
       "        5.4454094 ,  5.05846143,  3.30059232,  3.89944226,  5.10978946,\n",
       "        9.51934907,  4.20886043,  4.37848083, 10.73648152,  6.52579113,\n",
       "       10.55896822,  8.81078441,  6.64304031,  7.67887927,  8.02800076,\n",
       "        9.00338022, 13.25513951,  7.18213156, 12.33213128,  6.69182673,\n",
       "        9.8382411 ,  4.54373117,  5.67260532,  6.71491308,  9.94268955,\n",
       "        5.89624235,  7.12643348,  9.68515323,  7.1393812 , 10.84092997,\n",
       "        7.21368463,  7.87326748,  4.87791715, 12.43389113, 11.7409628 ,\n",
       "        9.88867292,  9.36446879,  5.7934393 ,  8.56709201,  4.74959709,\n",
       "        5.84323288, 12.07549116,  8.5798083 ,  8.61763479, 10.34328606,\n",
       "       10.96835383, 10.64677319,  5.12015953, 10.2377944 ,  8.7858696 ,\n",
       "        6.84054454,  7.70723189, 11.26629429,  4.87970955,  5.86878594,\n",
       "        3.32625634, 10.03442171,  9.00606882,  8.01340763,  9.98205048,\n",
       "        8.44056436, 11.67344463,  9.49189265,  7.01340736,  6.36677223,\n",
       "        4.77649969,  6.25553852,  6.75173241,  4.12273691,  3.01828819,\n",
       "        7.46353949,  6.02725102, 11.52293441, 10.76483414,  8.75856018,\n",
       "        9.00606882,  5.29122995, 10.08574974, 10.80523828,  9.41400441,\n",
       "       10.99670645,  6.08591812, 12.39203697,  9.29929684,  8.69630828,\n",
       "        7.85852736, 10.07011341,  7.19036684,  2.9396147 ,  8.32316818,\n",
       "       10.90531667, 10.29106183,  2.78114962, 11.50894348,  9.8024024 ,\n",
       "       10.05560471,  4.84043305,  7.77330004,  2.06603114,  6.95025925,\n",
       "        7.15273574,  3.51682831,  6.79537898, 10.5076402 , 10.09577742,\n",
       "        7.43787548,  7.43877168,  9.60726499,  4.86699326, 10.72208378,\n",
       "        5.68824165,  5.72662195,  7.87416369,  9.88956912,  6.98595095,\n",
       "        9.2214086 ,  4.9814694 , 12.99939559,  9.26270895,  9.40105669,\n",
       "        7.61931597, 11.30377839, 11.11216322, 10.22409748,  7.50102359,\n",
       "        3.01649579,  8.23614846,  9.91736792, 10.24886529,  8.09308828,\n",
       "        4.37937703,  4.58468913, 10.76483414,  6.97592326, 11.61104572,\n",
       "        9.58339338,  8.25475381,  7.35909104,  6.2280821 ,  9.20611466,\n",
       "       11.27632197, 12.40912332, 11.68873857,  6.40862639, 11.22663935,\n",
       "        5.27761746,  6.74494716,  8.01375002,  7.95115572, 10.90262806,\n",
       "        4.97129471, 12.35779529, 11.37987423, 11.03184433,  9.40105669,\n",
       "        8.51486779, 12.34070894,  9.01520031, 10.92046361, 12.06019721,\n",
       "        9.19738999,  7.56604854,  9.247415  ,  5.63870603,  4.80271752,\n",
       "        8.88867265,  7.87416369, 10.81526596,  5.23900572, 10.31672585,\n",
       "        6.08681432,  8.7494287 ,  8.58838597,  5.66347384,  4.90358116,\n",
       "        9.32227225,  9.46622864,  6.89713882, 11.68818476,  3.87702068,\n",
       "        7.21603085, 12.70179752,  6.50855778,  7.5257914 ,  6.99889867,\n",
       "        7.59350495, 10.80254967,  8.5798083 ,  2.29790345,  7.88274135,\n",
       "        3.22360029,  9.22320101,  6.40769414, 10.0086107 ,  4.23576303,\n",
       "        4.37758463,  4.79000123,  5.38206591,  8.10435455,  6.39567867,\n",
       "       10.67602201,  5.11068566,  8.3987102 ,  1.44919864,  7.42388455,\n",
       "        4.31241268,  6.75228623,  7.45827323,  9.1839245 , 10.99655945,\n",
       "        5.13400345,  6.25733093,  7.15120129,  6.39497785,  4.15932481,\n",
       "        9.65948921, 11.1223379 , 10.52114174, 10.01788918,  2.55543977,\n",
       "        7.21871946, 11.52383062, 11.43209845,  4.7743649 ,  8.75890257,\n",
       "        1.01291044,  6.03369389, 10.37972695,  6.99979487,  3.73508812,\n",
       "        8.00248375,  5.95849426,  6.78063885,  6.92369904,  3.07051242,\n",
       "        7.88598377,  6.25464232,  9.00169877,  5.05756523,  4.40324864,\n",
       "        9.41669302,  5.72517193,  3.76254454,  3.13007572,  9.22175099,\n",
       "       10.17366566,  9.5970903 ,  9.17082978,  3.90178849, 10.41590804,\n",
       "        9.21726998,  9.76468687,  7.64304057,  4.25195317,  7.13724641,\n",
       "        6.46085062, 11.50998669,  9.86390511,  5.94577797,  7.41041906,\n",
       "        6.02277001, 12.18851727,  4.31096266, 10.22588988, 12.94717137,\n",
       "        2.49026782,  2.90268442,  9.75945666,  5.61124961,  7.24348727,\n",
       "        9.46787404,  8.06652806, 10.39267468,  4.31006646,  7.2957115 ,\n",
       "       11.09667389,  8.04071705,  7.49009971,  7.83734436,  7.47715199,\n",
       "       12.20381122,  7.93462319, 10.14889785, 10.5449773 , 13.00976566,\n",
       "        7.97861214,  5.54518146, 10.74006633,  7.24169487,  7.34524712,\n",
       "        1.91294327,  7.46264329, 11.68948777,  9.3883404 ,  8.21782353,\n",
       "       10.40319175,  9.99312137, 11.10614776,  3.05666849, 10.88722317,\n",
       "       10.06921721,  8.59454843,  2.50153409, 10.10872514,  5.30160002,\n",
       "        7.21816564, 10.892258  ,  6.39512485,  6.07499423,  3.602398  ,\n",
       "       10.51752088,  5.12721819,  8.01520004, 10.1547869 ,  5.41989239,\n",
       "        9.08306086, 10.6887383 ,  7.98505501,  7.12643348,  4.37848083,\n",
       "       10.73827392,  6.75696262,  7.23256338,  5.57084547,  6.96028693,\n",
       "        9.16828818,  8.7476363 , 10.99401784,  9.81436949,  3.43983627,\n",
       "        7.61662736,  7.794594  ,  5.90750862, 13.51177963,  8.49957384,\n",
       "        8.16683789,  7.90895918,  7.75855992,  7.77150764,  8.41400414,\n",
       "        6.30593429, 10.88043791,  8.39926402, 11.67691849,  8.7476363 ,\n",
       "        7.88419137, 10.06921721,  3.95077029,  6.08805291,  4.63601715,\n",
       "        8.02725156, 10.95832615,  7.1750729 ,  9.83000582,  9.39192521,\n",
       "        3.93048349,  6.2416946 ,  5.61304202,  5.09707317,  3.00444427,\n",
       "        5.06204624,  6.65052639,  8.45148824,  8.07510572,  5.40593752,\n",
       "        7.26859746,  6.19215898,  7.32047931,  8.20958825,  8.60636852])"
      ]
     },
     "execution_count": 31,
     "metadata": {},
     "output_type": "execute_result"
    }
   ],
   "source": [
    "pred_test = lin_lcn.predict(lcn_test_x)\n",
    "pred_test"
   ]
  },
  {
   "cell_type": "code",
   "execution_count": 32,
   "id": "3c7f2ef4",
   "metadata": {},
   "outputs": [
    {
     "data": {
      "text/plain": [
       "array([ 5.30328147,  6.535265  ,  5.84312192, 10.95742994,  8.33353825,\n",
       "        8.11695988,  6.33163436,  4.53336111,  8.41221174,  7.21603085,\n",
       "        5.33986936, 10.27562089, 11.33033861,  4.75049329,  8.98040481,\n",
       "        7.95100872, 11.25155417, 12.469029  ,  6.62665478,  5.90661242,\n",
       "        4.46818916, 11.04893068,  6.84656   ,  7.04944144,  7.19215925,\n",
       "        7.9364156 ,  5.70185414,  2.51179321,  6.77974265, 11.56041851,\n",
       "       11.0984663 ,  6.97155321,  5.08412545,  7.16470283,  3.2492643 ,\n",
       "        7.40769441,  4.18588502,  8.38923633,  7.17008004, 10.43888344,\n",
       "        8.88632643,  8.26076927,  5.70275034,  8.90072417,  5.17585761,\n",
       "        9.17008058,  9.88133384,  9.16952676, 10.4432535 , 11.13618183,\n",
       "        7.79627545, 11.71384877,  6.39478247,  8.39747161,  8.6067109 ,\n",
       "        4.1566362 ,  7.17854675,  8.20958825,  9.74853277,  5.32894548,\n",
       "        3.35012794,  3.15573973,  8.22051213, 12.04803474,  6.28943781,\n",
       "        9.29106156, 10.54770195,  9.8398865 ,  5.89534615,  5.68913785,\n",
       "        7.37180733,  6.35909077,  5.04753755,  3.29879992, 12.03352605,\n",
       "        7.7826269 ,  7.10424332,  9.27452903, 10.00606909,  7.79806785,\n",
       "        8.60133369,  9.55359074, 11.34239013,  8.44879964, 10.64688415,\n",
       "       11.50819429,  6.61121383,  5.74136208,  7.94678566,  8.66974806,\n",
       "        6.48741083,  9.84771496,  5.6720515 ,  7.9016201 ,  8.11950149,\n",
       "       11.04658445, 10.44504591, 10.16259477,  8.15478637,  7.15721675,\n",
       "        5.53604998,  2.47575913,  1.9899353 ,  5.97308738,  7.08894938,\n",
       "        4.5315687 ,  8.24348754,  7.71749101,  7.74057736,  8.91344046,\n",
       "       12.39114076,  7.0529153 ,  7.70543949,  6.80451046,  6.28943781,\n",
       "        9.78870548,  6.34166204, 10.70168603,  6.83107067,  3.44841393,\n",
       "        8.1069322 ,  6.59006688,  9.82552481,  8.98898248,  7.35909104,\n",
       "        4.36553311,  9.94213573,  5.22808184,  6.18033889,  9.19484839,\n",
       "        3.90358089,  7.74236977,  5.4177576 ,  8.96566469,  7.51486752,\n",
       "        8.73199997, 11.24152648,  3.13186812,  8.12732995,  5.35371329,\n",
       "        7.74326597,  8.80988821,  9.70064255,  3.9283487 ,  5.66437004,\n",
       "        3.96696043,  5.26411592,  9.6311366 ,  8.05291557,  7.01285355,\n",
       "        8.15736402, 13.12681945, 11.58518632,  5.63691362,  9.06742453,\n",
       "        9.44414943,  7.01161496,  6.64318731,  4.9823656 ,  9.33611617,\n",
       "        3.38671584,  7.60188724, 10.89136179,  6.25808012,  5.01929588,\n",
       "       10.50495159,  7.9602872 ,  7.96207961,  6.01181007,  2.24926403,\n",
       "       10.34070841,  8.20432199,  6.35819457,  8.91344046,  8.83555222,\n",
       "        5.72771353,  3.98236533,  4.06961648,  7.92459551, 10.94089741,\n",
       "        5.53515378,  7.55145542,  9.72466116,  7.19984071, 10.0069653 ,\n",
       "        7.6927232 ,  6.07589044,  9.47804873,  4.26018845,  6.43608281,\n",
       "        4.35192062,  3.9534589 ,  7.88722236,  5.61214581,  7.12811493,\n",
       "        7.11427101,  8.98987868,  8.3736    ,  9.91612934,  9.77867779,\n",
       "        3.13007572, 11.69053098,  9.35007105,  9.26345814, 11.59813404,\n",
       "        6.27772868, 12.27901085,  5.48547116,  7.80664552,  8.33790831,\n",
       "        5.4454094 ,  5.05846143,  3.30059232,  3.89944226,  5.10978946,\n",
       "        9.51934907,  4.20886043,  4.37848083, 10.73648152,  6.52579113,\n",
       "       10.55896822,  8.81078441,  6.64304031,  7.67887927,  8.02800076,\n",
       "        9.00338022, 13.25513951,  7.18213156, 12.33213128,  6.69182673,\n",
       "        9.8382411 ,  4.54373117,  5.67260532,  6.71491308,  9.94268955,\n",
       "        5.89624235,  7.12643348,  9.68515323,  7.1393812 , 10.84092997,\n",
       "        7.21368463,  7.87326748,  4.87791715, 12.43389113, 11.7409628 ,\n",
       "        9.88867292,  9.36446879,  5.7934393 ,  8.56709201,  4.74959709,\n",
       "        5.84323288, 12.07549116,  8.5798083 ,  8.61763479, 10.34328606,\n",
       "       10.96835383, 10.64677319,  5.12015953, 10.2377944 ,  8.7858696 ,\n",
       "        6.84054454,  7.70723189, 11.26629429,  4.87970955,  5.86878594,\n",
       "        3.32625634, 10.03442171,  9.00606882,  8.01340763,  9.98205048,\n",
       "        8.44056436, 11.67344463,  9.49189265,  7.01340736,  6.36677223,\n",
       "        4.77649969,  6.25553852,  6.75173241,  4.12273691,  3.01828819,\n",
       "        7.46353949,  6.02725102, 11.52293441, 10.76483414,  8.75856018,\n",
       "        9.00606882,  5.29122995, 10.08574974, 10.80523828,  9.41400441,\n",
       "       10.99670645,  6.08591812, 12.39203697,  9.29929684,  8.69630828,\n",
       "        7.85852736, 10.07011341,  7.19036684,  2.9396147 ,  8.32316818,\n",
       "       10.90531667, 10.29106183,  2.78114962, 11.50894348,  9.8024024 ,\n",
       "       10.05560471,  4.84043305,  7.77330004,  2.06603114,  6.95025925,\n",
       "        7.15273574,  3.51682831,  6.79537898, 10.5076402 , 10.09577742,\n",
       "        7.43787548,  7.43877168,  9.60726499,  4.86699326, 10.72208378,\n",
       "        5.68824165,  5.72662195,  7.87416369,  9.88956912,  6.98595095,\n",
       "        9.2214086 ,  4.9814694 , 12.99939559,  9.26270895,  9.40105669,\n",
       "        7.61931597, 11.30377839, 11.11216322, 10.22409748,  7.50102359,\n",
       "        3.01649579,  8.23614846,  9.91736792, 10.24886529,  8.09308828,\n",
       "        4.37937703,  4.58468913, 10.76483414,  6.97592326, 11.61104572,\n",
       "        9.58339338,  8.25475381,  7.35909104,  6.2280821 ,  9.20611466,\n",
       "       11.27632197, 12.40912332, 11.68873857,  6.40862639, 11.22663935,\n",
       "        5.27761746,  6.74494716,  8.01375002,  7.95115572, 10.90262806,\n",
       "        4.97129471, 12.35779529, 11.37987423, 11.03184433,  9.40105669,\n",
       "        8.51486779, 12.34070894,  9.01520031, 10.92046361, 12.06019721,\n",
       "        9.19738999,  7.56604854,  9.247415  ,  5.63870603,  4.80271752,\n",
       "        8.88867265,  7.87416369, 10.81526596,  5.23900572, 10.31672585,\n",
       "        6.08681432,  8.7494287 ,  8.58838597,  5.66347384,  4.90358116,\n",
       "        9.32227225,  9.46622864,  6.89713882, 11.68818476,  3.87702068,\n",
       "        7.21603085, 12.70179752,  6.50855778,  7.5257914 ,  6.99889867,\n",
       "        7.59350495, 10.80254967,  8.5798083 ,  2.29790345,  7.88274135,\n",
       "        3.22360029,  9.22320101,  6.40769414, 10.0086107 ,  4.23576303,\n",
       "        4.37758463,  4.79000123,  5.38206591,  8.10435455,  6.39567867,\n",
       "       10.67602201,  5.11068566,  8.3987102 ,  1.44919864,  7.42388455,\n",
       "        4.31241268,  6.75228623,  7.45827323,  9.1839245 , 10.99655945,\n",
       "        5.13400345,  6.25733093,  7.15120129,  6.39497785,  4.15932481,\n",
       "        9.65948921, 11.1223379 , 10.52114174, 10.01788918,  2.55543977,\n",
       "        7.21871946, 11.52383062, 11.43209845,  4.7743649 ,  8.75890257,\n",
       "        1.01291044,  6.03369389, 10.37972695,  6.99979487,  3.73508812,\n",
       "        8.00248375,  5.95849426,  6.78063885,  6.92369904,  3.07051242,\n",
       "        7.88598377,  6.25464232,  9.00169877,  5.05756523,  4.40324864,\n",
       "        9.41669302,  5.72517193,  3.76254454,  3.13007572,  9.22175099,\n",
       "       10.17366566,  9.5970903 ,  9.17082978,  3.90178849, 10.41590804,\n",
       "        9.21726998,  9.76468687,  7.64304057,  4.25195317,  7.13724641,\n",
       "        6.46085062, 11.50998669,  9.86390511,  5.94577797,  7.41041906,\n",
       "        6.02277001, 12.18851727,  4.31096266, 10.22588988, 12.94717137,\n",
       "        2.49026782,  2.90268442,  9.75945666,  5.61124961,  7.24348727,\n",
       "        9.46787404,  8.06652806, 10.39267468,  4.31006646,  7.2957115 ,\n",
       "       11.09667389,  8.04071705,  7.49009971,  7.83734436,  7.47715199,\n",
       "       12.20381122,  7.93462319, 10.14889785, 10.5449773 , 13.00976566,\n",
       "        7.97861214,  5.54518146, 10.74006633,  7.24169487,  7.34524712,\n",
       "        1.91294327,  7.46264329, 11.68948777,  9.3883404 ,  8.21782353,\n",
       "       10.40319175,  9.99312137, 11.10614776,  3.05666849, 10.88722317,\n",
       "       10.06921721,  8.59454843,  2.50153409, 10.10872514,  5.30160002,\n",
       "        7.21816564, 10.892258  ,  6.39512485,  6.07499423,  3.602398  ,\n",
       "       10.51752088,  5.12721819,  8.01520004, 10.1547869 ,  5.41989239,\n",
       "        9.08306086, 10.6887383 ,  7.98505501,  7.12643348,  4.37848083,\n",
       "       10.73827392,  6.75696262,  7.23256338,  5.57084547,  6.96028693,\n",
       "        9.16828818,  8.7476363 , 10.99401784,  9.81436949,  3.43983627,\n",
       "        7.61662736,  7.794594  ,  5.90750862, 13.51177963,  8.49957384,\n",
       "        8.16683789,  7.90895918,  7.75855992,  7.77150764,  8.41400414,\n",
       "        6.30593429, 10.88043791,  8.39926402, 11.67691849,  8.7476363 ,\n",
       "        7.88419137, 10.06921721,  3.95077029,  6.08805291,  4.63601715,\n",
       "        8.02725156, 10.95832615,  7.1750729 ,  9.83000582,  9.39192521,\n",
       "        3.93048349,  6.2416946 ,  5.61304202,  5.09707317,  3.00444427,\n",
       "        5.06204624,  6.65052639,  8.45148824,  8.07510572,  5.40593752,\n",
       "        7.26859746,  6.19215898,  7.32047931,  8.20958825,  8.60636852])"
      ]
     },
     "execution_count": 32,
     "metadata": {},
     "output_type": "execute_result"
    }
   ],
   "source": [
    "pred_train = lin_lcn.predict(lcn_train_x)\n",
    "pred_train"
   ]
  },
  {
   "cell_type": "code",
   "execution_count": 33,
   "id": "0b92d541",
   "metadata": {},
   "outputs": [],
   "source": [
    "# assumption have to check only on TRAIN data"
   ]
  },
  {
   "cell_type": "code",
   "execution_count": 34,
   "id": "bc561a2b",
   "metadata": {},
   "outputs": [],
   "source": [
    "err_train = lcn_train_y - pred_train\n",
    "err_test = lcn_test_y - pred_test"
   ]
  },
  {
   "cell_type": "code",
   "execution_count": 35,
   "id": "aa8007cb",
   "metadata": {},
   "outputs": [
    {
     "data": {
      "text/plain": [
       "255     5.600\n",
       "682     5.825\n",
       "381     7.375\n",
       "345    10.100\n",
       "33     11.025\n",
       "        ...  \n",
       "449     7.925\n",
       "12      6.525\n",
       "439     9.925\n",
       "322     8.900\n",
       "713     9.325\n",
       "Name: LungCap, Length: 580, dtype: float64"
      ]
     },
     "execution_count": 35,
     "metadata": {},
     "output_type": "execute_result"
    }
   ],
   "source": [
    "lcn_train_y"
   ]
  },
  {
   "cell_type": "code",
   "execution_count": 36,
   "id": "7ac2bbbc",
   "metadata": {},
   "outputs": [
    {
     "data": {
      "text/plain": [
       "array([ 5.30328147,  6.535265  ,  5.84312192, 10.95742994,  8.33353825,\n",
       "        8.11695988,  6.33163436,  4.53336111,  8.41221174,  7.21603085,\n",
       "        5.33986936, 10.27562089, 11.33033861,  4.75049329,  8.98040481,\n",
       "        7.95100872, 11.25155417, 12.469029  ,  6.62665478,  5.90661242,\n",
       "        4.46818916, 11.04893068,  6.84656   ,  7.04944144,  7.19215925,\n",
       "        7.9364156 ,  5.70185414,  2.51179321,  6.77974265, 11.56041851,\n",
       "       11.0984663 ,  6.97155321,  5.08412545,  7.16470283,  3.2492643 ,\n",
       "        7.40769441,  4.18588502,  8.38923633,  7.17008004, 10.43888344,\n",
       "        8.88632643,  8.26076927,  5.70275034,  8.90072417,  5.17585761,\n",
       "        9.17008058,  9.88133384,  9.16952676, 10.4432535 , 11.13618183,\n",
       "        7.79627545, 11.71384877,  6.39478247,  8.39747161,  8.6067109 ,\n",
       "        4.1566362 ,  7.17854675,  8.20958825,  9.74853277,  5.32894548,\n",
       "        3.35012794,  3.15573973,  8.22051213, 12.04803474,  6.28943781,\n",
       "        9.29106156, 10.54770195,  9.8398865 ,  5.89534615,  5.68913785,\n",
       "        7.37180733,  6.35909077,  5.04753755,  3.29879992, 12.03352605,\n",
       "        7.7826269 ,  7.10424332,  9.27452903, 10.00606909,  7.79806785,\n",
       "        8.60133369,  9.55359074, 11.34239013,  8.44879964, 10.64688415,\n",
       "       11.50819429,  6.61121383,  5.74136208,  7.94678566,  8.66974806,\n",
       "        6.48741083,  9.84771496,  5.6720515 ,  7.9016201 ,  8.11950149,\n",
       "       11.04658445, 10.44504591, 10.16259477,  8.15478637,  7.15721675,\n",
       "        5.53604998,  2.47575913,  1.9899353 ,  5.97308738,  7.08894938,\n",
       "        4.5315687 ,  8.24348754,  7.71749101,  7.74057736,  8.91344046,\n",
       "       12.39114076,  7.0529153 ,  7.70543949,  6.80451046,  6.28943781,\n",
       "        9.78870548,  6.34166204, 10.70168603,  6.83107067,  3.44841393,\n",
       "        8.1069322 ,  6.59006688,  9.82552481,  8.98898248,  7.35909104,\n",
       "        4.36553311,  9.94213573,  5.22808184,  6.18033889,  9.19484839,\n",
       "        3.90358089,  7.74236977,  5.4177576 ,  8.96566469,  7.51486752,\n",
       "        8.73199997, 11.24152648,  3.13186812,  8.12732995,  5.35371329,\n",
       "        7.74326597,  8.80988821,  9.70064255,  3.9283487 ,  5.66437004,\n",
       "        3.96696043,  5.26411592,  9.6311366 ,  8.05291557,  7.01285355,\n",
       "        8.15736402, 13.12681945, 11.58518632,  5.63691362,  9.06742453,\n",
       "        9.44414943,  7.01161496,  6.64318731,  4.9823656 ,  9.33611617,\n",
       "        3.38671584,  7.60188724, 10.89136179,  6.25808012,  5.01929588,\n",
       "       10.50495159,  7.9602872 ,  7.96207961,  6.01181007,  2.24926403,\n",
       "       10.34070841,  8.20432199,  6.35819457,  8.91344046,  8.83555222,\n",
       "        5.72771353,  3.98236533,  4.06961648,  7.92459551, 10.94089741,\n",
       "        5.53515378,  7.55145542,  9.72466116,  7.19984071, 10.0069653 ,\n",
       "        7.6927232 ,  6.07589044,  9.47804873,  4.26018845,  6.43608281,\n",
       "        4.35192062,  3.9534589 ,  7.88722236,  5.61214581,  7.12811493,\n",
       "        7.11427101,  8.98987868,  8.3736    ,  9.91612934,  9.77867779,\n",
       "        3.13007572, 11.69053098,  9.35007105,  9.26345814, 11.59813404,\n",
       "        6.27772868, 12.27901085,  5.48547116,  7.80664552,  8.33790831,\n",
       "        5.4454094 ,  5.05846143,  3.30059232,  3.89944226,  5.10978946,\n",
       "        9.51934907,  4.20886043,  4.37848083, 10.73648152,  6.52579113,\n",
       "       10.55896822,  8.81078441,  6.64304031,  7.67887927,  8.02800076,\n",
       "        9.00338022, 13.25513951,  7.18213156, 12.33213128,  6.69182673,\n",
       "        9.8382411 ,  4.54373117,  5.67260532,  6.71491308,  9.94268955,\n",
       "        5.89624235,  7.12643348,  9.68515323,  7.1393812 , 10.84092997,\n",
       "        7.21368463,  7.87326748,  4.87791715, 12.43389113, 11.7409628 ,\n",
       "        9.88867292,  9.36446879,  5.7934393 ,  8.56709201,  4.74959709,\n",
       "        5.84323288, 12.07549116,  8.5798083 ,  8.61763479, 10.34328606,\n",
       "       10.96835383, 10.64677319,  5.12015953, 10.2377944 ,  8.7858696 ,\n",
       "        6.84054454,  7.70723189, 11.26629429,  4.87970955,  5.86878594,\n",
       "        3.32625634, 10.03442171,  9.00606882,  8.01340763,  9.98205048,\n",
       "        8.44056436, 11.67344463,  9.49189265,  7.01340736,  6.36677223,\n",
       "        4.77649969,  6.25553852,  6.75173241,  4.12273691,  3.01828819,\n",
       "        7.46353949,  6.02725102, 11.52293441, 10.76483414,  8.75856018,\n",
       "        9.00606882,  5.29122995, 10.08574974, 10.80523828,  9.41400441,\n",
       "       10.99670645,  6.08591812, 12.39203697,  9.29929684,  8.69630828,\n",
       "        7.85852736, 10.07011341,  7.19036684,  2.9396147 ,  8.32316818,\n",
       "       10.90531667, 10.29106183,  2.78114962, 11.50894348,  9.8024024 ,\n",
       "       10.05560471,  4.84043305,  7.77330004,  2.06603114,  6.95025925,\n",
       "        7.15273574,  3.51682831,  6.79537898, 10.5076402 , 10.09577742,\n",
       "        7.43787548,  7.43877168,  9.60726499,  4.86699326, 10.72208378,\n",
       "        5.68824165,  5.72662195,  7.87416369,  9.88956912,  6.98595095,\n",
       "        9.2214086 ,  4.9814694 , 12.99939559,  9.26270895,  9.40105669,\n",
       "        7.61931597, 11.30377839, 11.11216322, 10.22409748,  7.50102359,\n",
       "        3.01649579,  8.23614846,  9.91736792, 10.24886529,  8.09308828,\n",
       "        4.37937703,  4.58468913, 10.76483414,  6.97592326, 11.61104572,\n",
       "        9.58339338,  8.25475381,  7.35909104,  6.2280821 ,  9.20611466,\n",
       "       11.27632197, 12.40912332, 11.68873857,  6.40862639, 11.22663935,\n",
       "        5.27761746,  6.74494716,  8.01375002,  7.95115572, 10.90262806,\n",
       "        4.97129471, 12.35779529, 11.37987423, 11.03184433,  9.40105669,\n",
       "        8.51486779, 12.34070894,  9.01520031, 10.92046361, 12.06019721,\n",
       "        9.19738999,  7.56604854,  9.247415  ,  5.63870603,  4.80271752,\n",
       "        8.88867265,  7.87416369, 10.81526596,  5.23900572, 10.31672585,\n",
       "        6.08681432,  8.7494287 ,  8.58838597,  5.66347384,  4.90358116,\n",
       "        9.32227225,  9.46622864,  6.89713882, 11.68818476,  3.87702068,\n",
       "        7.21603085, 12.70179752,  6.50855778,  7.5257914 ,  6.99889867,\n",
       "        7.59350495, 10.80254967,  8.5798083 ,  2.29790345,  7.88274135,\n",
       "        3.22360029,  9.22320101,  6.40769414, 10.0086107 ,  4.23576303,\n",
       "        4.37758463,  4.79000123,  5.38206591,  8.10435455,  6.39567867,\n",
       "       10.67602201,  5.11068566,  8.3987102 ,  1.44919864,  7.42388455,\n",
       "        4.31241268,  6.75228623,  7.45827323,  9.1839245 , 10.99655945,\n",
       "        5.13400345,  6.25733093,  7.15120129,  6.39497785,  4.15932481,\n",
       "        9.65948921, 11.1223379 , 10.52114174, 10.01788918,  2.55543977,\n",
       "        7.21871946, 11.52383062, 11.43209845,  4.7743649 ,  8.75890257,\n",
       "        1.01291044,  6.03369389, 10.37972695,  6.99979487,  3.73508812,\n",
       "        8.00248375,  5.95849426,  6.78063885,  6.92369904,  3.07051242,\n",
       "        7.88598377,  6.25464232,  9.00169877,  5.05756523,  4.40324864,\n",
       "        9.41669302,  5.72517193,  3.76254454,  3.13007572,  9.22175099,\n",
       "       10.17366566,  9.5970903 ,  9.17082978,  3.90178849, 10.41590804,\n",
       "        9.21726998,  9.76468687,  7.64304057,  4.25195317,  7.13724641,\n",
       "        6.46085062, 11.50998669,  9.86390511,  5.94577797,  7.41041906,\n",
       "        6.02277001, 12.18851727,  4.31096266, 10.22588988, 12.94717137,\n",
       "        2.49026782,  2.90268442,  9.75945666,  5.61124961,  7.24348727,\n",
       "        9.46787404,  8.06652806, 10.39267468,  4.31006646,  7.2957115 ,\n",
       "       11.09667389,  8.04071705,  7.49009971,  7.83734436,  7.47715199,\n",
       "       12.20381122,  7.93462319, 10.14889785, 10.5449773 , 13.00976566,\n",
       "        7.97861214,  5.54518146, 10.74006633,  7.24169487,  7.34524712,\n",
       "        1.91294327,  7.46264329, 11.68948777,  9.3883404 ,  8.21782353,\n",
       "       10.40319175,  9.99312137, 11.10614776,  3.05666849, 10.88722317,\n",
       "       10.06921721,  8.59454843,  2.50153409, 10.10872514,  5.30160002,\n",
       "        7.21816564, 10.892258  ,  6.39512485,  6.07499423,  3.602398  ,\n",
       "       10.51752088,  5.12721819,  8.01520004, 10.1547869 ,  5.41989239,\n",
       "        9.08306086, 10.6887383 ,  7.98505501,  7.12643348,  4.37848083,\n",
       "       10.73827392,  6.75696262,  7.23256338,  5.57084547,  6.96028693,\n",
       "        9.16828818,  8.7476363 , 10.99401784,  9.81436949,  3.43983627,\n",
       "        7.61662736,  7.794594  ,  5.90750862, 13.51177963,  8.49957384,\n",
       "        8.16683789,  7.90895918,  7.75855992,  7.77150764,  8.41400414,\n",
       "        6.30593429, 10.88043791,  8.39926402, 11.67691849,  8.7476363 ,\n",
       "        7.88419137, 10.06921721,  3.95077029,  6.08805291,  4.63601715,\n",
       "        8.02725156, 10.95832615,  7.1750729 ,  9.83000582,  9.39192521,\n",
       "        3.93048349,  6.2416946 ,  5.61304202,  5.09707317,  3.00444427,\n",
       "        5.06204624,  6.65052639,  8.45148824,  8.07510572,  5.40593752,\n",
       "        7.26859746,  6.19215898,  7.32047931,  8.20958825,  8.60636852])"
      ]
     },
     "execution_count": 36,
     "metadata": {},
     "output_type": "execute_result"
    }
   ],
   "source": [
    "pred_train"
   ]
  },
  {
   "cell_type": "code",
   "execution_count": 37,
   "id": "a18b9a39",
   "metadata": {},
   "outputs": [
    {
     "data": {
      "text/plain": [
       "0.8526769899999991"
      ]
     },
     "execution_count": 37,
     "metadata": {},
     "output_type": "execute_result"
    }
   ],
   "source": [
    "8.825 - 7.97232301"
   ]
  },
  {
   "cell_type": "code",
   "execution_count": 38,
   "id": "1f41e37f",
   "metadata": {},
   "outputs": [],
   "source": [
    "# mean of the error terms should be close to zero "
   ]
  },
  {
   "cell_type": "code",
   "execution_count": 39,
   "id": "421d08b8",
   "metadata": {},
   "outputs": [
    {
     "data": {
      "text/plain": [
       "3.2066303635380385e-15"
      ]
     },
     "execution_count": 39,
     "metadata": {},
     "output_type": "execute_result"
    }
   ],
   "source": [
    "err_train.mean()"
   ]
  },
  {
   "cell_type": "code",
   "execution_count": 40,
   "id": "7e4d3a84",
   "metadata": {},
   "outputs": [
    {
     "data": {
      "text/plain": [
       "255    0.296719\n",
       "682   -0.710265\n",
       "381    1.531878\n",
       "345   -0.857430\n",
       "33     2.691462\n",
       "Name: LungCap, dtype: float64"
      ]
     },
     "execution_count": 40,
     "metadata": {},
     "output_type": "execute_result"
    }
   ],
   "source": [
    "err_train.head()"
   ]
  },
  {
   "cell_type": "code",
   "execution_count": 41,
   "id": "bdb708e7",
   "metadata": {},
   "outputs": [
    {
     "data": {
      "text/plain": [
       "count    5.800000e+02\n",
       "mean     3.206630e-15\n",
       "std      1.015237e+00\n",
       "min     -3.277484e+00\n",
       "25%     -7.403848e-01\n",
       "50%      3.320624e-02\n",
       "75%      7.101906e-01\n",
       "max      3.111526e+00\n",
       "Name: LungCap, dtype: float64"
      ]
     },
     "execution_count": 41,
     "metadata": {},
     "output_type": "execute_result"
    }
   ],
   "source": [
    "err_train.describe()"
   ]
  },
  {
   "cell_type": "code",
   "execution_count": 42,
   "id": "63348831",
   "metadata": {},
   "outputs": [],
   "source": [
    "# build a histogram----------------------------\n",
    "import matplotlib.pyplot as plt\n",
    "import seaborn as sns\n",
    "import numpy as np\n",
    "import pandas as pd"
   ]
  },
  {
   "cell_type": "code",
   "execution_count": 43,
   "id": "c87093a7",
   "metadata": {},
   "outputs": [
    {
     "data": {
      "image/png": "[encoded data removed]",
      "text/plain": [
       "<Figure size 432x288 with 1 Axes>"
      ]
     },
     "metadata": {
      "needs_background": "light"
     },
     "output_type": "display_data"
    }
   ],
   "source": [
    "plt.hist(err_train, color = 'orange', bins = 10 , edgecolor = 'r');"
   ]
  },
  {
   "cell_type": "code",
   "execution_count": 44,
   "id": "53486c1a",
   "metadata": {},
   "outputs": [
    {
     "data": {
      "text/plain": [
       "255    0.296719\n",
       "682   -0.710265\n",
       "381    1.531878\n",
       "345   -0.857430\n",
       "33     2.691462\n",
       "Name: LungCap, dtype: float64"
      ]
     },
     "execution_count": 44,
     "metadata": {},
     "output_type": "execute_result"
    }
   ],
   "source": [
    "err_test.head()"
   ]
  },
  {
   "cell_type": "code",
   "execution_count": 45,
   "id": "db7c458f",
   "metadata": {},
   "outputs": [
    {
     "data": {
      "text/plain": [
       "count    5.800000e+02\n",
       "mean     3.206630e-15\n",
       "std      1.015237e+00\n",
       "min     -3.277484e+00\n",
       "25%     -7.403848e-01\n",
       "50%      3.320624e-02\n",
       "75%      7.101906e-01\n",
       "max      3.111526e+00\n",
       "Name: LungCap, dtype: float64"
      ]
     },
     "execution_count": 45,
     "metadata": {},
     "output_type": "execute_result"
    }
   ],
   "source": [
    "err_test.describe()"
   ]
  },
  {
   "cell_type": "code",
   "execution_count": 46,
   "id": "0a29a8c7",
   "metadata": {},
   "outputs": [
    {
     "data": {
      "image/png": "[encoded data removed]",
      "text/plain": [
       "<Figure size 432x288 with 1 Axes>"
      ]
     },
     "metadata": {
      "needs_background": "light"
     },
     "output_type": "display_data"
    }
   ],
   "source": [
    "plt.hist(err_test, color = 'orange', bins = 10 , edgecolor = 'r');"
   ]
  },
  {
   "cell_type": "code",
   "execution_count": 47,
   "id": "0db5a7d4",
   "metadata": {},
   "outputs": [
    {
     "data": {
      "image/png": "[encoded data removed]",
      "text/plain": [
       "<Figure size 432x288 with 1 Axes>"
      ]
     },
     "metadata": {
      "needs_background": "light"
     },
     "output_type": "display_data"
    }
   ],
   "source": [
    "plt.plot(err_train,  '*', color = 'orange'  )  #its a scatter plot on error train\n",
    "plt.axhline(y = err_train.mean(), color = 'g')\n",
    "plt.axhline(y = 3, color = 'g')\n",
    "plt.axhline(y = -3, color = 'g');"
   ]
  },
  {
   "cell_type": "code",
   "execution_count": 48,
   "id": "d1b747ec",
   "metadata": {},
   "outputs": [],
   "source": [
    "pred_actual = {'Actual': lcn_train_y , 'pred': pred_train}"
   ]
  },
  {
   "cell_type": "code",
   "execution_count": 49,
   "id": "9a377966",
   "metadata": {},
   "outputs": [
    {
     "data": {
      "text/html": [
       "<div>\n",
       "<style scoped>\n",
       "    .dataframe tbody tr th:only-of-type {\n",
       "        vertical-align: middle;\n",
       "    }\n",
       "\n",
       "    .dataframe tbody tr th {\n",
       "        vertical-align: top;\n",
       "    }\n",
       "\n",
       "    .dataframe thead th {\n",
       "        text-align: right;\n",
       "    }\n",
       "</style>\n",
       "<table border=\"1\" class=\"dataframe\">\n",
       "  <thead>\n",
       "    <tr style=\"text-align: right;\">\n",
       "      <th></th>\n",
       "      <th>Actual</th>\n",
       "      <th>pred</th>\n",
       "    </tr>\n",
       "  </thead>\n",
       "  <tbody>\n",
       "    <tr>\n",
       "      <th>255</th>\n",
       "      <td>5.600</td>\n",
       "      <td>5.303281</td>\n",
       "    </tr>\n",
       "    <tr>\n",
       "      <th>682</th>\n",
       "      <td>5.825</td>\n",
       "      <td>6.535265</td>\n",
       "    </tr>\n",
       "    <tr>\n",
       "      <th>381</th>\n",
       "      <td>7.375</td>\n",
       "      <td>5.843122</td>\n",
       "    </tr>\n",
       "    <tr>\n",
       "      <th>345</th>\n",
       "      <td>10.100</td>\n",
       "      <td>10.957430</td>\n",
       "    </tr>\n",
       "    <tr>\n",
       "      <th>33</th>\n",
       "      <td>11.025</td>\n",
       "      <td>8.333538</td>\n",
       "    </tr>\n",
       "  </tbody>\n",
       "</table>\n",
       "</div>"
      ],
      "text/plain": [
       "     Actual       pred\n",
       "255   5.600   5.303281\n",
       "682   5.825   6.535265\n",
       "381   7.375   5.843122\n",
       "345  10.100  10.957430\n",
       "33   11.025   8.333538"
      ]
     },
     "execution_count": 49,
     "metadata": {},
     "output_type": "execute_result"
    }
   ],
   "source": [
    "pred_actual = pd.DataFrame(pred_actual)\n",
    "pred_actual.head()"
   ]
  },
  {
   "cell_type": "markdown",
   "id": "b37cba8a",
   "metadata": {},
   "source": []
  },
  {
   "cell_type": "code",
   "execution_count": 50,
   "id": "7d0245ee",
   "metadata": {},
   "outputs": [],
   "source": [
    "#sns.regplot(x = 'Actual' , y = 'pred' , data = pred_actual )"
   ]
  },
  {
   "cell_type": "code",
   "execution_count": 51,
   "id": "372a3667",
   "metadata": {},
   "outputs": [
    {
     "data": {
      "text/plain": [
       "(580, 2)"
      ]
     },
     "execution_count": 51,
     "metadata": {},
     "output_type": "execute_result"
    }
   ],
   "source": [
    "pred_actual.shape"
   ]
  },
  {
   "cell_type": "code",
   "execution_count": 52,
   "id": "3721993b",
   "metadata": {},
   "outputs": [],
   "source": [
    "import seaborn as sns"
   ]
  },
  {
   "cell_type": "code",
   "execution_count": 53,
   "id": "e40bef65",
   "metadata": {},
   "outputs": [
    {
     "data": {
      "image/png": "[encoded data removed]",
      "text/plain": [
       "<Figure size 432x288 with 1 Axes>"
      ]
     },
     "metadata": {
      "needs_background": "light"
     },
     "output_type": "display_data"
    }
   ],
   "source": [
    " sns.regplot(x = 'Actual'  , y  = 'pred'  , data =  pred_actual );"
   ]
  },
  {
   "cell_type": "code",
   "execution_count": 54,
   "id": "f328484c",
   "metadata": {},
   "outputs": [
    {
     "data": {
      "text/plain": [
       "1.0289289868129412"
      ]
     },
     "execution_count": 54,
     "metadata": {},
     "output_type": "execute_result"
    }
   ],
   "source": [
    "MSE_test =np.mean(np.square(err_test))\n",
    "MSE_test"
   ]
  },
  {
   "cell_type": "code",
   "execution_count": 55,
   "id": "f4177c99",
   "metadata": {},
   "outputs": [
    {
     "data": {
      "text/plain": [
       "1.0143613689474482"
      ]
     },
     "execution_count": 55,
     "metadata": {},
     "output_type": "execute_result"
    }
   ],
   "source": [
    "RMSE_test = np.sqrt(MSE_test)\n",
    "RMSE_test"
   ]
  },
  {
   "cell_type": "code",
   "execution_count": 56,
   "id": "6d06a154",
   "metadata": {},
   "outputs": [
    {
     "data": {
      "text/plain": [
       "13.846158075460236"
      ]
     },
     "execution_count": 56,
     "metadata": {},
     "output_type": "execute_result"
    }
   ],
   "source": [
    "MAPE_test = np.mean(np.abs(err_test *100 / lcn_test_y))\n",
    "MAPE_test"
   ]
  },
  {
   "cell_type": "code",
   "execution_count": 57,
   "id": "8b9f667b",
   "metadata": {},
   "outputs": [
    {
     "data": {
      "text/plain": [
       "13.846158075460236"
      ]
     },
     "execution_count": 57,
     "metadata": {},
     "output_type": "execute_result"
    }
   ],
   "source": [
    "MAPE_train = np.mean(np.abs(err_train *100 / lcn_train_y))\n",
    "MAPE_train"
   ]
  },
  {
   "cell_type": "markdown",
   "id": "340fcca9",
   "metadata": {},
   "source": [
    "remove the outliers very imp"
   ]
  },
  {
   "cell_type": "code",
   "execution_count": 58,
   "id": "1b55e55f",
   "metadata": {},
   "outputs": [],
   "source": [
    "# outlier data should be remkove from entire data not train data or test datas"
   ]
  },
  {
   "cell_type": "code",
   "execution_count": 59,
   "id": "430437aa",
   "metadata": {},
   "outputs": [],
   "source": [
    "def remove_outliers(lcn,  col,k=2):   \n",
    "    mean = lcn[col].mean()\n",
    "    global lcn1\n",
    "    sd = lcn[col].std()    \n",
    "    final_list = [x for x in lcn[col] if    (x > mean - k * sd)]\n",
    "    final_list = [x for x in final_list if (x < mean + k * sd)]       \n",
    "    lcn1 =  lcn.loc[lcn[col].isin(final_list)] ; print(lcn1.shape)     \n",
    "    print(\"Number of outliers removed == >\"   ,  lcn.shape[0]  - lcn1.shape[0])\n"
   ]
  },
  {
   "cell_type": "code",
   "execution_count": 60,
   "id": "647cf064",
   "metadata": {},
   "outputs": [
    {
     "name": "stdout",
     "output_type": "stream",
     "text": [
      "(695, 6)\n",
      "Number of outliers removed == > 30\n"
     ]
    }
   ],
   "source": [
    "remove_outliers(lcn,  'LungCap',2)"
   ]
  },
  {
   "cell_type": "code",
   "execution_count": 61,
   "id": "b14e5e9d",
   "metadata": {},
   "outputs": [],
   "source": [
    "# after removing teh outliers data is stored in lcn \n",
    "# now from which step should the be re run"
   ]
  },
  {
   "cell_type": "code",
   "execution_count": 62,
   "id": "153a06ab",
   "metadata": {},
   "outputs": [],
   "source": [
    "lcn1 = lcn"
   ]
  },
  {
   "cell_type": "code",
   "execution_count": 63,
   "id": "4c3760a2",
   "metadata": {},
   "outputs": [],
   "source": [
    "# now it can be runed again by me so outliers can be removed"
   ]
  },
  {
   "cell_type": "code",
   "execution_count": 64,
   "id": "a3ab4c6f",
   "metadata": {},
   "outputs": [],
   "source": [
    "# Overfiting =  is a problem  \n",
    "# extramly complicated model which will give very good result on train data and bad on test data\n",
    "# model give mimic teh data"
   ]
  }
 ],
 "metadata": {
  "kernelspec": {
   "display_name": "Python 3 (ipykernel)",
   "language": "python",
   "name": "python3"
  },
  "language_info": {
   "codemirror_mode": {
    "name": "ipython",
    "version": 3
   },
   "file_extension": ".py",
   "mimetype": "text/x-python",
   "name": "python",
   "nbconvert_exporter": "python",
   "pygments_lexer": "ipython3",
   "version": "3.9.7"
  }
 },
 "nbformat": 4,
 "nbformat_minor": 5
}
