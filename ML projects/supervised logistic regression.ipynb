{
 "cells": [
  {
   "cell_type": "code",
   "execution_count": null,
   "id": "b1fd94d4",
   "metadata": {},
   "outputs": [],
   "source": [
    "# build the model which can predicts the loan status \n",
    "# it wnats to tun the marketing canpagin to tatget the good customer and \n",
    "# try seiiling same new products\n",
    "# y in loan stutus mean loan was approved and n it was rejected\n"
   ]
  },
  {
   "cell_type": "code",
   "execution_count": null,
   "id": "856ba1d9",
   "metadata": {},
   "outputs": [],
   "source": [
    "import pandas as pd\n",
    "cr = pd.read_csv(r\"F:\\DS\\PANDAS 2\\CreditRisk.csv \")"
   ]
  },
  {
   "cell_type": "code",
   "execution_count": null,
   "id": "2c8008b7",
   "metadata": {},
   "outputs": [],
   "source": [
    "cr.isnull().sum()"
   ]
  },
  {
   "cell_type": "code",
   "execution_count": null,
   "id": "71d1f014",
   "metadata": {},
   "outputs": [],
   "source": [
    "cr.Gender         = cr.Gender.fillna('Male')  # correct\n",
    "cr.Married = cr.Married.fillna('yes')\n",
    "cr.Dependents     =cr.Dependents.fillna(0)\n",
    "cr.Self_Employed  = cr.Self_Employed.fillna('No')\n",
    "cr.LoanAmount  = cr.LoanAmount.fillna(cr.LoanAmount.mean()   )\n",
    "cr.Loan_Amount_Term  = cr.Loan_Amount_Term.fillna(cr.Loan_Amount_Term.mean())\n",
    "cr.Credit_History  = cr.Credit_History.fillna(0)\n",
    "cr = cr.dropna()"
   ]
  },
  {
   "cell_type": "code",
   "execution_count": null,
   "id": "1d345fb0",
   "metadata": {},
   "outputs": [],
   "source": [
    "cr.isnull().sum()"
   ]
  },
  {
   "cell_type": "code",
   "execution_count": 1,
   "id": "f1e91cb9",
   "metadata": {},
   "outputs": [
    {
     "ename": "NameError",
     "evalue": "name 'cr' is not defined",
     "output_type": "error",
     "traceback": [
      "\u001b[1;31m---------------------------------------------------------------------------\u001b[0m",
      "\u001b[1;31mNameError\u001b[0m                                 Traceback (most recent call last)",
      "\u001b[1;32m~\\AppData\\Local\\Temp/ipykernel_11176/3510161396.py\u001b[0m in \u001b[0;36m<module>\u001b[1;34m\u001b[0m\n\u001b[1;32m----> 1\u001b[1;33m \u001b[0mcr\u001b[0m\u001b[1;33m.\u001b[0m\u001b[0mLoan_Status\u001b[0m  \u001b[1;33m=\u001b[0m \u001b[0mcr\u001b[0m\u001b[1;33m.\u001b[0m\u001b[0mLoan_Status\u001b[0m\u001b[1;33m.\u001b[0m\u001b[0mreplace\u001b[0m\u001b[1;33m(\u001b[0m\u001b[1;33m{\u001b[0m\u001b[1;34m'Y'\u001b[0m\u001b[1;33m:\u001b[0m\u001b[1;36m1\u001b[0m\u001b[1;33m,\u001b[0m \u001b[1;34m'N'\u001b[0m\u001b[1;33m:\u001b[0m\u001b[1;36m0\u001b[0m\u001b[1;33m}\u001b[0m\u001b[1;33m)\u001b[0m\u001b[1;33m\u001b[0m\u001b[1;33m\u001b[0m\u001b[0m\n\u001b[0m\u001b[0;32m      2\u001b[0m \u001b[0mcr\u001b[0m\u001b[1;33m.\u001b[0m\u001b[0mGender\u001b[0m   \u001b[1;33m=\u001b[0m \u001b[0mcr\u001b[0m\u001b[1;33m.\u001b[0m\u001b[0mGender\u001b[0m \u001b[1;33m.\u001b[0m\u001b[0mreplace\u001b[0m\u001b[1;33m(\u001b[0m\u001b[1;33m{\u001b[0m \u001b[1;34m'Female'\u001b[0m\u001b[1;33m:\u001b[0m\u001b[1;36m0\u001b[0m\u001b[1;33m,\u001b[0m\u001b[1;34m'Male'\u001b[0m\u001b[1;33m:\u001b[0m\u001b[1;36m1\u001b[0m\u001b[1;33m}\u001b[0m\u001b[1;33m)\u001b[0m\u001b[1;33m\u001b[0m\u001b[1;33m\u001b[0m\u001b[0m\n",
      "\u001b[1;31mNameError\u001b[0m: name 'cr' is not defined"
     ]
    }
   ],
   "source": [
    "cr.Loan_Status  = cr.Loan_Status.replace({'Y':1, 'N':0})\n",
    "cr.Gender   = cr.Gender .replace({ 'Female':0,'Male':1})"
   ]
  },
  {
   "cell_type": "code",
   "execution_count": null,
   "id": "ffea8994",
   "metadata": {},
   "outputs": [],
   "source": [
    "cr.columns[cr.dtypes == 'object']  # check"
   ]
  },
  {
   "cell_type": "code",
   "execution_count": null,
   "id": "3ec5ecd6",
   "metadata": {},
   "outputs": [],
   "source": [
    "for i in cr.columns:\n",
    "    print(i)\n",
    "    print(' ')\n",
    "    print(cr[i].describe())"
   ]
  },
  {
   "cell_type": "code",
   "execution_count": null,
   "id": "f49d1223",
   "metadata": {},
   "outputs": [],
   "source": [
    "cr=cr.iloc[:,1::]\n",
    "cr"
   ]
  },
  {
   "cell_type": "code",
   "execution_count": null,
   "id": "17b3a04f",
   "metadata": {},
   "outputs": [],
   "source": [
    "from sklearn.preprocessing import LabelEncoder\n",
    "le = LabelEncoder()"
   ]
  },
  {
   "cell_type": "code",
   "execution_count": null,
   "id": "9c08b8f5",
   "metadata": {},
   "outputs": [],
   "source": [
    "cr.Gender =le.fit_transform(cr.Gender)\n",
    "cr.Married =le.fit_transform(cr.Married)\n",
    "cr.Education =le.fit_transform(cr.Education)\n",
    "cr.Self_Employed =le.fit_transform(cr.Self_Employed)\n",
    "cr.Property_Area =le.fit_transform(cr.Property_Area)"
   ]
  },
  {
   "cell_type": "code",
   "execution_count": null,
   "id": "8a0b75ea",
   "metadata": {},
   "outputs": [],
   "source": [
    "cr.head()"
   ]
  },
  {
   "cell_type": "code",
   "execution_count": null,
   "id": "cb66e816",
   "metadata": {},
   "outputs": [],
   "source": [
    "from sklearn.model_selection import train_test_split # required import"
   ]
  },
  {
   "cell_type": "code",
   "execution_count": null,
   "id": "cfc4799c",
   "metadata": {},
   "outputs": [],
   "source": [
    "cr_train , cr_test = train_test_split( cr , test_size = 0.2) # sampling can be split"
   ]
  },
  {
   "cell_type": "code",
   "execution_count": null,
   "id": "50386e71",
   "metadata": {},
   "outputs": [],
   "source": [
    "cr_train_x =cr_train.iloc[: ,0:-1]\n",
    "cr_train_y = cr_train.iloc[: , -1]\n",
    "\n",
    "cr_test_x = cr_test.iloc[: ,0:-1]\n",
    "cr_test_y = cr_test.iloc[: , -1]"
   ]
  },
  {
   "cell_type": "code",
   "execution_count": null,
   "id": "8914ecf0",
   "metadata": {},
   "outputs": [],
   "source": [
    "print(cr_train_x.shape)\n",
    "print(cr_train_y.shape)\n",
    "print('=============')\n",
    "print(cr_test_x.shape)\n",
    "print(cr_test_y.shape)\n"
   ]
  },
  {
   "cell_type": "markdown",
   "id": "86435db3",
   "metadata": {},
   "source": [
    "MODEL BUILDING"
   ]
  },
  {
   "cell_type": "code",
   "execution_count": null,
   "id": "5f619688",
   "metadata": {},
   "outputs": [],
   "source": [
    "# model building\n",
    "# do an import from sk learn\n",
    "# object \n",
    "# fit(x,y) \n",
    "# predict(x)\n",
    "from sklearn.linear_model import LogisticRegression\n",
    "log_cr = LogisticRegression()"
   ]
  },
  {
   "cell_type": "code",
   "execution_count": null,
   "id": "11a9f4e3",
   "metadata": {},
   "outputs": [],
   "source": [
    " log_cr.fit(cr_train_x , cr_train_y) # model has beeen cteated"
   ]
  },
  {
   "cell_type": "markdown",
   "id": "bc06d1de",
   "metadata": {},
   "source": [
    "prediction of medel"
   ]
  },
  {
   "cell_type": "code",
   "execution_count": null,
   "id": "1abe4106",
   "metadata": {},
   "outputs": [],
   "source": [
    "pred_test = log_cr.predict(cr_test_x)\n",
    "pred_test"
   ]
  },
  {
   "cell_type": "code",
   "execution_count": null,
   "id": "b874759b",
   "metadata": {},
   "outputs": [],
   "source": [
    "pred_train = log_cr.predict(cr_train_x)\n",
    "pred_train"
   ]
  },
  {
   "cell_type": "code",
   "execution_count": null,
   "id": "154796b2",
   "metadata": {},
   "outputs": [],
   "source": [
    "cr_test_y"
   ]
  },
  {
   "cell_type": "code",
   "execution_count": null,
   "id": "34b5400f",
   "metadata": {},
   "outputs": [],
   "source": [
    "\n",
    "\n",
    "\n",
    "#pd.crosstab(cr_test_y, pred_test)"
   ]
  },
  {
   "cell_type": "code",
   "execution_count": null,
   "id": "0f69f653",
   "metadata": {},
   "outputs": [],
   "source": [
    "from sklearn.metrics import confusion_matrix\n",
    "tab1 = confusion_matrix(cr_test_y , pred_test)\n",
    "tab1"
   ]
  },
  {
   "cell_type": "code",
   "execution_count": null,
   "id": "d5102c64",
   "metadata": {},
   "outputs": [],
   "source": [
    "# tab2 = confusion_matrix( pred_test, cr_test_y )\n",
    "# tab2"
   ]
  },
  {
   "cell_type": "code",
   "execution_count": null,
   "id": "36b1afef",
   "metadata": {},
   "outputs": [],
   "source": [
    "(25+142)/(25+15+15+142)"
   ]
  },
  {
   "cell_type": "code",
   "execution_count": null,
   "id": "c0cbd185",
   "metadata": {},
   "outputs": [],
   "source": [
    "tab1.diagonal().sum()"
   ]
  },
  {
   "cell_type": "code",
   "execution_count": null,
   "id": "ce5100cb",
   "metadata": {},
   "outputs": [],
   "source": [
    "tab1.sum()"
   ]
  },
  {
   "cell_type": "code",
   "execution_count": null,
   "id": "588b3145",
   "metadata": {},
   "outputs": [],
   "source": [
    "tab1.diagonal().sum() / tab1.sum()"
   ]
  },
  {
   "cell_type": "code",
   "execution_count": null,
   "id": "c13dce57",
   "metadata": {},
   "outputs": [],
   "source": [
    "tab1"
   ]
  },
  {
   "cell_type": "code",
   "execution_count": null,
   "id": "ddd9adaf",
   "metadata": {},
   "outputs": [],
   "source": [
    "142/(142+15)"
   ]
  },
  {
   "cell_type": "code",
   "execution_count": null,
   "id": "d59e1ca7",
   "metadata": {},
   "outputs": [],
   "source": [
    "from sklearn.metrics import recall_score"
   ]
  },
  {
   "cell_type": "code",
   "execution_count": null,
   "id": "26d84fcd",
   "metadata": {},
   "outputs": [],
   "source": [
    "recall_score(cr_test_y, pred_test)"
   ]
  },
  {
   "cell_type": "code",
   "execution_count": null,
   "id": "71748510",
   "metadata": {},
   "outputs": [],
   "source": [
    "142 / (15+142)"
   ]
  },
  {
   "cell_type": "code",
   "execution_count": null,
   "id": "bfe07ab6",
   "metadata": {},
   "outputs": [],
   "source": [
    "from sklearn.metrics import precision_score"
   ]
  },
  {
   "cell_type": "code",
   "execution_count": null,
   "id": "b4f43d7e",
   "metadata": {},
   "outputs": [],
   "source": [
    "precision_score(cr_test_y, pred_test)"
   ]
  },
  {
   "cell_type": "code",
   "execution_count": null,
   "id": "a3c3a9fe",
   "metadata": {},
   "outputs": [],
   "source": [
    "2*0.9044585987261147*0.9044585987261147 / (0.9044585987261147 + 0.9044585987261147)"
   ]
  },
  {
   "cell_type": "code",
   "execution_count": null,
   "id": "c6ae4ee3",
   "metadata": {},
   "outputs": [],
   "source": [
    "from sklearn.metrics import f1_score"
   ]
  },
  {
   "cell_type": "code",
   "execution_count": null,
   "id": "5c52ffd7",
   "metadata": {},
   "outputs": [],
   "source": [
    "f1_score(cr_test_y,pred_test)"
   ]
  },
  {
   "cell_type": "code",
   "execution_count": null,
   "id": "f3fa911f",
   "metadata": {},
   "outputs": [],
   "source": [
    "from sklearn.metrics import "
   ]
  },
  {
   "cell_type": "code",
   "execution_count": null,
   "id": "33e5a26e",
   "metadata": {},
   "outputs": [],
   "source": [
    "pred_prob_test = log_cr.predict_proba(cr_test_x)# this gives the prob. of folloing the calss 0 plus class 1 = 1\n",
    "# p + q  = 1 predictionn in probability first done and then bassed on probability final outcome was dicided\n",
    "\n",
    "pred_prob_test"
   ]
  },
  {
   "cell_type": "code",
   "execution_count": null,
   "id": "42b56153",
   "metadata": {},
   "outputs": [],
   "source": [
    "pred_prob_test.shape"
   ]
  },
  {
   "cell_type": "code",
   "execution_count": null,
   "id": "4f547ec0",
   "metadata": {},
   "outputs": [],
   "source": [
    "cr_test_x.shape"
   ]
  },
  {
   "cell_type": "code",
   "execution_count": null,
   "id": "4652a792",
   "metadata": {},
   "outputs": [],
   "source": [
    "tab1"
   ]
  },
  {
   "cell_type": "code",
   "execution_count": null,
   "id": "9d0478f7",
   "metadata": {},
   "outputs": [],
   "source": [
    "#  once u r happy with ur model pred teh whole data \n",
    "# but one problem is target variabel is also came \n",
    "# so\n",
    "pred_full = log_cr.predict_proba(cr.iloc[:, 0:-1])"
   ]
  },
  {
   "cell_type": "code",
   "execution_count": null,
   "id": "220e5f38",
   "metadata": {},
   "outputs": [],
   "source": [
    "type(pred_full)"
   ]
  },
  {
   "cell_type": "code",
   "execution_count": null,
   "id": "e4638ee3",
   "metadata": {},
   "outputs": [],
   "source": [
    "# convert it into dataframe\n",
    "pred_full = pd.DataFrame(pred_full)\n",
    "pred_full.head()"
   ]
  },
  {
   "cell_type": "code",
   "execution_count": null,
   "id": "2841ded2",
   "metadata": {},
   "outputs": [],
   "source": [
    "l1 = ['prob0' , 'prob1']"
   ]
  },
  {
   "cell_type": "code",
   "execution_count": null,
   "id": "75e504af",
   "metadata": {},
   "outputs": [],
   "source": [
    "pred_full.columns = l1"
   ]
  },
  {
   "cell_type": "code",
   "execution_count": null,
   "id": "556fefd8",
   "metadata": {},
   "outputs": [],
   "source": [
    "pred_full.head()"
   ]
  },
  {
   "cell_type": "code",
   "execution_count": null,
   "id": "3ae18b61",
   "metadata": {},
   "outputs": [],
   "source": [
    "# DATE - 10-02-2022       "
   ]
  },
  {
   "cell_type": "code",
   "execution_count": null,
   "id": "ebb2b068",
   "metadata": {},
   "outputs": [],
   "source": [
    "from sklearn.metrics import roc_auc_score\n",
    "from sklearn.metrics import roc_curve"
   ]
  },
  {
   "cell_type": "code",
   "execution_count": null,
   "id": "a54b3db0",
   "metadata": {},
   "outputs": [],
   "source": [
    "roc_auc_score(cr_test_y , pred_test) # this is area under the curve(AUROC)"
   ]
  },
  {
   "cell_type": "code",
   "execution_count": null,
   "id": "5c8f615f",
   "metadata": {},
   "outputs": [],
   "source": [
    "pred_prob_test = log_cr.predict_proba(cr_test_x)\n",
    "pred_prob_test"
   ]
  },
  {
   "cell_type": "code",
   "execution_count": null,
   "id": "662bebc5",
   "metadata": {},
   "outputs": [],
   "source": [
    "type(pred_prob_test)"
   ]
  },
  {
   "cell_type": "code",
   "execution_count": null,
   "id": "d904523e",
   "metadata": {},
   "outputs": [],
   "source": [
    "pred_prob_test[: , 1] # select the prob values which corresponds to class 1"
   ]
  },
  {
   "cell_type": "code",
   "execution_count": null,
   "id": "79a36f4d",
   "metadata": {},
   "outputs": [],
   "source": [
    "pred_prob_test[: , 0]"
   ]
  },
  {
   "cell_type": "code",
   "execution_count": null,
   "id": "12788976",
   "metadata": {},
   "outputs": [],
   "source": [
    "fpr, tpr, threshold = roc_curve(cr_test_y , pred_prob_test[: , 1])\n",
    "fpr, tpr, threshold  "
   ]
  },
  {
   "cell_type": "code",
   "execution_count": null,
   "id": "364a863e",
   "metadata": {},
   "outputs": [],
   "source": [
    "import matplotlib.pyplot as plt"
   ]
  },
  {
   "cell_type": "code",
   "execution_count": null,
   "id": "0cc6be15",
   "metadata": {},
   "outputs": [],
   "source": [
    "plt.plot(fpr ,tpr ,color = 'orange')\n",
    "plt.xlabel('Fpr' , size = 20)\n",
    "plt.ylabel('Tpr' , size = 20)\n",
    "plt.title('Auroc plot on Credit Risk data')\n",
    "plt.grid()\n",
    "plt.text(x = 0.3 , y = 0.5, s = 'Area under the curve is --> 0.702');"
   ]
  },
  {
   "cell_type": "code",
   "execution_count": null,
   "id": "65792d25",
   "metadata": {},
   "outputs": [],
   "source": []
  },
  {
   "cell_type": "code",
   "execution_count": null,
   "id": "2f86da46",
   "metadata": {},
   "outputs": [],
   "source": []
  },
  {
   "cell_type": "code",
   "execution_count": null,
   "id": "60b94569",
   "metadata": {},
   "outputs": [],
   "source": []
  },
  {
   "cell_type": "code",
   "execution_count": null,
   "id": "012a6698",
   "metadata": {},
   "outputs": [],
   "source": []
  },
  {
   "cell_type": "code",
   "execution_count": null,
   "id": "7cb05b69",
   "metadata": {},
   "outputs": [],
   "source": []
  },
  {
   "cell_type": "code",
   "execution_count": null,
   "id": "3e1178a5",
   "metadata": {},
   "outputs": [],
   "source": []
  },
  {
   "cell_type": "code",
   "execution_count": null,
   "id": "e15237a6",
   "metadata": {},
   "outputs": [],
   "source": []
  },
  {
   "cell_type": "code",
   "execution_count": null,
   "id": "060c3545",
   "metadata": {},
   "outputs": [],
   "source": []
  },
  {
   "cell_type": "code",
   "execution_count": null,
   "id": "18cd60ce",
   "metadata": {},
   "outputs": [],
   "source": [
    "# for targetting the customer atleast name, phone , email_id , LOAN_ID =======> it is reequired now then rerun the file \n",
    "cr = pd.read_csv(r\"F:\\DS\\PANDAS 2\\CreditRisk.csv \")"
   ]
  },
  {
   "cell_type": "code",
   "execution_count": null,
   "id": "aa61c078",
   "metadata": {},
   "outputs": [],
   "source": [
    "cr.head()"
   ]
  },
  {
   "cell_type": "code",
   "execution_count": null,
   "id": "797b3f72",
   "metadata": {},
   "outputs": [],
   "source": [
    "pred_full['Customer_Loan_ID'] = cr.Loan_ID\n",
    "pred_full.head()"
   ]
  },
  {
   "cell_type": "code",
   "execution_count": null,
   "id": "606da7d9",
   "metadata": {
    "scrolled": true
   },
   "outputs": [],
   "source": [
    "pred_full = pred_full.sort_values('prob1' , ascending = False)\n",
    "pred_full"
   ]
  },
  {
   "cell_type": "code",
   "execution_count": null,
   "id": "6eccf07a",
   "metadata": {},
   "outputs": [],
   "source": [
    "# Blood_Pressure_Abnormality = tatget model (Patient_with_abnormal_bloodpressure)\n",
    "# survived  = tatget model(titanic)\n"
   ]
  },
  {
   "cell_type": "code",
   "execution_count": null,
   "id": "21eccdcb",
   "metadata": {},
   "outputs": [],
   "source": [
    "# Blood_Pressure_Abnormality = tatget model (Patient_with_abnormal_bloodpressure)\n",
    "import pandas as pd\n",
    "pb = pd.read_csv(r\"F:\\DS\\PANDAS 2\\Patient_with_abnormal_bloodpressure.csv \")"
   ]
  },
  {
   "cell_type": "code",
   "execution_count": null,
   "id": "3c031d97",
   "metadata": {},
   "outputs": [],
   "source": [
    "pb.head(50)"
   ]
  },
  {
   "cell_type": "code",
   "execution_count": null,
   "id": "75740cf9",
   "metadata": {},
   "outputs": [],
   "source": [
    "pb.isnull().sum()"
   ]
  },
  {
   "cell_type": "code",
   "execution_count": null,
   "id": "cd5b9445",
   "metadata": {},
   "outputs": [],
   "source": [
    "pb.columns[pb.isnull().sum() > 0]"
   ]
  },
  {
   "cell_type": "code",
   "execution_count": null,
   "id": "3371ffd3",
   "metadata": {},
   "outputs": [],
   "source": [
    "pb.Pregnancy.value_counts()"
   ]
  },
  {
   "cell_type": "code",
   "execution_count": null,
   "id": "1534187b",
   "metadata": {},
   "outputs": [],
   "source": [
    "pb.alcohol_consumption_per_day.value_counts()"
   ]
  },
  {
   "cell_type": "code",
   "execution_count": null,
   "id": "b3012df2",
   "metadata": {},
   "outputs": [],
   "source": [
    "pb.Genetic_Pedigree_Coefficient.value_counts()\n"
   ]
  },
  {
   "cell_type": "code",
   "execution_count": null,
   "id": "f462436c",
   "metadata": {},
   "outputs": [],
   "source": [
    "pb.Genetic_Pedigree_Coefficient  = pb.Genetic_Pedigree_Coefficient.fillna(pb.Genetic_Pedigree_Coefficient.mean())\n",
    "pb.Pregnancy = pb.Pregnancy.fillna(0)\n",
    "pb.alcohol_consumption_per_day  = pb.alcohol_consumption_per_day.fillna(pb.alcohol_consumption_per_day.mean())\n",
    "pb = pb.dropna()\n",
    "\n",
    "pb = pb.drop(['Patient_Number'],axis = 1)\n"
   ]
  },
  {
   "cell_type": "code",
   "execution_count": null,
   "id": "1424bbdd",
   "metadata": {},
   "outputs": [],
   "source": [
    "pb.head(10)"
   ]
  },
  {
   "cell_type": "code",
   "execution_count": null,
   "id": "002e63e5",
   "metadata": {},
   "outputs": [],
   "source": [
    "pb.columns[pb.isnull().sum() > 0] "
   ]
  },
  {
   "cell_type": "code",
   "execution_count": null,
   "id": "579ead0e",
   "metadata": {},
   "outputs": [],
   "source": [
    "pb.columns[pb.dtypes == 'object']  # check"
   ]
  },
  {
   "cell_type": "markdown",
   "id": "029d340b",
   "metadata": {},
   "source": [
    "SAMPLING"
   ]
  },
  {
   "cell_type": "code",
   "execution_count": null,
   "id": "c2265efe",
   "metadata": {},
   "outputs": [],
   "source": [
    "from sklearn.model_selection import train_test_split\n",
    "pb_train, pb_test = train_test_split(pb , test_size  = 0.2)"
   ]
  },
  {
   "cell_type": "code",
   "execution_count": null,
   "id": "94a1ed84",
   "metadata": {},
   "outputs": [],
   "source": [
    "pb_train_x =pb_train.iloc[: ,1::]\n",
    "pb_train_y = pb_train.iloc[: , 0]\n",
    "\n",
    "pb_test_x = pb_test.iloc[: ,1::]\n",
    "pb_test_y = pb_test.iloc[: , 0]"
   ]
  },
  {
   "cell_type": "code",
   "execution_count": null,
   "id": "196dcfb0",
   "metadata": {},
   "outputs": [],
   "source": [
    "pb_train_x =pb_train.iloc[: ,1::]\n",
    "pb_train_x "
   ]
  },
  {
   "cell_type": "code",
   "execution_count": null,
   "id": "408a2d58",
   "metadata": {},
   "outputs": [],
   "source": [
    "pb_test_x = pb_test.iloc[: ,1::]\n",
    "pb_test_x"
   ]
  },
  {
   "cell_type": "code",
   "execution_count": null,
   "id": "7be3ef58",
   "metadata": {},
   "outputs": [],
   "source": [
    "# pb_train_x =pb_train.iloc[: ,1::]\n",
    "# pb_train_x "
   ]
  },
  {
   "cell_type": "code",
   "execution_count": null,
   "id": "3527221c",
   "metadata": {},
   "outputs": [],
   "source": [
    "# pb_train_y = pb_train.iloc[: , 0]\n",
    "# pb_train_y"
   ]
  },
  {
   "cell_type": "markdown",
   "id": "14c2790d",
   "metadata": {},
   "source": [
    "MODEL BUILDING"
   ]
  },
  {
   "cell_type": "code",
   "execution_count": null,
   "id": "b9308293",
   "metadata": {},
   "outputs": [],
   "source": [
    "# model building\n",
    "# do an import from sk learn\n",
    "# object \n",
    "# fit(x,y) \n",
    "# predict(x)\n",
    "from sklearn.linear_model import LogisticRegression\n",
    "log_pb = LogisticRegression()"
   ]
  },
  {
   "cell_type": "code",
   "execution_count": null,
   "id": "ac5deb48",
   "metadata": {},
   "outputs": [],
   "source": [
    "# pb=pb.iloc[:,1::]\n",
    "# pb.head()"
   ]
  },
  {
   "cell_type": "code",
   "execution_count": null,
   "id": "d04fb11f",
   "metadata": {},
   "outputs": [],
   "source": [
    " log_pb.fit(pb_train_x , pb_train_y) # model has beeen cteated"
   ]
  },
  {
   "cell_type": "markdown",
   "id": "05e09209",
   "metadata": {},
   "source": [
    "prediction of medel"
   ]
  },
  {
   "cell_type": "code",
   "execution_count": null,
   "id": "575e4933",
   "metadata": {},
   "outputs": [],
   "source": [
    "pred_test = log_pb.predict(pb_test_x)\n",
    "pred_test"
   ]
  },
  {
   "cell_type": "code",
   "execution_count": null,
   "id": "b932602c",
   "metadata": {},
   "outputs": [],
   "source": [
    "pd.set_option('display.max_columns', None)\n",
    "pd.set_option('display.max_rows',  None)"
   ]
  },
  {
   "cell_type": "code",
   "execution_count": null,
   "id": "5b3dbdbc",
   "metadata": {
    "scrolled": true
   },
   "outputs": [],
   "source": [
    "pred_train = log_pb.predict(pb_train_x)\n",
    "pred_train"
   ]
  },
  {
   "cell_type": "code",
   "execution_count": null,
   "id": "5f0daa47",
   "metadata": {
    "scrolled": true
   },
   "outputs": [],
   "source": [
    "pred_train.shape"
   ]
  },
  {
   "cell_type": "code",
   "execution_count": null,
   "id": "f17c6faf",
   "metadata": {},
   "outputs": [],
   "source": [
    "pb_test_y"
   ]
  },
  {
   "cell_type": "code",
   "execution_count": null,
   "id": "4ae548b1",
   "metadata": {},
   "outputs": [],
   "source": [
    "from sklearn.metrics import confusion_matrix\n",
    "abn = confusion_matrix(pb_test_y , pred_test)\n",
    "abn\n"
   ]
  },
  {
   "cell_type": "code",
   "execution_count": null,
   "id": "da091a68",
   "metadata": {},
   "outputs": [],
   "source": [
    "109+110"
   ]
  },
  {
   "cell_type": "code",
   "execution_count": null,
   "id": "7c0187ca",
   "metadata": {},
   "outputs": [],
   "source": [
    "219 / (109+80+96+110)"
   ]
  },
  {
   "cell_type": "code",
   "execution_count": null,
   "id": "1bb32a8d",
   "metadata": {},
   "outputs": [],
   "source": [
    "abn.diagonal().sum()"
   ]
  },
  {
   "cell_type": "code",
   "execution_count": null,
   "id": "2bb5d4c6",
   "metadata": {},
   "outputs": [],
   "source": [
    "abn.sum()"
   ]
  },
  {
   "cell_type": "code",
   "execution_count": null,
   "id": "4298a142",
   "metadata": {},
   "outputs": [],
   "source": [
    "abn.diagonal().sum() / abn.sum()"
   ]
  },
  {
   "cell_type": "code",
   "execution_count": null,
   "id": "5f2f0a5e",
   "metadata": {},
   "outputs": [],
   "source": [
    "abn"
   ]
  },
  {
   "cell_type": "code",
   "execution_count": null,
   "id": "c3c12359",
   "metadata": {},
   "outputs": [],
   "source": [
    "96/(96+113)"
   ]
  },
  {
   "cell_type": "code",
   "execution_count": null,
   "id": "454600cf",
   "metadata": {},
   "outputs": [],
   "source": [
    "from sklearn.metrics import recall_score"
   ]
  },
  {
   "cell_type": "code",
   "execution_count": null,
   "id": "3e56b5ff",
   "metadata": {},
   "outputs": [],
   "source": [
    "recall_score(pb_test_y, pred_test)"
   ]
  },
  {
   "cell_type": "code",
   "execution_count": null,
   "id": "ab5bfc3c",
   "metadata": {},
   "outputs": [],
   "source": [
    "from sklearn.metrics import precision_score"
   ]
  },
  {
   "cell_type": "code",
   "execution_count": null,
   "id": "94cf65d2",
   "metadata": {},
   "outputs": [],
   "source": [
    "96 / (96+85)"
   ]
  },
  {
   "cell_type": "code",
   "execution_count": null,
   "id": "34cd9fa5",
   "metadata": {},
   "outputs": [],
   "source": [
    "precision_score(pb_test_y, pred_test)"
   ]
  },
  {
   "cell_type": "code",
   "execution_count": null,
   "id": "52728e35",
   "metadata": {},
   "outputs": [],
   "source": [
    "(2*0.5647058823529412*0.45933014354066987) / (0.5647058823529412 + 0.45933014354066987)"
   ]
  },
  {
   "cell_type": "code",
   "execution_count": null,
   "id": "21eade4e",
   "metadata": {},
   "outputs": [],
   "source": [
    "from sklearn.metrics import f1_score"
   ]
  },
  {
   "cell_type": "code",
   "execution_count": null,
   "id": "3bc8e44a",
   "metadata": {},
   "outputs": [],
   "source": [
    "f1_score(pb_test_y,pred_test)"
   ]
  },
  {
   "cell_type": "code",
   "execution_count": null,
   "id": "fccbc379",
   "metadata": {},
   "outputs": [],
   "source": [
    "# this gives the prob. of folloing the calss 0 plus class 1 = 1\n",
    "# p + q  = 1 predictionn in probability first done and then bassed on probability final outcome was dicided\n",
    "pred_prob_test = log_pb.predict_proba(pb_test_x)\n",
    "pred_prob_test\n"
   ]
  },
  {
   "cell_type": "code",
   "execution_count": null,
   "id": "8445aaf6",
   "metadata": {},
   "outputs": [],
   "source": [
    "pred_prob_test.shape"
   ]
  },
  {
   "cell_type": "code",
   "execution_count": null,
   "id": "a8a5c959",
   "metadata": {},
   "outputs": [],
   "source": [
    "abn"
   ]
  },
  {
   "cell_type": "code",
   "execution_count": null,
   "id": "dcb554f1",
   "metadata": {},
   "outputs": [],
   "source": [
    "#  once u r happy with ur model prediction but the model prediction on the whole data \n",
    "# but one problem is target variabel is also came \n",
    "# so\n",
    "pred_full = log_pb.predict_proba(pb.iloc[:, 1::])"
   ]
  },
  {
   "cell_type": "code",
   "execution_count": null,
   "id": "c4f517a9",
   "metadata": {},
   "outputs": [],
   "source": [
    "type(pred_full)"
   ]
  },
  {
   "cell_type": "code",
   "execution_count": null,
   "id": "5e789c78",
   "metadata": {},
   "outputs": [],
   "source": [
    "# convert it into dataframe\n",
    "pred_full = pd.DataFrame(pred_full)\n",
    "pred_full.head()"
   ]
  },
  {
   "cell_type": "code",
   "execution_count": null,
   "id": "f25e865c",
   "metadata": {},
   "outputs": [],
   "source": [
    "l1 = ['prob0' , 'prob1']"
   ]
  },
  {
   "cell_type": "code",
   "execution_count": null,
   "id": "290b4ff2",
   "metadata": {},
   "outputs": [],
   "source": [
    "pred_full.columns = l1"
   ]
  },
  {
   "cell_type": "code",
   "execution_count": null,
   "id": "d2dc2412",
   "metadata": {},
   "outputs": [],
   "source": [
    "pred_full.head()"
   ]
  },
  {
   "cell_type": "code",
   "execution_count": null,
   "id": "5a6513a9",
   "metadata": {},
   "outputs": [],
   "source": [
    "# for targetting the customer atleast name, phone , email_id , LOAN_ID =======> it is reequired now then rerun the file \n",
    "pb = pd.read_csv(r\"F:\\DS\\PANDAS 2\\Patient_with_abnormal_bloodpressure.csv \")"
   ]
  },
  {
   "cell_type": "code",
   "execution_count": null,
   "id": "52333fff",
   "metadata": {},
   "outputs": [],
   "source": [
    "pb.head()"
   ]
  },
  {
   "cell_type": "code",
   "execution_count": null,
   "id": "4e47e43c",
   "metadata": {},
   "outputs": [],
   "source": [
    "pred_full['Blood_Pressure_Abnormality'] = pb.Blood_Pressure_Abnormality\n",
    "pred_full.head()"
   ]
  },
  {
   "cell_type": "code",
   "execution_count": null,
   "id": "dd1ea0d5",
   "metadata": {},
   "outputs": [],
   "source": [
    "pred_full = pred_full.sort_values('prob1' , ascending = False)\n",
    "pred_full"
   ]
  }
 ],
 "metadata": {
  "kernelspec": {
   "display_name": "Python 3 (ipykernel)",
   "language": "python",
   "name": "python3"
  },
  "language_info": {
   "codemirror_mode": {
    "name": "ipython",
    "version": 3
   },
   "file_extension": ".py",
   "mimetype": "text/x-python",
   "name": "python",
   "nbconvert_exporter": "python",
   "pygments_lexer": "ipython3",
   "version": "3.9.7"
  }
 },
 "nbformat": 4,
 "nbformat_minor": 5
}
