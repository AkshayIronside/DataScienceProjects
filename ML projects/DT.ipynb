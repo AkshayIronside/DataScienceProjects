{
 "cells": [
  {
   "cell_type": "markdown",
   "id": "fbcfcb55",
   "metadata": {},
   "source": [
    "DT ==== DECISION TREEE"
   ]
  },
  {
   "cell_type": "code",
   "execution_count": 1,
   "id": "85c29474",
   "metadata": {},
   "outputs": [],
   "source": [
    "import pandas as pd\n",
    "ch = pd.read_csv(r\"F:\\DS\\ML\\Churn.csv \")"
   ]
  },
  {
   "cell_type": "code",
   "execution_count": 2,
   "id": "cb8c55b3",
   "metadata": {},
   "outputs": [
    {
     "name": "stdout",
     "output_type": "stream",
     "text": [
      "<class 'pandas.core.frame.DataFrame'>\n",
      "RangeIndex: 7043 entries, 0 to 7042\n",
      "Data columns (total 21 columns):\n",
      " #   Column            Non-Null Count  Dtype  \n",
      "---  ------            --------------  -----  \n",
      " 0   customerID        7043 non-null   object \n",
      " 1   gender            7043 non-null   object \n",
      " 2   SeniorCitizen     7043 non-null   int64  \n",
      " 3   Partner           7043 non-null   object \n",
      " 4   Dependents        7043 non-null   object \n",
      " 5   tenure            7043 non-null   int64  \n",
      " 6   PhoneService      7043 non-null   object \n",
      " 7   MultipleLines     7043 non-null   object \n",
      " 8   InternetService   7043 non-null   object \n",
      " 9   OnlineSecurity    7043 non-null   object \n",
      " 10  OnlineBackup      7043 non-null   object \n",
      " 11  DeviceProtection  7043 non-null   object \n",
      " 12  TechSupport       7043 non-null   object \n",
      " 13  StreamingTV       7043 non-null   object \n",
      " 14  StreamingMovies   7043 non-null   object \n",
      " 15  Contract          7043 non-null   object \n",
      " 16  PaperlessBilling  7043 non-null   object \n",
      " 17  PaymentMethod     7043 non-null   object \n",
      " 18  MonthlyCharges    7043 non-null   float64\n",
      " 19  TotalCharges      7043 non-null   object \n",
      " 20  Churn             7043 non-null   object \n",
      "dtypes: float64(1), int64(2), object(18)\n",
      "memory usage: 1.1+ MB\n"
     ]
    }
   ],
   "source": [
    "ch.info()"
   ]
  },
  {
   "cell_type": "code",
   "execution_count": 3,
   "id": "fbf2022c",
   "metadata": {},
   "outputs": [
    {
     "data": {
      "text/plain": [
       "customerID          0\n",
       "gender              0\n",
       "SeniorCitizen       0\n",
       "Partner             0\n",
       "Dependents          0\n",
       "tenure              0\n",
       "PhoneService        0\n",
       "MultipleLines       0\n",
       "InternetService     0\n",
       "OnlineSecurity      0\n",
       "OnlineBackup        0\n",
       "DeviceProtection    0\n",
       "TechSupport         0\n",
       "StreamingTV         0\n",
       "StreamingMovies     0\n",
       "Contract            0\n",
       "PaperlessBilling    0\n",
       "PaymentMethod       0\n",
       "MonthlyCharges      0\n",
       "TotalCharges        0\n",
       "Churn               0\n",
       "dtype: int64"
      ]
     },
     "execution_count": 3,
     "metadata": {},
     "output_type": "execute_result"
    }
   ],
   "source": [
    "ch.isnull().sum()"
   ]
  },
  {
   "cell_type": "code",
   "execution_count": 4,
   "id": "b535e98f",
   "metadata": {},
   "outputs": [],
   "source": [
    "from sklearn.preprocessing import LabelEncoder\n",
    "le = LabelEncoder()"
   ]
  },
  {
   "cell_type": "code",
   "execution_count": 5,
   "id": "6efc785b",
   "metadata": {},
   "outputs": [],
   "source": [
    "ch.gender = le.fit_transform(ch.gender)"
   ]
  },
  {
   "cell_type": "code",
   "execution_count": 6,
   "id": "ef144d57",
   "metadata": {},
   "outputs": [],
   "source": [
    "ch.gender =le.fit_transform(ch.gender)\n",
    "ch.Partner=le.fit_transform(ch.Partner)\n",
    "ch.Dependents =le.fit_transform(ch.Dependents)\n",
    "ch.PhoneService=le.fit_transform(ch.PhoneService)\n",
    "ch.MultipleLines=ch.MultipleLines.replace({'No phone service':1,'No':0,'Yes':2})\n",
    "ch.InternetService=ch.MultipleLines.replace({'DSL':1,'No':0,'Fiber optic':2})\n",
    "ch.OnlineSecurity=ch.OnlineSecurity.replace({'No':1,'No internet service':0,'Yes':2})\n",
    "ch.OnlineBackup = ch.OnlineBackup.replace({'No internet service':0, 'No':1, 'Yes': 2})\n",
    "ch.DeviceProtection=ch.DeviceProtection.replace({'No':1,'No internet service':0,'Yes':2})\n",
    "ch.TechSupport=ch.TechSupport.replace({'No':1,'No internet service':0,'Yes':2})\n",
    "ch.StreamingTV=ch.StreamingTV.replace({'No':1,'No internet service':0,'Yes':2})\n",
    "ch.StreamingMovies=ch.StreamingMovies.replace({'No':1,'No internet service':0,'Yes':2})\n",
    "ch.Contract=ch.Contract.replace({'One year':1,'Month-to-month':0,'Two year':2})\n",
    "ch.PaperlessBilling=ch.PaperlessBilling.replace({'Yes':1,'No':0})\n",
    "ch.PaymentMethod =le.fit_transform(ch.PaymentMethod)\n",
    "ch.Churn=le.fit_transform(ch.Churn)"
   ]
  },
  {
   "cell_type": "code",
   "execution_count": 7,
   "id": "1b2f5866",
   "metadata": {},
   "outputs": [
    {
     "data": {
      "text/plain": [
       "          11\n",
       "20.2      11\n",
       "19.75      9\n",
       "20.05      8\n",
       "19.9       8\n",
       "          ..\n",
       "6849.4     1\n",
       "692.35     1\n",
       "130.15     1\n",
       "3211.9     1\n",
       "6844.5     1\n",
       "Name: TotalCharges, Length: 6531, dtype: int64"
      ]
     },
     "execution_count": 7,
     "metadata": {},
     "output_type": "execute_result"
    }
   ],
   "source": [
    "ch.TotalCharges.value_counts()  # here some blanks are presents so convert it into null"
   ]
  },
  {
   "cell_type": "code",
   "execution_count": 8,
   "id": "88183350",
   "metadata": {},
   "outputs": [
    {
     "data": {
      "text/plain": [
       "0"
      ]
     },
     "execution_count": 8,
     "metadata": {},
     "output_type": "execute_result"
    }
   ],
   "source": [
    "ch.TotalCharges.isnull().sum()"
   ]
  },
  {
   "cell_type": "code",
   "execution_count": 9,
   "id": "0622a16e",
   "metadata": {},
   "outputs": [],
   "source": [
    "import numpy as np\n",
    "ch.TotalCharges = ch.TotalCharges.replace(' ', np.nan)\n",
    "ch.TotalCharges = ch.TotalCharges.astype('float')\n",
    "ch.TotalCharges = ch.TotalCharges.fillna(ch.TotalCharges.mean())"
   ]
  },
  {
   "cell_type": "code",
   "execution_count": 10,
   "id": "3fc83417",
   "metadata": {},
   "outputs": [
    {
     "data": {
      "text/plain": [
       "0"
      ]
     },
     "execution_count": 10,
     "metadata": {},
     "output_type": "execute_result"
    }
   ],
   "source": [
    "ch.TotalCharges.isnull().sum()"
   ]
  },
  {
   "cell_type": "code",
   "execution_count": 11,
   "id": "00703094",
   "metadata": {},
   "outputs": [
    {
     "name": "stdout",
     "output_type": "stream",
     "text": [
      "<class 'pandas.core.frame.DataFrame'>\n",
      "RangeIndex: 7043 entries, 0 to 7042\n",
      "Data columns (total 21 columns):\n",
      " #   Column            Non-Null Count  Dtype  \n",
      "---  ------            --------------  -----  \n",
      " 0   customerID        7043 non-null   object \n",
      " 1   gender            7043 non-null   int64  \n",
      " 2   SeniorCitizen     7043 non-null   int64  \n",
      " 3   Partner           7043 non-null   int32  \n",
      " 4   Dependents        7043 non-null   int32  \n",
      " 5   tenure            7043 non-null   int64  \n",
      " 6   PhoneService      7043 non-null   int32  \n",
      " 7   MultipleLines     7043 non-null   int64  \n",
      " 8   InternetService   7043 non-null   int64  \n",
      " 9   OnlineSecurity    7043 non-null   int64  \n",
      " 10  OnlineBackup      7043 non-null   int64  \n",
      " 11  DeviceProtection  7043 non-null   int64  \n",
      " 12  TechSupport       7043 non-null   int64  \n",
      " 13  StreamingTV       7043 non-null   int64  \n",
      " 14  StreamingMovies   7043 non-null   int64  \n",
      " 15  Contract          7043 non-null   int64  \n",
      " 16  PaperlessBilling  7043 non-null   int64  \n",
      " 17  PaymentMethod     7043 non-null   int32  \n",
      " 18  MonthlyCharges    7043 non-null   float64\n",
      " 19  TotalCharges      7043 non-null   float64\n",
      " 20  Churn             7043 non-null   int32  \n",
      "dtypes: float64(2), int32(5), int64(13), object(1)\n",
      "memory usage: 1018.1+ KB\n"
     ]
    }
   ],
   "source": [
    "ch.info()"
   ]
  },
  {
   "cell_type": "code",
   "execution_count": 12,
   "id": "163cebbd",
   "metadata": {},
   "outputs": [],
   "source": [
    "ch = ch.drop(['customerID'] , axis = 1)"
   ]
  },
  {
   "cell_type": "code",
   "execution_count": 13,
   "id": "bfed007f",
   "metadata": {},
   "outputs": [],
   "source": [
    "from sklearn.model_selection import train_test_split"
   ]
  },
  {
   "cell_type": "code",
   "execution_count": 16,
   "id": "6b61faa8",
   "metadata": {},
   "outputs": [],
   "source": [
    "ch_train, ch_test = train_test_split(ch , test_size = 0.2)"
   ]
  },
  {
   "cell_type": "code",
   "execution_count": 17,
   "id": "2ab28c70",
   "metadata": {},
   "outputs": [],
   "source": [
    "ch_train_x = ch_train.iloc[: , 0:-1]\n",
    "ch_train_y = ch_train.iloc[: , -1]"
   ]
  },
  {
   "cell_type": "code",
   "execution_count": 18,
   "id": "d6ae0b75",
   "metadata": {},
   "outputs": [],
   "source": [
    "ch_test_x = ch_test.iloc[: , 0:-1]\n",
    "ch_test_y = ch_test.iloc[: , -1]"
   ]
  },
  {
   "cell_type": "code",
   "execution_count": 19,
   "id": "ac9c9d8e",
   "metadata": {},
   "outputs": [],
   "source": [
    "from sklearn.linear_model import LogisticRegression\n",
    "log_ch = LogisticRegression()"
   ]
  },
  {
   "cell_type": "code",
   "execution_count": 20,
   "id": "efab907d",
   "metadata": {},
   "outputs": [
    {
     "name": "stderr",
     "output_type": "stream",
     "text": [
      "C:\\Users\\DELL\\anaconda3\\lib\\site-packages\\sklearn\\linear_model\\_logistic.py:763: ConvergenceWarning: lbfgs failed to converge (status=1):\n",
      "STOP: TOTAL NO. of ITERATIONS REACHED LIMIT.\n",
      "\n",
      "Increase the number of iterations (max_iter) or scale the data as shown in:\n",
      "    https://scikit-learn.org/stable/modules/preprocessing.html\n",
      "Please also refer to the documentation for alternative solver options:\n",
      "    https://scikit-learn.org/stable/modules/linear_model.html#logistic-regression\n",
      "  n_iter_i = _check_optimize_result(\n"
     ]
    },
    {
     "data": {
      "text/plain": [
       "LogisticRegression()"
      ]
     },
     "execution_count": 20,
     "metadata": {},
     "output_type": "execute_result"
    }
   ],
   "source": [
    "log_ch.fit(ch_train_x , ch_train_y)"
   ]
  },
  {
   "cell_type": "code",
   "execution_count": 21,
   "id": "2ee480b7",
   "metadata": {},
   "outputs": [
    {
     "data": {
      "text/plain": [
       "array([0, 0, 0, ..., 0, 0, 0])"
      ]
     },
     "execution_count": 21,
     "metadata": {},
     "output_type": "execute_result"
    }
   ],
   "source": [
    "pred_test = log_ch.predict(ch_test_x)\n",
    "pred_test"
   ]
  },
  {
   "cell_type": "code",
   "execution_count": 22,
   "id": "6821e5cf",
   "metadata": {},
   "outputs": [
    {
     "data": {
      "text/plain": [
       "array([[941, 103],\n",
       "       [165, 200]], dtype=int64)"
      ]
     },
     "execution_count": 22,
     "metadata": {},
     "output_type": "execute_result"
    }
   ],
   "source": [
    "from sklearn import metrics\n",
    "mat=metrics.confusion_matrix(ch_test_y,pred_test)\n",
    "mat"
   ]
  },
  {
   "cell_type": "code",
   "execution_count": 23,
   "id": "0873ac24",
   "metadata": {},
   "outputs": [
    {
     "data": {
      "text/plain": [
       "0.8097941802696949"
      ]
     },
     "execution_count": 23,
     "metadata": {},
     "output_type": "execute_result"
    }
   ],
   "source": [
    "metrics.accuracy_score(ch_test_y,pred_test)"
   ]
  },
  {
   "cell_type": "code",
   "execution_count": 24,
   "id": "15c4353b",
   "metadata": {},
   "outputs": [
    {
     "data": {
      "text/plain": [
       "0.547945205479452"
      ]
     },
     "execution_count": 24,
     "metadata": {},
     "output_type": "execute_result"
    }
   ],
   "source": [
    "metrics.recall_score(ch_test_y,pred_test)"
   ]
  },
  {
   "cell_type": "code",
   "execution_count": 25,
   "id": "7a0f607a",
   "metadata": {},
   "outputs": [
    {
     "data": {
      "text/plain": [
       "0.5988023952095809"
      ]
     },
     "execution_count": 25,
     "metadata": {},
     "output_type": "execute_result"
    }
   ],
   "source": [
    "metrics.f1_score(ch_test_y,pred_test)"
   ]
  },
  {
   "cell_type": "code",
   "execution_count": 26,
   "id": "340a9913",
   "metadata": {},
   "outputs": [
    {
     "data": {
      "text/plain": [
       "0.09865900383141762"
      ]
     },
     "execution_count": 26,
     "metadata": {},
     "output_type": "execute_result"
    }
   ],
   "source": [
    "error = mat[0][1] / mat[0].sum()\n",
    "error"
   ]
  },
  {
   "cell_type": "code",
   "execution_count": 27,
   "id": "af573175",
   "metadata": {},
   "outputs": [
    {
     "data": {
      "text/plain": [
       "array([[941, 103],\n",
       "       [165, 200]], dtype=int64)"
      ]
     },
     "execution_count": 27,
     "metadata": {},
     "output_type": "execute_result"
    }
   ],
   "source": [
    "mat"
   ]
  },
  {
   "cell_type": "code",
   "execution_count": 28,
   "id": "080d6869",
   "metadata": {},
   "outputs": [
    {
     "data": {
      "text/plain": [
       "0.8097941802696949"
      ]
     },
     "execution_count": 28,
     "metadata": {},
     "output_type": "execute_result"
    }
   ],
   "source": [
    "(941+200)/(941+103+165+200)"
   ]
  },
  {
   "cell_type": "code",
   "execution_count": 29,
   "id": "0e256512",
   "metadata": {},
   "outputs": [],
   "source": [
    "import numpy as np"
   ]
  },
  {
   "cell_type": "code",
   "execution_count": 30,
   "id": "66ac4e65",
   "metadata": {},
   "outputs": [],
   "source": [
    "# -0.9*np.log2(0.9) + - 0.1*np.log2(0.1)"
   ]
  },
  {
   "cell_type": "code",
   "execution_count": 33,
   "id": "b470d10e",
   "metadata": {},
   "outputs": [],
   "source": [
    "# -0.5*np.log2(0.5) + - 0.5*np.log2(0.5)"
   ]
  },
  {
   "cell_type": "code",
   "execution_count": 34,
   "id": "99ab86fc",
   "metadata": {},
   "outputs": [],
   "source": [
    "# lets build the model using disicion tree\n",
    "from sklearn.tree import DecisionTreeClassifier\n",
    "dt = DecisionTreeClassifier()"
   ]
  },
  {
   "cell_type": "code",
   "execution_count": 35,
   "id": "2ea531e9",
   "metadata": {},
   "outputs": [
    {
     "data": {
      "text/plain": [
       "DecisionTreeClassifier()"
      ]
     },
     "execution_count": 35,
     "metadata": {},
     "output_type": "execute_result"
    }
   ],
   "source": [
    "dt.fit(ch_train_x , ch_train_y)"
   ]
  },
  {
   "cell_type": "code",
   "execution_count": 36,
   "id": "20e72ec9",
   "metadata": {},
   "outputs": [],
   "source": [
    "pred_dt = dt.predict(ch_test_x)"
   ]
  },
  {
   "cell_type": "code",
   "execution_count": null,
   "id": "5cf52106",
   "metadata": {},
   "outputs": [],
   "source": []
  }
 ],
 "metadata": {
  "kernelspec": {
   "display_name": "Python 3 (ipykernel)",
   "language": "python",
   "name": "python3"
  },
  "language_info": {
   "codemirror_mode": {
    "name": "ipython",
    "version": 3
   },
   "file_extension": ".py",
   "mimetype": "text/x-python",
   "name": "python",
   "nbconvert_exporter": "python",
   "pygments_lexer": "ipython3",
   "version": "3.9.7"
  }
 },
 "nbformat": 4,
 "nbformat_minor": 5
}
