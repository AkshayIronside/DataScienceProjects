{
 "cells": [
  {
   "cell_type": "markdown",
   "id": "cf6135a5",
   "metadata": {
    "papermill": {
     "duration": 0.032567,
     "end_time": "2022-01-20T11:39:25.817346",
     "exception": false,
     "start_time": "2022-01-20T11:39:25.784779",
     "status": "completed"
    },
    "tags": []
   },
   "source": [
    "\n",
    "### ☘ `We read and analyze📊 what is written about the product before purchase it. `\n",
    "### `What if the machine reads instead of us? In this notebook, we will analyze the comments on the products on the Amazon site and build a machine learning model📉.`\n",
    "### `We'll predict whether general reviews on products are negative or positive. In order to do this, we will first use Sentiment Intensity Analyzer 📚, then we will try to increase our accuracy by the usning Logistic regression✨`"
   ]
  },
  {
   "cell_type": "markdown",
   "id": "cad4af4c",
   "metadata": {
    "papermill": {
     "duration": 0.02443,
     "end_time": "2022-01-20T11:39:25.868395",
     "exception": false,
     "start_time": "2022-01-20T11:39:25.843965",
     "status": "completed"
    },
    "tags": []
   },
   "source": [
    "<div style=\"width:100%;text-align: center;\"> <img align=middle src=\"https://media.giphy.com/media/A7rTdPxXP9fqM/giphy.gif?w=640\" alt=\"Heat beating\" style=\"height:700px;margin-top:3rem;\"> </div>"
   ]
  },
  {
   "cell_type": "markdown",
   "id": "a35e0470",
   "metadata": {
    "papermill": {
     "duration": 0.035545,
     "end_time": "2022-01-20T11:39:25.928710",
     "exception": false,
     "start_time": "2022-01-20T11:39:25.893165",
     "status": "completed"
    },
    "tags": []
   },
   "source": [
    "# 📚Libraries"
   ]
  },
  {
   "cell_type": "code",
   "execution_count": 1,
   "id": "dd3d3f92",
   "metadata": {
    "execution": {
     "iopub.execute_input": "2022-01-20T11:39:26.023857Z",
     "iopub.status.busy": "2022-01-20T11:39:26.022250Z",
     "iopub.status.idle": "2022-01-20T11:39:37.640678Z",
     "shell.execute_reply": "2022-01-20T11:39:37.641162Z",
     "shell.execute_reply.started": "2022-01-20T11:09:13.882919Z"
    },
    "papermill": {
     "duration": 11.671832,
     "end_time": "2022-01-20T11:39:37.641409",
     "exception": false,
     "start_time": "2022-01-20T11:39:25.969577",
     "status": "completed"
    },
    "tags": []
   },
   "outputs": [
    {
     "name": "stdout",
     "output_type": "stream",
     "text": [
      "[nltk_data] Downloading package vader_lexicon to\n",
      "[nltk_data]     /usr/share/nltk_data...\n",
      "[nltk_data]   Package vader_lexicon is already up-to-date!\n"
     ]
    },
    {
     "name": "stderr",
     "output_type": "stream",
     "text": [
      "/opt/conda/lib/python3.7/site-packages/nltk/twitter/__init__.py:20: UserWarning: The twython library has not been installed. Some functionality from the twitter package will not be available.\n",
      "  warnings.warn(\"The twython library has not been installed. \"\n"
     ]
    }
   ],
   "source": [
    "import os\n",
    "import re\n",
    "import string\n",
    "import spacy\n",
    "import nltk\n",
    "import numpy as np \n",
    "import pandas as pd \n",
    "import seaborn as sns\n",
    "import matplotlib.pyplot as plt\n",
    "from spacy import displacy\n",
    "import plotly.express as px \n",
    "from wordcloud import WordCloud\n",
    "from sklearn.model_selection import train_test_split\n",
    "from sklearn.pipeline import Pipeline\n",
    "from sklearn.feature_extraction.text import TfidfVectorizer\n",
    "from sklearn.svm import LinearSVC\n",
    "from sklearn.metrics import confusion_matrix,classification_report,plot_confusion_matrix,accuracy_score\n",
    "from sklearn.metrics import plot_precision_recall_curve,plot_roc_curve\n",
    "from nltk.sentiment.vader import SentimentIntensityAnalyzer\n",
    "from sklearn.linear_model import LogisticRegression\n",
    "from collections import Counter\n",
    "import warnings\n",
    "nltk.download(\"vader_lexicon\")\n",
    "warnings.filterwarnings('ignore')"
   ]
  },
  {
   "cell_type": "markdown",
   "id": "87a04898",
   "metadata": {
    "papermill": {
     "duration": 0.025413,
     "end_time": "2022-01-20T11:39:37.694837",
     "exception": false,
     "start_time": "2022-01-20T11:39:37.669424",
     "status": "completed"
    },
    "tags": []
   },
   "source": [
    "# `CONSEPT OF DATA`👨‍🔬"
   ]
  },
  {
   "cell_type": "markdown",
   "id": "6065e1c6",
   "metadata": {
    "papermill": {
     "duration": 0.028133,
     "end_time": "2022-01-20T11:39:37.748173",
     "exception": false,
     "start_time": "2022-01-20T11:39:37.720040",
     "status": "completed"
    },
    "tags": []
   },
   "source": [
    "`amazonreviews.tsv` Amazone Review Anlysis\n",
    "\n",
    "Header | Definition\n",
    "---|---------\n",
    "`Label`| Status of Comments shows that reviews positive(pos) or negative(neg)\n",
    "`Review` | Actual Reviews from Amazone"
   ]
  },
  {
   "cell_type": "markdown",
   "id": "49e0ffd7",
   "metadata": {
    "papermill": {
     "duration": 0.025164,
     "end_time": "2022-01-20T11:39:37.798837",
     "exception": false,
     "start_time": "2022-01-20T11:39:37.773673",
     "status": "completed"
    },
    "tags": []
   },
   "source": [
    "## 📖Read Data"
   ]
  },
  {
   "cell_type": "code",
   "execution_count": 2,
   "id": "1abcf7dc",
   "metadata": {
    "execution": {
     "iopub.execute_input": "2022-01-20T11:39:37.854166Z",
     "iopub.status.busy": "2022-01-20T11:39:37.853569Z",
     "iopub.status.idle": "2022-01-20T11:39:37.984340Z",
     "shell.execute_reply": "2022-01-20T11:39:37.983852Z",
     "shell.execute_reply.started": "2022-01-20T11:01:58.244060Z"
    },
    "papermill": {
     "duration": 0.160473,
     "end_time": "2022-01-20T11:39:37.984460",
     "exception": false,
     "start_time": "2022-01-20T11:39:37.823987",
     "status": "completed"
    },
    "tags": []
   },
   "outputs": [],
   "source": [
    "data = pd.read_csv(\"../input/amazonreviews/amazonreviews.tsv\",sep=\"\\t\")\n"
   ]
  },
  {
   "cell_type": "code",
   "execution_count": 3,
   "id": "7d770b75",
   "metadata": {
    "execution": {
     "iopub.execute_input": "2022-01-20T11:39:38.045493Z",
     "iopub.status.busy": "2022-01-20T11:39:38.044787Z",
     "iopub.status.idle": "2022-01-20T11:39:38.055912Z",
     "shell.execute_reply": "2022-01-20T11:39:38.056311Z",
     "shell.execute_reply.started": "2022-01-20T11:01:58.392946Z"
    },
    "papermill": {
     "duration": 0.04465,
     "end_time": "2022-01-20T11:39:38.056441",
     "exception": false,
     "start_time": "2022-01-20T11:39:38.011791",
     "status": "completed"
    },
    "tags": []
   },
   "outputs": [
    {
     "data": {
      "text/html": [
       "<div>\n",
       "<style scoped>\n",
       "    .dataframe tbody tr th:only-of-type {\n",
       "        vertical-align: middle;\n",
       "    }\n",
       "\n",
       "    .dataframe tbody tr th {\n",
       "        vertical-align: top;\n",
       "    }\n",
       "\n",
       "    .dataframe thead th {\n",
       "        text-align: right;\n",
       "    }\n",
       "</style>\n",
       "<table border=\"1\" class=\"dataframe\">\n",
       "  <thead>\n",
       "    <tr style=\"text-align: right;\">\n",
       "      <th></th>\n",
       "      <th>label</th>\n",
       "      <th>review</th>\n",
       "    </tr>\n",
       "  </thead>\n",
       "  <tbody>\n",
       "    <tr>\n",
       "      <th>0</th>\n",
       "      <td>pos</td>\n",
       "      <td>Stuning even for the non-gamer: This sound tra...</td>\n",
       "    </tr>\n",
       "    <tr>\n",
       "      <th>1</th>\n",
       "      <td>pos</td>\n",
       "      <td>The best soundtrack ever to anything.: I'm rea...</td>\n",
       "    </tr>\n",
       "    <tr>\n",
       "      <th>2</th>\n",
       "      <td>pos</td>\n",
       "      <td>Amazing!: This soundtrack is my favorite music...</td>\n",
       "    </tr>\n",
       "    <tr>\n",
       "      <th>3</th>\n",
       "      <td>pos</td>\n",
       "      <td>Excellent Soundtrack: I truly like this soundt...</td>\n",
       "    </tr>\n",
       "    <tr>\n",
       "      <th>4</th>\n",
       "      <td>pos</td>\n",
       "      <td>Remember, Pull Your Jaw Off The Floor After He...</td>\n",
       "    </tr>\n",
       "  </tbody>\n",
       "</table>\n",
       "</div>"
      ],
      "text/plain": [
       "  label                                             review\n",
       "0   pos  Stuning even for the non-gamer: This sound tra...\n",
       "1   pos  The best soundtrack ever to anything.: I'm rea...\n",
       "2   pos  Amazing!: This soundtrack is my favorite music...\n",
       "3   pos  Excellent Soundtrack: I truly like this soundt...\n",
       "4   pos  Remember, Pull Your Jaw Off The Floor After He..."
      ]
     },
     "execution_count": 3,
     "metadata": {},
     "output_type": "execute_result"
    }
   ],
   "source": [
    "data.head()"
   ]
  },
  {
   "cell_type": "markdown",
   "id": "56361913",
   "metadata": {
    "papermill": {
     "duration": 0.026152,
     "end_time": "2022-01-20T11:39:38.108449",
     "exception": false,
     "start_time": "2022-01-20T11:39:38.082297",
     "status": "completed"
    },
    "tags": []
   },
   "source": [
    "> It Looks Like We Have a Normal Distributions"
   ]
  },
  {
   "cell_type": "code",
   "execution_count": 4,
   "id": "9f41e415",
   "metadata": {
    "execution": {
     "iopub.execute_input": "2022-01-20T11:39:38.166908Z",
     "iopub.status.busy": "2022-01-20T11:39:38.166308Z",
     "iopub.status.idle": "2022-01-20T11:39:39.125860Z",
     "shell.execute_reply": "2022-01-20T11:39:39.126475Z",
     "shell.execute_reply.started": "2022-01-20T11:10:35.714879Z"
    },
    "papermill": {
     "duration": 0.991429,
     "end_time": "2022-01-20T11:39:39.126687",
     "exception": false,
     "start_time": "2022-01-20T11:39:38.135258",
     "status": "completed"
    },
    "tags": []
   },
   "outputs": [
    {
     "data": {
      "text/html": [
       "        <script type=\"text/javascript\">\n",
       "        window.PlotlyConfig = {MathJaxConfig: 'local'};\n",
       "        if (window.MathJax) {MathJax.Hub.Config({SVG: {font: \"STIX-Web\"}});}\n",
       "        if (typeof require !== 'undefined') {\n",
       "        require.undef(\"plotly\");\n",
       "        requirejs.config({\n",
       "            paths: {\n",
       "                'plotly': ['https://cdn.plot.ly/plotly-2.8.3.min']\n",
       "            }\n",
       "        });\n",
       "        require(['plotly'], function(Plotly) {\n",
       "            window._Plotly = Plotly;\n",
       "        });\n",
       "        }\n",
       "        </script>\n",
       "        "
      ]
     },
     "metadata": {},
     "output_type": "display_data"
    },
    {
     "data": {
      "text/html": [
       "<div>                            <div id=\"b7bc3052-a0db-460b-8311-ae737c18773a\" class=\"plotly-graph-div\" style=\"height:525px; width:100%;\"></div>            <script type=\"text/javascript\">                require([\"plotly\"], function(Plotly) {                    window.PLOTLYENV=window.PLOTLYENV || {};                                    if (document.getElementById(\"b7bc3052-a0db-460b-8311-ae737c18773a\")) {                    Plotly.newPlot(                        \"b7bc3052-a0db-460b-8311-ae737c18773a\",                        [{\"alignmentgroup\":\"True\",\"bingroup\":\"x\",\"hovertemplate\":\"label=%{x}<br>count=%{y}<extra></extra>\",\"legendgroup\":\"pos\",\"marker\":{\"color\":\"#636efa\",\"pattern\":{\"shape\":\"\"}},\"name\":\"pos\",\"offsetgroup\":\"pos\",\"orientation\":\"v\",\"showlegend\":true,\"x\":[\"pos\",\"pos\",\"pos\",\"pos\",\"pos\",\"pos\",\"pos\",\"pos\",\"pos\",\"pos\",\"pos\",\"pos\",\"pos\",\"pos\",\"pos\",\"pos\",\"pos\",\"pos\",\"pos\",\"pos\",\"pos\",\"pos\",\"pos\",\"pos\",\"pos\",\"pos\",\"pos\",\"pos\",\"pos\",\"pos\",\"pos\",\"pos\",\"pos\",\"pos\",\"pos\",\"pos\",\"pos\",\"pos\",\"pos\",\"pos\",\"pos\",\"pos\",\"pos\",\"pos\",\"pos\",\"pos\",\"pos\",\"pos\",\"pos\",\"pos\",\"pos\",\"pos\",\"pos\",\"pos\",\"pos\",\"pos\",\"pos\",\"pos\",\"pos\",\"pos\",\"pos\",\"pos\",\"pos\",\"pos\",\"pos\",\"pos\",\"pos\",\"pos\",\"pos\",\"pos\",\"pos\",\"pos\",\"pos\",\"pos\",\"pos\",\"pos\",\"pos\",\"pos\",\"pos\",\"pos\",\"pos\",\"pos\",\"pos\",\"pos\",\"pos\",\"pos\",\"pos\",\"pos\",\"pos\",\"pos\",\"pos\",\"pos\",\"pos\",\"pos\",\"pos\",\"pos\",\"pos\",\"pos\",\"pos\",\"pos\",\"pos\",\"pos\",\"pos\",\"pos\",\"pos\",\"pos\",\"pos\",\"pos\",\"pos\",\"pos\",\"pos\",\"pos\",\"pos\",\"pos\",\"pos\",\"pos\",\"pos\",\"pos\",\"pos\",\"pos\",\"pos\",\"pos\",\"pos\",\"pos\",\"pos\",\"pos\",\"pos\",\"pos\",\"pos\",\"pos\",\"pos\",\"pos\",\"pos\",\"pos\",\"pos\",\"pos\",\"pos\",\"pos\",\"pos\",\"pos\",\"pos\",\"pos\",\"pos\",\"pos\",\"pos\",\"pos\",\"pos\",\"pos\",\"pos\",\"pos\",\"pos\",\"pos\",\"pos\",\"pos\",\"pos\",\"pos\",\"pos\",\"pos\",\"pos\",\"pos\",\"pos\",\"pos\",\"pos\",\"pos\",\"pos\",\"pos\",\"pos\",\"pos\",\"pos\",\"pos\",\"pos\",\"pos\",\"pos\",\"pos\",\"pos\",\"pos\",\"pos\",\"pos\",\"pos\",\"pos\",\"pos\",\"pos\",\"pos\",\"pos\",\"pos\",\"pos\",\"pos\",\"pos\",\"pos\",\"pos\",\"pos\",\"pos\",\"pos\",\"pos\",\"pos\",\"pos\",\"pos\",\"pos\",\"pos\",\"pos\",\"pos\",\"pos\",\"pos\",\"pos\",\"pos\",\"pos\",\"pos\",\"pos\",\"pos\",\"pos\",\"pos\",\"pos\",\"pos\",\"pos\",\"pos\",\"pos\",\"pos\",\"pos\",\"pos\",\"pos\",\"pos\",\"pos\",\"pos\",\"pos\",\"pos\",\"pos\",\"pos\",\"pos\",\"pos\",\"pos\",\"pos\",\"pos\",\"pos\",\"pos\",\"pos\",\"pos\",\"pos\",\"pos\",\"pos\",\"pos\",\"pos\",\"pos\",\"pos\",\"pos\",\"pos\",\"pos\",\"pos\",\"pos\",\"pos\",\"pos\",\"pos\",\"pos\",\"pos\",\"pos\",\"pos\",\"pos\",\"pos\",\"pos\",\"pos\",\"pos\",\"pos\",\"pos\",\"pos\",\"pos\",\"pos\",\"pos\",\"pos\",\"pos\",\"pos\",\"pos\",\"pos\",\"pos\",\"pos\",\"pos\",\"pos\",\"pos\",\"pos\",\"pos\",\"pos\",\"pos\",\"pos\",\"pos\",\"pos\",\"pos\",\"pos\",\"pos\",\"pos\",\"pos\",\"pos\",\"pos\",\"pos\",\"pos\",\"pos\",\"pos\",\"pos\",\"pos\",\"pos\",\"pos\",\"pos\",\"pos\",\"pos\",\"pos\",\"pos\",\"pos\",\"pos\",\"pos\",\"pos\",\"pos\",\"pos\",\"pos\",\"pos\",\"pos\",\"pos\",\"pos\",\"pos\",\"pos\",\"pos\",\"pos\",\"pos\",\"pos\",\"pos\",\"pos\",\"pos\",\"pos\",\"pos\",\"pos\",\"pos\",\"pos\",\"pos\",\"pos\",\"pos\",\"pos\",\"pos\",\"pos\",\"pos\",\"pos\",\"pos\",\"pos\",\"pos\",\"pos\",\"pos\",\"pos\",\"pos\",\"pos\",\"pos\",\"pos\",\"pos\",\"pos\",\"pos\",\"pos\",\"pos\",\"pos\",\"pos\",\"pos\",\"pos\",\"pos\",\"pos\",\"pos\",\"pos\",\"pos\",\"pos\",\"pos\",\"pos\",\"pos\",\"pos\",\"pos\",\"pos\",\"pos\",\"pos\",\"pos\",\"pos\",\"pos\",\"pos\",\"pos\",\"pos\",\"pos\",\"pos\",\"pos\",\"pos\",\"pos\",\"pos\",\"pos\",\"pos\",\"pos\",\"pos\",\"pos\",\"pos\",\"pos\",\"pos\",\"pos\",\"pos\",\"pos\",\"pos\",\"pos\",\"pos\",\"pos\",\"pos\",\"pos\",\"pos\",\"pos\",\"pos\",\"pos\",\"pos\",\"pos\",\"pos\",\"pos\",\"pos\",\"pos\",\"pos\",\"pos\",\"pos\",\"pos\",\"pos\",\"pos\",\"pos\",\"pos\",\"pos\",\"pos\",\"pos\",\"pos\",\"pos\",\"pos\",\"pos\",\"pos\",\"pos\",\"pos\",\"pos\",\"pos\",\"pos\",\"pos\",\"pos\",\"pos\",\"pos\",\"pos\",\"pos\",\"pos\",\"pos\",\"pos\",\"pos\",\"pos\",\"pos\",\"pos\",\"pos\",\"pos\",\"pos\",\"pos\",\"pos\",\"pos\",\"pos\",\"pos\",\"pos\",\"pos\",\"pos\",\"pos\",\"pos\",\"pos\",\"pos\",\"pos\",\"pos\",\"pos\",\"pos\",\"pos\",\"pos\",\"pos\",\"pos\",\"pos\",\"pos\",\"pos\",\"pos\",\"pos\",\"pos\",\"pos\",\"pos\",\"pos\",\"pos\",\"pos\",\"pos\",\"pos\",\"pos\",\"pos\",\"pos\",\"pos\",\"pos\",\"pos\",\"pos\",\"pos\",\"pos\",\"pos\",\"pos\",\"pos\",\"pos\",\"pos\",\"pos\",\"pos\",\"pos\",\"pos\",\"pos\",\"pos\",\"pos\",\"pos\",\"pos\",\"pos\",\"pos\",\"pos\",\"pos\",\"pos\",\"pos\",\"pos\",\"pos\",\"pos\",\"pos\",\"pos\",\"pos\",\"pos\",\"pos\",\"pos\",\"pos\",\"pos\",\"pos\",\"pos\",\"pos\",\"pos\",\"pos\",\"pos\",\"pos\",\"pos\",\"pos\",\"pos\",\"pos\",\"pos\",\"pos\",\"pos\",\"pos\",\"pos\",\"pos\",\"pos\",\"pos\",\"pos\",\"pos\",\"pos\",\"pos\",\"pos\",\"pos\",\"pos\",\"pos\",\"pos\",\"pos\",\"pos\",\"pos\",\"pos\",\"pos\",\"pos\",\"pos\",\"pos\",\"pos\",\"pos\",\"pos\",\"pos\",\"pos\",\"pos\",\"pos\",\"pos\",\"pos\",\"pos\",\"pos\",\"pos\",\"pos\",\"pos\",\"pos\",\"pos\",\"pos\",\"pos\",\"pos\",\"pos\",\"pos\",\"pos\",\"pos\",\"pos\",\"pos\",\"pos\",\"pos\",\"pos\",\"pos\",\"pos\",\"pos\",\"pos\",\"pos\",\"pos\",\"pos\",\"pos\",\"pos\",\"pos\",\"pos\",\"pos\",\"pos\",\"pos\",\"pos\",\"pos\",\"pos\",\"pos\",\"pos\",\"pos\",\"pos\",\"pos\",\"pos\",\"pos\",\"pos\",\"pos\",\"pos\",\"pos\",\"pos\",\"pos\",\"pos\",\"pos\",\"pos\",\"pos\",\"pos\",\"pos\",\"pos\",\"pos\",\"pos\",\"pos\",\"pos\",\"pos\",\"pos\",\"pos\",\"pos\",\"pos\",\"pos\",\"pos\",\"pos\",\"pos\",\"pos\",\"pos\",\"pos\",\"pos\",\"pos\",\"pos\",\"pos\",\"pos\",\"pos\",\"pos\",\"pos\",\"pos\",\"pos\",\"pos\",\"pos\",\"pos\",\"pos\",\"pos\",\"pos\",\"pos\",\"pos\",\"pos\",\"pos\",\"pos\",\"pos\",\"pos\",\"pos\",\"pos\",\"pos\",\"pos\",\"pos\",\"pos\",\"pos\",\"pos\",\"pos\",\"pos\",\"pos\",\"pos\",\"pos\",\"pos\",\"pos\",\"pos\",\"pos\",\"pos\",\"pos\",\"pos\",\"pos\",\"pos\",\"pos\",\"pos\",\"pos\",\"pos\",\"pos\",\"pos\",\"pos\",\"pos\",\"pos\",\"pos\",\"pos\",\"pos\",\"pos\",\"pos\",\"pos\",\"pos\",\"pos\",\"pos\",\"pos\",\"pos\",\"pos\",\"pos\",\"pos\",\"pos\",\"pos\",\"pos\",\"pos\",\"pos\",\"pos\",\"pos\",\"pos\",\"pos\",\"pos\",\"pos\",\"pos\",\"pos\",\"pos\",\"pos\",\"pos\",\"pos\",\"pos\",\"pos\",\"pos\",\"pos\",\"pos\",\"pos\",\"pos\",\"pos\",\"pos\",\"pos\",\"pos\",\"pos\",\"pos\",\"pos\",\"pos\",\"pos\",\"pos\",\"pos\",\"pos\",\"pos\",\"pos\",\"pos\",\"pos\",\"pos\",\"pos\",\"pos\",\"pos\",\"pos\",\"pos\",\"pos\",\"pos\",\"pos\",\"pos\",\"pos\",\"pos\",\"pos\",\"pos\",\"pos\",\"pos\",\"pos\",\"pos\",\"pos\",\"pos\",\"pos\",\"pos\",\"pos\",\"pos\",\"pos\",\"pos\",\"pos\",\"pos\",\"pos\",\"pos\",\"pos\",\"pos\",\"pos\",\"pos\",\"pos\",\"pos\",\"pos\",\"pos\",\"pos\",\"pos\",\"pos\",\"pos\",\"pos\",\"pos\",\"pos\",\"pos\",\"pos\",\"pos\",\"pos\",\"pos\",\"pos\",\"pos\",\"pos\",\"pos\",\"pos\",\"pos\",\"pos\",\"pos\",\"pos\",\"pos\",\"pos\",\"pos\",\"pos\",\"pos\",\"pos\",\"pos\",\"pos\",\"pos\",\"pos\",\"pos\",\"pos\",\"pos\",\"pos\",\"pos\",\"pos\",\"pos\",\"pos\",\"pos\",\"pos\",\"pos\",\"pos\",\"pos\",\"pos\",\"pos\",\"pos\",\"pos\",\"pos\",\"pos\",\"pos\",\"pos\",\"pos\",\"pos\",\"pos\",\"pos\",\"pos\",\"pos\",\"pos\",\"pos\",\"pos\",\"pos\",\"pos\",\"pos\",\"pos\",\"pos\",\"pos\",\"pos\",\"pos\",\"pos\",\"pos\",\"pos\",\"pos\",\"pos\",\"pos\",\"pos\",\"pos\",\"pos\",\"pos\",\"pos\",\"pos\",\"pos\",\"pos\",\"pos\",\"pos\",\"pos\",\"pos\",\"pos\",\"pos\",\"pos\",\"pos\",\"pos\",\"pos\",\"pos\",\"pos\",\"pos\",\"pos\",\"pos\",\"pos\",\"pos\",\"pos\",\"pos\",\"pos\",\"pos\",\"pos\",\"pos\",\"pos\",\"pos\",\"pos\",\"pos\",\"pos\",\"pos\",\"pos\",\"pos\",\"pos\",\"pos\",\"pos\",\"pos\",\"pos\",\"pos\",\"pos\",\"pos\",\"pos\",\"pos\",\"pos\",\"pos\",\"pos\",\"pos\",\"pos\",\"pos\",\"pos\",\"pos\",\"pos\",\"pos\",\"pos\",\"pos\",\"pos\",\"pos\",\"pos\",\"pos\",\"pos\",\"pos\",\"pos\",\"pos\",\"pos\",\"pos\",\"pos\",\"pos\",\"pos\",\"pos\",\"pos\",\"pos\",\"pos\",\"pos\",\"pos\",\"pos\",\"pos\",\"pos\",\"pos\",\"pos\",\"pos\",\"pos\",\"pos\",\"pos\",\"pos\",\"pos\",\"pos\",\"pos\",\"pos\",\"pos\",\"pos\",\"pos\",\"pos\",\"pos\",\"pos\",\"pos\",\"pos\",\"pos\",\"pos\",\"pos\",\"pos\",\"pos\",\"pos\",\"pos\",\"pos\",\"pos\",\"pos\",\"pos\",\"pos\",\"pos\",\"pos\",\"pos\",\"pos\",\"pos\",\"pos\",\"pos\",\"pos\",\"pos\",\"pos\",\"pos\",\"pos\",\"pos\",\"pos\",\"pos\",\"pos\",\"pos\",\"pos\",\"pos\",\"pos\",\"pos\",\"pos\",\"pos\",\"pos\",\"pos\",\"pos\",\"pos\",\"pos\",\"pos\",\"pos\",\"pos\",\"pos\",\"pos\",\"pos\",\"pos\",\"pos\",\"pos\",\"pos\",\"pos\",\"pos\",\"pos\",\"pos\",\"pos\",\"pos\",\"pos\",\"pos\",\"pos\",\"pos\",\"pos\",\"pos\",\"pos\",\"pos\",\"pos\",\"pos\",\"pos\",\"pos\",\"pos\",\"pos\",\"pos\",\"pos\",\"pos\",\"pos\",\"pos\",\"pos\",\"pos\",\"pos\",\"pos\",\"pos\",\"pos\",\"pos\",\"pos\",\"pos\",\"pos\",\"pos\",\"pos\",\"pos\",\"pos\",\"pos\",\"pos\",\"pos\",\"pos\",\"pos\",\"pos\",\"pos\",\"pos\",\"pos\",\"pos\",\"pos\",\"pos\",\"pos\",\"pos\",\"pos\",\"pos\",\"pos\",\"pos\",\"pos\",\"pos\",\"pos\",\"pos\",\"pos\",\"pos\",\"pos\",\"pos\",\"pos\",\"pos\",\"pos\",\"pos\",\"pos\",\"pos\",\"pos\",\"pos\",\"pos\",\"pos\",\"pos\",\"pos\",\"pos\",\"pos\",\"pos\",\"pos\",\"pos\",\"pos\",\"pos\",\"pos\",\"pos\",\"pos\",\"pos\",\"pos\",\"pos\",\"pos\",\"pos\",\"pos\",\"pos\",\"pos\",\"pos\",\"pos\",\"pos\",\"pos\",\"pos\",\"pos\",\"pos\",\"pos\",\"pos\",\"pos\",\"pos\",\"pos\",\"pos\",\"pos\",\"pos\",\"pos\",\"pos\",\"pos\",\"pos\",\"pos\",\"pos\",\"pos\",\"pos\",\"pos\",\"pos\",\"pos\",\"pos\",\"pos\",\"pos\",\"pos\",\"pos\",\"pos\",\"pos\",\"pos\",\"pos\",\"pos\",\"pos\",\"pos\",\"pos\",\"pos\",\"pos\",\"pos\",\"pos\",\"pos\",\"pos\",\"pos\",\"pos\",\"pos\",\"pos\",\"pos\",\"pos\",\"pos\",\"pos\",\"pos\",\"pos\",\"pos\",\"pos\",\"pos\",\"pos\",\"pos\",\"pos\",\"pos\",\"pos\",\"pos\",\"pos\",\"pos\",\"pos\",\"pos\",\"pos\",\"pos\",\"pos\",\"pos\",\"pos\",\"pos\",\"pos\",\"pos\",\"pos\",\"pos\",\"pos\",\"pos\",\"pos\",\"pos\",\"pos\",\"pos\",\"pos\",\"pos\",\"pos\",\"pos\",\"pos\",\"pos\",\"pos\",\"pos\",\"pos\",\"pos\",\"pos\",\"pos\",\"pos\",\"pos\",\"pos\",\"pos\",\"pos\",\"pos\",\"pos\",\"pos\",\"pos\",\"pos\",\"pos\",\"pos\",\"pos\",\"pos\",\"pos\",\"pos\",\"pos\",\"pos\",\"pos\",\"pos\",\"pos\",\"pos\",\"pos\",\"pos\",\"pos\",\"pos\",\"pos\",\"pos\",\"pos\",\"pos\",\"pos\",\"pos\",\"pos\",\"pos\",\"pos\",\"pos\",\"pos\",\"pos\",\"pos\",\"pos\",\"pos\",\"pos\",\"pos\",\"pos\",\"pos\",\"pos\",\"pos\",\"pos\",\"pos\",\"pos\",\"pos\",\"pos\",\"pos\",\"pos\",\"pos\",\"pos\",\"pos\",\"pos\",\"pos\",\"pos\",\"pos\",\"pos\",\"pos\",\"pos\",\"pos\",\"pos\",\"pos\",\"pos\",\"pos\",\"pos\",\"pos\",\"pos\",\"pos\",\"pos\",\"pos\",\"pos\",\"pos\",\"pos\",\"pos\",\"pos\",\"pos\",\"pos\",\"pos\",\"pos\",\"pos\",\"pos\",\"pos\",\"pos\",\"pos\",\"pos\",\"pos\",\"pos\",\"pos\",\"pos\",\"pos\",\"pos\",\"pos\",\"pos\",\"pos\",\"pos\",\"pos\",\"pos\",\"pos\",\"pos\",\"pos\",\"pos\",\"pos\",\"pos\",\"pos\",\"pos\",\"pos\",\"pos\",\"pos\",\"pos\",\"pos\",\"pos\",\"pos\",\"pos\",\"pos\",\"pos\",\"pos\",\"pos\",\"pos\",\"pos\",\"pos\",\"pos\",\"pos\",\"pos\",\"pos\",\"pos\",\"pos\",\"pos\",\"pos\",\"pos\",\"pos\",\"pos\",\"pos\",\"pos\",\"pos\",\"pos\",\"pos\",\"pos\",\"pos\",\"pos\",\"pos\",\"pos\",\"pos\",\"pos\",\"pos\",\"pos\",\"pos\",\"pos\",\"pos\",\"pos\",\"pos\",\"pos\",\"pos\",\"pos\",\"pos\",\"pos\",\"pos\",\"pos\",\"pos\",\"pos\",\"pos\",\"pos\",\"pos\",\"pos\",\"pos\",\"pos\",\"pos\",\"pos\",\"pos\",\"pos\",\"pos\",\"pos\",\"pos\",\"pos\",\"pos\",\"pos\",\"pos\",\"pos\",\"pos\",\"pos\",\"pos\",\"pos\",\"pos\",\"pos\",\"pos\",\"pos\",\"pos\",\"pos\",\"pos\",\"pos\",\"pos\",\"pos\",\"pos\",\"pos\",\"pos\",\"pos\",\"pos\",\"pos\",\"pos\",\"pos\",\"pos\",\"pos\",\"pos\",\"pos\",\"pos\",\"pos\",\"pos\",\"pos\",\"pos\",\"pos\",\"pos\",\"pos\",\"pos\",\"pos\",\"pos\",\"pos\",\"pos\",\"pos\",\"pos\",\"pos\",\"pos\",\"pos\",\"pos\",\"pos\",\"pos\",\"pos\",\"pos\",\"pos\",\"pos\",\"pos\",\"pos\",\"pos\",\"pos\",\"pos\",\"pos\",\"pos\",\"pos\",\"pos\",\"pos\",\"pos\",\"pos\",\"pos\",\"pos\",\"pos\",\"pos\",\"pos\",\"pos\",\"pos\",\"pos\",\"pos\",\"pos\",\"pos\",\"pos\",\"pos\",\"pos\",\"pos\",\"pos\",\"pos\",\"pos\",\"pos\",\"pos\",\"pos\",\"pos\",\"pos\",\"pos\",\"pos\",\"pos\",\"pos\",\"pos\",\"pos\",\"pos\",\"pos\",\"pos\",\"pos\",\"pos\",\"pos\",\"pos\",\"pos\",\"pos\",\"pos\",\"pos\",\"pos\",\"pos\",\"pos\",\"pos\",\"pos\",\"pos\",\"pos\",\"pos\",\"pos\",\"pos\",\"pos\",\"pos\",\"pos\",\"pos\",\"pos\",\"pos\",\"pos\",\"pos\",\"pos\",\"pos\",\"pos\",\"pos\",\"pos\",\"pos\",\"pos\",\"pos\",\"pos\",\"pos\",\"pos\",\"pos\",\"pos\",\"pos\",\"pos\",\"pos\",\"pos\",\"pos\",\"pos\",\"pos\",\"pos\",\"pos\",\"pos\",\"pos\",\"pos\",\"pos\",\"pos\",\"pos\",\"pos\",\"pos\",\"pos\",\"pos\",\"pos\",\"pos\",\"pos\",\"pos\",\"pos\",\"pos\",\"pos\",\"pos\",\"pos\",\"pos\",\"pos\",\"pos\",\"pos\",\"pos\",\"pos\",\"pos\",\"pos\",\"pos\",\"pos\",\"pos\",\"pos\",\"pos\",\"pos\",\"pos\",\"pos\",\"pos\",\"pos\",\"pos\",\"pos\",\"pos\",\"pos\",\"pos\",\"pos\",\"pos\",\"pos\",\"pos\",\"pos\",\"pos\",\"pos\",\"pos\",\"pos\",\"pos\",\"pos\",\"pos\",\"pos\",\"pos\",\"pos\",\"pos\",\"pos\",\"pos\",\"pos\",\"pos\",\"pos\",\"pos\",\"pos\",\"pos\",\"pos\",\"pos\",\"pos\",\"pos\",\"pos\",\"pos\",\"pos\",\"pos\",\"pos\",\"pos\",\"pos\",\"pos\",\"pos\",\"pos\",\"pos\",\"pos\",\"pos\",\"pos\",\"pos\",\"pos\",\"pos\",\"pos\",\"pos\",\"pos\",\"pos\",\"pos\",\"pos\",\"pos\",\"pos\",\"pos\",\"pos\",\"pos\",\"pos\",\"pos\",\"pos\",\"pos\",\"pos\",\"pos\",\"pos\",\"pos\",\"pos\",\"pos\",\"pos\",\"pos\",\"pos\",\"pos\",\"pos\",\"pos\",\"pos\",\"pos\",\"pos\",\"pos\",\"pos\",\"pos\",\"pos\",\"pos\",\"pos\",\"pos\",\"pos\",\"pos\",\"pos\",\"pos\",\"pos\",\"pos\",\"pos\",\"pos\",\"pos\",\"pos\",\"pos\",\"pos\",\"pos\",\"pos\",\"pos\",\"pos\",\"pos\",\"pos\",\"pos\",\"pos\",\"pos\",\"pos\",\"pos\",\"pos\",\"pos\",\"pos\",\"pos\",\"pos\",\"pos\",\"pos\",\"pos\",\"pos\",\"pos\",\"pos\",\"pos\",\"pos\",\"pos\",\"pos\",\"pos\",\"pos\",\"pos\",\"pos\",\"pos\",\"pos\",\"pos\",\"pos\",\"pos\",\"pos\",\"pos\",\"pos\",\"pos\",\"pos\",\"pos\",\"pos\",\"pos\",\"pos\",\"pos\",\"pos\",\"pos\",\"pos\",\"pos\",\"pos\",\"pos\",\"pos\",\"pos\",\"pos\",\"pos\",\"pos\",\"pos\",\"pos\",\"pos\",\"pos\",\"pos\",\"pos\",\"pos\",\"pos\",\"pos\",\"pos\",\"pos\",\"pos\",\"pos\",\"pos\",\"pos\",\"pos\",\"pos\",\"pos\",\"pos\",\"pos\",\"pos\",\"pos\",\"pos\",\"pos\",\"pos\",\"pos\",\"pos\",\"pos\",\"pos\",\"pos\",\"pos\",\"pos\",\"pos\",\"pos\",\"pos\",\"pos\",\"pos\",\"pos\",\"pos\",\"pos\",\"pos\",\"pos\",\"pos\",\"pos\",\"pos\",\"pos\",\"pos\",\"pos\",\"pos\",\"pos\",\"pos\",\"pos\",\"pos\",\"pos\",\"pos\",\"pos\",\"pos\",\"pos\",\"pos\",\"pos\",\"pos\",\"pos\",\"pos\",\"pos\",\"pos\",\"pos\",\"pos\",\"pos\",\"pos\",\"pos\",\"pos\",\"pos\",\"pos\",\"pos\",\"pos\",\"pos\",\"pos\",\"pos\",\"pos\",\"pos\",\"pos\",\"pos\",\"pos\",\"pos\",\"pos\",\"pos\",\"pos\",\"pos\",\"pos\",\"pos\",\"pos\",\"pos\",\"pos\",\"pos\",\"pos\",\"pos\",\"pos\",\"pos\",\"pos\",\"pos\",\"pos\",\"pos\",\"pos\",\"pos\",\"pos\",\"pos\",\"pos\",\"pos\",\"pos\",\"pos\",\"pos\",\"pos\",\"pos\",\"pos\",\"pos\",\"pos\",\"pos\",\"pos\",\"pos\",\"pos\",\"pos\",\"pos\",\"pos\",\"pos\",\"pos\",\"pos\",\"pos\",\"pos\",\"pos\",\"pos\",\"pos\",\"pos\",\"pos\",\"pos\",\"pos\",\"pos\",\"pos\",\"pos\",\"pos\",\"pos\",\"pos\",\"pos\",\"pos\",\"pos\",\"pos\",\"pos\",\"pos\",\"pos\",\"pos\",\"pos\",\"pos\",\"pos\",\"pos\",\"pos\",\"pos\",\"pos\",\"pos\",\"pos\",\"pos\",\"pos\",\"pos\",\"pos\",\"pos\",\"pos\",\"pos\",\"pos\",\"pos\",\"pos\",\"pos\",\"pos\",\"pos\",\"pos\",\"pos\",\"pos\",\"pos\",\"pos\",\"pos\",\"pos\",\"pos\",\"pos\",\"pos\",\"pos\",\"pos\",\"pos\",\"pos\",\"pos\",\"pos\",\"pos\",\"pos\",\"pos\",\"pos\",\"pos\",\"pos\",\"pos\",\"pos\",\"pos\",\"pos\",\"pos\",\"pos\",\"pos\",\"pos\",\"pos\",\"pos\",\"pos\",\"pos\",\"pos\",\"pos\",\"pos\",\"pos\",\"pos\",\"pos\",\"pos\",\"pos\",\"pos\",\"pos\",\"pos\",\"pos\",\"pos\",\"pos\",\"pos\",\"pos\",\"pos\",\"pos\",\"pos\",\"pos\",\"pos\",\"pos\",\"pos\",\"pos\",\"pos\",\"pos\",\"pos\",\"pos\",\"pos\",\"pos\",\"pos\",\"pos\",\"pos\",\"pos\",\"pos\",\"pos\",\"pos\",\"pos\",\"pos\",\"pos\",\"pos\",\"pos\",\"pos\",\"pos\",\"pos\",\"pos\",\"pos\",\"pos\",\"pos\",\"pos\",\"pos\",\"pos\",\"pos\",\"pos\",\"pos\",\"pos\",\"pos\",\"pos\",\"pos\",\"pos\",\"pos\",\"pos\",\"pos\",\"pos\",\"pos\",\"pos\",\"pos\",\"pos\",\"pos\",\"pos\",\"pos\",\"pos\",\"pos\",\"pos\",\"pos\",\"pos\",\"pos\",\"pos\",\"pos\",\"pos\",\"pos\",\"pos\",\"pos\",\"pos\",\"pos\",\"pos\",\"pos\",\"pos\",\"pos\",\"pos\",\"pos\",\"pos\",\"pos\",\"pos\",\"pos\",\"pos\",\"pos\",\"pos\",\"pos\",\"pos\",\"pos\",\"pos\",\"pos\",\"pos\",\"pos\",\"pos\",\"pos\",\"pos\",\"pos\",\"pos\",\"pos\",\"pos\",\"pos\",\"pos\",\"pos\",\"pos\",\"pos\",\"pos\",\"pos\",\"pos\",\"pos\",\"pos\",\"pos\",\"pos\",\"pos\",\"pos\",\"pos\",\"pos\",\"pos\",\"pos\",\"pos\",\"pos\",\"pos\",\"pos\",\"pos\",\"pos\",\"pos\",\"pos\",\"pos\",\"pos\",\"pos\",\"pos\",\"pos\",\"pos\",\"pos\",\"pos\",\"pos\",\"pos\",\"pos\",\"pos\",\"pos\",\"pos\",\"pos\",\"pos\",\"pos\",\"pos\",\"pos\",\"pos\",\"pos\",\"pos\",\"pos\",\"pos\",\"pos\",\"pos\",\"pos\",\"pos\",\"pos\",\"pos\",\"pos\",\"pos\",\"pos\",\"pos\",\"pos\",\"pos\",\"pos\",\"pos\",\"pos\",\"pos\",\"pos\",\"pos\",\"pos\",\"pos\",\"pos\",\"pos\",\"pos\",\"pos\",\"pos\",\"pos\",\"pos\",\"pos\",\"pos\",\"pos\",\"pos\",\"pos\",\"pos\",\"pos\",\"pos\",\"pos\",\"pos\",\"pos\",\"pos\",\"pos\",\"pos\",\"pos\",\"pos\",\"pos\",\"pos\",\"pos\",\"pos\",\"pos\",\"pos\",\"pos\",\"pos\",\"pos\",\"pos\",\"pos\",\"pos\",\"pos\",\"pos\",\"pos\",\"pos\",\"pos\",\"pos\",\"pos\",\"pos\",\"pos\",\"pos\",\"pos\",\"pos\",\"pos\",\"pos\",\"pos\",\"pos\",\"pos\",\"pos\",\"pos\",\"pos\",\"pos\",\"pos\",\"pos\",\"pos\",\"pos\",\"pos\",\"pos\",\"pos\",\"pos\",\"pos\",\"pos\",\"pos\",\"pos\",\"pos\",\"pos\",\"pos\",\"pos\",\"pos\",\"pos\",\"pos\",\"pos\",\"pos\",\"pos\",\"pos\",\"pos\",\"pos\",\"pos\",\"pos\",\"pos\",\"pos\",\"pos\",\"pos\",\"pos\",\"pos\",\"pos\",\"pos\",\"pos\",\"pos\",\"pos\",\"pos\",\"pos\",\"pos\",\"pos\",\"pos\",\"pos\",\"pos\",\"pos\",\"pos\",\"pos\",\"pos\",\"pos\",\"pos\",\"pos\",\"pos\",\"pos\",\"pos\",\"pos\",\"pos\",\"pos\",\"pos\",\"pos\",\"pos\",\"pos\",\"pos\",\"pos\",\"pos\",\"pos\",\"pos\",\"pos\",\"pos\",\"pos\",\"pos\",\"pos\",\"pos\",\"pos\",\"pos\",\"pos\",\"pos\",\"pos\",\"pos\",\"pos\",\"pos\",\"pos\",\"pos\",\"pos\",\"pos\",\"pos\",\"pos\",\"pos\",\"pos\",\"pos\",\"pos\",\"pos\",\"pos\",\"pos\",\"pos\",\"pos\",\"pos\",\"pos\",\"pos\",\"pos\",\"pos\",\"pos\",\"pos\",\"pos\",\"pos\",\"pos\",\"pos\",\"pos\",\"pos\",\"pos\",\"pos\",\"pos\",\"pos\",\"pos\",\"pos\",\"pos\",\"pos\",\"pos\",\"pos\",\"pos\",\"pos\",\"pos\",\"pos\",\"pos\",\"pos\",\"pos\",\"pos\",\"pos\",\"pos\",\"pos\",\"pos\",\"pos\",\"pos\",\"pos\",\"pos\",\"pos\",\"pos\",\"pos\",\"pos\",\"pos\",\"pos\",\"pos\",\"pos\",\"pos\",\"pos\",\"pos\",\"pos\",\"pos\",\"pos\",\"pos\",\"pos\",\"pos\",\"pos\",\"pos\",\"pos\",\"pos\",\"pos\",\"pos\",\"pos\",\"pos\",\"pos\",\"pos\",\"pos\",\"pos\",\"pos\",\"pos\",\"pos\",\"pos\",\"pos\",\"pos\",\"pos\",\"pos\",\"pos\",\"pos\",\"pos\",\"pos\",\"pos\",\"pos\",\"pos\",\"pos\",\"pos\",\"pos\",\"pos\",\"pos\",\"pos\",\"pos\",\"pos\",\"pos\",\"pos\",\"pos\",\"pos\",\"pos\",\"pos\",\"pos\",\"pos\",\"pos\",\"pos\",\"pos\",\"pos\",\"pos\",\"pos\",\"pos\",\"pos\",\"pos\",\"pos\",\"pos\",\"pos\",\"pos\",\"pos\",\"pos\",\"pos\",\"pos\",\"pos\",\"pos\",\"pos\",\"pos\",\"pos\",\"pos\",\"pos\",\"pos\",\"pos\",\"pos\",\"pos\",\"pos\",\"pos\",\"pos\",\"pos\",\"pos\",\"pos\",\"pos\",\"pos\",\"pos\",\"pos\",\"pos\",\"pos\",\"pos\",\"pos\",\"pos\",\"pos\",\"pos\",\"pos\",\"pos\",\"pos\",\"pos\",\"pos\",\"pos\",\"pos\",\"pos\",\"pos\",\"pos\",\"pos\",\"pos\",\"pos\",\"pos\",\"pos\",\"pos\",\"pos\",\"pos\",\"pos\",\"pos\",\"pos\",\"pos\",\"pos\",\"pos\",\"pos\",\"pos\",\"pos\",\"pos\",\"pos\",\"pos\",\"pos\",\"pos\",\"pos\",\"pos\",\"pos\",\"pos\",\"pos\",\"pos\",\"pos\",\"pos\",\"pos\",\"pos\",\"pos\",\"pos\",\"pos\",\"pos\",\"pos\",\"pos\",\"pos\",\"pos\",\"pos\",\"pos\",\"pos\",\"pos\",\"pos\",\"pos\",\"pos\",\"pos\",\"pos\",\"pos\",\"pos\",\"pos\",\"pos\",\"pos\",\"pos\",\"pos\",\"pos\",\"pos\",\"pos\",\"pos\",\"pos\",\"pos\",\"pos\",\"pos\",\"pos\",\"pos\",\"pos\",\"pos\",\"pos\",\"pos\",\"pos\",\"pos\",\"pos\",\"pos\",\"pos\",\"pos\",\"pos\",\"pos\",\"pos\",\"pos\",\"pos\",\"pos\",\"pos\",\"pos\",\"pos\",\"pos\",\"pos\",\"pos\",\"pos\",\"pos\",\"pos\",\"pos\",\"pos\",\"pos\",\"pos\",\"pos\",\"pos\",\"pos\",\"pos\",\"pos\",\"pos\",\"pos\",\"pos\",\"pos\",\"pos\",\"pos\",\"pos\",\"pos\",\"pos\",\"pos\",\"pos\",\"pos\",\"pos\",\"pos\",\"pos\",\"pos\",\"pos\",\"pos\",\"pos\",\"pos\",\"pos\",\"pos\",\"pos\",\"pos\",\"pos\",\"pos\",\"pos\",\"pos\",\"pos\",\"pos\",\"pos\",\"pos\",\"pos\",\"pos\",\"pos\",\"pos\",\"pos\",\"pos\",\"pos\",\"pos\",\"pos\",\"pos\",\"pos\",\"pos\",\"pos\",\"pos\",\"pos\",\"pos\",\"pos\",\"pos\",\"pos\",\"pos\",\"pos\",\"pos\",\"pos\",\"pos\",\"pos\",\"pos\",\"pos\",\"pos\",\"pos\",\"pos\",\"pos\",\"pos\",\"pos\",\"pos\",\"pos\",\"pos\",\"pos\",\"pos\",\"pos\",\"pos\",\"pos\",\"pos\",\"pos\",\"pos\",\"pos\",\"pos\",\"pos\",\"pos\",\"pos\",\"pos\",\"pos\",\"pos\",\"pos\",\"pos\",\"pos\",\"pos\",\"pos\",\"pos\",\"pos\",\"pos\",\"pos\",\"pos\",\"pos\",\"pos\",\"pos\",\"pos\",\"pos\",\"pos\",\"pos\",\"pos\",\"pos\",\"pos\",\"pos\",\"pos\",\"pos\",\"pos\",\"pos\",\"pos\",\"pos\",\"pos\",\"pos\",\"pos\",\"pos\",\"pos\",\"pos\",\"pos\",\"pos\",\"pos\",\"pos\",\"pos\",\"pos\",\"pos\",\"pos\",\"pos\",\"pos\",\"pos\",\"pos\",\"pos\",\"pos\",\"pos\",\"pos\",\"pos\",\"pos\",\"pos\",\"pos\",\"pos\",\"pos\",\"pos\",\"pos\",\"pos\",\"pos\",\"pos\",\"pos\",\"pos\",\"pos\",\"pos\",\"pos\",\"pos\",\"pos\",\"pos\",\"pos\",\"pos\",\"pos\",\"pos\",\"pos\",\"pos\",\"pos\",\"pos\",\"pos\",\"pos\",\"pos\",\"pos\",\"pos\",\"pos\",\"pos\",\"pos\",\"pos\",\"pos\",\"pos\",\"pos\",\"pos\",\"pos\",\"pos\",\"pos\",\"pos\",\"pos\",\"pos\",\"pos\",\"pos\",\"pos\",\"pos\",\"pos\",\"pos\",\"pos\",\"pos\",\"pos\",\"pos\",\"pos\",\"pos\",\"pos\",\"pos\",\"pos\",\"pos\",\"pos\",\"pos\",\"pos\",\"pos\",\"pos\",\"pos\",\"pos\",\"pos\",\"pos\",\"pos\",\"pos\",\"pos\",\"pos\",\"pos\",\"pos\",\"pos\",\"pos\",\"pos\",\"pos\",\"pos\",\"pos\",\"pos\",\"pos\",\"pos\",\"pos\",\"pos\",\"pos\",\"pos\",\"pos\",\"pos\",\"pos\",\"pos\",\"pos\",\"pos\",\"pos\",\"pos\",\"pos\",\"pos\",\"pos\",\"pos\",\"pos\",\"pos\",\"pos\",\"pos\",\"pos\",\"pos\",\"pos\",\"pos\",\"pos\",\"pos\",\"pos\",\"pos\",\"pos\",\"pos\",\"pos\",\"pos\",\"pos\",\"pos\",\"pos\",\"pos\",\"pos\",\"pos\",\"pos\",\"pos\",\"pos\",\"pos\",\"pos\",\"pos\",\"pos\",\"pos\",\"pos\",\"pos\",\"pos\",\"pos\",\"pos\",\"pos\",\"pos\",\"pos\",\"pos\",\"pos\",\"pos\",\"pos\",\"pos\",\"pos\",\"pos\",\"pos\",\"pos\",\"pos\",\"pos\",\"pos\",\"pos\",\"pos\",\"pos\",\"pos\",\"pos\",\"pos\",\"pos\",\"pos\",\"pos\",\"pos\",\"pos\",\"pos\",\"pos\",\"pos\",\"pos\",\"pos\",\"pos\",\"pos\",\"pos\",\"pos\",\"pos\",\"pos\",\"pos\",\"pos\",\"pos\",\"pos\",\"pos\",\"pos\",\"pos\",\"pos\",\"pos\",\"pos\",\"pos\",\"pos\",\"pos\",\"pos\",\"pos\",\"pos\",\"pos\",\"pos\",\"pos\",\"pos\",\"pos\",\"pos\",\"pos\",\"pos\",\"pos\",\"pos\",\"pos\",\"pos\",\"pos\",\"pos\",\"pos\",\"pos\",\"pos\",\"pos\",\"pos\",\"pos\",\"pos\",\"pos\",\"pos\",\"pos\",\"pos\",\"pos\",\"pos\",\"pos\",\"pos\",\"pos\",\"pos\",\"pos\",\"pos\",\"pos\",\"pos\",\"pos\",\"pos\",\"pos\",\"pos\",\"pos\",\"pos\",\"pos\",\"pos\",\"pos\",\"pos\",\"pos\",\"pos\",\"pos\",\"pos\",\"pos\",\"pos\",\"pos\",\"pos\",\"pos\",\"pos\",\"pos\",\"pos\",\"pos\",\"pos\",\"pos\",\"pos\",\"pos\",\"pos\",\"pos\",\"pos\",\"pos\",\"pos\",\"pos\",\"pos\",\"pos\",\"pos\",\"pos\",\"pos\",\"pos\",\"pos\",\"pos\",\"pos\",\"pos\",\"pos\",\"pos\",\"pos\",\"pos\",\"pos\",\"pos\",\"pos\",\"pos\",\"pos\",\"pos\",\"pos\",\"pos\",\"pos\",\"pos\",\"pos\",\"pos\",\"pos\",\"pos\",\"pos\",\"pos\",\"pos\",\"pos\",\"pos\",\"pos\",\"pos\",\"pos\",\"pos\",\"pos\",\"pos\",\"pos\",\"pos\",\"pos\",\"pos\",\"pos\",\"pos\",\"pos\",\"pos\",\"pos\",\"pos\",\"pos\",\"pos\",\"pos\",\"pos\",\"pos\",\"pos\",\"pos\",\"pos\",\"pos\",\"pos\",\"pos\",\"pos\",\"pos\",\"pos\",\"pos\",\"pos\",\"pos\",\"pos\",\"pos\",\"pos\",\"pos\",\"pos\",\"pos\",\"pos\",\"pos\",\"pos\",\"pos\",\"pos\",\"pos\",\"pos\",\"pos\",\"pos\",\"pos\",\"pos\",\"pos\",\"pos\",\"pos\",\"pos\",\"pos\",\"pos\",\"pos\",\"pos\",\"pos\",\"pos\",\"pos\",\"pos\",\"pos\",\"pos\",\"pos\",\"pos\",\"pos\",\"pos\",\"pos\",\"pos\",\"pos\",\"pos\",\"pos\",\"pos\",\"pos\",\"pos\",\"pos\",\"pos\",\"pos\",\"pos\",\"pos\",\"pos\",\"pos\",\"pos\",\"pos\",\"pos\",\"pos\",\"pos\",\"pos\",\"pos\",\"pos\",\"pos\",\"pos\",\"pos\",\"pos\",\"pos\",\"pos\",\"pos\",\"pos\",\"pos\",\"pos\",\"pos\",\"pos\",\"pos\",\"pos\",\"pos\",\"pos\",\"pos\",\"pos\",\"pos\",\"pos\",\"pos\",\"pos\",\"pos\",\"pos\",\"pos\",\"pos\",\"pos\",\"pos\",\"pos\",\"pos\",\"pos\",\"pos\",\"pos\",\"pos\",\"pos\",\"pos\",\"pos\",\"pos\",\"pos\",\"pos\",\"pos\",\"pos\",\"pos\",\"pos\",\"pos\",\"pos\",\"pos\",\"pos\",\"pos\",\"pos\",\"pos\",\"pos\",\"pos\",\"pos\",\"pos\",\"pos\",\"pos\",\"pos\",\"pos\",\"pos\",\"pos\",\"pos\",\"pos\",\"pos\",\"pos\",\"pos\",\"pos\",\"pos\",\"pos\",\"pos\",\"pos\",\"pos\",\"pos\",\"pos\",\"pos\",\"pos\",\"pos\",\"pos\",\"pos\",\"pos\",\"pos\",\"pos\",\"pos\",\"pos\",\"pos\",\"pos\",\"pos\",\"pos\",\"pos\",\"pos\",\"pos\",\"pos\",\"pos\",\"pos\",\"pos\",\"pos\",\"pos\",\"pos\",\"pos\",\"pos\",\"pos\",\"pos\",\"pos\",\"pos\",\"pos\",\"pos\",\"pos\",\"pos\",\"pos\",\"pos\",\"pos\",\"pos\",\"pos\",\"pos\",\"pos\",\"pos\",\"pos\",\"pos\",\"pos\",\"pos\",\"pos\",\"pos\",\"pos\",\"pos\",\"pos\",\"pos\",\"pos\",\"pos\",\"pos\",\"pos\",\"pos\",\"pos\",\"pos\",\"pos\",\"pos\",\"pos\",\"pos\",\"pos\",\"pos\",\"pos\",\"pos\",\"pos\",\"pos\",\"pos\",\"pos\",\"pos\",\"pos\",\"pos\",\"pos\",\"pos\",\"pos\",\"pos\",\"pos\",\"pos\",\"pos\",\"pos\",\"pos\",\"pos\",\"pos\",\"pos\",\"pos\",\"pos\",\"pos\",\"pos\",\"pos\",\"pos\",\"pos\",\"pos\",\"pos\",\"pos\",\"pos\",\"pos\",\"pos\",\"pos\",\"pos\",\"pos\",\"pos\",\"pos\",\"pos\",\"pos\",\"pos\",\"pos\",\"pos\",\"pos\",\"pos\",\"pos\",\"pos\",\"pos\",\"pos\",\"pos\",\"pos\",\"pos\",\"pos\",\"pos\",\"pos\",\"pos\",\"pos\",\"pos\",\"pos\",\"pos\",\"pos\",\"pos\",\"pos\",\"pos\",\"pos\",\"pos\",\"pos\",\"pos\",\"pos\",\"pos\",\"pos\",\"pos\",\"pos\",\"pos\",\"pos\",\"pos\",\"pos\",\"pos\",\"pos\",\"pos\",\"pos\",\"pos\",\"pos\",\"pos\",\"pos\",\"pos\",\"pos\",\"pos\",\"pos\",\"pos\",\"pos\",\"pos\",\"pos\",\"pos\",\"pos\",\"pos\",\"pos\",\"pos\",\"pos\",\"pos\",\"pos\",\"pos\",\"pos\",\"pos\",\"pos\",\"pos\",\"pos\",\"pos\",\"pos\",\"pos\",\"pos\",\"pos\",\"pos\",\"pos\",\"pos\",\"pos\",\"pos\",\"pos\",\"pos\",\"pos\",\"pos\",\"pos\",\"pos\",\"pos\",\"pos\",\"pos\",\"pos\",\"pos\",\"pos\",\"pos\",\"pos\",\"pos\",\"pos\",\"pos\",\"pos\",\"pos\",\"pos\",\"pos\",\"pos\",\"pos\",\"pos\",\"pos\",\"pos\",\"pos\",\"pos\",\"pos\",\"pos\",\"pos\",\"pos\",\"pos\",\"pos\",\"pos\",\"pos\",\"pos\",\"pos\",\"pos\",\"pos\",\"pos\",\"pos\",\"pos\",\"pos\",\"pos\",\"pos\",\"pos\",\"pos\",\"pos\",\"pos\",\"pos\",\"pos\",\"pos\",\"pos\",\"pos\",\"pos\",\"pos\",\"pos\",\"pos\",\"pos\",\"pos\",\"pos\",\"pos\",\"pos\",\"pos\",\"pos\",\"pos\",\"pos\",\"pos\",\"pos\",\"pos\",\"pos\",\"pos\",\"pos\",\"pos\",\"pos\",\"pos\",\"pos\",\"pos\",\"pos\",\"pos\",\"pos\",\"pos\",\"pos\",\"pos\",\"pos\",\"pos\",\"pos\",\"pos\",\"pos\",\"pos\",\"pos\",\"pos\",\"pos\",\"pos\",\"pos\",\"pos\",\"pos\",\"pos\",\"pos\",\"pos\",\"pos\",\"pos\",\"pos\",\"pos\",\"pos\",\"pos\",\"pos\",\"pos\",\"pos\",\"pos\",\"pos\",\"pos\",\"pos\",\"pos\",\"pos\",\"pos\",\"pos\",\"pos\",\"pos\",\"pos\",\"pos\",\"pos\",\"pos\",\"pos\",\"pos\",\"pos\",\"pos\",\"pos\",\"pos\",\"pos\",\"pos\",\"pos\",\"pos\",\"pos\",\"pos\",\"pos\",\"pos\",\"pos\",\"pos\",\"pos\",\"pos\",\"pos\",\"pos\",\"pos\",\"pos\",\"pos\",\"pos\",\"pos\",\"pos\",\"pos\",\"pos\",\"pos\",\"pos\",\"pos\",\"pos\",\"pos\",\"pos\",\"pos\",\"pos\",\"pos\",\"pos\",\"pos\",\"pos\",\"pos\",\"pos\",\"pos\",\"pos\",\"pos\",\"pos\",\"pos\",\"pos\",\"pos\",\"pos\",\"pos\",\"pos\",\"pos\",\"pos\",\"pos\",\"pos\",\"pos\",\"pos\",\"pos\",\"pos\",\"pos\",\"pos\",\"pos\",\"pos\",\"pos\",\"pos\",\"pos\",\"pos\",\"pos\",\"pos\",\"pos\",\"pos\",\"pos\",\"pos\",\"pos\",\"pos\",\"pos\",\"pos\",\"pos\",\"pos\",\"pos\",\"pos\",\"pos\",\"pos\",\"pos\",\"pos\",\"pos\",\"pos\",\"pos\",\"pos\",\"pos\",\"pos\",\"pos\",\"pos\",\"pos\",\"pos\",\"pos\",\"pos\",\"pos\",\"pos\",\"pos\",\"pos\",\"pos\",\"pos\",\"pos\",\"pos\",\"pos\",\"pos\",\"pos\",\"pos\",\"pos\",\"pos\",\"pos\",\"pos\",\"pos\",\"pos\",\"pos\",\"pos\",\"pos\",\"pos\",\"pos\",\"pos\",\"pos\",\"pos\",\"pos\",\"pos\",\"pos\",\"pos\",\"pos\",\"pos\",\"pos\",\"pos\",\"pos\",\"pos\",\"pos\",\"pos\",\"pos\",\"pos\",\"pos\",\"pos\",\"pos\",\"pos\",\"pos\",\"pos\",\"pos\",\"pos\",\"pos\",\"pos\",\"pos\",\"pos\",\"pos\",\"pos\",\"pos\",\"pos\",\"pos\",\"pos\",\"pos\",\"pos\",\"pos\",\"pos\",\"pos\",\"pos\",\"pos\",\"pos\",\"pos\",\"pos\",\"pos\",\"pos\",\"pos\",\"pos\",\"pos\",\"pos\",\"pos\",\"pos\",\"pos\",\"pos\",\"pos\",\"pos\",\"pos\",\"pos\",\"pos\",\"pos\",\"pos\",\"pos\",\"pos\",\"pos\",\"pos\",\"pos\",\"pos\",\"pos\",\"pos\",\"pos\",\"pos\",\"pos\",\"pos\",\"pos\",\"pos\",\"pos\",\"pos\",\"pos\",\"pos\",\"pos\",\"pos\",\"pos\",\"pos\",\"pos\",\"pos\",\"pos\",\"pos\",\"pos\",\"pos\",\"pos\",\"pos\",\"pos\",\"pos\",\"pos\",\"pos\",\"pos\",\"pos\",\"pos\",\"pos\",\"pos\",\"pos\",\"pos\",\"pos\",\"pos\",\"pos\",\"pos\",\"pos\",\"pos\",\"pos\",\"pos\",\"pos\",\"pos\",\"pos\",\"pos\",\"pos\",\"pos\",\"pos\",\"pos\",\"pos\",\"pos\",\"pos\",\"pos\",\"pos\",\"pos\",\"pos\",\"pos\",\"pos\",\"pos\",\"pos\",\"pos\",\"pos\",\"pos\",\"pos\",\"pos\",\"pos\",\"pos\",\"pos\",\"pos\",\"pos\",\"pos\",\"pos\",\"pos\",\"pos\",\"pos\",\"pos\",\"pos\",\"pos\",\"pos\",\"pos\",\"pos\",\"pos\",\"pos\",\"pos\",\"pos\",\"pos\",\"pos\",\"pos\",\"pos\",\"pos\",\"pos\",\"pos\",\"pos\",\"pos\",\"pos\",\"pos\",\"pos\",\"pos\",\"pos\",\"pos\",\"pos\",\"pos\",\"pos\",\"pos\",\"pos\",\"pos\",\"pos\",\"pos\",\"pos\",\"pos\",\"pos\",\"pos\",\"pos\",\"pos\",\"pos\",\"pos\",\"pos\",\"pos\",\"pos\",\"pos\",\"pos\",\"pos\",\"pos\",\"pos\",\"pos\",\"pos\",\"pos\",\"pos\",\"pos\",\"pos\",\"pos\",\"pos\",\"pos\",\"pos\",\"pos\",\"pos\",\"pos\",\"pos\",\"pos\",\"pos\",\"pos\",\"pos\",\"pos\",\"pos\",\"pos\",\"pos\",\"pos\",\"pos\",\"pos\",\"pos\",\"pos\",\"pos\",\"pos\",\"pos\",\"pos\",\"pos\",\"pos\",\"pos\",\"pos\",\"pos\",\"pos\",\"pos\",\"pos\",\"pos\",\"pos\",\"pos\",\"pos\",\"pos\",\"pos\",\"pos\",\"pos\",\"pos\",\"pos\",\"pos\",\"pos\",\"pos\",\"pos\",\"pos\",\"pos\",\"pos\",\"pos\",\"pos\",\"pos\",\"pos\",\"pos\",\"pos\",\"pos\",\"pos\",\"pos\",\"pos\",\"pos\",\"pos\",\"pos\",\"pos\",\"pos\",\"pos\",\"pos\",\"pos\",\"pos\",\"pos\",\"pos\",\"pos\",\"pos\",\"pos\",\"pos\",\"pos\",\"pos\",\"pos\",\"pos\",\"pos\",\"pos\",\"pos\",\"pos\",\"pos\",\"pos\",\"pos\",\"pos\",\"pos\",\"pos\",\"pos\",\"pos\",\"pos\",\"pos\",\"pos\",\"pos\",\"pos\",\"pos\",\"pos\",\"pos\",\"pos\",\"pos\",\"pos\",\"pos\",\"pos\",\"pos\",\"pos\",\"pos\",\"pos\",\"pos\",\"pos\",\"pos\",\"pos\",\"pos\",\"pos\",\"pos\",\"pos\",\"pos\",\"pos\",\"pos\",\"pos\",\"pos\",\"pos\",\"pos\",\"pos\",\"pos\",\"pos\",\"pos\",\"pos\",\"pos\",\"pos\",\"pos\",\"pos\",\"pos\",\"pos\",\"pos\",\"pos\",\"pos\",\"pos\",\"pos\",\"pos\",\"pos\",\"pos\",\"pos\",\"pos\",\"pos\",\"pos\",\"pos\",\"pos\",\"pos\",\"pos\",\"pos\",\"pos\",\"pos\",\"pos\",\"pos\",\"pos\",\"pos\",\"pos\",\"pos\",\"pos\",\"pos\",\"pos\",\"pos\",\"pos\",\"pos\",\"pos\",\"pos\",\"pos\",\"pos\",\"pos\",\"pos\",\"pos\",\"pos\",\"pos\",\"pos\",\"pos\",\"pos\",\"pos\",\"pos\",\"pos\",\"pos\",\"pos\",\"pos\",\"pos\",\"pos\",\"pos\",\"pos\",\"pos\",\"pos\",\"pos\",\"pos\",\"pos\",\"pos\",\"pos\",\"pos\",\"pos\",\"pos\",\"pos\",\"pos\",\"pos\",\"pos\",\"pos\",\"pos\",\"pos\",\"pos\",\"pos\",\"pos\",\"pos\",\"pos\",\"pos\",\"pos\",\"pos\",\"pos\",\"pos\",\"pos\",\"pos\",\"pos\",\"pos\",\"pos\",\"pos\",\"pos\",\"pos\",\"pos\",\"pos\",\"pos\",\"pos\",\"pos\",\"pos\",\"pos\",\"pos\",\"pos\",\"pos\",\"pos\",\"pos\",\"pos\",\"pos\",\"pos\",\"pos\",\"pos\",\"pos\",\"pos\",\"pos\",\"pos\",\"pos\",\"pos\",\"pos\",\"pos\",\"pos\",\"pos\",\"pos\",\"pos\",\"pos\",\"pos\",\"pos\",\"pos\",\"pos\",\"pos\",\"pos\",\"pos\",\"pos\",\"pos\",\"pos\",\"pos\",\"pos\",\"pos\",\"pos\",\"pos\",\"pos\",\"pos\",\"pos\",\"pos\",\"pos\",\"pos\",\"pos\",\"pos\",\"pos\",\"pos\",\"pos\",\"pos\",\"pos\",\"pos\",\"pos\",\"pos\",\"pos\",\"pos\",\"pos\",\"pos\",\"pos\",\"pos\",\"pos\",\"pos\",\"pos\",\"pos\",\"pos\",\"pos\",\"pos\",\"pos\",\"pos\",\"pos\",\"pos\",\"pos\",\"pos\",\"pos\",\"pos\",\"pos\",\"pos\",\"pos\",\"pos\",\"pos\",\"pos\",\"pos\",\"pos\",\"pos\",\"pos\",\"pos\",\"pos\",\"pos\",\"pos\",\"pos\",\"pos\",\"pos\",\"pos\",\"pos\",\"pos\",\"pos\",\"pos\",\"pos\",\"pos\",\"pos\",\"pos\",\"pos\",\"pos\",\"pos\",\"pos\",\"pos\",\"pos\",\"pos\",\"pos\",\"pos\",\"pos\",\"pos\",\"pos\",\"pos\",\"pos\",\"pos\",\"pos\",\"pos\",\"pos\",\"pos\",\"pos\",\"pos\",\"pos\",\"pos\",\"pos\",\"pos\",\"pos\",\"pos\",\"pos\",\"pos\",\"pos\",\"pos\",\"pos\",\"pos\",\"pos\",\"pos\",\"pos\",\"pos\",\"pos\",\"pos\",\"pos\",\"pos\",\"pos\",\"pos\",\"pos\",\"pos\",\"pos\",\"pos\",\"pos\",\"pos\",\"pos\",\"pos\",\"pos\",\"pos\",\"pos\",\"pos\",\"pos\",\"pos\",\"pos\",\"pos\",\"pos\",\"pos\",\"pos\",\"pos\",\"pos\",\"pos\",\"pos\",\"pos\",\"pos\",\"pos\",\"pos\",\"pos\",\"pos\",\"pos\",\"pos\",\"pos\",\"pos\",\"pos\",\"pos\",\"pos\",\"pos\",\"pos\",\"pos\",\"pos\",\"pos\",\"pos\",\"pos\",\"pos\",\"pos\",\"pos\",\"pos\",\"pos\",\"pos\",\"pos\",\"pos\",\"pos\",\"pos\",\"pos\",\"pos\",\"pos\",\"pos\",\"pos\",\"pos\",\"pos\",\"pos\",\"pos\",\"pos\",\"pos\",\"pos\",\"pos\",\"pos\",\"pos\",\"pos\",\"pos\",\"pos\",\"pos\",\"pos\",\"pos\",\"pos\",\"pos\",\"pos\",\"pos\",\"pos\",\"pos\",\"pos\",\"pos\",\"pos\",\"pos\",\"pos\",\"pos\",\"pos\",\"pos\",\"pos\",\"pos\",\"pos\",\"pos\",\"pos\",\"pos\",\"pos\",\"pos\",\"pos\",\"pos\",\"pos\",\"pos\",\"pos\",\"pos\",\"pos\",\"pos\",\"pos\",\"pos\",\"pos\",\"pos\",\"pos\",\"pos\",\"pos\",\"pos\",\"pos\",\"pos\",\"pos\",\"pos\",\"pos\",\"pos\",\"pos\",\"pos\",\"pos\",\"pos\",\"pos\",\"pos\",\"pos\",\"pos\",\"pos\",\"pos\",\"pos\",\"pos\",\"pos\",\"pos\",\"pos\",\"pos\",\"pos\",\"pos\",\"pos\",\"pos\",\"pos\",\"pos\",\"pos\",\"pos\",\"pos\",\"pos\",\"pos\",\"pos\",\"pos\",\"pos\",\"pos\",\"pos\",\"pos\",\"pos\",\"pos\",\"pos\",\"pos\",\"pos\",\"pos\",\"pos\",\"pos\",\"pos\",\"pos\",\"pos\",\"pos\",\"pos\",\"pos\",\"pos\",\"pos\",\"pos\",\"pos\",\"pos\",\"pos\",\"pos\",\"pos\",\"pos\",\"pos\",\"pos\",\"pos\",\"pos\",\"pos\",\"pos\",\"pos\",\"pos\",\"pos\",\"pos\",\"pos\",\"pos\",\"pos\",\"pos\",\"pos\",\"pos\",\"pos\",\"pos\",\"pos\",\"pos\",\"pos\",\"pos\",\"pos\",\"pos\",\"pos\",\"pos\",\"pos\",\"pos\",\"pos\",\"pos\",\"pos\",\"pos\",\"pos\",\"pos\",\"pos\",\"pos\",\"pos\",\"pos\",\"pos\",\"pos\",\"pos\",\"pos\",\"pos\",\"pos\",\"pos\",\"pos\",\"pos\",\"pos\",\"pos\",\"pos\",\"pos\",\"pos\",\"pos\",\"pos\",\"pos\",\"pos\",\"pos\",\"pos\",\"pos\",\"pos\",\"pos\",\"pos\",\"pos\",\"pos\",\"pos\",\"pos\",\"pos\",\"pos\",\"pos\",\"pos\",\"pos\",\"pos\",\"pos\",\"pos\",\"pos\",\"pos\",\"pos\",\"pos\",\"pos\",\"pos\",\"pos\",\"pos\",\"pos\",\"pos\",\"pos\",\"pos\",\"pos\",\"pos\",\"pos\",\"pos\",\"pos\",\"pos\",\"pos\",\"pos\",\"pos\",\"pos\",\"pos\",\"pos\",\"pos\",\"pos\",\"pos\",\"pos\",\"pos\",\"pos\",\"pos\",\"pos\",\"pos\",\"pos\",\"pos\",\"pos\",\"pos\",\"pos\",\"pos\",\"pos\",\"pos\",\"pos\",\"pos\",\"pos\",\"pos\",\"pos\",\"pos\",\"pos\",\"pos\",\"pos\",\"pos\",\"pos\",\"pos\",\"pos\",\"pos\",\"pos\",\"pos\",\"pos\",\"pos\",\"pos\",\"pos\",\"pos\",\"pos\",\"pos\",\"pos\",\"pos\",\"pos\",\"pos\",\"pos\",\"pos\",\"pos\",\"pos\",\"pos\",\"pos\",\"pos\",\"pos\",\"pos\",\"pos\",\"pos\",\"pos\",\"pos\",\"pos\",\"pos\",\"pos\",\"pos\",\"pos\",\"pos\",\"pos\",\"pos\",\"pos\",\"pos\",\"pos\",\"pos\",\"pos\",\"pos\",\"pos\",\"pos\",\"pos\",\"pos\",\"pos\",\"pos\",\"pos\",\"pos\",\"pos\",\"pos\",\"pos\",\"pos\",\"pos\",\"pos\",\"pos\",\"pos\",\"pos\",\"pos\",\"pos\",\"pos\",\"pos\",\"pos\",\"pos\",\"pos\",\"pos\",\"pos\",\"pos\",\"pos\",\"pos\",\"pos\",\"pos\",\"pos\",\"pos\",\"pos\",\"pos\",\"pos\",\"pos\",\"pos\",\"pos\",\"pos\",\"pos\",\"pos\",\"pos\",\"pos\",\"pos\",\"pos\",\"pos\",\"pos\",\"pos\",\"pos\",\"pos\",\"pos\",\"pos\",\"pos\",\"pos\",\"pos\",\"pos\",\"pos\",\"pos\",\"pos\",\"pos\",\"pos\",\"pos\",\"pos\",\"pos\",\"pos\",\"pos\",\"pos\",\"pos\",\"pos\",\"pos\",\"pos\",\"pos\",\"pos\",\"pos\",\"pos\",\"pos\",\"pos\",\"pos\",\"pos\",\"pos\",\"pos\",\"pos\",\"pos\",\"pos\",\"pos\",\"pos\",\"pos\",\"pos\",\"pos\",\"pos\",\"pos\",\"pos\",\"pos\",\"pos\",\"pos\",\"pos\",\"pos\",\"pos\",\"pos\",\"pos\",\"pos\",\"pos\",\"pos\",\"pos\",\"pos\",\"pos\",\"pos\",\"pos\",\"pos\",\"pos\",\"pos\",\"pos\",\"pos\",\"pos\",\"pos\",\"pos\",\"pos\",\"pos\",\"pos\",\"pos\",\"pos\",\"pos\",\"pos\",\"pos\",\"pos\",\"pos\",\"pos\",\"pos\",\"pos\",\"pos\",\"pos\",\"pos\",\"pos\",\"pos\",\"pos\",\"pos\",\"pos\",\"pos\",\"pos\",\"pos\",\"pos\",\"pos\",\"pos\",\"pos\",\"pos\",\"pos\",\"pos\",\"pos\",\"pos\",\"pos\",\"pos\",\"pos\",\"pos\",\"pos\",\"pos\",\"pos\",\"pos\",\"pos\",\"pos\",\"pos\",\"pos\",\"pos\",\"pos\",\"pos\",\"pos\",\"pos\",\"pos\",\"pos\",\"pos\",\"pos\",\"pos\",\"pos\",\"pos\",\"pos\",\"pos\",\"pos\",\"pos\",\"pos\",\"pos\",\"pos\",\"pos\",\"pos\",\"pos\",\"pos\",\"pos\",\"pos\",\"pos\",\"pos\",\"pos\",\"pos\",\"pos\",\"pos\",\"pos\",\"pos\",\"pos\",\"pos\",\"pos\",\"pos\",\"pos\",\"pos\",\"pos\",\"pos\",\"pos\",\"pos\",\"pos\",\"pos\",\"pos\",\"pos\",\"pos\",\"pos\",\"pos\",\"pos\",\"pos\",\"pos\",\"pos\",\"pos\",\"pos\",\"pos\",\"pos\",\"pos\",\"pos\",\"pos\",\"pos\",\"pos\",\"pos\",\"pos\",\"pos\",\"pos\",\"pos\",\"pos\",\"pos\",\"pos\",\"pos\",\"pos\",\"pos\",\"pos\",\"pos\",\"pos\",\"pos\",\"pos\",\"pos\",\"pos\",\"pos\",\"pos\",\"pos\",\"pos\",\"pos\",\"pos\",\"pos\",\"pos\",\"pos\",\"pos\",\"pos\",\"pos\",\"pos\",\"pos\",\"pos\",\"pos\",\"pos\",\"pos\",\"pos\",\"pos\",\"pos\",\"pos\",\"pos\",\"pos\",\"pos\",\"pos\",\"pos\",\"pos\",\"pos\",\"pos\",\"pos\",\"pos\",\"pos\",\"pos\",\"pos\",\"pos\",\"pos\",\"pos\",\"pos\",\"pos\",\"pos\",\"pos\",\"pos\",\"pos\",\"pos\",\"pos\",\"pos\",\"pos\",\"pos\",\"pos\",\"pos\",\"pos\",\"pos\",\"pos\",\"pos\",\"pos\",\"pos\",\"pos\",\"pos\",\"pos\",\"pos\",\"pos\",\"pos\",\"pos\",\"pos\",\"pos\",\"pos\",\"pos\",\"pos\",\"pos\",\"pos\",\"pos\",\"pos\",\"pos\",\"pos\",\"pos\",\"pos\",\"pos\",\"pos\",\"pos\",\"pos\",\"pos\",\"pos\",\"pos\",\"pos\",\"pos\",\"pos\",\"pos\",\"pos\",\"pos\",\"pos\",\"pos\",\"pos\",\"pos\",\"pos\",\"pos\",\"pos\",\"pos\",\"pos\",\"pos\",\"pos\",\"pos\",\"pos\",\"pos\",\"pos\",\"pos\",\"pos\",\"pos\",\"pos\",\"pos\",\"pos\",\"pos\",\"pos\",\"pos\",\"pos\",\"pos\",\"pos\",\"pos\",\"pos\",\"pos\",\"pos\",\"pos\",\"pos\",\"pos\",\"pos\",\"pos\",\"pos\",\"pos\",\"pos\",\"pos\",\"pos\",\"pos\",\"pos\",\"pos\",\"pos\",\"pos\",\"pos\",\"pos\",\"pos\",\"pos\",\"pos\",\"pos\",\"pos\",\"pos\",\"pos\",\"pos\",\"pos\",\"pos\",\"pos\",\"pos\",\"pos\",\"pos\",\"pos\",\"pos\",\"pos\",\"pos\",\"pos\",\"pos\",\"pos\",\"pos\",\"pos\",\"pos\",\"pos\",\"pos\",\"pos\",\"pos\",\"pos\",\"pos\",\"pos\",\"pos\",\"pos\",\"pos\",\"pos\",\"pos\",\"pos\",\"pos\",\"pos\",\"pos\",\"pos\",\"pos\",\"pos\",\"pos\",\"pos\",\"pos\",\"pos\",\"pos\",\"pos\",\"pos\",\"pos\",\"pos\",\"pos\",\"pos\",\"pos\",\"pos\",\"pos\",\"pos\",\"pos\",\"pos\",\"pos\",\"pos\",\"pos\",\"pos\",\"pos\",\"pos\",\"pos\",\"pos\",\"pos\",\"pos\",\"pos\",\"pos\",\"pos\",\"pos\",\"pos\",\"pos\",\"pos\",\"pos\",\"pos\",\"pos\"],\"xaxis\":\"x\",\"yaxis\":\"y\",\"type\":\"histogram\"},{\"alignmentgroup\":\"True\",\"bingroup\":\"x\",\"hovertemplate\":\"label=%{x}<br>count=%{y}<extra></extra>\",\"legendgroup\":\"neg\",\"marker\":{\"color\":\"#EF553B\",\"pattern\":{\"shape\":\"\"}},\"name\":\"neg\",\"offsetgroup\":\"neg\",\"orientation\":\"v\",\"showlegend\":true,\"x\":[\"neg\",\"neg\",\"neg\",\"neg\",\"neg\",\"neg\",\"neg\",\"neg\",\"neg\",\"neg\",\"neg\",\"neg\",\"neg\",\"neg\",\"neg\",\"neg\",\"neg\",\"neg\",\"neg\",\"neg\",\"neg\",\"neg\",\"neg\",\"neg\",\"neg\",\"neg\",\"neg\",\"neg\",\"neg\",\"neg\",\"neg\",\"neg\",\"neg\",\"neg\",\"neg\",\"neg\",\"neg\",\"neg\",\"neg\",\"neg\",\"neg\",\"neg\",\"neg\",\"neg\",\"neg\",\"neg\",\"neg\",\"neg\",\"neg\",\"neg\",\"neg\",\"neg\",\"neg\",\"neg\",\"neg\",\"neg\",\"neg\",\"neg\",\"neg\",\"neg\",\"neg\",\"neg\",\"neg\",\"neg\",\"neg\",\"neg\",\"neg\",\"neg\",\"neg\",\"neg\",\"neg\",\"neg\",\"neg\",\"neg\",\"neg\",\"neg\",\"neg\",\"neg\",\"neg\",\"neg\",\"neg\",\"neg\",\"neg\",\"neg\",\"neg\",\"neg\",\"neg\",\"neg\",\"neg\",\"neg\",\"neg\",\"neg\",\"neg\",\"neg\",\"neg\",\"neg\",\"neg\",\"neg\",\"neg\",\"neg\",\"neg\",\"neg\",\"neg\",\"neg\",\"neg\",\"neg\",\"neg\",\"neg\",\"neg\",\"neg\",\"neg\",\"neg\",\"neg\",\"neg\",\"neg\",\"neg\",\"neg\",\"neg\",\"neg\",\"neg\",\"neg\",\"neg\",\"neg\",\"neg\",\"neg\",\"neg\",\"neg\",\"neg\",\"neg\",\"neg\",\"neg\",\"neg\",\"neg\",\"neg\",\"neg\",\"neg\",\"neg\",\"neg\",\"neg\",\"neg\",\"neg\",\"neg\",\"neg\",\"neg\",\"neg\",\"neg\",\"neg\",\"neg\",\"neg\",\"neg\",\"neg\",\"neg\",\"neg\",\"neg\",\"neg\",\"neg\",\"neg\",\"neg\",\"neg\",\"neg\",\"neg\",\"neg\",\"neg\",\"neg\",\"neg\",\"neg\",\"neg\",\"neg\",\"neg\",\"neg\",\"neg\",\"neg\",\"neg\",\"neg\",\"neg\",\"neg\",\"neg\",\"neg\",\"neg\",\"neg\",\"neg\",\"neg\",\"neg\",\"neg\",\"neg\",\"neg\",\"neg\",\"neg\",\"neg\",\"neg\",\"neg\",\"neg\",\"neg\",\"neg\",\"neg\",\"neg\",\"neg\",\"neg\",\"neg\",\"neg\",\"neg\",\"neg\",\"neg\",\"neg\",\"neg\",\"neg\",\"neg\",\"neg\",\"neg\",\"neg\",\"neg\",\"neg\",\"neg\",\"neg\",\"neg\",\"neg\",\"neg\",\"neg\",\"neg\",\"neg\",\"neg\",\"neg\",\"neg\",\"neg\",\"neg\",\"neg\",\"neg\",\"neg\",\"neg\",\"neg\",\"neg\",\"neg\",\"neg\",\"neg\",\"neg\",\"neg\",\"neg\",\"neg\",\"neg\",\"neg\",\"neg\",\"neg\",\"neg\",\"neg\",\"neg\",\"neg\",\"neg\",\"neg\",\"neg\",\"neg\",\"neg\",\"neg\",\"neg\",\"neg\",\"neg\",\"neg\",\"neg\",\"neg\",\"neg\",\"neg\",\"neg\",\"neg\",\"neg\",\"neg\",\"neg\",\"neg\",\"neg\",\"neg\",\"neg\",\"neg\",\"neg\",\"neg\",\"neg\",\"neg\",\"neg\",\"neg\",\"neg\",\"neg\",\"neg\",\"neg\",\"neg\",\"neg\",\"neg\",\"neg\",\"neg\",\"neg\",\"neg\",\"neg\",\"neg\",\"neg\",\"neg\",\"neg\",\"neg\",\"neg\",\"neg\",\"neg\",\"neg\",\"neg\",\"neg\",\"neg\",\"neg\",\"neg\",\"neg\",\"neg\",\"neg\",\"neg\",\"neg\",\"neg\",\"neg\",\"neg\",\"neg\",\"neg\",\"neg\",\"neg\",\"neg\",\"neg\",\"neg\",\"neg\",\"neg\",\"neg\",\"neg\",\"neg\",\"neg\",\"neg\",\"neg\",\"neg\",\"neg\",\"neg\",\"neg\",\"neg\",\"neg\",\"neg\",\"neg\",\"neg\",\"neg\",\"neg\",\"neg\",\"neg\",\"neg\",\"neg\",\"neg\",\"neg\",\"neg\",\"neg\",\"neg\",\"neg\",\"neg\",\"neg\",\"neg\",\"neg\",\"neg\",\"neg\",\"neg\",\"neg\",\"neg\",\"neg\",\"neg\",\"neg\",\"neg\",\"neg\",\"neg\",\"neg\",\"neg\",\"neg\",\"neg\",\"neg\",\"neg\",\"neg\",\"neg\",\"neg\",\"neg\",\"neg\",\"neg\",\"neg\",\"neg\",\"neg\",\"neg\",\"neg\",\"neg\",\"neg\",\"neg\",\"neg\",\"neg\",\"neg\",\"neg\",\"neg\",\"neg\",\"neg\",\"neg\",\"neg\",\"neg\",\"neg\",\"neg\",\"neg\",\"neg\",\"neg\",\"neg\",\"neg\",\"neg\",\"neg\",\"neg\",\"neg\",\"neg\",\"neg\",\"neg\",\"neg\",\"neg\",\"neg\",\"neg\",\"neg\",\"neg\",\"neg\",\"neg\",\"neg\",\"neg\",\"neg\",\"neg\",\"neg\",\"neg\",\"neg\",\"neg\",\"neg\",\"neg\",\"neg\",\"neg\",\"neg\",\"neg\",\"neg\",\"neg\",\"neg\",\"neg\",\"neg\",\"neg\",\"neg\",\"neg\",\"neg\",\"neg\",\"neg\",\"neg\",\"neg\",\"neg\",\"neg\",\"neg\",\"neg\",\"neg\",\"neg\",\"neg\",\"neg\",\"neg\",\"neg\",\"neg\",\"neg\",\"neg\",\"neg\",\"neg\",\"neg\",\"neg\",\"neg\",\"neg\",\"neg\",\"neg\",\"neg\",\"neg\",\"neg\",\"neg\",\"neg\",\"neg\",\"neg\",\"neg\",\"neg\",\"neg\",\"neg\",\"neg\",\"neg\",\"neg\",\"neg\",\"neg\",\"neg\",\"neg\",\"neg\",\"neg\",\"neg\",\"neg\",\"neg\",\"neg\",\"neg\",\"neg\",\"neg\",\"neg\",\"neg\",\"neg\",\"neg\",\"neg\",\"neg\",\"neg\",\"neg\",\"neg\",\"neg\",\"neg\",\"neg\",\"neg\",\"neg\",\"neg\",\"neg\",\"neg\",\"neg\",\"neg\",\"neg\",\"neg\",\"neg\",\"neg\",\"neg\",\"neg\",\"neg\",\"neg\",\"neg\",\"neg\",\"neg\",\"neg\",\"neg\",\"neg\",\"neg\",\"neg\",\"neg\",\"neg\",\"neg\",\"neg\",\"neg\",\"neg\",\"neg\",\"neg\",\"neg\",\"neg\",\"neg\",\"neg\",\"neg\",\"neg\",\"neg\",\"neg\",\"neg\",\"neg\",\"neg\",\"neg\",\"neg\",\"neg\",\"neg\",\"neg\",\"neg\",\"neg\",\"neg\",\"neg\",\"neg\",\"neg\",\"neg\",\"neg\",\"neg\",\"neg\",\"neg\",\"neg\",\"neg\",\"neg\",\"neg\",\"neg\",\"neg\",\"neg\",\"neg\",\"neg\",\"neg\",\"neg\",\"neg\",\"neg\",\"neg\",\"neg\",\"neg\",\"neg\",\"neg\",\"neg\",\"neg\",\"neg\",\"neg\",\"neg\",\"neg\",\"neg\",\"neg\",\"neg\",\"neg\",\"neg\",\"neg\",\"neg\",\"neg\",\"neg\",\"neg\",\"neg\",\"neg\",\"neg\",\"neg\",\"neg\",\"neg\",\"neg\",\"neg\",\"neg\",\"neg\",\"neg\",\"neg\",\"neg\",\"neg\",\"neg\",\"neg\",\"neg\",\"neg\",\"neg\",\"neg\",\"neg\",\"neg\",\"neg\",\"neg\",\"neg\",\"neg\",\"neg\",\"neg\",\"neg\",\"neg\",\"neg\",\"neg\",\"neg\",\"neg\",\"neg\",\"neg\",\"neg\",\"neg\",\"neg\",\"neg\",\"neg\",\"neg\",\"neg\",\"neg\",\"neg\",\"neg\",\"neg\",\"neg\",\"neg\",\"neg\",\"neg\",\"neg\",\"neg\",\"neg\",\"neg\",\"neg\",\"neg\",\"neg\",\"neg\",\"neg\",\"neg\",\"neg\",\"neg\",\"neg\",\"neg\",\"neg\",\"neg\",\"neg\",\"neg\",\"neg\",\"neg\",\"neg\",\"neg\",\"neg\",\"neg\",\"neg\",\"neg\",\"neg\",\"neg\",\"neg\",\"neg\",\"neg\",\"neg\",\"neg\",\"neg\",\"neg\",\"neg\",\"neg\",\"neg\",\"neg\",\"neg\",\"neg\",\"neg\",\"neg\",\"neg\",\"neg\",\"neg\",\"neg\",\"neg\",\"neg\",\"neg\",\"neg\",\"neg\",\"neg\",\"neg\",\"neg\",\"neg\",\"neg\",\"neg\",\"neg\",\"neg\",\"neg\",\"neg\",\"neg\",\"neg\",\"neg\",\"neg\",\"neg\",\"neg\",\"neg\",\"neg\",\"neg\",\"neg\",\"neg\",\"neg\",\"neg\",\"neg\",\"neg\",\"neg\",\"neg\",\"neg\",\"neg\",\"neg\",\"neg\",\"neg\",\"neg\",\"neg\",\"neg\",\"neg\",\"neg\",\"neg\",\"neg\",\"neg\",\"neg\",\"neg\",\"neg\",\"neg\",\"neg\",\"neg\",\"neg\",\"neg\",\"neg\",\"neg\",\"neg\",\"neg\",\"neg\",\"neg\",\"neg\",\"neg\",\"neg\",\"neg\",\"neg\",\"neg\",\"neg\",\"neg\",\"neg\",\"neg\",\"neg\",\"neg\",\"neg\",\"neg\",\"neg\",\"neg\",\"neg\",\"neg\",\"neg\",\"neg\",\"neg\",\"neg\",\"neg\",\"neg\",\"neg\",\"neg\",\"neg\",\"neg\",\"neg\",\"neg\",\"neg\",\"neg\",\"neg\",\"neg\",\"neg\",\"neg\",\"neg\",\"neg\",\"neg\",\"neg\",\"neg\",\"neg\",\"neg\",\"neg\",\"neg\",\"neg\",\"neg\",\"neg\",\"neg\",\"neg\",\"neg\",\"neg\",\"neg\",\"neg\",\"neg\",\"neg\",\"neg\",\"neg\",\"neg\",\"neg\",\"neg\",\"neg\",\"neg\",\"neg\",\"neg\",\"neg\",\"neg\",\"neg\",\"neg\",\"neg\",\"neg\",\"neg\",\"neg\",\"neg\",\"neg\",\"neg\",\"neg\",\"neg\",\"neg\",\"neg\",\"neg\",\"neg\",\"neg\",\"neg\",\"neg\",\"neg\",\"neg\",\"neg\",\"neg\",\"neg\",\"neg\",\"neg\",\"neg\",\"neg\",\"neg\",\"neg\",\"neg\",\"neg\",\"neg\",\"neg\",\"neg\",\"neg\",\"neg\",\"neg\",\"neg\",\"neg\",\"neg\",\"neg\",\"neg\",\"neg\",\"neg\",\"neg\",\"neg\",\"neg\",\"neg\",\"neg\",\"neg\",\"neg\",\"neg\",\"neg\",\"neg\",\"neg\",\"neg\",\"neg\",\"neg\",\"neg\",\"neg\",\"neg\",\"neg\",\"neg\",\"neg\",\"neg\",\"neg\",\"neg\",\"neg\",\"neg\",\"neg\",\"neg\",\"neg\",\"neg\",\"neg\",\"neg\",\"neg\",\"neg\",\"neg\",\"neg\",\"neg\",\"neg\",\"neg\",\"neg\",\"neg\",\"neg\",\"neg\",\"neg\",\"neg\",\"neg\",\"neg\",\"neg\",\"neg\",\"neg\",\"neg\",\"neg\",\"neg\",\"neg\",\"neg\",\"neg\",\"neg\",\"neg\",\"neg\",\"neg\",\"neg\",\"neg\",\"neg\",\"neg\",\"neg\",\"neg\",\"neg\",\"neg\",\"neg\",\"neg\",\"neg\",\"neg\",\"neg\",\"neg\",\"neg\",\"neg\",\"neg\",\"neg\",\"neg\",\"neg\",\"neg\",\"neg\",\"neg\",\"neg\",\"neg\",\"neg\",\"neg\",\"neg\",\"neg\",\"neg\",\"neg\",\"neg\",\"neg\",\"neg\",\"neg\",\"neg\",\"neg\",\"neg\",\"neg\",\"neg\",\"neg\",\"neg\",\"neg\",\"neg\",\"neg\",\"neg\",\"neg\",\"neg\",\"neg\",\"neg\",\"neg\",\"neg\",\"neg\",\"neg\",\"neg\",\"neg\",\"neg\",\"neg\",\"neg\",\"neg\",\"neg\",\"neg\",\"neg\",\"neg\",\"neg\",\"neg\",\"neg\",\"neg\",\"neg\",\"neg\",\"neg\",\"neg\",\"neg\",\"neg\",\"neg\",\"neg\",\"neg\",\"neg\",\"neg\",\"neg\",\"neg\",\"neg\",\"neg\",\"neg\",\"neg\",\"neg\",\"neg\",\"neg\",\"neg\",\"neg\",\"neg\",\"neg\",\"neg\",\"neg\",\"neg\",\"neg\",\"neg\",\"neg\",\"neg\",\"neg\",\"neg\",\"neg\",\"neg\",\"neg\",\"neg\",\"neg\",\"neg\",\"neg\",\"neg\",\"neg\",\"neg\",\"neg\",\"neg\",\"neg\",\"neg\",\"neg\",\"neg\",\"neg\",\"neg\",\"neg\",\"neg\",\"neg\",\"neg\",\"neg\",\"neg\",\"neg\",\"neg\",\"neg\",\"neg\",\"neg\",\"neg\",\"neg\",\"neg\",\"neg\",\"neg\",\"neg\",\"neg\",\"neg\",\"neg\",\"neg\",\"neg\",\"neg\",\"neg\",\"neg\",\"neg\",\"neg\",\"neg\",\"neg\",\"neg\",\"neg\",\"neg\",\"neg\",\"neg\",\"neg\",\"neg\",\"neg\",\"neg\",\"neg\",\"neg\",\"neg\",\"neg\",\"neg\",\"neg\",\"neg\",\"neg\",\"neg\",\"neg\",\"neg\",\"neg\",\"neg\",\"neg\",\"neg\",\"neg\",\"neg\",\"neg\",\"neg\",\"neg\",\"neg\",\"neg\",\"neg\",\"neg\",\"neg\",\"neg\",\"neg\",\"neg\",\"neg\",\"neg\",\"neg\",\"neg\",\"neg\",\"neg\",\"neg\",\"neg\",\"neg\",\"neg\",\"neg\",\"neg\",\"neg\",\"neg\",\"neg\",\"neg\",\"neg\",\"neg\",\"neg\",\"neg\",\"neg\",\"neg\",\"neg\",\"neg\",\"neg\",\"neg\",\"neg\",\"neg\",\"neg\",\"neg\",\"neg\",\"neg\",\"neg\",\"neg\",\"neg\",\"neg\",\"neg\",\"neg\",\"neg\",\"neg\",\"neg\",\"neg\",\"neg\",\"neg\",\"neg\",\"neg\",\"neg\",\"neg\",\"neg\",\"neg\",\"neg\",\"neg\",\"neg\",\"neg\",\"neg\",\"neg\",\"neg\",\"neg\",\"neg\",\"neg\",\"neg\",\"neg\",\"neg\",\"neg\",\"neg\",\"neg\",\"neg\",\"neg\",\"neg\",\"neg\",\"neg\",\"neg\",\"neg\",\"neg\",\"neg\",\"neg\",\"neg\",\"neg\",\"neg\",\"neg\",\"neg\",\"neg\",\"neg\",\"neg\",\"neg\",\"neg\",\"neg\",\"neg\",\"neg\",\"neg\",\"neg\",\"neg\",\"neg\",\"neg\",\"neg\",\"neg\",\"neg\",\"neg\",\"neg\",\"neg\",\"neg\",\"neg\",\"neg\",\"neg\",\"neg\",\"neg\",\"neg\",\"neg\",\"neg\",\"neg\",\"neg\",\"neg\",\"neg\",\"neg\",\"neg\",\"neg\",\"neg\",\"neg\",\"neg\",\"neg\",\"neg\",\"neg\",\"neg\",\"neg\",\"neg\",\"neg\",\"neg\",\"neg\",\"neg\",\"neg\",\"neg\",\"neg\",\"neg\",\"neg\",\"neg\",\"neg\",\"neg\",\"neg\",\"neg\",\"neg\",\"neg\",\"neg\",\"neg\",\"neg\",\"neg\",\"neg\",\"neg\",\"neg\",\"neg\",\"neg\",\"neg\",\"neg\",\"neg\",\"neg\",\"neg\",\"neg\",\"neg\",\"neg\",\"neg\",\"neg\",\"neg\",\"neg\",\"neg\",\"neg\",\"neg\",\"neg\",\"neg\",\"neg\",\"neg\",\"neg\",\"neg\",\"neg\",\"neg\",\"neg\",\"neg\",\"neg\",\"neg\",\"neg\",\"neg\",\"neg\",\"neg\",\"neg\",\"neg\",\"neg\",\"neg\",\"neg\",\"neg\",\"neg\",\"neg\",\"neg\",\"neg\",\"neg\",\"neg\",\"neg\",\"neg\",\"neg\",\"neg\",\"neg\",\"neg\",\"neg\",\"neg\",\"neg\",\"neg\",\"neg\",\"neg\",\"neg\",\"neg\",\"neg\",\"neg\",\"neg\",\"neg\",\"neg\",\"neg\",\"neg\",\"neg\",\"neg\",\"neg\",\"neg\",\"neg\",\"neg\",\"neg\",\"neg\",\"neg\",\"neg\",\"neg\",\"neg\",\"neg\",\"neg\",\"neg\",\"neg\",\"neg\",\"neg\",\"neg\",\"neg\",\"neg\",\"neg\",\"neg\",\"neg\",\"neg\",\"neg\",\"neg\",\"neg\",\"neg\",\"neg\",\"neg\",\"neg\",\"neg\",\"neg\",\"neg\",\"neg\",\"neg\",\"neg\",\"neg\",\"neg\",\"neg\",\"neg\",\"neg\",\"neg\",\"neg\",\"neg\",\"neg\",\"neg\",\"neg\",\"neg\",\"neg\",\"neg\",\"neg\",\"neg\",\"neg\",\"neg\",\"neg\",\"neg\",\"neg\",\"neg\",\"neg\",\"neg\",\"neg\",\"neg\",\"neg\",\"neg\",\"neg\",\"neg\",\"neg\",\"neg\",\"neg\",\"neg\",\"neg\",\"neg\",\"neg\",\"neg\",\"neg\",\"neg\",\"neg\",\"neg\",\"neg\",\"neg\",\"neg\",\"neg\",\"neg\",\"neg\",\"neg\",\"neg\",\"neg\",\"neg\",\"neg\",\"neg\",\"neg\",\"neg\",\"neg\",\"neg\",\"neg\",\"neg\",\"neg\",\"neg\",\"neg\",\"neg\",\"neg\",\"neg\",\"neg\",\"neg\",\"neg\",\"neg\",\"neg\",\"neg\",\"neg\",\"neg\",\"neg\",\"neg\",\"neg\",\"neg\",\"neg\",\"neg\",\"neg\",\"neg\",\"neg\",\"neg\",\"neg\",\"neg\",\"neg\",\"neg\",\"neg\",\"neg\",\"neg\",\"neg\",\"neg\",\"neg\",\"neg\",\"neg\",\"neg\",\"neg\",\"neg\",\"neg\",\"neg\",\"neg\",\"neg\",\"neg\",\"neg\",\"neg\",\"neg\",\"neg\",\"neg\",\"neg\",\"neg\",\"neg\",\"neg\",\"neg\",\"neg\",\"neg\",\"neg\",\"neg\",\"neg\",\"neg\",\"neg\",\"neg\",\"neg\",\"neg\",\"neg\",\"neg\",\"neg\",\"neg\",\"neg\",\"neg\",\"neg\",\"neg\",\"neg\",\"neg\",\"neg\",\"neg\",\"neg\",\"neg\",\"neg\",\"neg\",\"neg\",\"neg\",\"neg\",\"neg\",\"neg\",\"neg\",\"neg\",\"neg\",\"neg\",\"neg\",\"neg\",\"neg\",\"neg\",\"neg\",\"neg\",\"neg\",\"neg\",\"neg\",\"neg\",\"neg\",\"neg\",\"neg\",\"neg\",\"neg\",\"neg\",\"neg\",\"neg\",\"neg\",\"neg\",\"neg\",\"neg\",\"neg\",\"neg\",\"neg\",\"neg\",\"neg\",\"neg\",\"neg\",\"neg\",\"neg\",\"neg\",\"neg\",\"neg\",\"neg\",\"neg\",\"neg\",\"neg\",\"neg\",\"neg\",\"neg\",\"neg\",\"neg\",\"neg\",\"neg\",\"neg\",\"neg\",\"neg\",\"neg\",\"neg\",\"neg\",\"neg\",\"neg\",\"neg\",\"neg\",\"neg\",\"neg\",\"neg\",\"neg\",\"neg\",\"neg\",\"neg\",\"neg\",\"neg\",\"neg\",\"neg\",\"neg\",\"neg\",\"neg\",\"neg\",\"neg\",\"neg\",\"neg\",\"neg\",\"neg\",\"neg\",\"neg\",\"neg\",\"neg\",\"neg\",\"neg\",\"neg\",\"neg\",\"neg\",\"neg\",\"neg\",\"neg\",\"neg\",\"neg\",\"neg\",\"neg\",\"neg\",\"neg\",\"neg\",\"neg\",\"neg\",\"neg\",\"neg\",\"neg\",\"neg\",\"neg\",\"neg\",\"neg\",\"neg\",\"neg\",\"neg\",\"neg\",\"neg\",\"neg\",\"neg\",\"neg\",\"neg\",\"neg\",\"neg\",\"neg\",\"neg\",\"neg\",\"neg\",\"neg\",\"neg\",\"neg\",\"neg\",\"neg\",\"neg\",\"neg\",\"neg\",\"neg\",\"neg\",\"neg\",\"neg\",\"neg\",\"neg\",\"neg\",\"neg\",\"neg\",\"neg\",\"neg\",\"neg\",\"neg\",\"neg\",\"neg\",\"neg\",\"neg\",\"neg\",\"neg\",\"neg\",\"neg\",\"neg\",\"neg\",\"neg\",\"neg\",\"neg\",\"neg\",\"neg\",\"neg\",\"neg\",\"neg\",\"neg\",\"neg\",\"neg\",\"neg\",\"neg\",\"neg\",\"neg\",\"neg\",\"neg\",\"neg\",\"neg\",\"neg\",\"neg\",\"neg\",\"neg\",\"neg\",\"neg\",\"neg\",\"neg\",\"neg\",\"neg\",\"neg\",\"neg\",\"neg\",\"neg\",\"neg\",\"neg\",\"neg\",\"neg\",\"neg\",\"neg\",\"neg\",\"neg\",\"neg\",\"neg\",\"neg\",\"neg\",\"neg\",\"neg\",\"neg\",\"neg\",\"neg\",\"neg\",\"neg\",\"neg\",\"neg\",\"neg\",\"neg\",\"neg\",\"neg\",\"neg\",\"neg\",\"neg\",\"neg\",\"neg\",\"neg\",\"neg\",\"neg\",\"neg\",\"neg\",\"neg\",\"neg\",\"neg\",\"neg\",\"neg\",\"neg\",\"neg\",\"neg\",\"neg\",\"neg\",\"neg\",\"neg\",\"neg\",\"neg\",\"neg\",\"neg\",\"neg\",\"neg\",\"neg\",\"neg\",\"neg\",\"neg\",\"neg\",\"neg\",\"neg\",\"neg\",\"neg\",\"neg\",\"neg\",\"neg\",\"neg\",\"neg\",\"neg\",\"neg\",\"neg\",\"neg\",\"neg\",\"neg\",\"neg\",\"neg\",\"neg\",\"neg\",\"neg\",\"neg\",\"neg\",\"neg\",\"neg\",\"neg\",\"neg\",\"neg\",\"neg\",\"neg\",\"neg\",\"neg\",\"neg\",\"neg\",\"neg\",\"neg\",\"neg\",\"neg\",\"neg\",\"neg\",\"neg\",\"neg\",\"neg\",\"neg\",\"neg\",\"neg\",\"neg\",\"neg\",\"neg\",\"neg\",\"neg\",\"neg\",\"neg\",\"neg\",\"neg\",\"neg\",\"neg\",\"neg\",\"neg\",\"neg\",\"neg\",\"neg\",\"neg\",\"neg\",\"neg\",\"neg\",\"neg\",\"neg\",\"neg\",\"neg\",\"neg\",\"neg\",\"neg\",\"neg\",\"neg\",\"neg\",\"neg\",\"neg\",\"neg\",\"neg\",\"neg\",\"neg\",\"neg\",\"neg\",\"neg\",\"neg\",\"neg\",\"neg\",\"neg\",\"neg\",\"neg\",\"neg\",\"neg\",\"neg\",\"neg\",\"neg\",\"neg\",\"neg\",\"neg\",\"neg\",\"neg\",\"neg\",\"neg\",\"neg\",\"neg\",\"neg\",\"neg\",\"neg\",\"neg\",\"neg\",\"neg\",\"neg\",\"neg\",\"neg\",\"neg\",\"neg\",\"neg\",\"neg\",\"neg\",\"neg\",\"neg\",\"neg\",\"neg\",\"neg\",\"neg\",\"neg\",\"neg\",\"neg\",\"neg\",\"neg\",\"neg\",\"neg\",\"neg\",\"neg\",\"neg\",\"neg\",\"neg\",\"neg\",\"neg\",\"neg\",\"neg\",\"neg\",\"neg\",\"neg\",\"neg\",\"neg\",\"neg\",\"neg\",\"neg\",\"neg\",\"neg\",\"neg\",\"neg\",\"neg\",\"neg\",\"neg\",\"neg\",\"neg\",\"neg\",\"neg\",\"neg\",\"neg\",\"neg\",\"neg\",\"neg\",\"neg\",\"neg\",\"neg\",\"neg\",\"neg\",\"neg\",\"neg\",\"neg\",\"neg\",\"neg\",\"neg\",\"neg\",\"neg\",\"neg\",\"neg\",\"neg\",\"neg\",\"neg\",\"neg\",\"neg\",\"neg\",\"neg\",\"neg\",\"neg\",\"neg\",\"neg\",\"neg\",\"neg\",\"neg\",\"neg\",\"neg\",\"neg\",\"neg\",\"neg\",\"neg\",\"neg\",\"neg\",\"neg\",\"neg\",\"neg\",\"neg\",\"neg\",\"neg\",\"neg\",\"neg\",\"neg\",\"neg\",\"neg\",\"neg\",\"neg\",\"neg\",\"neg\",\"neg\",\"neg\",\"neg\",\"neg\",\"neg\",\"neg\",\"neg\",\"neg\",\"neg\",\"neg\",\"neg\",\"neg\",\"neg\",\"neg\",\"neg\",\"neg\",\"neg\",\"neg\",\"neg\",\"neg\",\"neg\",\"neg\",\"neg\",\"neg\",\"neg\",\"neg\",\"neg\",\"neg\",\"neg\",\"neg\",\"neg\",\"neg\",\"neg\",\"neg\",\"neg\",\"neg\",\"neg\",\"neg\",\"neg\",\"neg\",\"neg\",\"neg\",\"neg\",\"neg\",\"neg\",\"neg\",\"neg\",\"neg\",\"neg\",\"neg\",\"neg\",\"neg\",\"neg\",\"neg\",\"neg\",\"neg\",\"neg\",\"neg\",\"neg\",\"neg\",\"neg\",\"neg\",\"neg\",\"neg\",\"neg\",\"neg\",\"neg\",\"neg\",\"neg\",\"neg\",\"neg\",\"neg\",\"neg\",\"neg\",\"neg\",\"neg\",\"neg\",\"neg\",\"neg\",\"neg\",\"neg\",\"neg\",\"neg\",\"neg\",\"neg\",\"neg\",\"neg\",\"neg\",\"neg\",\"neg\",\"neg\",\"neg\",\"neg\",\"neg\",\"neg\",\"neg\",\"neg\",\"neg\",\"neg\",\"neg\",\"neg\",\"neg\",\"neg\",\"neg\",\"neg\",\"neg\",\"neg\",\"neg\",\"neg\",\"neg\",\"neg\",\"neg\",\"neg\",\"neg\",\"neg\",\"neg\",\"neg\",\"neg\",\"neg\",\"neg\",\"neg\",\"neg\",\"neg\",\"neg\",\"neg\",\"neg\",\"neg\",\"neg\",\"neg\",\"neg\",\"neg\",\"neg\",\"neg\",\"neg\",\"neg\",\"neg\",\"neg\",\"neg\",\"neg\",\"neg\",\"neg\",\"neg\",\"neg\",\"neg\",\"neg\",\"neg\",\"neg\",\"neg\",\"neg\",\"neg\",\"neg\",\"neg\",\"neg\",\"neg\",\"neg\",\"neg\",\"neg\",\"neg\",\"neg\",\"neg\",\"neg\",\"neg\",\"neg\",\"neg\",\"neg\",\"neg\",\"neg\",\"neg\",\"neg\",\"neg\",\"neg\",\"neg\",\"neg\",\"neg\",\"neg\",\"neg\",\"neg\",\"neg\",\"neg\",\"neg\",\"neg\",\"neg\",\"neg\",\"neg\",\"neg\",\"neg\",\"neg\",\"neg\",\"neg\",\"neg\",\"neg\",\"neg\",\"neg\",\"neg\",\"neg\",\"neg\",\"neg\",\"neg\",\"neg\",\"neg\",\"neg\",\"neg\",\"neg\",\"neg\",\"neg\",\"neg\",\"neg\",\"neg\",\"neg\",\"neg\",\"neg\",\"neg\",\"neg\",\"neg\",\"neg\",\"neg\",\"neg\",\"neg\",\"neg\",\"neg\",\"neg\",\"neg\",\"neg\",\"neg\",\"neg\",\"neg\",\"neg\",\"neg\",\"neg\",\"neg\",\"neg\",\"neg\",\"neg\",\"neg\",\"neg\",\"neg\",\"neg\",\"neg\",\"neg\",\"neg\",\"neg\",\"neg\",\"neg\",\"neg\",\"neg\",\"neg\",\"neg\",\"neg\",\"neg\",\"neg\",\"neg\",\"neg\",\"neg\",\"neg\",\"neg\",\"neg\",\"neg\",\"neg\",\"neg\",\"neg\",\"neg\",\"neg\",\"neg\",\"neg\",\"neg\",\"neg\",\"neg\",\"neg\",\"neg\",\"neg\",\"neg\",\"neg\",\"neg\",\"neg\",\"neg\",\"neg\",\"neg\",\"neg\",\"neg\",\"neg\",\"neg\",\"neg\",\"neg\",\"neg\",\"neg\",\"neg\",\"neg\",\"neg\",\"neg\",\"neg\",\"neg\",\"neg\",\"neg\",\"neg\",\"neg\",\"neg\",\"neg\",\"neg\",\"neg\",\"neg\",\"neg\",\"neg\",\"neg\",\"neg\",\"neg\",\"neg\",\"neg\",\"neg\",\"neg\",\"neg\",\"neg\",\"neg\",\"neg\",\"neg\",\"neg\",\"neg\",\"neg\",\"neg\",\"neg\",\"neg\",\"neg\",\"neg\",\"neg\",\"neg\",\"neg\",\"neg\",\"neg\",\"neg\",\"neg\",\"neg\",\"neg\",\"neg\",\"neg\",\"neg\",\"neg\",\"neg\",\"neg\",\"neg\",\"neg\",\"neg\",\"neg\",\"neg\",\"neg\",\"neg\",\"neg\",\"neg\",\"neg\",\"neg\",\"neg\",\"neg\",\"neg\",\"neg\",\"neg\",\"neg\",\"neg\",\"neg\",\"neg\",\"neg\",\"neg\",\"neg\",\"neg\",\"neg\",\"neg\",\"neg\",\"neg\",\"neg\",\"neg\",\"neg\",\"neg\",\"neg\",\"neg\",\"neg\",\"neg\",\"neg\",\"neg\",\"neg\",\"neg\",\"neg\",\"neg\",\"neg\",\"neg\",\"neg\",\"neg\",\"neg\",\"neg\",\"neg\",\"neg\",\"neg\",\"neg\",\"neg\",\"neg\",\"neg\",\"neg\",\"neg\",\"neg\",\"neg\",\"neg\",\"neg\",\"neg\",\"neg\",\"neg\",\"neg\",\"neg\",\"neg\",\"neg\",\"neg\",\"neg\",\"neg\",\"neg\",\"neg\",\"neg\",\"neg\",\"neg\",\"neg\",\"neg\",\"neg\",\"neg\",\"neg\",\"neg\",\"neg\",\"neg\",\"neg\",\"neg\",\"neg\",\"neg\",\"neg\",\"neg\",\"neg\",\"neg\",\"neg\",\"neg\",\"neg\",\"neg\",\"neg\",\"neg\",\"neg\",\"neg\",\"neg\",\"neg\",\"neg\",\"neg\",\"neg\",\"neg\",\"neg\",\"neg\",\"neg\",\"neg\",\"neg\",\"neg\",\"neg\",\"neg\",\"neg\",\"neg\",\"neg\",\"neg\",\"neg\",\"neg\",\"neg\",\"neg\",\"neg\",\"neg\",\"neg\",\"neg\",\"neg\",\"neg\",\"neg\",\"neg\",\"neg\",\"neg\",\"neg\",\"neg\",\"neg\",\"neg\",\"neg\",\"neg\",\"neg\",\"neg\",\"neg\",\"neg\",\"neg\",\"neg\",\"neg\",\"neg\",\"neg\",\"neg\",\"neg\",\"neg\",\"neg\",\"neg\",\"neg\",\"neg\",\"neg\",\"neg\",\"neg\",\"neg\",\"neg\",\"neg\",\"neg\",\"neg\",\"neg\",\"neg\",\"neg\",\"neg\",\"neg\",\"neg\",\"neg\",\"neg\",\"neg\",\"neg\",\"neg\",\"neg\",\"neg\",\"neg\",\"neg\",\"neg\",\"neg\",\"neg\",\"neg\",\"neg\",\"neg\",\"neg\",\"neg\",\"neg\",\"neg\",\"neg\",\"neg\",\"neg\",\"neg\",\"neg\",\"neg\",\"neg\",\"neg\",\"neg\",\"neg\",\"neg\",\"neg\",\"neg\",\"neg\",\"neg\",\"neg\",\"neg\",\"neg\",\"neg\",\"neg\",\"neg\",\"neg\",\"neg\",\"neg\",\"neg\",\"neg\",\"neg\",\"neg\",\"neg\",\"neg\",\"neg\",\"neg\",\"neg\",\"neg\",\"neg\",\"neg\",\"neg\",\"neg\",\"neg\",\"neg\",\"neg\",\"neg\",\"neg\",\"neg\",\"neg\",\"neg\",\"neg\",\"neg\",\"neg\",\"neg\",\"neg\",\"neg\",\"neg\",\"neg\",\"neg\",\"neg\",\"neg\",\"neg\",\"neg\",\"neg\",\"neg\",\"neg\",\"neg\",\"neg\",\"neg\",\"neg\",\"neg\",\"neg\",\"neg\",\"neg\",\"neg\",\"neg\",\"neg\",\"neg\",\"neg\",\"neg\",\"neg\",\"neg\",\"neg\",\"neg\",\"neg\",\"neg\",\"neg\",\"neg\",\"neg\",\"neg\",\"neg\",\"neg\",\"neg\",\"neg\",\"neg\",\"neg\",\"neg\",\"neg\",\"neg\",\"neg\",\"neg\",\"neg\",\"neg\",\"neg\",\"neg\",\"neg\",\"neg\",\"neg\",\"neg\",\"neg\",\"neg\",\"neg\",\"neg\",\"neg\",\"neg\",\"neg\",\"neg\",\"neg\",\"neg\",\"neg\",\"neg\",\"neg\",\"neg\",\"neg\",\"neg\",\"neg\",\"neg\",\"neg\",\"neg\",\"neg\",\"neg\",\"neg\",\"neg\",\"neg\",\"neg\",\"neg\",\"neg\",\"neg\",\"neg\",\"neg\",\"neg\",\"neg\",\"neg\",\"neg\",\"neg\",\"neg\",\"neg\",\"neg\",\"neg\",\"neg\",\"neg\",\"neg\",\"neg\",\"neg\",\"neg\",\"neg\",\"neg\",\"neg\",\"neg\",\"neg\",\"neg\",\"neg\",\"neg\",\"neg\",\"neg\",\"neg\",\"neg\",\"neg\",\"neg\",\"neg\",\"neg\",\"neg\",\"neg\",\"neg\",\"neg\",\"neg\",\"neg\",\"neg\",\"neg\",\"neg\",\"neg\",\"neg\",\"neg\",\"neg\",\"neg\",\"neg\",\"neg\",\"neg\",\"neg\",\"neg\",\"neg\",\"neg\",\"neg\",\"neg\",\"neg\",\"neg\",\"neg\",\"neg\",\"neg\",\"neg\",\"neg\",\"neg\",\"neg\",\"neg\",\"neg\",\"neg\",\"neg\",\"neg\",\"neg\",\"neg\",\"neg\",\"neg\",\"neg\",\"neg\",\"neg\",\"neg\",\"neg\",\"neg\",\"neg\",\"neg\",\"neg\",\"neg\",\"neg\",\"neg\",\"neg\",\"neg\",\"neg\",\"neg\",\"neg\",\"neg\",\"neg\",\"neg\",\"neg\",\"neg\",\"neg\",\"neg\",\"neg\",\"neg\",\"neg\",\"neg\",\"neg\",\"neg\",\"neg\",\"neg\",\"neg\",\"neg\",\"neg\",\"neg\",\"neg\",\"neg\",\"neg\",\"neg\",\"neg\",\"neg\",\"neg\",\"neg\",\"neg\",\"neg\",\"neg\",\"neg\",\"neg\",\"neg\",\"neg\",\"neg\",\"neg\",\"neg\",\"neg\",\"neg\",\"neg\",\"neg\",\"neg\",\"neg\",\"neg\",\"neg\",\"neg\",\"neg\",\"neg\",\"neg\",\"neg\",\"neg\",\"neg\",\"neg\",\"neg\",\"neg\",\"neg\",\"neg\",\"neg\",\"neg\",\"neg\",\"neg\",\"neg\",\"neg\",\"neg\",\"neg\",\"neg\",\"neg\",\"neg\",\"neg\",\"neg\",\"neg\",\"neg\",\"neg\",\"neg\",\"neg\",\"neg\",\"neg\",\"neg\",\"neg\",\"neg\",\"neg\",\"neg\",\"neg\",\"neg\",\"neg\",\"neg\",\"neg\",\"neg\",\"neg\",\"neg\",\"neg\",\"neg\",\"neg\",\"neg\",\"neg\",\"neg\",\"neg\",\"neg\",\"neg\",\"neg\",\"neg\",\"neg\",\"neg\",\"neg\",\"neg\",\"neg\",\"neg\",\"neg\",\"neg\",\"neg\",\"neg\",\"neg\",\"neg\",\"neg\",\"neg\",\"neg\",\"neg\",\"neg\",\"neg\",\"neg\",\"neg\",\"neg\",\"neg\",\"neg\",\"neg\",\"neg\",\"neg\",\"neg\",\"neg\",\"neg\",\"neg\",\"neg\",\"neg\",\"neg\",\"neg\",\"neg\",\"neg\",\"neg\",\"neg\",\"neg\",\"neg\",\"neg\",\"neg\",\"neg\",\"neg\",\"neg\",\"neg\",\"neg\",\"neg\",\"neg\",\"neg\",\"neg\",\"neg\",\"neg\",\"neg\",\"neg\",\"neg\",\"neg\",\"neg\",\"neg\",\"neg\",\"neg\",\"neg\",\"neg\",\"neg\",\"neg\",\"neg\",\"neg\",\"neg\",\"neg\",\"neg\",\"neg\",\"neg\",\"neg\",\"neg\",\"neg\",\"neg\",\"neg\",\"neg\",\"neg\",\"neg\",\"neg\",\"neg\",\"neg\",\"neg\",\"neg\",\"neg\",\"neg\",\"neg\",\"neg\",\"neg\",\"neg\",\"neg\",\"neg\",\"neg\",\"neg\",\"neg\",\"neg\",\"neg\",\"neg\",\"neg\",\"neg\",\"neg\",\"neg\",\"neg\",\"neg\",\"neg\",\"neg\",\"neg\",\"neg\",\"neg\",\"neg\",\"neg\",\"neg\",\"neg\",\"neg\",\"neg\",\"neg\",\"neg\",\"neg\",\"neg\",\"neg\",\"neg\",\"neg\",\"neg\",\"neg\",\"neg\",\"neg\",\"neg\",\"neg\",\"neg\",\"neg\",\"neg\",\"neg\",\"neg\",\"neg\",\"neg\",\"neg\",\"neg\",\"neg\",\"neg\",\"neg\",\"neg\",\"neg\",\"neg\",\"neg\",\"neg\",\"neg\",\"neg\",\"neg\",\"neg\",\"neg\",\"neg\",\"neg\",\"neg\",\"neg\",\"neg\",\"neg\",\"neg\",\"neg\",\"neg\",\"neg\",\"neg\",\"neg\",\"neg\",\"neg\",\"neg\",\"neg\",\"neg\",\"neg\",\"neg\",\"neg\",\"neg\",\"neg\",\"neg\",\"neg\",\"neg\",\"neg\",\"neg\",\"neg\",\"neg\",\"neg\",\"neg\",\"neg\",\"neg\",\"neg\",\"neg\",\"neg\",\"neg\",\"neg\",\"neg\",\"neg\",\"neg\",\"neg\",\"neg\",\"neg\",\"neg\",\"neg\",\"neg\",\"neg\",\"neg\",\"neg\",\"neg\",\"neg\",\"neg\",\"neg\",\"neg\",\"neg\",\"neg\",\"neg\",\"neg\",\"neg\",\"neg\",\"neg\",\"neg\",\"neg\",\"neg\",\"neg\",\"neg\",\"neg\",\"neg\",\"neg\",\"neg\",\"neg\",\"neg\",\"neg\",\"neg\",\"neg\",\"neg\",\"neg\",\"neg\",\"neg\",\"neg\",\"neg\",\"neg\",\"neg\",\"neg\",\"neg\",\"neg\",\"neg\",\"neg\",\"neg\",\"neg\",\"neg\",\"neg\",\"neg\",\"neg\",\"neg\",\"neg\",\"neg\",\"neg\",\"neg\",\"neg\",\"neg\",\"neg\",\"neg\",\"neg\",\"neg\",\"neg\",\"neg\",\"neg\",\"neg\",\"neg\",\"neg\",\"neg\",\"neg\",\"neg\",\"neg\",\"neg\",\"neg\",\"neg\",\"neg\",\"neg\",\"neg\",\"neg\",\"neg\",\"neg\",\"neg\",\"neg\",\"neg\",\"neg\",\"neg\",\"neg\",\"neg\",\"neg\",\"neg\",\"neg\",\"neg\",\"neg\",\"neg\",\"neg\",\"neg\",\"neg\",\"neg\",\"neg\",\"neg\",\"neg\",\"neg\",\"neg\",\"neg\",\"neg\",\"neg\",\"neg\",\"neg\",\"neg\",\"neg\",\"neg\",\"neg\",\"neg\",\"neg\",\"neg\",\"neg\",\"neg\",\"neg\",\"neg\",\"neg\",\"neg\",\"neg\",\"neg\",\"neg\",\"neg\",\"neg\",\"neg\",\"neg\",\"neg\",\"neg\",\"neg\",\"neg\",\"neg\",\"neg\",\"neg\",\"neg\",\"neg\",\"neg\",\"neg\",\"neg\",\"neg\",\"neg\",\"neg\",\"neg\",\"neg\",\"neg\",\"neg\",\"neg\",\"neg\",\"neg\",\"neg\",\"neg\",\"neg\",\"neg\",\"neg\",\"neg\",\"neg\",\"neg\",\"neg\",\"neg\",\"neg\",\"neg\",\"neg\",\"neg\",\"neg\",\"neg\",\"neg\",\"neg\",\"neg\",\"neg\",\"neg\",\"neg\",\"neg\",\"neg\",\"neg\",\"neg\",\"neg\",\"neg\",\"neg\",\"neg\",\"neg\",\"neg\",\"neg\",\"neg\",\"neg\",\"neg\",\"neg\",\"neg\",\"neg\",\"neg\",\"neg\",\"neg\",\"neg\",\"neg\",\"neg\",\"neg\",\"neg\",\"neg\",\"neg\",\"neg\",\"neg\",\"neg\",\"neg\",\"neg\",\"neg\",\"neg\",\"neg\",\"neg\",\"neg\",\"neg\",\"neg\",\"neg\",\"neg\",\"neg\",\"neg\",\"neg\",\"neg\",\"neg\",\"neg\",\"neg\",\"neg\",\"neg\",\"neg\",\"neg\",\"neg\",\"neg\",\"neg\",\"neg\",\"neg\",\"neg\",\"neg\",\"neg\",\"neg\",\"neg\",\"neg\",\"neg\",\"neg\",\"neg\",\"neg\",\"neg\",\"neg\",\"neg\",\"neg\",\"neg\",\"neg\",\"neg\",\"neg\",\"neg\",\"neg\",\"neg\",\"neg\",\"neg\",\"neg\",\"neg\",\"neg\",\"neg\",\"neg\",\"neg\",\"neg\",\"neg\",\"neg\",\"neg\",\"neg\",\"neg\",\"neg\",\"neg\",\"neg\",\"neg\",\"neg\",\"neg\",\"neg\",\"neg\",\"neg\",\"neg\",\"neg\",\"neg\",\"neg\",\"neg\",\"neg\",\"neg\",\"neg\",\"neg\",\"neg\",\"neg\",\"neg\",\"neg\",\"neg\",\"neg\",\"neg\",\"neg\",\"neg\",\"neg\",\"neg\",\"neg\",\"neg\",\"neg\",\"neg\",\"neg\",\"neg\",\"neg\",\"neg\",\"neg\",\"neg\",\"neg\",\"neg\",\"neg\",\"neg\",\"neg\",\"neg\",\"neg\",\"neg\",\"neg\",\"neg\",\"neg\",\"neg\",\"neg\",\"neg\",\"neg\",\"neg\",\"neg\",\"neg\",\"neg\",\"neg\",\"neg\",\"neg\",\"neg\",\"neg\",\"neg\",\"neg\",\"neg\",\"neg\",\"neg\",\"neg\",\"neg\",\"neg\",\"neg\",\"neg\",\"neg\",\"neg\",\"neg\",\"neg\",\"neg\",\"neg\",\"neg\",\"neg\",\"neg\",\"neg\",\"neg\",\"neg\",\"neg\",\"neg\",\"neg\",\"neg\",\"neg\",\"neg\",\"neg\",\"neg\",\"neg\",\"neg\",\"neg\",\"neg\",\"neg\",\"neg\",\"neg\",\"neg\",\"neg\",\"neg\",\"neg\",\"neg\",\"neg\",\"neg\",\"neg\",\"neg\",\"neg\",\"neg\",\"neg\",\"neg\",\"neg\",\"neg\",\"neg\",\"neg\",\"neg\",\"neg\",\"neg\",\"neg\",\"neg\",\"neg\",\"neg\",\"neg\",\"neg\",\"neg\",\"neg\",\"neg\",\"neg\",\"neg\",\"neg\",\"neg\",\"neg\",\"neg\",\"neg\",\"neg\",\"neg\",\"neg\",\"neg\",\"neg\",\"neg\",\"neg\",\"neg\",\"neg\",\"neg\",\"neg\",\"neg\",\"neg\",\"neg\",\"neg\",\"neg\",\"neg\",\"neg\",\"neg\",\"neg\",\"neg\",\"neg\",\"neg\",\"neg\",\"neg\",\"neg\",\"neg\",\"neg\",\"neg\",\"neg\",\"neg\",\"neg\",\"neg\",\"neg\",\"neg\",\"neg\",\"neg\",\"neg\",\"neg\",\"neg\",\"neg\",\"neg\",\"neg\",\"neg\",\"neg\",\"neg\",\"neg\",\"neg\",\"neg\",\"neg\",\"neg\",\"neg\",\"neg\",\"neg\",\"neg\",\"neg\",\"neg\",\"neg\",\"neg\",\"neg\",\"neg\",\"neg\",\"neg\",\"neg\",\"neg\",\"neg\",\"neg\",\"neg\",\"neg\",\"neg\",\"neg\",\"neg\",\"neg\",\"neg\",\"neg\",\"neg\",\"neg\",\"neg\",\"neg\",\"neg\",\"neg\",\"neg\",\"neg\",\"neg\",\"neg\",\"neg\",\"neg\",\"neg\",\"neg\",\"neg\",\"neg\",\"neg\",\"neg\",\"neg\",\"neg\",\"neg\",\"neg\",\"neg\",\"neg\",\"neg\",\"neg\",\"neg\",\"neg\",\"neg\",\"neg\",\"neg\",\"neg\",\"neg\",\"neg\",\"neg\",\"neg\",\"neg\",\"neg\",\"neg\",\"neg\",\"neg\",\"neg\",\"neg\",\"neg\",\"neg\",\"neg\",\"neg\",\"neg\",\"neg\",\"neg\",\"neg\",\"neg\",\"neg\",\"neg\",\"neg\",\"neg\",\"neg\",\"neg\",\"neg\",\"neg\",\"neg\",\"neg\",\"neg\",\"neg\",\"neg\",\"neg\",\"neg\",\"neg\",\"neg\",\"neg\",\"neg\",\"neg\",\"neg\",\"neg\",\"neg\",\"neg\",\"neg\",\"neg\",\"neg\",\"neg\",\"neg\",\"neg\",\"neg\",\"neg\",\"neg\",\"neg\",\"neg\",\"neg\",\"neg\",\"neg\",\"neg\",\"neg\",\"neg\",\"neg\",\"neg\",\"neg\",\"neg\",\"neg\",\"neg\",\"neg\",\"neg\",\"neg\",\"neg\",\"neg\",\"neg\",\"neg\",\"neg\",\"neg\",\"neg\",\"neg\",\"neg\",\"neg\",\"neg\",\"neg\",\"neg\",\"neg\",\"neg\",\"neg\",\"neg\",\"neg\",\"neg\",\"neg\",\"neg\",\"neg\",\"neg\",\"neg\",\"neg\",\"neg\",\"neg\",\"neg\",\"neg\",\"neg\",\"neg\",\"neg\",\"neg\",\"neg\",\"neg\",\"neg\",\"neg\",\"neg\",\"neg\",\"neg\",\"neg\",\"neg\",\"neg\",\"neg\",\"neg\",\"neg\",\"neg\",\"neg\",\"neg\",\"neg\",\"neg\",\"neg\",\"neg\",\"neg\",\"neg\",\"neg\",\"neg\",\"neg\",\"neg\",\"neg\",\"neg\",\"neg\",\"neg\",\"neg\",\"neg\",\"neg\",\"neg\",\"neg\",\"neg\",\"neg\",\"neg\",\"neg\",\"neg\",\"neg\",\"neg\",\"neg\",\"neg\",\"neg\",\"neg\",\"neg\",\"neg\",\"neg\",\"neg\",\"neg\",\"neg\",\"neg\",\"neg\",\"neg\",\"neg\",\"neg\",\"neg\",\"neg\",\"neg\",\"neg\",\"neg\",\"neg\",\"neg\",\"neg\",\"neg\",\"neg\",\"neg\",\"neg\",\"neg\",\"neg\",\"neg\",\"neg\",\"neg\",\"neg\",\"neg\",\"neg\",\"neg\",\"neg\",\"neg\",\"neg\",\"neg\",\"neg\",\"neg\",\"neg\",\"neg\",\"neg\",\"neg\",\"neg\",\"neg\",\"neg\",\"neg\",\"neg\",\"neg\",\"neg\",\"neg\",\"neg\",\"neg\",\"neg\",\"neg\",\"neg\",\"neg\",\"neg\",\"neg\",\"neg\",\"neg\",\"neg\",\"neg\",\"neg\",\"neg\",\"neg\",\"neg\",\"neg\",\"neg\",\"neg\",\"neg\",\"neg\",\"neg\",\"neg\",\"neg\",\"neg\",\"neg\",\"neg\",\"neg\",\"neg\",\"neg\",\"neg\",\"neg\",\"neg\",\"neg\",\"neg\",\"neg\",\"neg\",\"neg\",\"neg\",\"neg\",\"neg\",\"neg\",\"neg\",\"neg\",\"neg\",\"neg\",\"neg\",\"neg\",\"neg\",\"neg\",\"neg\",\"neg\",\"neg\",\"neg\",\"neg\",\"neg\",\"neg\",\"neg\",\"neg\",\"neg\",\"neg\",\"neg\",\"neg\",\"neg\",\"neg\",\"neg\",\"neg\",\"neg\",\"neg\",\"neg\",\"neg\",\"neg\",\"neg\",\"neg\",\"neg\",\"neg\",\"neg\",\"neg\",\"neg\",\"neg\",\"neg\",\"neg\",\"neg\",\"neg\",\"neg\",\"neg\",\"neg\",\"neg\",\"neg\",\"neg\",\"neg\",\"neg\",\"neg\",\"neg\",\"neg\",\"neg\",\"neg\",\"neg\",\"neg\",\"neg\",\"neg\",\"neg\",\"neg\",\"neg\",\"neg\",\"neg\",\"neg\",\"neg\",\"neg\",\"neg\",\"neg\",\"neg\",\"neg\",\"neg\",\"neg\",\"neg\",\"neg\",\"neg\",\"neg\",\"neg\",\"neg\",\"neg\",\"neg\",\"neg\",\"neg\",\"neg\",\"neg\",\"neg\",\"neg\",\"neg\",\"neg\",\"neg\",\"neg\",\"neg\",\"neg\",\"neg\",\"neg\",\"neg\",\"neg\",\"neg\",\"neg\",\"neg\",\"neg\",\"neg\",\"neg\",\"neg\",\"neg\",\"neg\",\"neg\",\"neg\",\"neg\",\"neg\",\"neg\",\"neg\",\"neg\",\"neg\",\"neg\",\"neg\",\"neg\",\"neg\",\"neg\",\"neg\",\"neg\",\"neg\",\"neg\",\"neg\",\"neg\",\"neg\",\"neg\",\"neg\",\"neg\",\"neg\",\"neg\",\"neg\",\"neg\",\"neg\",\"neg\",\"neg\",\"neg\",\"neg\",\"neg\",\"neg\",\"neg\",\"neg\",\"neg\",\"neg\",\"neg\",\"neg\",\"neg\",\"neg\",\"neg\",\"neg\",\"neg\",\"neg\",\"neg\",\"neg\",\"neg\",\"neg\",\"neg\",\"neg\",\"neg\",\"neg\",\"neg\",\"neg\",\"neg\",\"neg\",\"neg\",\"neg\",\"neg\",\"neg\",\"neg\",\"neg\",\"neg\",\"neg\",\"neg\",\"neg\",\"neg\",\"neg\",\"neg\",\"neg\",\"neg\",\"neg\",\"neg\",\"neg\",\"neg\",\"neg\",\"neg\",\"neg\",\"neg\",\"neg\",\"neg\",\"neg\",\"neg\",\"neg\",\"neg\",\"neg\",\"neg\",\"neg\",\"neg\",\"neg\",\"neg\",\"neg\",\"neg\",\"neg\",\"neg\",\"neg\",\"neg\",\"neg\",\"neg\",\"neg\",\"neg\",\"neg\",\"neg\",\"neg\",\"neg\",\"neg\",\"neg\",\"neg\",\"neg\",\"neg\",\"neg\",\"neg\",\"neg\",\"neg\",\"neg\",\"neg\",\"neg\",\"neg\",\"neg\",\"neg\",\"neg\",\"neg\",\"neg\",\"neg\",\"neg\",\"neg\",\"neg\",\"neg\",\"neg\",\"neg\",\"neg\",\"neg\",\"neg\",\"neg\",\"neg\",\"neg\",\"neg\",\"neg\",\"neg\",\"neg\",\"neg\",\"neg\",\"neg\",\"neg\",\"neg\",\"neg\",\"neg\",\"neg\",\"neg\",\"neg\",\"neg\",\"neg\",\"neg\",\"neg\",\"neg\",\"neg\",\"neg\",\"neg\",\"neg\",\"neg\",\"neg\",\"neg\",\"neg\",\"neg\",\"neg\",\"neg\",\"neg\",\"neg\",\"neg\",\"neg\",\"neg\",\"neg\",\"neg\",\"neg\",\"neg\",\"neg\",\"neg\",\"neg\",\"neg\",\"neg\",\"neg\",\"neg\",\"neg\",\"neg\",\"neg\",\"neg\",\"neg\",\"neg\",\"neg\",\"neg\",\"neg\",\"neg\",\"neg\",\"neg\",\"neg\",\"neg\",\"neg\",\"neg\",\"neg\",\"neg\",\"neg\",\"neg\",\"neg\",\"neg\",\"neg\",\"neg\",\"neg\",\"neg\",\"neg\",\"neg\",\"neg\",\"neg\",\"neg\",\"neg\",\"neg\",\"neg\",\"neg\",\"neg\",\"neg\",\"neg\",\"neg\",\"neg\",\"neg\",\"neg\",\"neg\",\"neg\",\"neg\",\"neg\",\"neg\",\"neg\",\"neg\",\"neg\",\"neg\",\"neg\",\"neg\",\"neg\",\"neg\",\"neg\",\"neg\",\"neg\",\"neg\",\"neg\",\"neg\",\"neg\",\"neg\",\"neg\",\"neg\",\"neg\",\"neg\",\"neg\",\"neg\",\"neg\",\"neg\",\"neg\",\"neg\",\"neg\",\"neg\",\"neg\",\"neg\",\"neg\",\"neg\",\"neg\",\"neg\",\"neg\",\"neg\",\"neg\",\"neg\",\"neg\",\"neg\",\"neg\",\"neg\",\"neg\",\"neg\",\"neg\",\"neg\",\"neg\",\"neg\",\"neg\",\"neg\",\"neg\",\"neg\",\"neg\",\"neg\",\"neg\",\"neg\",\"neg\",\"neg\",\"neg\",\"neg\",\"neg\",\"neg\",\"neg\",\"neg\",\"neg\",\"neg\",\"neg\",\"neg\",\"neg\",\"neg\",\"neg\",\"neg\",\"neg\",\"neg\",\"neg\",\"neg\",\"neg\",\"neg\",\"neg\",\"neg\",\"neg\",\"neg\",\"neg\",\"neg\",\"neg\",\"neg\",\"neg\",\"neg\",\"neg\",\"neg\",\"neg\",\"neg\",\"neg\",\"neg\",\"neg\",\"neg\",\"neg\",\"neg\",\"neg\",\"neg\",\"neg\",\"neg\",\"neg\",\"neg\",\"neg\",\"neg\",\"neg\",\"neg\",\"neg\",\"neg\",\"neg\",\"neg\",\"neg\",\"neg\",\"neg\",\"neg\",\"neg\",\"neg\",\"neg\",\"neg\",\"neg\",\"neg\",\"neg\",\"neg\",\"neg\",\"neg\",\"neg\",\"neg\",\"neg\",\"neg\",\"neg\",\"neg\",\"neg\",\"neg\",\"neg\",\"neg\",\"neg\",\"neg\",\"neg\",\"neg\",\"neg\",\"neg\",\"neg\",\"neg\",\"neg\",\"neg\",\"neg\",\"neg\",\"neg\",\"neg\",\"neg\",\"neg\",\"neg\",\"neg\",\"neg\",\"neg\",\"neg\",\"neg\",\"neg\",\"neg\",\"neg\",\"neg\",\"neg\",\"neg\",\"neg\",\"neg\",\"neg\",\"neg\",\"neg\",\"neg\",\"neg\",\"neg\",\"neg\",\"neg\",\"neg\",\"neg\",\"neg\",\"neg\",\"neg\",\"neg\",\"neg\",\"neg\",\"neg\",\"neg\",\"neg\",\"neg\",\"neg\",\"neg\",\"neg\",\"neg\",\"neg\",\"neg\",\"neg\",\"neg\",\"neg\",\"neg\",\"neg\",\"neg\",\"neg\",\"neg\",\"neg\",\"neg\",\"neg\",\"neg\",\"neg\",\"neg\",\"neg\",\"neg\",\"neg\",\"neg\",\"neg\",\"neg\",\"neg\",\"neg\",\"neg\",\"neg\",\"neg\",\"neg\",\"neg\",\"neg\",\"neg\",\"neg\",\"neg\",\"neg\",\"neg\",\"neg\",\"neg\",\"neg\",\"neg\",\"neg\",\"neg\",\"neg\",\"neg\",\"neg\",\"neg\",\"neg\",\"neg\",\"neg\",\"neg\",\"neg\",\"neg\",\"neg\",\"neg\",\"neg\",\"neg\",\"neg\",\"neg\",\"neg\",\"neg\",\"neg\",\"neg\",\"neg\",\"neg\",\"neg\",\"neg\",\"neg\",\"neg\",\"neg\",\"neg\",\"neg\",\"neg\",\"neg\",\"neg\",\"neg\",\"neg\",\"neg\",\"neg\",\"neg\",\"neg\",\"neg\",\"neg\",\"neg\",\"neg\",\"neg\",\"neg\",\"neg\",\"neg\",\"neg\",\"neg\",\"neg\",\"neg\",\"neg\",\"neg\",\"neg\",\"neg\",\"neg\",\"neg\",\"neg\",\"neg\",\"neg\",\"neg\",\"neg\",\"neg\",\"neg\",\"neg\",\"neg\",\"neg\",\"neg\",\"neg\",\"neg\",\"neg\",\"neg\",\"neg\",\"neg\",\"neg\",\"neg\",\"neg\",\"neg\",\"neg\",\"neg\",\"neg\",\"neg\",\"neg\",\"neg\",\"neg\",\"neg\",\"neg\",\"neg\",\"neg\",\"neg\",\"neg\",\"neg\",\"neg\",\"neg\",\"neg\",\"neg\",\"neg\",\"neg\",\"neg\",\"neg\",\"neg\",\"neg\",\"neg\",\"neg\",\"neg\",\"neg\",\"neg\",\"neg\",\"neg\",\"neg\",\"neg\",\"neg\",\"neg\",\"neg\",\"neg\",\"neg\",\"neg\",\"neg\",\"neg\",\"neg\",\"neg\",\"neg\",\"neg\",\"neg\",\"neg\",\"neg\",\"neg\",\"neg\",\"neg\",\"neg\",\"neg\",\"neg\",\"neg\",\"neg\",\"neg\",\"neg\",\"neg\",\"neg\",\"neg\",\"neg\",\"neg\",\"neg\",\"neg\",\"neg\",\"neg\",\"neg\",\"neg\",\"neg\",\"neg\",\"neg\",\"neg\",\"neg\",\"neg\",\"neg\",\"neg\",\"neg\",\"neg\",\"neg\",\"neg\",\"neg\",\"neg\",\"neg\",\"neg\",\"neg\",\"neg\",\"neg\",\"neg\",\"neg\",\"neg\",\"neg\",\"neg\",\"neg\",\"neg\",\"neg\",\"neg\",\"neg\",\"neg\",\"neg\",\"neg\",\"neg\",\"neg\",\"neg\",\"neg\",\"neg\",\"neg\",\"neg\",\"neg\",\"neg\",\"neg\",\"neg\",\"neg\",\"neg\",\"neg\",\"neg\",\"neg\",\"neg\",\"neg\",\"neg\",\"neg\",\"neg\",\"neg\",\"neg\",\"neg\",\"neg\",\"neg\",\"neg\",\"neg\",\"neg\",\"neg\",\"neg\",\"neg\",\"neg\",\"neg\",\"neg\",\"neg\",\"neg\",\"neg\",\"neg\",\"neg\",\"neg\",\"neg\",\"neg\",\"neg\",\"neg\",\"neg\",\"neg\",\"neg\",\"neg\",\"neg\",\"neg\",\"neg\",\"neg\",\"neg\",\"neg\",\"neg\",\"neg\",\"neg\",\"neg\",\"neg\",\"neg\",\"neg\",\"neg\",\"neg\",\"neg\",\"neg\",\"neg\",\"neg\",\"neg\",\"neg\",\"neg\",\"neg\",\"neg\",\"neg\",\"neg\",\"neg\",\"neg\",\"neg\",\"neg\",\"neg\",\"neg\",\"neg\",\"neg\",\"neg\",\"neg\",\"neg\",\"neg\",\"neg\",\"neg\",\"neg\",\"neg\",\"neg\",\"neg\",\"neg\",\"neg\",\"neg\",\"neg\",\"neg\",\"neg\",\"neg\",\"neg\",\"neg\",\"neg\",\"neg\",\"neg\",\"neg\",\"neg\",\"neg\",\"neg\",\"neg\",\"neg\",\"neg\",\"neg\",\"neg\",\"neg\",\"neg\",\"neg\",\"neg\",\"neg\",\"neg\",\"neg\",\"neg\",\"neg\",\"neg\",\"neg\",\"neg\",\"neg\",\"neg\",\"neg\",\"neg\",\"neg\",\"neg\",\"neg\",\"neg\",\"neg\",\"neg\",\"neg\",\"neg\",\"neg\",\"neg\",\"neg\",\"neg\",\"neg\",\"neg\",\"neg\",\"neg\",\"neg\",\"neg\",\"neg\",\"neg\",\"neg\",\"neg\",\"neg\",\"neg\",\"neg\",\"neg\",\"neg\",\"neg\",\"neg\",\"neg\",\"neg\",\"neg\",\"neg\",\"neg\",\"neg\",\"neg\",\"neg\",\"neg\",\"neg\",\"neg\",\"neg\",\"neg\",\"neg\",\"neg\",\"neg\",\"neg\",\"neg\",\"neg\",\"neg\",\"neg\",\"neg\",\"neg\",\"neg\",\"neg\",\"neg\",\"neg\",\"neg\",\"neg\",\"neg\",\"neg\",\"neg\",\"neg\",\"neg\",\"neg\",\"neg\",\"neg\",\"neg\",\"neg\",\"neg\",\"neg\",\"neg\",\"neg\",\"neg\",\"neg\",\"neg\",\"neg\",\"neg\",\"neg\",\"neg\",\"neg\",\"neg\",\"neg\",\"neg\",\"neg\",\"neg\",\"neg\",\"neg\",\"neg\",\"neg\",\"neg\",\"neg\",\"neg\",\"neg\",\"neg\",\"neg\",\"neg\",\"neg\",\"neg\",\"neg\",\"neg\",\"neg\",\"neg\",\"neg\",\"neg\",\"neg\",\"neg\",\"neg\",\"neg\",\"neg\",\"neg\",\"neg\",\"neg\",\"neg\",\"neg\",\"neg\",\"neg\",\"neg\",\"neg\",\"neg\",\"neg\",\"neg\",\"neg\",\"neg\",\"neg\",\"neg\",\"neg\",\"neg\",\"neg\",\"neg\",\"neg\",\"neg\",\"neg\",\"neg\",\"neg\",\"neg\",\"neg\",\"neg\",\"neg\",\"neg\",\"neg\",\"neg\",\"neg\",\"neg\",\"neg\",\"neg\",\"neg\",\"neg\",\"neg\",\"neg\",\"neg\",\"neg\",\"neg\",\"neg\",\"neg\",\"neg\",\"neg\",\"neg\",\"neg\",\"neg\",\"neg\",\"neg\",\"neg\",\"neg\",\"neg\",\"neg\",\"neg\",\"neg\",\"neg\",\"neg\",\"neg\",\"neg\",\"neg\",\"neg\",\"neg\",\"neg\",\"neg\",\"neg\",\"neg\",\"neg\",\"neg\",\"neg\",\"neg\",\"neg\",\"neg\",\"neg\",\"neg\",\"neg\",\"neg\",\"neg\",\"neg\",\"neg\",\"neg\",\"neg\",\"neg\",\"neg\",\"neg\",\"neg\",\"neg\",\"neg\",\"neg\",\"neg\",\"neg\",\"neg\",\"neg\",\"neg\",\"neg\",\"neg\",\"neg\",\"neg\",\"neg\",\"neg\",\"neg\",\"neg\",\"neg\",\"neg\",\"neg\",\"neg\",\"neg\",\"neg\",\"neg\",\"neg\",\"neg\",\"neg\",\"neg\",\"neg\",\"neg\",\"neg\",\"neg\",\"neg\",\"neg\",\"neg\",\"neg\",\"neg\",\"neg\",\"neg\",\"neg\",\"neg\",\"neg\",\"neg\",\"neg\",\"neg\",\"neg\",\"neg\",\"neg\",\"neg\",\"neg\",\"neg\",\"neg\",\"neg\",\"neg\",\"neg\",\"neg\",\"neg\",\"neg\",\"neg\",\"neg\",\"neg\",\"neg\",\"neg\",\"neg\",\"neg\",\"neg\",\"neg\",\"neg\",\"neg\",\"neg\",\"neg\",\"neg\",\"neg\",\"neg\",\"neg\",\"neg\",\"neg\",\"neg\",\"neg\",\"neg\",\"neg\",\"neg\",\"neg\",\"neg\",\"neg\",\"neg\",\"neg\",\"neg\",\"neg\",\"neg\",\"neg\",\"neg\",\"neg\",\"neg\",\"neg\",\"neg\",\"neg\",\"neg\",\"neg\",\"neg\",\"neg\",\"neg\",\"neg\",\"neg\",\"neg\",\"neg\",\"neg\",\"neg\",\"neg\",\"neg\",\"neg\",\"neg\",\"neg\",\"neg\",\"neg\",\"neg\",\"neg\",\"neg\",\"neg\",\"neg\",\"neg\",\"neg\",\"neg\",\"neg\",\"neg\",\"neg\",\"neg\",\"neg\",\"neg\",\"neg\",\"neg\",\"neg\",\"neg\",\"neg\",\"neg\",\"neg\",\"neg\",\"neg\",\"neg\",\"neg\",\"neg\",\"neg\",\"neg\",\"neg\",\"neg\",\"neg\",\"neg\",\"neg\",\"neg\",\"neg\",\"neg\",\"neg\",\"neg\",\"neg\",\"neg\",\"neg\",\"neg\",\"neg\",\"neg\",\"neg\",\"neg\",\"neg\",\"neg\",\"neg\",\"neg\",\"neg\",\"neg\",\"neg\",\"neg\",\"neg\",\"neg\",\"neg\",\"neg\",\"neg\",\"neg\",\"neg\",\"neg\",\"neg\",\"neg\",\"neg\",\"neg\",\"neg\",\"neg\",\"neg\",\"neg\",\"neg\",\"neg\",\"neg\",\"neg\",\"neg\",\"neg\",\"neg\",\"neg\",\"neg\",\"neg\",\"neg\",\"neg\",\"neg\",\"neg\",\"neg\",\"neg\",\"neg\",\"neg\",\"neg\",\"neg\",\"neg\",\"neg\",\"neg\",\"neg\",\"neg\",\"neg\",\"neg\",\"neg\",\"neg\",\"neg\",\"neg\",\"neg\",\"neg\",\"neg\",\"neg\",\"neg\",\"neg\",\"neg\",\"neg\",\"neg\",\"neg\",\"neg\",\"neg\",\"neg\",\"neg\",\"neg\",\"neg\",\"neg\",\"neg\",\"neg\",\"neg\",\"neg\",\"neg\",\"neg\",\"neg\",\"neg\",\"neg\",\"neg\",\"neg\",\"neg\",\"neg\",\"neg\",\"neg\",\"neg\",\"neg\",\"neg\",\"neg\",\"neg\",\"neg\",\"neg\",\"neg\",\"neg\",\"neg\",\"neg\",\"neg\",\"neg\",\"neg\",\"neg\",\"neg\",\"neg\",\"neg\",\"neg\",\"neg\",\"neg\",\"neg\",\"neg\"],\"xaxis\":\"x\",\"yaxis\":\"y\",\"type\":\"histogram\"}],                        {\"template\":{\"data\":{\"bar\":[{\"error_x\":{\"color\":\"#2a3f5f\"},\"error_y\":{\"color\":\"#2a3f5f\"},\"marker\":{\"line\":{\"color\":\"#E5ECF6\",\"width\":0.5},\"pattern\":{\"fillmode\":\"overlay\",\"size\":10,\"solidity\":0.2}},\"type\":\"bar\"}],\"barpolar\":[{\"marker\":{\"line\":{\"color\":\"#E5ECF6\",\"width\":0.5},\"pattern\":{\"fillmode\":\"overlay\",\"size\":10,\"solidity\":0.2}},\"type\":\"barpolar\"}],\"carpet\":[{\"aaxis\":{\"endlinecolor\":\"#2a3f5f\",\"gridcolor\":\"white\",\"linecolor\":\"white\",\"minorgridcolor\":\"white\",\"startlinecolor\":\"#2a3f5f\"},\"baxis\":{\"endlinecolor\":\"#2a3f5f\",\"gridcolor\":\"white\",\"linecolor\":\"white\",\"minorgridcolor\":\"white\",\"startlinecolor\":\"#2a3f5f\"},\"type\":\"carpet\"}],\"choropleth\":[{\"colorbar\":{\"outlinewidth\":0,\"ticks\":\"\"},\"type\":\"choropleth\"}],\"contour\":[{\"colorbar\":{\"outlinewidth\":0,\"ticks\":\"\"},\"colorscale\":[[0.0,\"#0d0887\"],[0.1111111111111111,\"#46039f\"],[0.2222222222222222,\"#7201a8\"],[0.3333333333333333,\"#9c179e\"],[0.4444444444444444,\"#bd3786\"],[0.5555555555555556,\"#d8576b\"],[0.6666666666666666,\"#ed7953\"],[0.7777777777777778,\"#fb9f3a\"],[0.8888888888888888,\"#fdca26\"],[1.0,\"#f0f921\"]],\"type\":\"contour\"}],\"contourcarpet\":[{\"colorbar\":{\"outlinewidth\":0,\"ticks\":\"\"},\"type\":\"contourcarpet\"}],\"heatmap\":[{\"colorbar\":{\"outlinewidth\":0,\"ticks\":\"\"},\"colorscale\":[[0.0,\"#0d0887\"],[0.1111111111111111,\"#46039f\"],[0.2222222222222222,\"#7201a8\"],[0.3333333333333333,\"#9c179e\"],[0.4444444444444444,\"#bd3786\"],[0.5555555555555556,\"#d8576b\"],[0.6666666666666666,\"#ed7953\"],[0.7777777777777778,\"#fb9f3a\"],[0.8888888888888888,\"#fdca26\"],[1.0,\"#f0f921\"]],\"type\":\"heatmap\"}],\"heatmapgl\":[{\"colorbar\":{\"outlinewidth\":0,\"ticks\":\"\"},\"colorscale\":[[0.0,\"#0d0887\"],[0.1111111111111111,\"#46039f\"],[0.2222222222222222,\"#7201a8\"],[0.3333333333333333,\"#9c179e\"],[0.4444444444444444,\"#bd3786\"],[0.5555555555555556,\"#d8576b\"],[0.6666666666666666,\"#ed7953\"],[0.7777777777777778,\"#fb9f3a\"],[0.8888888888888888,\"#fdca26\"],[1.0,\"#f0f921\"]],\"type\":\"heatmapgl\"}],\"histogram\":[{\"marker\":{\"pattern\":{\"fillmode\":\"overlay\",\"size\":10,\"solidity\":0.2}},\"type\":\"histogram\"}],\"histogram2d\":[{\"colorbar\":{\"outlinewidth\":0,\"ticks\":\"\"},\"colorscale\":[[0.0,\"#0d0887\"],[0.1111111111111111,\"#46039f\"],[0.2222222222222222,\"#7201a8\"],[0.3333333333333333,\"#9c179e\"],[0.4444444444444444,\"#bd3786\"],[0.5555555555555556,\"#d8576b\"],[0.6666666666666666,\"#ed7953\"],[0.7777777777777778,\"#fb9f3a\"],[0.8888888888888888,\"#fdca26\"],[1.0,\"#f0f921\"]],\"type\":\"histogram2d\"}],\"histogram2dcontour\":[{\"colorbar\":{\"outlinewidth\":0,\"ticks\":\"\"},\"colorscale\":[[0.0,\"#0d0887\"],[0.1111111111111111,\"#46039f\"],[0.2222222222222222,\"#7201a8\"],[0.3333333333333333,\"#9c179e\"],[0.4444444444444444,\"#bd3786\"],[0.5555555555555556,\"#d8576b\"],[0.6666666666666666,\"#ed7953\"],[0.7777777777777778,\"#fb9f3a\"],[0.8888888888888888,\"#fdca26\"],[1.0,\"#f0f921\"]],\"type\":\"histogram2dcontour\"}],\"mesh3d\":[{\"colorbar\":{\"outlinewidth\":0,\"ticks\":\"\"},\"type\":\"mesh3d\"}],\"parcoords\":[{\"line\":{\"colorbar\":{\"outlinewidth\":0,\"ticks\":\"\"}},\"type\":\"parcoords\"}],\"pie\":[{\"automargin\":true,\"type\":\"pie\"}],\"scatter\":[{\"marker\":{\"colorbar\":{\"outlinewidth\":0,\"ticks\":\"\"}},\"type\":\"scatter\"}],\"scatter3d\":[{\"line\":{\"colorbar\":{\"outlinewidth\":0,\"ticks\":\"\"}},\"marker\":{\"colorbar\":{\"outlinewidth\":0,\"ticks\":\"\"}},\"type\":\"scatter3d\"}],\"scattercarpet\":[{\"marker\":{\"colorbar\":{\"outlinewidth\":0,\"ticks\":\"\"}},\"type\":\"scattercarpet\"}],\"scattergeo\":[{\"marker\":{\"colorbar\":{\"outlinewidth\":0,\"ticks\":\"\"}},\"type\":\"scattergeo\"}],\"scattergl\":[{\"marker\":{\"colorbar\":{\"outlinewidth\":0,\"ticks\":\"\"}},\"type\":\"scattergl\"}],\"scattermapbox\":[{\"marker\":{\"colorbar\":{\"outlinewidth\":0,\"ticks\":\"\"}},\"type\":\"scattermapbox\"}],\"scatterpolar\":[{\"marker\":{\"colorbar\":{\"outlinewidth\":0,\"ticks\":\"\"}},\"type\":\"scatterpolar\"}],\"scatterpolargl\":[{\"marker\":{\"colorbar\":{\"outlinewidth\":0,\"ticks\":\"\"}},\"type\":\"scatterpolargl\"}],\"scatterternary\":[{\"marker\":{\"colorbar\":{\"outlinewidth\":0,\"ticks\":\"\"}},\"type\":\"scatterternary\"}],\"surface\":[{\"colorbar\":{\"outlinewidth\":0,\"ticks\":\"\"},\"colorscale\":[[0.0,\"#0d0887\"],[0.1111111111111111,\"#46039f\"],[0.2222222222222222,\"#7201a8\"],[0.3333333333333333,\"#9c179e\"],[0.4444444444444444,\"#bd3786\"],[0.5555555555555556,\"#d8576b\"],[0.6666666666666666,\"#ed7953\"],[0.7777777777777778,\"#fb9f3a\"],[0.8888888888888888,\"#fdca26\"],[1.0,\"#f0f921\"]],\"type\":\"surface\"}],\"table\":[{\"cells\":{\"fill\":{\"color\":\"#EBF0F8\"},\"line\":{\"color\":\"white\"}},\"header\":{\"fill\":{\"color\":\"#C8D4E3\"},\"line\":{\"color\":\"white\"}},\"type\":\"table\"}]},\"layout\":{\"annotationdefaults\":{\"arrowcolor\":\"#2a3f5f\",\"arrowhead\":0,\"arrowwidth\":1},\"autotypenumbers\":\"strict\",\"coloraxis\":{\"colorbar\":{\"outlinewidth\":0,\"ticks\":\"\"}},\"colorscale\":{\"diverging\":[[0,\"#8e0152\"],[0.1,\"#c51b7d\"],[0.2,\"#de77ae\"],[0.3,\"#f1b6da\"],[0.4,\"#fde0ef\"],[0.5,\"#f7f7f7\"],[0.6,\"#e6f5d0\"],[0.7,\"#b8e186\"],[0.8,\"#7fbc41\"],[0.9,\"#4d9221\"],[1,\"#276419\"]],\"sequential\":[[0.0,\"#0d0887\"],[0.1111111111111111,\"#46039f\"],[0.2222222222222222,\"#7201a8\"],[0.3333333333333333,\"#9c179e\"],[0.4444444444444444,\"#bd3786\"],[0.5555555555555556,\"#d8576b\"],[0.6666666666666666,\"#ed7953\"],[0.7777777777777778,\"#fb9f3a\"],[0.8888888888888888,\"#fdca26\"],[1.0,\"#f0f921\"]],\"sequentialminus\":[[0.0,\"#0d0887\"],[0.1111111111111111,\"#46039f\"],[0.2222222222222222,\"#7201a8\"],[0.3333333333333333,\"#9c179e\"],[0.4444444444444444,\"#bd3786\"],[0.5555555555555556,\"#d8576b\"],[0.6666666666666666,\"#ed7953\"],[0.7777777777777778,\"#fb9f3a\"],[0.8888888888888888,\"#fdca26\"],[1.0,\"#f0f921\"]]},\"colorway\":[\"#636efa\",\"#EF553B\",\"#00cc96\",\"#ab63fa\",\"#FFA15A\",\"#19d3f3\",\"#FF6692\",\"#B6E880\",\"#FF97FF\",\"#FECB52\"],\"font\":{\"color\":\"#2a3f5f\"},\"geo\":{\"bgcolor\":\"white\",\"lakecolor\":\"white\",\"landcolor\":\"#E5ECF6\",\"showlakes\":true,\"showland\":true,\"subunitcolor\":\"white\"},\"hoverlabel\":{\"align\":\"left\"},\"hovermode\":\"closest\",\"mapbox\":{\"style\":\"light\"},\"paper_bgcolor\":\"white\",\"plot_bgcolor\":\"#E5ECF6\",\"polar\":{\"angularaxis\":{\"gridcolor\":\"white\",\"linecolor\":\"white\",\"ticks\":\"\"},\"bgcolor\":\"#E5ECF6\",\"radialaxis\":{\"gridcolor\":\"white\",\"linecolor\":\"white\",\"ticks\":\"\"}},\"scene\":{\"xaxis\":{\"backgroundcolor\":\"#E5ECF6\",\"gridcolor\":\"white\",\"gridwidth\":2,\"linecolor\":\"white\",\"showbackground\":true,\"ticks\":\"\",\"zerolinecolor\":\"white\"},\"yaxis\":{\"backgroundcolor\":\"#E5ECF6\",\"gridcolor\":\"white\",\"gridwidth\":2,\"linecolor\":\"white\",\"showbackground\":true,\"ticks\":\"\",\"zerolinecolor\":\"white\"},\"zaxis\":{\"backgroundcolor\":\"#E5ECF6\",\"gridcolor\":\"white\",\"gridwidth\":2,\"linecolor\":\"white\",\"showbackground\":true,\"ticks\":\"\",\"zerolinecolor\":\"white\"}},\"shapedefaults\":{\"line\":{\"color\":\"#2a3f5f\"}},\"ternary\":{\"aaxis\":{\"gridcolor\":\"white\",\"linecolor\":\"white\",\"ticks\":\"\"},\"baxis\":{\"gridcolor\":\"white\",\"linecolor\":\"white\",\"ticks\":\"\"},\"bgcolor\":\"#E5ECF6\",\"caxis\":{\"gridcolor\":\"white\",\"linecolor\":\"white\",\"ticks\":\"\"}},\"title\":{\"x\":0.05},\"xaxis\":{\"automargin\":true,\"gridcolor\":\"white\",\"linecolor\":\"white\",\"ticks\":\"\",\"title\":{\"standoff\":15},\"zerolinecolor\":\"white\",\"zerolinewidth\":2},\"yaxis\":{\"automargin\":true,\"gridcolor\":\"white\",\"linecolor\":\"white\",\"ticks\":\"\",\"title\":{\"standoff\":15},\"zerolinecolor\":\"white\",\"zerolinewidth\":2}}},\"xaxis\":{\"anchor\":\"y\",\"domain\":[0.0,1.0],\"title\":{\"text\":\"label\"},\"categoryorder\":\"array\",\"categoryarray\":[\"pos\",\"neg\"]},\"yaxis\":{\"anchor\":\"x\",\"domain\":[0.0,1.0],\"title\":{\"text\":\"count\"}},\"legend\":{\"title\":{\"text\":\"label\"},\"tracegroupgap\":0},\"margin\":{\"t\":60},\"barmode\":\"relative\"},                        {\"responsive\": true}                    ).then(function(){\n",
       "                            \n",
       "var gd = document.getElementById('b7bc3052-a0db-460b-8311-ae737c18773a');\n",
       "var x = new MutationObserver(function (mutations, observer) {{\n",
       "        var display = window.getComputedStyle(gd).display;\n",
       "        if (!display || display === 'none') {{\n",
       "            console.log([gd, 'removed!']);\n",
       "            Plotly.purge(gd);\n",
       "            observer.disconnect();\n",
       "        }}\n",
       "}});\n",
       "\n",
       "// Listen for the removal of the full notebook cells\n",
       "var notebookContainer = gd.closest('#notebook-container');\n",
       "if (notebookContainer) {{\n",
       "    x.observe(notebookContainer, {childList: true});\n",
       "}}\n",
       "\n",
       "// Listen for the clearing of the current output cell\n",
       "var outputEl = gd.closest('.output');\n",
       "if (outputEl) {{\n",
       "    x.observe(outputEl, {childList: true});\n",
       "}}\n",
       "\n",
       "                        })                };                });            </script>        </div>"
      ]
     },
     "metadata": {},
     "output_type": "display_data"
    }
   ],
   "source": [
    "sns.set(rc={'figure.figsize':(20,10)})\n",
    "px.histogram(data, x=\"label\",color='label')"
   ]
  },
  {
   "cell_type": "markdown",
   "id": "1e1d0150",
   "metadata": {
    "papermill": {
     "duration": 0.047105,
     "end_time": "2022-01-20T11:39:39.223994",
     "exception": false,
     "start_time": "2022-01-20T11:39:39.176889",
     "status": "completed"
    },
    "tags": []
   },
   "source": [
    "### Checking missing values"
   ]
  },
  {
   "cell_type": "code",
   "execution_count": 5,
   "id": "c74b5dde",
   "metadata": {
    "execution": {
     "iopub.execute_input": "2022-01-20T11:39:39.298730Z",
     "iopub.status.busy": "2022-01-20T11:39:39.297171Z",
     "iopub.status.idle": "2022-01-20T11:39:39.299355Z",
     "shell.execute_reply": "2022-01-20T11:39:39.299792Z",
     "shell.execute_reply.started": "2022-01-20T10:54:55.381838Z"
    },
    "papermill": {
     "duration": 0.03672,
     "end_time": "2022-01-20T11:39:39.299928",
     "exception": false,
     "start_time": "2022-01-20T11:39:39.263208",
     "status": "completed"
    },
    "tags": []
   },
   "outputs": [],
   "source": [
    "def drop_nulls(data):\n",
    "    \n",
    "    empty_list = []\n",
    "    for index,label,reviews in data.itertuples():\n",
    "        if type(reviews)==str:\n",
    "            if reviews.isspace():\n",
    "                empty_list.append(reviews)\n",
    "     \n",
    "    \n",
    "    print('Is there any missing value?\\n')\n",
    "    if len(empty_list)==0:\n",
    "        print('-- 🔬There is no missing value in this dataframe🔬 --')\n",
    "    else:\n",
    "        \n",
    "        print('Dataframe includes null values😡. Missing value count is :{} \\n Missing value percentage is : {}'.format(len(empty_list),len(empty_list)/len(data)))\n",
    "        data.drop(empty_list,inplace=True)\n",
    "        \n",
    "    return data"
   ]
  },
  {
   "cell_type": "code",
   "execution_count": 6,
   "id": "428aff0b",
   "metadata": {
    "execution": {
     "iopub.execute_input": "2022-01-20T11:39:39.371789Z",
     "iopub.status.busy": "2022-01-20T11:39:39.370695Z",
     "iopub.status.idle": "2022-01-20T11:39:39.375049Z",
     "shell.execute_reply": "2022-01-20T11:39:39.374657Z",
     "shell.execute_reply.started": "2022-01-20T10:54:55.802848Z"
    },
    "papermill": {
     "duration": 0.047527,
     "end_time": "2022-01-20T11:39:39.375154",
     "exception": false,
     "start_time": "2022-01-20T11:39:39.327627",
     "status": "completed"
    },
    "tags": []
   },
   "outputs": [
    {
     "name": "stdout",
     "output_type": "stream",
     "text": [
      "Is there any missing value?\n",
      "\n",
      "-- 🔬There is no missing value in this dataframe🔬 --\n"
     ]
    }
   ],
   "source": [
    "data = drop_nulls(data)"
   ]
  },
  {
   "cell_type": "markdown",
   "id": "596c391c",
   "metadata": {
    "papermill": {
     "duration": 0.028147,
     "end_time": "2022-01-20T11:39:39.431508",
     "exception": false,
     "start_time": "2022-01-20T11:39:39.403361",
     "status": "completed"
    },
    "tags": []
   },
   "source": [
    "# Sentiment Intensity Analyzer 📚"
   ]
  },
  {
   "cell_type": "markdown",
   "id": "a7f3a9aa",
   "metadata": {
    "papermill": {
     "duration": 0.027667,
     "end_time": "2022-01-20T11:39:39.487322",
     "exception": false,
     "start_time": "2022-01-20T11:39:39.459655",
     "status": "completed"
    },
    "tags": []
   },
   "source": [
    "> `Sentiment analysis is a text analysis method that detects polarity (e.g. a positive or negative opinion) within the text, whether a whole document, paragraph, sentence, or clause.`\n",
    "\n",
    ">`Sentiment analysis aims to measure the attitude, sentiments, evaluations, attitudes, and emotions of a speaker/writer based on the computational treatment of subjectivity in a text.`"
   ]
  },
  {
   "cell_type": "markdown",
   "id": "f4716f5c",
   "metadata": {
    "papermill": {
     "duration": 0.029043,
     "end_time": "2022-01-20T11:39:39.544941",
     "exception": false,
     "start_time": "2022-01-20T11:39:39.515898",
     "status": "completed"
    },
    "tags": []
   },
   "source": [
    "###### Create instance"
   ]
  },
  {
   "cell_type": "code",
   "execution_count": 7,
   "id": "cbb113e8",
   "metadata": {
    "execution": {
     "iopub.execute_input": "2022-01-20T11:39:39.606285Z",
     "iopub.status.busy": "2022-01-20T11:39:39.605625Z",
     "iopub.status.idle": "2022-01-20T11:39:39.620464Z",
     "shell.execute_reply": "2022-01-20T11:39:39.620019Z",
     "shell.execute_reply.started": "2022-01-20T09:18:36.049693Z"
    },
    "papermill": {
     "duration": 0.046952,
     "end_time": "2022-01-20T11:39:39.620593",
     "exception": false,
     "start_time": "2022-01-20T11:39:39.573641",
     "status": "completed"
    },
    "tags": []
   },
   "outputs": [],
   "source": [
    "analysis_sa = SentimentIntensityAnalyzer()"
   ]
  },
  {
   "cell_type": "markdown",
   "id": "0ebca672",
   "metadata": {
    "papermill": {
     "duration": 0.028384,
     "end_time": "2022-01-20T11:39:39.677326",
     "exception": false,
     "start_time": "2022-01-20T11:39:39.648942",
     "status": "completed"
    },
    "tags": []
   },
   "source": [
    "## How it works?⚙"
   ]
  },
  {
   "cell_type": "code",
   "execution_count": 8,
   "id": "8a37fce2",
   "metadata": {
    "execution": {
     "iopub.execute_input": "2022-01-20T11:39:39.738302Z",
     "iopub.status.busy": "2022-01-20T11:39:39.737775Z",
     "iopub.status.idle": "2022-01-20T11:39:39.740468Z",
     "shell.execute_reply": "2022-01-20T11:39:39.740889Z",
     "shell.execute_reply.started": "2022-01-20T09:59:28.921993Z"
    },
    "papermill": {
     "duration": 0.035506,
     "end_time": "2022-01-20T11:39:39.741011",
     "exception": false,
     "start_time": "2022-01-20T11:39:39.705505",
     "status": "completed"
    },
    "tags": []
   },
   "outputs": [
    {
     "name": "stdout",
     "output_type": "stream",
     "text": [
      "{'neg': 0.0, 'neu': 0.632, 'pos': 0.368, 'compound': 0.5413}\n"
     ]
    }
   ],
   "source": [
    "random_text = 'the most exciting book i have ever read'\n",
    "print(analysis_sa.polarity_scores(random_text))"
   ]
  },
  {
   "cell_type": "code",
   "execution_count": 9,
   "id": "e45859ce",
   "metadata": {
    "execution": {
     "iopub.execute_input": "2022-01-20T11:39:39.804508Z",
     "iopub.status.busy": "2022-01-20T11:39:39.802987Z",
     "iopub.status.idle": "2022-01-20T11:39:39.806429Z",
     "shell.execute_reply": "2022-01-20T11:39:39.806006Z",
     "shell.execute_reply.started": "2022-01-20T09:59:29.151883Z"
    },
    "papermill": {
     "duration": 0.037013,
     "end_time": "2022-01-20T11:39:39.806551",
     "exception": false,
     "start_time": "2022-01-20T11:39:39.769538",
     "status": "completed"
    },
    "tags": []
   },
   "outputs": [
    {
     "name": "stdout",
     "output_type": "stream",
     "text": [
      "{'neg': 0.477, 'neu': 0.523, 'pos': 0.0, 'compound': -0.8074}\n"
     ]
    }
   ],
   "source": [
    "random_text = 'This was the worst film to ever disgrace the screen.'\n",
    "print(analysis_sa.polarity_scores(random_text))"
   ]
  },
  {
   "cell_type": "markdown",
   "id": "ec55aea8",
   "metadata": {
    "papermill": {
     "duration": 0.028477,
     "end_time": "2022-01-20T11:39:39.864380",
     "exception": false,
     "start_time": "2022-01-20T11:39:39.835903",
     "status": "completed"
    },
    "tags": []
   },
   "source": [
    "## Let's apply analyzed to our data "
   ]
  },
  {
   "cell_type": "code",
   "execution_count": 10,
   "id": "6091d7da",
   "metadata": {
    "execution": {
     "iopub.execute_input": "2022-01-20T11:39:39.957419Z",
     "iopub.status.busy": "2022-01-20T11:39:39.937156Z",
     "iopub.status.idle": "2022-01-20T11:39:49.085890Z",
     "shell.execute_reply": "2022-01-20T11:39:49.085116Z",
     "shell.execute_reply.started": "2022-01-20T09:18:36.097236Z"
    },
    "papermill": {
     "duration": 9.192971,
     "end_time": "2022-01-20T11:39:49.086035",
     "exception": false,
     "start_time": "2022-01-20T11:39:39.893064",
     "status": "completed"
    },
    "tags": []
   },
   "outputs": [],
   "source": [
    "data['score']= data['review'].apply(lambda rew: analysis_sa.polarity_scores(rew))\n",
    "data['compound']= data['score'].apply(lambda score: score['compound'])\n",
    "data['predict']= data['compound'].apply(lambda value: 'pos' if value >=0 else 'neg')"
   ]
  },
  {
   "cell_type": "code",
   "execution_count": 11,
   "id": "121fd7af",
   "metadata": {
    "execution": {
     "iopub.execute_input": "2022-01-20T11:39:49.152167Z",
     "iopub.status.busy": "2022-01-20T11:39:49.151257Z",
     "iopub.status.idle": "2022-01-20T11:39:49.166724Z",
     "shell.execute_reply": "2022-01-20T11:39:49.167166Z",
     "shell.execute_reply.started": "2022-01-20T09:18:45.404825Z"
    },
    "papermill": {
     "duration": 0.051136,
     "end_time": "2022-01-20T11:39:49.167306",
     "exception": false,
     "start_time": "2022-01-20T11:39:49.116170",
     "status": "completed"
    },
    "tags": []
   },
   "outputs": [
    {
     "data": {
      "text/html": [
       "<div>\n",
       "<style scoped>\n",
       "    .dataframe tbody tr th:only-of-type {\n",
       "        vertical-align: middle;\n",
       "    }\n",
       "\n",
       "    .dataframe tbody tr th {\n",
       "        vertical-align: top;\n",
       "    }\n",
       "\n",
       "    .dataframe thead th {\n",
       "        text-align: right;\n",
       "    }\n",
       "</style>\n",
       "<table border=\"1\" class=\"dataframe\">\n",
       "  <thead>\n",
       "    <tr style=\"text-align: right;\">\n",
       "      <th></th>\n",
       "      <th>label</th>\n",
       "      <th>review</th>\n",
       "      <th>score</th>\n",
       "      <th>compound</th>\n",
       "      <th>predict</th>\n",
       "    </tr>\n",
       "  </thead>\n",
       "  <tbody>\n",
       "    <tr>\n",
       "      <th>0</th>\n",
       "      <td>pos</td>\n",
       "      <td>Stuning even for the non-gamer: This sound tra...</td>\n",
       "      <td>{'neg': 0.088, 'neu': 0.669, 'pos': 0.243, 'co...</td>\n",
       "      <td>0.9454</td>\n",
       "      <td>pos</td>\n",
       "    </tr>\n",
       "    <tr>\n",
       "      <th>1</th>\n",
       "      <td>pos</td>\n",
       "      <td>The best soundtrack ever to anything.: I'm rea...</td>\n",
       "      <td>{'neg': 0.018, 'neu': 0.837, 'pos': 0.145, 'co...</td>\n",
       "      <td>0.8957</td>\n",
       "      <td>pos</td>\n",
       "    </tr>\n",
       "    <tr>\n",
       "      <th>2</th>\n",
       "      <td>pos</td>\n",
       "      <td>Amazing!: This soundtrack is my favorite music...</td>\n",
       "      <td>{'neg': 0.04, 'neu': 0.692, 'pos': 0.268, 'com...</td>\n",
       "      <td>0.9858</td>\n",
       "      <td>pos</td>\n",
       "    </tr>\n",
       "    <tr>\n",
       "      <th>3</th>\n",
       "      <td>pos</td>\n",
       "      <td>Excellent Soundtrack: I truly like this soundt...</td>\n",
       "      <td>{'neg': 0.09, 'neu': 0.615, 'pos': 0.295, 'com...</td>\n",
       "      <td>0.9814</td>\n",
       "      <td>pos</td>\n",
       "    </tr>\n",
       "    <tr>\n",
       "      <th>4</th>\n",
       "      <td>pos</td>\n",
       "      <td>Remember, Pull Your Jaw Off The Floor After He...</td>\n",
       "      <td>{'neg': 0.0, 'neu': 0.746, 'pos': 0.254, 'comp...</td>\n",
       "      <td>0.9781</td>\n",
       "      <td>pos</td>\n",
       "    </tr>\n",
       "    <tr>\n",
       "      <th>...</th>\n",
       "      <td>...</td>\n",
       "      <td>...</td>\n",
       "      <td>...</td>\n",
       "      <td>...</td>\n",
       "      <td>...</td>\n",
       "    </tr>\n",
       "    <tr>\n",
       "      <th>9995</th>\n",
       "      <td>pos</td>\n",
       "      <td>A revelation of life in small town America in ...</td>\n",
       "      <td>{'neg': 0.017, 'neu': 0.846, 'pos': 0.136, 'co...</td>\n",
       "      <td>0.9610</td>\n",
       "      <td>pos</td>\n",
       "    </tr>\n",
       "    <tr>\n",
       "      <th>9996</th>\n",
       "      <td>pos</td>\n",
       "      <td>Great biography of a very interesting journali...</td>\n",
       "      <td>{'neg': 0.0, 'neu': 0.868, 'pos': 0.132, 'comp...</td>\n",
       "      <td>0.9544</td>\n",
       "      <td>pos</td>\n",
       "    </tr>\n",
       "    <tr>\n",
       "      <th>9997</th>\n",
       "      <td>neg</td>\n",
       "      <td>Interesting Subject; Poor Presentation: You'd ...</td>\n",
       "      <td>{'neg': 0.096, 'neu': 0.768, 'pos': 0.137, 'co...</td>\n",
       "      <td>0.7074</td>\n",
       "      <td>pos</td>\n",
       "    </tr>\n",
       "    <tr>\n",
       "      <th>9998</th>\n",
       "      <td>neg</td>\n",
       "      <td>Don't buy: The box looked used and it is obvio...</td>\n",
       "      <td>{'neg': 0.091, 'neu': 0.909, 'pos': 0.0, 'comp...</td>\n",
       "      <td>-0.3595</td>\n",
       "      <td>neg</td>\n",
       "    </tr>\n",
       "    <tr>\n",
       "      <th>9999</th>\n",
       "      <td>pos</td>\n",
       "      <td>Beautiful Pen and Fast Delivery.: The pen was ...</td>\n",
       "      <td>{'neg': 0.028, 'neu': 0.811, 'pos': 0.161, 'co...</td>\n",
       "      <td>0.9107</td>\n",
       "      <td>pos</td>\n",
       "    </tr>\n",
       "  </tbody>\n",
       "</table>\n",
       "<p>10000 rows × 5 columns</p>\n",
       "</div>"
      ],
      "text/plain": [
       "     label                                             review  \\\n",
       "0      pos  Stuning even for the non-gamer: This sound tra...   \n",
       "1      pos  The best soundtrack ever to anything.: I'm rea...   \n",
       "2      pos  Amazing!: This soundtrack is my favorite music...   \n",
       "3      pos  Excellent Soundtrack: I truly like this soundt...   \n",
       "4      pos  Remember, Pull Your Jaw Off The Floor After He...   \n",
       "...    ...                                                ...   \n",
       "9995   pos  A revelation of life in small town America in ...   \n",
       "9996   pos  Great biography of a very interesting journali...   \n",
       "9997   neg  Interesting Subject; Poor Presentation: You'd ...   \n",
       "9998   neg  Don't buy: The box looked used and it is obvio...   \n",
       "9999   pos  Beautiful Pen and Fast Delivery.: The pen was ...   \n",
       "\n",
       "                                                  score  compound predict  \n",
       "0     {'neg': 0.088, 'neu': 0.669, 'pos': 0.243, 'co...    0.9454     pos  \n",
       "1     {'neg': 0.018, 'neu': 0.837, 'pos': 0.145, 'co...    0.8957     pos  \n",
       "2     {'neg': 0.04, 'neu': 0.692, 'pos': 0.268, 'com...    0.9858     pos  \n",
       "3     {'neg': 0.09, 'neu': 0.615, 'pos': 0.295, 'com...    0.9814     pos  \n",
       "4     {'neg': 0.0, 'neu': 0.746, 'pos': 0.254, 'comp...    0.9781     pos  \n",
       "...                                                 ...       ...     ...  \n",
       "9995  {'neg': 0.017, 'neu': 0.846, 'pos': 0.136, 'co...    0.9610     pos  \n",
       "9996  {'neg': 0.0, 'neu': 0.868, 'pos': 0.132, 'comp...    0.9544     pos  \n",
       "9997  {'neg': 0.096, 'neu': 0.768, 'pos': 0.137, 'co...    0.7074     pos  \n",
       "9998  {'neg': 0.091, 'neu': 0.909, 'pos': 0.0, 'comp...   -0.3595     neg  \n",
       "9999  {'neg': 0.028, 'neu': 0.811, 'pos': 0.161, 'co...    0.9107     pos  \n",
       "\n",
       "[10000 rows x 5 columns]"
      ]
     },
     "execution_count": 11,
     "metadata": {},
     "output_type": "execute_result"
    }
   ],
   "source": [
    "data"
   ]
  },
  {
   "cell_type": "markdown",
   "id": "4415a86d",
   "metadata": {
    "papermill": {
     "duration": 0.029005,
     "end_time": "2022-01-20T11:39:49.228140",
     "exception": false,
     "start_time": "2022-01-20T11:39:49.199135",
     "status": "completed"
    },
    "tags": []
   },
   "source": [
    "### ⚡Measure the peformance⚡"
   ]
  },
  {
   "cell_type": "code",
   "execution_count": 12,
   "id": "c6970e98",
   "metadata": {
    "execution": {
     "iopub.execute_input": "2022-01-20T11:39:49.304026Z",
     "iopub.status.busy": "2022-01-20T11:39:49.303154Z",
     "iopub.status.idle": "2022-01-20T11:39:49.979506Z",
     "shell.execute_reply": "2022-01-20T11:39:49.980561Z",
     "shell.execute_reply.started": "2022-01-20T09:18:45.428630Z"
    },
    "papermill": {
     "duration": 0.723482,
     "end_time": "2022-01-20T11:39:49.980786",
     "exception": false,
     "start_time": "2022-01-20T11:39:49.257304",
     "status": "completed"
    },
    "tags": []
   },
   "outputs": [
    {
     "name": "stdout",
     "output_type": "stream",
     "text": [
      "Overall accuracy is 70.07\n",
      "\n",
      "              precision    recall  f1-score   support\n",
      "\n",
      "         neg       0.85      0.50      0.63      5097\n",
      "         pos       0.64      0.91      0.75      4903\n",
      "\n",
      "    accuracy                           0.70     10000\n",
      "   macro avg       0.74      0.70      0.69     10000\n",
      "weighted avg       0.75      0.70      0.69     10000\n",
      "\n",
      "[[2540 2557]\n",
      " [ 436 4467]]\n"
     ]
    }
   ],
   "source": [
    "print('Overall accuracy is {}\\n'.format(accuracy_score(data['label'],data['predict'])*100))\n",
    "\n",
    "print(classification_report(data['label'],data['predict']))\n",
    "print(confusion_matrix(data['label'],data['predict']))"
   ]
  },
  {
   "cell_type": "code",
   "execution_count": 13,
   "id": "9e221abf",
   "metadata": {
    "execution": {
     "iopub.execute_input": "2022-01-20T11:39:50.092418Z",
     "iopub.status.busy": "2022-01-20T11:39:50.091675Z",
     "iopub.status.idle": "2022-01-20T11:39:50.094662Z",
     "shell.execute_reply": "2022-01-20T11:39:50.095257Z",
     "shell.execute_reply.started": "2022-01-20T10:04:55.440001Z"
    },
    "papermill": {
     "duration": 0.064874,
     "end_time": "2022-01-20T11:39:50.095437",
     "exception": false,
     "start_time": "2022-01-20T11:39:50.030563",
     "status": "completed"
    },
    "tags": []
   },
   "outputs": [],
   "source": [
    "data['label_num'] = pd.get_dummies(data['label'],drop_first=True)"
   ]
  },
  {
   "cell_type": "markdown",
   "id": "cffea17a",
   "metadata": {
    "papermill": {
     "duration": 0.048587,
     "end_time": "2022-01-20T11:39:50.192880",
     "exception": false,
     "start_time": "2022-01-20T11:39:50.144293",
     "status": "completed"
    },
    "tags": []
   },
   "source": [
    "# 📌NLP FOR SEGMENT📌"
   ]
  },
  {
   "cell_type": "markdown",
   "id": "2194ad08",
   "metadata": {
    "papermill": {
     "duration": 0.047885,
     "end_time": "2022-01-20T11:39:50.289632",
     "exception": false,
     "start_time": "2022-01-20T11:39:50.241747",
     "status": "completed"
    },
    "tags": []
   },
   "source": [
    "### We are going to create class for logistic regression."
   ]
  },
  {
   "cell_type": "code",
   "execution_count": 14,
   "id": "fa514aaf",
   "metadata": {
    "execution": {
     "iopub.execute_input": "2022-01-20T11:39:50.373475Z",
     "iopub.status.busy": "2022-01-20T11:39:50.372642Z",
     "iopub.status.idle": "2022-01-20T11:39:50.375074Z",
     "shell.execute_reply": "2022-01-20T11:39:50.374685Z",
     "shell.execute_reply.started": "2022-01-20T09:28:55.446388Z"
    },
    "papermill": {
     "duration": 0.050705,
     "end_time": "2022-01-20T11:39:50.375181",
     "exception": false,
     "start_time": "2022-01-20T11:39:50.324476",
     "status": "completed"
    },
    "tags": []
   },
   "outputs": [],
   "source": [
    "class PredictReview:\n",
    "    \n",
    "    def vectorize(self,train_data,test_data):\n",
    "        \n",
    "        tfidf = TfidfVectorizer()\n",
    "        train = tfidf.fit_transform(train_data.values.astype('U'))\n",
    "        test = tfidf.transform(test_data.values.astype('U'))\n",
    "        \n",
    "        return train,test,tfidf\n",
    "    \n",
    "    def split(self,data,train_size=0.1,shuffle=101):\n",
    "        \n",
    "        input_data = data['review']\n",
    "        output_data = data['label_num']\n",
    "        train_data, test_data, train_output, test_output = train_test_split(input_data, output_data, test_size=train_size, random_state=shuffle)\n",
    "        return train_data, test_data, train_output, test_output\n",
    "    \n",
    "    def base(self,data):\n",
    "        \n",
    "        log_reg = LogisticRegression()\n",
    "        data = self.prepare_data_for_train(data)\n",
    "        train_data, test_data, train_output, test_output = self.split(data)\n",
    "        train,test,tfidf = self.vectorize(train_data,test_data)\n",
    "        log_reg.fit(train,train_output)\n",
    "        pred = log_reg.predict(test)\n",
    "        self.performance(pred,test,test_output,log_reg)\n",
    "        return log_reg,tfidf\n",
    "    \n",
    "   \n",
    "    def prepare_data_for_train(self,input_data):\n",
    "        \n",
    "        nlp = spacy.load('en_core_web_sm')\n",
    "        stopword = nltk.corpus.stopwords.words('english')\n",
    "        empty_list  = []\n",
    "        for text in input_data.review:\n",
    "            text = text.lower()\n",
    "            text = re.sub('\\[.*?\\]', '', text)\n",
    "            text = re.sub('https?://\\S+|www\\.\\S+', '', text)\n",
    "            text = re.sub('<.*?>+', '', text)\n",
    "            text = re.sub('[%s]' % re.escape(string.punctuation), '', text)\n",
    "            text = re.sub('\\n', '', text)\n",
    "            text = re.sub('\\w*\\d\\w*', '', text)\n",
    "            text = re.sub(r'[^\\w\\s]', '',str(text))            \n",
    "            text=re.split(\"\\W+\",text)                          \n",
    "            text=[word for word in text if word not in stopword]\n",
    "            text = ' '.join(text)       \n",
    "            empty_list.append(text)\n",
    "        #input_data.drop('review',axis=1,inplace=True)\n",
    "        input_data['review'] = empty_list\n",
    "        return input_data\n",
    "    \n",
    "    \n",
    "    def performance(self,_data,test_data,test_output,model):\n",
    "        \n",
    "        plt.figure(figsize=(12,12))\n",
    "       \n",
    "        print(plot_confusion_matrix(model,test_data,test_output))\n",
    "        print(plot_precision_recall_curve(model,test_data,test_output))\n",
    "        print(plot_roc_curve(model,test_data,test_output))\n",
    "        print('\\033[36m'+classification_report(_data,test_output))\n",
    "        print('\\033[4m'+'\\033[91m'+'\\033[1m' +'Overall accuracy is {}% 💣\\n'.format(round(accuracy_score(_data,test_output)*100),0))\n",
    "        plt.show()\n",
    "     \n",
    "        \n",
    "    def test_sample(self,text,tfidf,base_model):\n",
    "        \n",
    "        text = self.clean_df(text)\n",
    "        text_sample = tfidf.transform([text])\n",
    "        pred = base_model.predict(text_sample)\n",
    "        if pred[0] == 1:\n",
    "            return 'positive'\n",
    "        else:\n",
    "            return 'negative'\n",
    "        \n",
    "    def  clean_df(self,text):\n",
    "        text = text.lower()\n",
    "        nlp = spacy.load('en_core_web_sm')\n",
    "        stopword = nltk.corpus.stopwords.words('english')\n",
    "        text = re.sub(r'[^\\w\\s]', '',str(text))            \n",
    "        text=re.split(\"\\W+\",text)                          \n",
    "        text=[word for word in text if word not in stopword]\n",
    "        text = ' '.join(text)                              \n",
    "        return text"
   ]
  },
  {
   "cell_type": "markdown",
   "id": "557158c3",
   "metadata": {
    "papermill": {
     "duration": 0.029468,
     "end_time": "2022-01-20T11:39:50.434016",
     "exception": false,
     "start_time": "2022-01-20T11:39:50.404548",
     "status": "completed"
    },
    "tags": []
   },
   "source": [
    "## 🍀CALL OUR CLASS🍀"
   ]
  },
  {
   "cell_type": "code",
   "execution_count": 15,
   "id": "dacc0db9",
   "metadata": {
    "execution": {
     "iopub.execute_input": "2022-01-20T11:39:50.497227Z",
     "iopub.status.busy": "2022-01-20T11:39:50.496479Z",
     "iopub.status.idle": "2022-01-20T11:39:50.498825Z",
     "shell.execute_reply": "2022-01-20T11:39:50.498399Z",
     "shell.execute_reply.started": "2022-01-20T09:56:22.358902Z"
    },
    "papermill": {
     "duration": 0.035375,
     "end_time": "2022-01-20T11:39:50.498934",
     "exception": false,
     "start_time": "2022-01-20T11:39:50.463559",
     "status": "completed"
    },
    "tags": []
   },
   "outputs": [],
   "source": [
    "review_predictor = PredictReview()"
   ]
  },
  {
   "cell_type": "markdown",
   "id": "d40493fa",
   "metadata": {
    "papermill": {
     "duration": 0.030689,
     "end_time": "2022-01-20T11:39:50.559760",
     "exception": false,
     "start_time": "2022-01-20T11:39:50.529071",
     "status": "completed"
    },
    "tags": []
   },
   "source": [
    "##### TRAIN DATA"
   ]
  },
  {
   "cell_type": "code",
   "execution_count": 16,
   "id": "01dd43ac",
   "metadata": {
    "execution": {
     "iopub.execute_input": "2022-01-20T11:39:50.624358Z",
     "iopub.status.busy": "2022-01-20T11:39:50.623614Z",
     "iopub.status.idle": "2022-01-20T11:39:55.587320Z",
     "shell.execute_reply": "2022-01-20T11:39:55.587794Z",
     "shell.execute_reply.started": "2022-01-20T09:56:23.261595Z"
    },
    "papermill": {
     "duration": 4.997362,
     "end_time": "2022-01-20T11:39:55.587947",
     "exception": false,
     "start_time": "2022-01-20T11:39:50.590585",
     "status": "completed"
    },
    "tags": []
   },
   "outputs": [
    {
     "name": "stdout",
     "output_type": "stream",
     "text": [
      "<sklearn.metrics._plot.confusion_matrix.ConfusionMatrixDisplay object at 0x7f7dea0d7f50>\n",
      "<sklearn.metrics._plot.precision_recall_curve.PrecisionRecallDisplay object at 0x7f7df12a8dd0>\n",
      "<sklearn.metrics._plot.roc_curve.RocCurveDisplay object at 0x7f7dea0b42d0>\n",
      "\u001b[36m              precision    recall  f1-score   support\n",
      "\n",
      "           0       0.89      0.86      0.87       517\n",
      "           1       0.85      0.88      0.87       483\n",
      "\n",
      "    accuracy                           0.87      1000\n",
      "   macro avg       0.87      0.87      0.87      1000\n",
      "weighted avg       0.87      0.87      0.87      1000\n",
      "\n",
      "\u001b[4m\u001b[91m\u001b[1mOverall accuracy is 87% 💣\n",
      "\n"
     ]
    },
    {
     "data": {
      "text/plain": [
       "<Figure size 864x864 with 0 Axes>"
      ]
     },
     "metadata": {},
     "output_type": "display_data"
    },
    {
     "data": {
      "image/png": "[encoded data removed]",
      "text/plain": [
       "<Figure size 1440x720 with 2 Axes>"
      ]
     },
     "metadata": {},
     "output_type": "display_data"
    },
    {
     "data": {
      "image/png": "[encoded data removed]",
      "text/plain": [
       "<Figure size 1440x720 with 1 Axes>"
      ]
     },
     "metadata": {},
     "output_type": "display_data"
    },
    {
     "data": {
      "image/png": "[encoded data removed]",
      "text/plain": [
       "<Figure size 1440x720 with 1 Axes>"
      ]
     },
     "metadata": {},
     "output_type": "display_data"
    }
   ],
   "source": [
    "model,coverter = review_predictor.base(data)"
   ]
  },
  {
   "cell_type": "markdown",
   "id": "d41672f2",
   "metadata": {
    "papermill": {
     "duration": 0.033114,
     "end_time": "2022-01-20T11:39:55.655941",
     "exception": false,
     "start_time": "2022-01-20T11:39:55.622827",
     "status": "completed"
    },
    "tags": []
   },
   "source": [
    "> Everything looks great so far 👌"
   ]
  },
  {
   "cell_type": "markdown",
   "id": "de40da94",
   "metadata": {
    "papermill": {
     "duration": 0.032659,
     "end_time": "2022-01-20T11:39:55.721667",
     "exception": false,
     "start_time": "2022-01-20T11:39:55.689008",
     "status": "completed"
    },
    "tags": []
   },
   "source": [
    "### 📝Test Random Review 📝"
   ]
  },
  {
   "cell_type": "markdown",
   "id": "77e59b16",
   "metadata": {
    "papermill": {
     "duration": 0.032731,
     "end_time": "2022-01-20T11:39:55.796503",
     "exception": false,
     "start_time": "2022-01-20T11:39:55.763772",
     "status": "completed"
    },
    "tags": []
   },
   "source": [
    "### Let's write function for prediction and make it looks simple 🛠"
   ]
  },
  {
   "cell_type": "code",
   "execution_count": 17,
   "id": "eb6898eb",
   "metadata": {
    "execution": {
     "iopub.execute_input": "2022-01-20T11:39:55.868155Z",
     "iopub.status.busy": "2022-01-20T11:39:55.867349Z",
     "iopub.status.idle": "2022-01-20T11:39:55.869824Z",
     "shell.execute_reply": "2022-01-20T11:39:55.869360Z",
     "shell.execute_reply.started": "2022-01-20T09:56:28.719989Z"
    },
    "papermill": {
     "duration": 0.040359,
     "end_time": "2022-01-20T11:39:55.869935",
     "exception": false,
     "start_time": "2022-01-20T11:39:55.829576",
     "status": "completed"
    },
    "tags": []
   },
   "outputs": [],
   "source": [
    "def quick_preictor(text):\n",
    "    answer = review_predictor.test_sample(text,coverter,model)\n",
    "    if answer == 'negative':\n",
    "        print('\\033[1m'+'\\033[91m'+'Prediction is : '+answer+\"\\n\")\n",
    "        print(text)\n",
    "    else:\n",
    "        print('\\033[1m'+'\\033[92m'+'Prediction is : '+answer+\"\\n\")\n",
    "        print(text)"
   ]
  },
  {
   "cell_type": "code",
   "execution_count": 18,
   "id": "c1f6eb66",
   "metadata": {
    "execution": {
     "iopub.execute_input": "2022-01-20T11:39:55.940116Z",
     "iopub.status.busy": "2022-01-20T11:39:55.939356Z",
     "iopub.status.idle": "2022-01-20T11:39:56.493295Z",
     "shell.execute_reply": "2022-01-20T11:39:56.492848Z",
     "shell.execute_reply.started": "2022-01-20T09:56:28.911175Z"
    },
    "papermill": {
     "duration": 0.590385,
     "end_time": "2022-01-20T11:39:56.493423",
     "exception": false,
     "start_time": "2022-01-20T11:39:55.903038",
     "status": "completed"
    },
    "tags": []
   },
   "outputs": [
    {
     "name": "stdout",
     "output_type": "stream",
     "text": [
      "\u001b[1m\u001b[91mPrediction is : negative\n",
      "\n",
      "Purchased this keyboard in September 2018 and it has already stopped working. Some keys do not work while others simply input a gibberish combination of characters. I also purchased the 4 year squaretrade warranty but since it is under the manufacturer warranty they wont allow me to make a claim.\n"
     ]
    }
   ],
   "source": [
    "text = 'Purchased this keyboard in September 2018 and it has already stopped working. Some keys do not work while others simply input a gibberish combination of characters. I also purchased the 4 year squaretrade warranty but since it is under the manufacturer warranty they wont allow me to make a claim.'\n",
    "quick_preictor(text)"
   ]
  },
  {
   "cell_type": "code",
   "execution_count": 19,
   "id": "614577c2",
   "metadata": {
    "execution": {
     "iopub.execute_input": "2022-01-20T11:39:56.564871Z",
     "iopub.status.busy": "2022-01-20T11:39:56.564108Z",
     "iopub.status.idle": "2022-01-20T11:39:57.102958Z",
     "shell.execute_reply": "2022-01-20T11:39:57.103496Z",
     "shell.execute_reply.started": "2022-01-20T09:49:58.620561Z"
    },
    "papermill": {
     "duration": 0.576919,
     "end_time": "2022-01-20T11:39:57.103712",
     "exception": false,
     "start_time": "2022-01-20T11:39:56.526793",
     "status": "completed"
    },
    "tags": []
   },
   "outputs": [
    {
     "name": "stdout",
     "output_type": "stream",
     "text": [
      "\u001b[1m\u001b[92mPrediction is : positive\n",
      "\n",
      "Love it just have to sync it up with all the other RGB but love it. Big Razor fan\n"
     ]
    }
   ],
   "source": [
    "text = 'Love it just have to sync it up with all the other RGB but love it. Big Razor fan'\n",
    "quick_preictor(text)"
   ]
  },
  {
   "cell_type": "code",
   "execution_count": 20,
   "id": "b64ab824",
   "metadata": {
    "execution": {
     "iopub.execute_input": "2022-01-20T11:39:57.178955Z",
     "iopub.status.busy": "2022-01-20T11:39:57.178107Z",
     "iopub.status.idle": "2022-01-20T11:39:57.718818Z",
     "shell.execute_reply": "2022-01-20T11:39:57.719238Z",
     "shell.execute_reply.started": "2022-01-20T09:49:59.723625Z"
    },
    "papermill": {
     "duration": 0.579598,
     "end_time": "2022-01-20T11:39:57.719390",
     "exception": false,
     "start_time": "2022-01-20T11:39:57.139792",
     "status": "completed"
    },
    "tags": []
   },
   "outputs": [
    {
     "name": "stdout",
     "output_type": "stream",
     "text": [
      "\u001b[1m\u001b[92mPrediction is : positive\n",
      "\n",
      "I get cold really easy and this jacket is great if you want a warm one. I'm 5'10 and weigh 135lbs and the small fits me well. It has fleece lined pockets and a fleece lined hood. It has a good quality YKK zipper. The coat snaps shut in addition to zippering shut. It has elastic around the wrists for a nice tight fit that won't allow breezes to flow up your arm. There a fleece-line inside pocket about chest high big enough for a cell phone or wallet. It has a velcro enclosure.\n"
     ]
    }
   ],
   "source": [
    "text = \"I get cold really easy and this jacket is great if you want a warm one. I'm 5'10 and weigh 135lbs and the small fits me well. It has fleece lined pockets and a fleece lined hood. It has a good quality YKK zipper. The coat snaps shut in addition to zippering shut. It has elastic around the wrists for a nice tight fit that won't allow breezes to flow up your arm. There a fleece-line inside pocket about chest high big enough for a cell phone or wallet. It has a velcro enclosure.\"\n",
    "quick_preictor(text)"
   ]
  },
  {
   "cell_type": "code",
   "execution_count": 21,
   "id": "64eb2b1a",
   "metadata": {
    "execution": {
     "iopub.execute_input": "2022-01-20T11:39:57.791673Z",
     "iopub.status.busy": "2022-01-20T11:39:57.790905Z",
     "iopub.status.idle": "2022-01-20T11:39:58.597415Z",
     "shell.execute_reply": "2022-01-20T11:39:58.598216Z",
     "shell.execute_reply.started": "2022-01-20T09:50:00.832913Z"
    },
    "papermill": {
     "duration": 0.844705,
     "end_time": "2022-01-20T11:39:58.598380",
     "exception": false,
     "start_time": "2022-01-20T11:39:57.753675",
     "status": "completed"
    },
    "tags": []
   },
   "outputs": [
    {
     "name": "stdout",
     "output_type": "stream",
     "text": [
      "\u001b[1m\u001b[91mPrediction is : negative\n",
      "\n",
      "Dont do it ! It will tell u steps and heartbeat .. But dont bother connecting it to your phone 👎 Not android anyways.\n"
     ]
    }
   ],
   "source": [
    "text = \"Dont do it ! It will tell u steps and heartbeat .. But dont bother connecting it to your phone 👎 Not android anyways.\"\n",
    "quick_preictor(text)"
   ]
  },
  {
   "cell_type": "code",
   "execution_count": 22,
   "id": "7db5a4a7",
   "metadata": {
    "execution": {
     "iopub.execute_input": "2022-01-20T11:39:58.672684Z",
     "iopub.status.busy": "2022-01-20T11:39:58.671895Z",
     "iopub.status.idle": "2022-01-20T11:39:59.211338Z",
     "shell.execute_reply": "2022-01-20T11:39:59.211785Z",
     "shell.execute_reply.started": "2022-01-20T09:50:02.118775Z"
    },
    "papermill": {
     "duration": 0.578917,
     "end_time": "2022-01-20T11:39:59.211933",
     "exception": false,
     "start_time": "2022-01-20T11:39:58.633016",
     "status": "completed"
    },
    "tags": []
   },
   "outputs": [
    {
     "name": "stdout",
     "output_type": "stream",
     "text": [
      "\u001b[1m\u001b[92mPrediction is : positive\n",
      "\n",
      "I have owned two Samsung smartwatches, one Fitbit, and a new Apple watch 6 for wife, but I am looking for a simple, light, long battery life particularly with Alexa control function smart device. I finally made decision to try it. It took less than 5 minutes to setup EVERYTHING. The screen is beautiful, super crisp text. The Alexa function works perfectly even without the ability of speaker. I can read text message, and get phone call notification. It has a lot of basic health fitness tracker features that are very useful. I would give it 5+ stars.\n"
     ]
    }
   ],
   "source": [
    "text = \"I have owned two Samsung smartwatches, one Fitbit, and a new Apple watch 6 for wife, but I am looking for a simple, light, long battery life particularly with Alexa control function smart device. I finally made decision to try it. It took less than 5 minutes to setup EVERYTHING. The screen is beautiful, super crisp text. The Alexa function works perfectly even without the ability of speaker. I can read text message, and get phone call notification. It has a lot of basic health fitness tracker features that are very useful. I would give it 5+ stars.\"\n",
    "quick_preictor(text)"
   ]
  },
  {
   "cell_type": "code",
   "execution_count": 23,
   "id": "03db1ea7",
   "metadata": {
    "execution": {
     "iopub.execute_input": "2022-01-20T11:39:59.284211Z",
     "iopub.status.busy": "2022-01-20T11:39:59.283434Z",
     "iopub.status.idle": "2022-01-20T11:39:59.822921Z",
     "shell.execute_reply": "2022-01-20T11:39:59.823432Z",
     "shell.execute_reply.started": "2022-01-20T09:50:03.607146Z"
    },
    "papermill": {
     "duration": 0.576731,
     "end_time": "2022-01-20T11:39:59.823599",
     "exception": false,
     "start_time": "2022-01-20T11:39:59.246868",
     "status": "completed"
    },
    "tags": []
   },
   "outputs": [
    {
     "name": "stdout",
     "output_type": "stream",
     "text": [
      "\u001b[1m\u001b[92mPrediction is : positive\n",
      "\n",
      "The WATCH is awesome! Does what i need it to do. Counts my steps and my calories while doing my workout.The battery life is great! Better than my previous watch. You can also change the strap with other ones used for other watches.\n"
     ]
    }
   ],
   "source": [
    "text = \"The WATCH is awesome! Does what i need it to do. Counts my steps and my calories while doing my workout.The battery life is great! Better than my previous watch. You can also change the strap with other ones used for other watches.\"\n",
    "quick_preictor(text)"
   ]
  },
  {
   "cell_type": "markdown",
   "id": "29a15b26",
   "metadata": {
    "papermill": {
     "duration": 0.034531,
     "end_time": "2022-01-20T11:39:59.893810",
     "exception": false,
     "start_time": "2022-01-20T11:39:59.859279",
     "status": "completed"
    },
    "tags": []
   },
   "source": [
    "# END😇"
   ]
  },
  {
   "cell_type": "markdown",
   "id": "92e9134a",
   "metadata": {
    "papermill": {
     "duration": 0.034758,
     "end_time": "2022-01-20T11:39:59.963621",
     "exception": false,
     "start_time": "2022-01-20T11:39:59.928863",
     "status": "completed"
    },
    "tags": []
   },
   "source": [
    "#### I HOPE YOU ENJOY ✌🏻\n",
    "<div style=\"width:100%;text-align: center;\"> <img align=middle src=\"https://i2.wp.com/www.thirstydaddy.com/wp-content/uploads/2015/05/thanks-for-reading.png\" alt=\"Heat beating\" style=\"height:300px;margin-top:3rem;\"> </div>"
   ]
  }
 ],
 "metadata": {
  "kernelspec": {
   "display_name": "Python 3 (ipykernel)",
   "language": "python",
   "name": "python3"
  },
  "language_info": {
   "codemirror_mode": {
    "name": "ipython",
    "version": 3
   },
   "file_extension": ".py",
   "mimetype": "text/x-python",
   "name": "python",
   "nbconvert_exporter": "python",
   "pygments_lexer": "ipython3",
   "version": "3.9.7"
  },
  "papermill": {
   "default_parameters": {},
   "duration": 45.37833,
   "end_time": "2022-01-20T11:40:03.159681",
   "environment_variables": {},
   "exception": null,
   "input_path": "__notebook__.ipynb",
   "output_path": "__notebook__.ipynb",
   "parameters": {},
   "start_time": "2022-01-20T11:39:17.781351",
   "version": "2.3.3"
  }
 },
 "nbformat": 4,
 "nbformat_minor": 5
}
