{
 "cells": [
  {
   "cell_type": "code",
   "execution_count": 1,
   "id": "56c01468",
   "metadata": {},
   "outputs": [],
   "source": [
    "import pandas as pd \n",
    "import numpy as np\n",
    "import nltk\n",
    "import matplotlib.pyplot as plt"
   ]
  },
  {
   "cell_type": "code",
   "execution_count": 2,
   "id": "4117ebb1",
   "metadata": {},
   "outputs": [],
   "source": [
    "amazon = pd.read_csv(r'F:\\DS\\KAGGLE DATASET\\NLP series\\amazonreviews.tsv' , sep = '\\t')"
   ]
  },
  {
   "cell_type": "code",
   "execution_count": 3,
   "id": "40814dd5",
   "metadata": {},
   "outputs": [
    {
     "data": {
      "text/html": [
       "<div>\n",
       "<style scoped>\n",
       "    .dataframe tbody tr th:only-of-type {\n",
       "        vertical-align: middle;\n",
       "    }\n",
       "\n",
       "    .dataframe tbody tr th {\n",
       "        vertical-align: top;\n",
       "    }\n",
       "\n",
       "    .dataframe thead th {\n",
       "        text-align: right;\n",
       "    }\n",
       "</style>\n",
       "<table border=\"1\" class=\"dataframe\">\n",
       "  <thead>\n",
       "    <tr style=\"text-align: right;\">\n",
       "      <th></th>\n",
       "      <th>label</th>\n",
       "      <th>review</th>\n",
       "    </tr>\n",
       "  </thead>\n",
       "  <tbody>\n",
       "    <tr>\n",
       "      <th>0</th>\n",
       "      <td>pos</td>\n",
       "      <td>Stuning even for the non-gamer: This sound tra...</td>\n",
       "    </tr>\n",
       "    <tr>\n",
       "      <th>1</th>\n",
       "      <td>pos</td>\n",
       "      <td>The best soundtrack ever to anything.: I'm rea...</td>\n",
       "    </tr>\n",
       "    <tr>\n",
       "      <th>2</th>\n",
       "      <td>pos</td>\n",
       "      <td>Amazing!: This soundtrack is my favorite music...</td>\n",
       "    </tr>\n",
       "    <tr>\n",
       "      <th>3</th>\n",
       "      <td>pos</td>\n",
       "      <td>Excellent Soundtrack: I truly like this soundt...</td>\n",
       "    </tr>\n",
       "    <tr>\n",
       "      <th>4</th>\n",
       "      <td>pos</td>\n",
       "      <td>Remember, Pull Your Jaw Off The Floor After He...</td>\n",
       "    </tr>\n",
       "    <tr>\n",
       "      <th>5</th>\n",
       "      <td>pos</td>\n",
       "      <td>an absolute masterpiece: I am quite sure any o...</td>\n",
       "    </tr>\n",
       "    <tr>\n",
       "      <th>6</th>\n",
       "      <td>neg</td>\n",
       "      <td>Buyer beware: This is a self-published book, a...</td>\n",
       "    </tr>\n",
       "    <tr>\n",
       "      <th>7</th>\n",
       "      <td>pos</td>\n",
       "      <td>Glorious story: I loved Whisper of the wicked ...</td>\n",
       "    </tr>\n",
       "    <tr>\n",
       "      <th>8</th>\n",
       "      <td>pos</td>\n",
       "      <td>A FIVE STAR BOOK: I just finished reading Whis...</td>\n",
       "    </tr>\n",
       "    <tr>\n",
       "      <th>9</th>\n",
       "      <td>pos</td>\n",
       "      <td>Whispers of the Wicked Saints: This was a easy...</td>\n",
       "    </tr>\n",
       "  </tbody>\n",
       "</table>\n",
       "</div>"
      ],
      "text/plain": [
       "  label                                             review\n",
       "0   pos  Stuning even for the non-gamer: This sound tra...\n",
       "1   pos  The best soundtrack ever to anything.: I'm rea...\n",
       "2   pos  Amazing!: This soundtrack is my favorite music...\n",
       "3   pos  Excellent Soundtrack: I truly like this soundt...\n",
       "4   pos  Remember, Pull Your Jaw Off The Floor After He...\n",
       "5   pos  an absolute masterpiece: I am quite sure any o...\n",
       "6   neg  Buyer beware: This is a self-published book, a...\n",
       "7   pos  Glorious story: I loved Whisper of the wicked ...\n",
       "8   pos  A FIVE STAR BOOK: I just finished reading Whis...\n",
       "9   pos  Whispers of the Wicked Saints: This was a easy..."
      ]
     },
     "execution_count": 3,
     "metadata": {},
     "output_type": "execute_result"
    }
   ],
   "source": [
    "amazon.head(10)"
   ]
  },
  {
   "cell_type": "code",
   "execution_count": 4,
   "id": "0f11f69b",
   "metadata": {
    "scrolled": true
   },
   "outputs": [
    {
     "data": {
      "text/plain": [
       "(10000, 2)"
      ]
     },
     "execution_count": 4,
     "metadata": {},
     "output_type": "execute_result"
    }
   ],
   "source": [
    "amazon.shape"
   ]
  },
  {
   "cell_type": "code",
   "execution_count": 5,
   "id": "1e697109",
   "metadata": {},
   "outputs": [],
   "source": [
    "# pip install wordcloud"
   ]
  },
  {
   "cell_type": "code",
   "execution_count": 6,
   "id": "0c94f835",
   "metadata": {},
   "outputs": [
    {
     "data": {
      "text/plain": [
       "label     0\n",
       "review    0\n",
       "dtype: int64"
      ]
     },
     "execution_count": 6,
     "metadata": {},
     "output_type": "execute_result"
    }
   ],
   "source": [
    "amazon.isnull().sum()"
   ]
  },
  {
   "cell_type": "code",
   "execution_count": 8,
   "id": "909bc5d8",
   "metadata": {},
   "outputs": [
    {
     "name": "stderr",
     "output_type": "stream",
     "text": [
      "[nltk_data] Downloading package vader_lexicon to\n",
      "[nltk_data]     C:\\Users\\DELL\\AppData\\Roaming\\nltk_data...\n"
     ]
    },
    {
     "data": {
      "text/plain": [
       "True"
      ]
     },
     "execution_count": 8,
     "metadata": {},
     "output_type": "execute_result"
    }
   ],
   "source": [
    "from nltk.sentiment.vader import SentimentIntensityAnalyzer\n",
    "nltk.download('vader_lexicon')  # lexicon = you are downloading pretrained dictionary"
   ]
  },
  {
   "cell_type": "code",
   "execution_count": 13,
   "id": "f243f0a3",
   "metadata": {},
   "outputs": [],
   "source": [
    "sent = SentimentIntensityAnalyzer()  # Crating a instance"
   ]
  },
  {
   "cell_type": "code",
   "execution_count": 14,
   "id": "b1b01f63",
   "metadata": {},
   "outputs": [
    {
     "data": {
      "text/plain": [
       "{'neg': 0.0, 'neu': 0.593, 'pos': 0.407, 'compound': 0.6705}"
      ]
     },
     "execution_count": 14,
     "metadata": {},
     "output_type": "execute_result"
    }
   ],
   "source": [
    "sent.polarity_scores('This drink was awesome.I had heavenly feeling by taking a sip')"
   ]
  },
  {
   "cell_type": "code",
   "execution_count": 15,
   "id": "67ed285d",
   "metadata": {},
   "outputs": [
    {
     "data": {
      "text/plain": [
       "{'neg': 0.5, 'neu': 0.5, 'pos': 0.0, 'compound': -0.7906}"
      ]
     },
     "execution_count": 15,
     "metadata": {},
     "output_type": "execute_result"
    }
   ],
   "source": [
    "sent.polarity_scores('This drink was horrible It was horrible in taste')"
   ]
  },
  {
   "cell_type": "code",
   "execution_count": 18,
   "id": "35157f86",
   "metadata": {},
   "outputs": [
    {
     "data": {
      "text/plain": [
       "{'neg': 0.476, 'neu': 0.524, 'pos': 0.0, 'compound': -0.8431}"
      ]
     },
     "execution_count": 18,
     "metadata": {},
     "output_type": "execute_result"
    }
   ],
   "source": [
    "sent.polarity_scores('The product was down market and absolutely disgusting worthless and of no use')"
   ]
  },
  {
   "cell_type": "code",
   "execution_count": 19,
   "id": "b6436f00",
   "metadata": {},
   "outputs": [
    {
     "data": {
      "text/plain": [
       "{'neg': 0.0, 'neu': 0.392, 'pos': 0.608, 'compound': 0.7351}"
      ]
     },
     "execution_count": 19,
     "metadata": {},
     "output_type": "execute_result"
    }
   ],
   "source": [
    "sent.polarity_scores('Movie was good and i enjoyed sleeping')"
   ]
  },
  {
   "cell_type": "code",
   "execution_count": 22,
   "id": "c8b9e67f",
   "metadata": {},
   "outputs": [
    {
     "data": {
      "text/plain": [
       "{'neg': 0.0, 'neu': 0.674, 'pos': 0.326, 'compound': 0.4404}"
      ]
     },
     "execution_count": 22,
     "metadata": {},
     "output_type": "execute_result"
    }
   ],
   "source": [
    "sent.polarity_scores('Movie was good and i just kept sleeping')"
   ]
  },
  {
   "cell_type": "code",
   "execution_count": 29,
   "id": "61967bbd",
   "metadata": {},
   "outputs": [
    {
     "data": {
      "text/plain": [
       "{'neg': 0.0, 'neu': 0.434, 'pos': 0.566, 'compound': 0.8871}"
      ]
     },
     "execution_count": 29,
     "metadata": {},
     "output_type": "execute_result"
    }
   ],
   "source": [
    "sent.polarity_scores('I love you so much dear, you are so stunning in nature')"
   ]
  },
  {
   "cell_type": "code",
   "execution_count": 41,
   "id": "6edb802e",
   "metadata": {},
   "outputs": [
    {
     "data": {
      "text/plain": [
       "{'neg': 0.0, 'neu': 0.633, 'pos': 0.367, 'compound': 0.4404}"
      ]
     },
     "execution_count": 41,
     "metadata": {},
     "output_type": "execute_result"
    }
   ],
   "source": [
    "score = sent.polarity_scores('Movie was good and i just slept')\n",
    "score"
   ]
  },
  {
   "cell_type": "code",
   "execution_count": 38,
   "id": "ee7a7197",
   "metadata": {},
   "outputs": [
    {
     "data": {
      "text/plain": [
       "dict"
      ]
     },
     "execution_count": 38,
     "metadata": {},
     "output_type": "execute_result"
    }
   ],
   "source": [
    "type(score)"
   ]
  },
  {
   "cell_type": "code",
   "execution_count": 39,
   "id": "8fb9413c",
   "metadata": {},
   "outputs": [
    {
     "data": {
      "text/plain": [
       "dict_keys(['neg', 'neu', 'pos', 'compound'])"
      ]
     },
     "execution_count": 39,
     "metadata": {},
     "output_type": "execute_result"
    }
   ],
   "source": [
    "score.keys()"
   ]
  },
  {
   "cell_type": "code",
   "execution_count": 40,
   "id": "9140bbd4",
   "metadata": {},
   "outputs": [
    {
     "data": {
      "text/plain": [
       "dict_values([0.0, 0.633, 0.367, 0.4404])"
      ]
     },
     "execution_count": 40,
     "metadata": {},
     "output_type": "execute_result"
    }
   ],
   "source": [
    "score.values()"
   ]
  },
  {
   "cell_type": "code",
   "execution_count": 42,
   "id": "37a1c187",
   "metadata": {},
   "outputs": [
    {
     "data": {
      "text/plain": [
       "0.0"
      ]
     },
     "execution_count": 42,
     "metadata": {},
     "output_type": "execute_result"
    }
   ],
   "source": [
    "score['neg']"
   ]
  },
  {
   "cell_type": "code",
   "execution_count": 43,
   "id": "957ea299",
   "metadata": {},
   "outputs": [
    {
     "data": {
      "text/plain": [
       "0.633"
      ]
     },
     "execution_count": 43,
     "metadata": {},
     "output_type": "execute_result"
    }
   ],
   "source": [
    "score['neu']"
   ]
  },
  {
   "cell_type": "code",
   "execution_count": 44,
   "id": "b40d3f0d",
   "metadata": {},
   "outputs": [
    {
     "data": {
      "text/plain": [
       "(10000, 2)"
      ]
     },
     "execution_count": 44,
     "metadata": {},
     "output_type": "execute_result"
    }
   ],
   "source": [
    "amazon.shape"
   ]
  },
  {
   "cell_type": "code",
   "execution_count": 45,
   "id": "519e0617",
   "metadata": {},
   "outputs": [
    {
     "data": {
      "text/html": [
       "<div>\n",
       "<style scoped>\n",
       "    .dataframe tbody tr th:only-of-type {\n",
       "        vertical-align: middle;\n",
       "    }\n",
       "\n",
       "    .dataframe tbody tr th {\n",
       "        vertical-align: top;\n",
       "    }\n",
       "\n",
       "    .dataframe thead th {\n",
       "        text-align: right;\n",
       "    }\n",
       "</style>\n",
       "<table border=\"1\" class=\"dataframe\">\n",
       "  <thead>\n",
       "    <tr style=\"text-align: right;\">\n",
       "      <th></th>\n",
       "      <th>label</th>\n",
       "      <th>review</th>\n",
       "    </tr>\n",
       "  </thead>\n",
       "  <tbody>\n",
       "    <tr>\n",
       "      <th>0</th>\n",
       "      <td>pos</td>\n",
       "      <td>Stuning even for the non-gamer: This sound tra...</td>\n",
       "    </tr>\n",
       "    <tr>\n",
       "      <th>1</th>\n",
       "      <td>pos</td>\n",
       "      <td>The best soundtrack ever to anything.: I'm rea...</td>\n",
       "    </tr>\n",
       "    <tr>\n",
       "      <th>2</th>\n",
       "      <td>pos</td>\n",
       "      <td>Amazing!: This soundtrack is my favorite music...</td>\n",
       "    </tr>\n",
       "    <tr>\n",
       "      <th>3</th>\n",
       "      <td>pos</td>\n",
       "      <td>Excellent Soundtrack: I truly like this soundt...</td>\n",
       "    </tr>\n",
       "    <tr>\n",
       "      <th>4</th>\n",
       "      <td>pos</td>\n",
       "      <td>Remember, Pull Your Jaw Off The Floor After He...</td>\n",
       "    </tr>\n",
       "  </tbody>\n",
       "</table>\n",
       "</div>"
      ],
      "text/plain": [
       "  label                                             review\n",
       "0   pos  Stuning even for the non-gamer: This sound tra...\n",
       "1   pos  The best soundtrack ever to anything.: I'm rea...\n",
       "2   pos  Amazing!: This soundtrack is my favorite music...\n",
       "3   pos  Excellent Soundtrack: I truly like this soundt...\n",
       "4   pos  Remember, Pull Your Jaw Off The Floor After He..."
      ]
     },
     "execution_count": 45,
     "metadata": {},
     "output_type": "execute_result"
    }
   ],
   "source": [
    "amazon.head()"
   ]
  },
  {
   "cell_type": "code",
   "execution_count": 46,
   "id": "33f49b7b",
   "metadata": {},
   "outputs": [
    {
     "data": {
      "text/plain": [
       "neg    5097\n",
       "pos    4903\n",
       "Name: label, dtype: int64"
      ]
     },
     "execution_count": 46,
     "metadata": {},
     "output_type": "execute_result"
    }
   ],
   "source": [
    "amazon.label.value_counts()"
   ]
  },
  {
   "cell_type": "code",
   "execution_count": 49,
   "id": "e6d9f2c9",
   "metadata": {},
   "outputs": [
    {
     "data": {
      "text/plain": [
       "'Stuning even for the non-gamer: This sound track was beautiful! It paints the senery in your mind so well I would recomend it even to people who hate vid. game music! I have played the game Chrono Cross but out of all of the games I have ever played it has the best music! It backs away from crude keyboarding and takes a fresher step with grate guitars and soulful orchestras. It would impress anyone who cares to listen! ^_^'"
      ]
     },
     "execution_count": 49,
     "metadata": {},
     "output_type": "execute_result"
    }
   ],
   "source": [
    "amazon.iloc[0][1]"
   ]
  },
  {
   "cell_type": "code",
   "execution_count": 50,
   "id": "cc64d84d",
   "metadata": {},
   "outputs": [],
   "source": [
    "score = sent.polarity_scores(amazon.iloc[0][1])"
   ]
  },
  {
   "cell_type": "code",
   "execution_count": 52,
   "id": "c5cc30e4",
   "metadata": {},
   "outputs": [
    {
     "data": {
      "text/plain": [
       "0.9454"
      ]
     },
     "execution_count": 52,
     "metadata": {},
     "output_type": "execute_result"
    }
   ],
   "source": [
    "score['compound']"
   ]
  },
  {
   "cell_type": "markdown",
   "id": "a3d07d91",
   "metadata": {},
   "source": [
    "* consider company has launched the product and wants to understand if the product being expected\n",
    "like by the people or not also keep in mind thet you do not have target variable"
   ]
  },
  {
   "cell_type": "code",
   "execution_count": 58,
   "id": "d387f7c1",
   "metadata": {},
   "outputs": [],
   "source": [
    "score_com = []\n",
    "score_pos =[]\n",
    "score_neg = []\n",
    "for i in range(0, amazon.shape[0]):\n",
    "    score = sent.polarity_scores(amazon.iloc[i][1]) # this 1 for second column (review columns)\n",
    "    score1 = score['compound']\n",
    "    score_com.append(score1)\n",
    "    # below two lines are extract the positive sentiment \n",
    "    score2 = score['pos']\n",
    "    score_pos.append(score2)\n",
    "    # below two lines are extract the negative sentiment\n",
    "    score3 = score['neg']\n",
    "    score_neg.append(score3)"
   ]
  },
  {
   "cell_type": "code",
   "execution_count": 59,
   "id": "22feeda6",
   "metadata": {},
   "outputs": [
    {
     "data": {
      "text/plain": [
       "10000"
      ]
     },
     "execution_count": 59,
     "metadata": {},
     "output_type": "execute_result"
    }
   ],
   "source": [
    "len(score_com)"
   ]
  },
  {
   "cell_type": "code",
   "execution_count": 60,
   "id": "834a93d7",
   "metadata": {},
   "outputs": [
    {
     "data": {
      "text/plain": [
       "10000"
      ]
     },
     "execution_count": 60,
     "metadata": {},
     "output_type": "execute_result"
    }
   ],
   "source": [
    "len(score_pos)"
   ]
  },
  {
   "cell_type": "code",
   "execution_count": 61,
   "id": "130da9ae",
   "metadata": {},
   "outputs": [],
   "source": [
    "amazon['positive_score'] = score_pos\n",
    "amazon['negative_score'] = score_neg\n",
    "amazon['compound_score'] = score_com"
   ]
  },
  {
   "cell_type": "code",
   "execution_count": 63,
   "id": "10445b70",
   "metadata": {},
   "outputs": [
    {
     "data": {
      "text/html": [
       "<div>\n",
       "<style scoped>\n",
       "    .dataframe tbody tr th:only-of-type {\n",
       "        vertical-align: middle;\n",
       "    }\n",
       "\n",
       "    .dataframe tbody tr th {\n",
       "        vertical-align: top;\n",
       "    }\n",
       "\n",
       "    .dataframe thead th {\n",
       "        text-align: right;\n",
       "    }\n",
       "</style>\n",
       "<table border=\"1\" class=\"dataframe\">\n",
       "  <thead>\n",
       "    <tr style=\"text-align: right;\">\n",
       "      <th></th>\n",
       "      <th>label</th>\n",
       "      <th>review</th>\n",
       "      <th>positive_score</th>\n",
       "      <th>negative_score</th>\n",
       "      <th>compound_score</th>\n",
       "    </tr>\n",
       "  </thead>\n",
       "  <tbody>\n",
       "    <tr>\n",
       "      <th>0</th>\n",
       "      <td>pos</td>\n",
       "      <td>Stuning even for the non-gamer: This sound tra...</td>\n",
       "      <td>0.243</td>\n",
       "      <td>0.088</td>\n",
       "      <td>0.9454</td>\n",
       "    </tr>\n",
       "    <tr>\n",
       "      <th>1</th>\n",
       "      <td>pos</td>\n",
       "      <td>The best soundtrack ever to anything.: I'm rea...</td>\n",
       "      <td>0.145</td>\n",
       "      <td>0.018</td>\n",
       "      <td>0.8957</td>\n",
       "    </tr>\n",
       "    <tr>\n",
       "      <th>2</th>\n",
       "      <td>pos</td>\n",
       "      <td>Amazing!: This soundtrack is my favorite music...</td>\n",
       "      <td>0.268</td>\n",
       "      <td>0.040</td>\n",
       "      <td>0.9858</td>\n",
       "    </tr>\n",
       "    <tr>\n",
       "      <th>3</th>\n",
       "      <td>pos</td>\n",
       "      <td>Excellent Soundtrack: I truly like this soundt...</td>\n",
       "      <td>0.295</td>\n",
       "      <td>0.090</td>\n",
       "      <td>0.9814</td>\n",
       "    </tr>\n",
       "    <tr>\n",
       "      <th>4</th>\n",
       "      <td>pos</td>\n",
       "      <td>Remember, Pull Your Jaw Off The Floor After He...</td>\n",
       "      <td>0.254</td>\n",
       "      <td>0.000</td>\n",
       "      <td>0.9781</td>\n",
       "    </tr>\n",
       "    <tr>\n",
       "      <th>5</th>\n",
       "      <td>pos</td>\n",
       "      <td>an absolute masterpiece: I am quite sure any o...</td>\n",
       "      <td>0.249</td>\n",
       "      <td>0.014</td>\n",
       "      <td>0.9900</td>\n",
       "    </tr>\n",
       "    <tr>\n",
       "      <th>6</th>\n",
       "      <td>neg</td>\n",
       "      <td>Buyer beware: This is a self-published book, a...</td>\n",
       "      <td>0.069</td>\n",
       "      <td>0.124</td>\n",
       "      <td>-0.8744</td>\n",
       "    </tr>\n",
       "    <tr>\n",
       "      <th>7</th>\n",
       "      <td>pos</td>\n",
       "      <td>Glorious story: I loved Whisper of the wicked ...</td>\n",
       "      <td>0.346</td>\n",
       "      <td>0.072</td>\n",
       "      <td>0.9900</td>\n",
       "    </tr>\n",
       "    <tr>\n",
       "      <th>8</th>\n",
       "      <td>pos</td>\n",
       "      <td>A FIVE STAR BOOK: I just finished reading Whis...</td>\n",
       "      <td>0.174</td>\n",
       "      <td>0.113</td>\n",
       "      <td>0.8353</td>\n",
       "    </tr>\n",
       "    <tr>\n",
       "      <th>9</th>\n",
       "      <td>pos</td>\n",
       "      <td>Whispers of the Wicked Saints: This was a easy...</td>\n",
       "      <td>0.190</td>\n",
       "      <td>0.033</td>\n",
       "      <td>0.8196</td>\n",
       "    </tr>\n",
       "  </tbody>\n",
       "</table>\n",
       "</div>"
      ],
      "text/plain": [
       "  label                                             review  positive_score  \\\n",
       "0   pos  Stuning even for the non-gamer: This sound tra...           0.243   \n",
       "1   pos  The best soundtrack ever to anything.: I'm rea...           0.145   \n",
       "2   pos  Amazing!: This soundtrack is my favorite music...           0.268   \n",
       "3   pos  Excellent Soundtrack: I truly like this soundt...           0.295   \n",
       "4   pos  Remember, Pull Your Jaw Off The Floor After He...           0.254   \n",
       "5   pos  an absolute masterpiece: I am quite sure any o...           0.249   \n",
       "6   neg  Buyer beware: This is a self-published book, a...           0.069   \n",
       "7   pos  Glorious story: I loved Whisper of the wicked ...           0.346   \n",
       "8   pos  A FIVE STAR BOOK: I just finished reading Whis...           0.174   \n",
       "9   pos  Whispers of the Wicked Saints: This was a easy...           0.190   \n",
       "\n",
       "   negative_score  compound_score  \n",
       "0           0.088          0.9454  \n",
       "1           0.018          0.8957  \n",
       "2           0.040          0.9858  \n",
       "3           0.090          0.9814  \n",
       "4           0.000          0.9781  \n",
       "5           0.014          0.9900  \n",
       "6           0.124         -0.8744  \n",
       "7           0.072          0.9900  \n",
       "8           0.113          0.8353  \n",
       "9           0.033          0.8196  "
      ]
     },
     "execution_count": 63,
     "metadata": {},
     "output_type": "execute_result"
    }
   ],
   "source": [
    "amazon.head(10)"
   ]
  },
  {
   "cell_type": "code",
   "execution_count": 64,
   "id": "6941e8a9",
   "metadata": {},
   "outputs": [
    {
     "data": {
      "text/plain": [
       "0.3352067199999999"
      ]
     },
     "execution_count": 64,
     "metadata": {},
     "output_type": "execute_result"
    }
   ],
   "source": [
    "amazon.compound_score.mean()"
   ]
  },
  {
   "cell_type": "code",
   "execution_count": 67,
   "id": "261d86dc",
   "metadata": {},
   "outputs": [
    {
     "data": {
      "text/plain": [
       "6795"
      ]
     },
     "execution_count": 67,
     "metadata": {},
     "output_type": "execute_result"
    }
   ],
   "source": [
    "len(amazon.compound_score[amazon.compound_score > 0])"
   ]
  },
  {
   "cell_type": "code",
   "execution_count": 68,
   "id": "8f4bec17",
   "metadata": {},
   "outputs": [
    {
     "data": {
      "text/plain": [
       "3064"
      ]
     },
     "execution_count": 68,
     "metadata": {},
     "output_type": "execute_result"
    }
   ],
   "source": [
    "len(amazon.compound_score[amazon.compound_score < 0])"
   ]
  },
  {
   "cell_type": "code",
   "execution_count": 74,
   "id": "56034ba9",
   "metadata": {},
   "outputs": [
    {
     "data": {
      "text/plain": [
       "107"
      ]
     },
     "execution_count": 74,
     "metadata": {},
     "output_type": "execute_result"
    }
   ],
   "source": [
    "len(amazon.compound_score[amazon.compound_score > 0.99])"
   ]
  },
  {
   "cell_type": "markdown",
   "id": "392ef57a",
   "metadata": {},
   "source": [
    "OR"
   ]
  },
  {
   "cell_type": "code",
   "execution_count": 75,
   "id": "d651f1f1",
   "metadata": {},
   "outputs": [
    {
     "data": {
      "text/plain": [
       "0.9987"
      ]
     },
     "execution_count": 75,
     "metadata": {},
     "output_type": "execute_result"
    }
   ],
   "source": [
    "amazon.compound_score.max()"
   ]
  },
  {
   "cell_type": "code",
   "execution_count": 76,
   "id": "5021bc07",
   "metadata": {},
   "outputs": [
    {
     "data": {
      "text/plain": [
       "count    10000.000000\n",
       "mean         0.335207\n",
       "std          0.676143\n",
       "min         -0.994500\n",
       "25%         -0.299000\n",
       "50%          0.669600\n",
       "75%          0.914425\n",
       "max          0.998700\n",
       "Name: compound_score, dtype: float64"
      ]
     },
     "execution_count": 76,
     "metadata": {},
     "output_type": "execute_result"
    }
   ],
   "source": [
    "amazon.compound_score.describe()"
   ]
  },
  {
   "cell_type": "code",
   "execution_count": 78,
   "id": "3bbacac8",
   "metadata": {},
   "outputs": [
    {
     "data": {
      "text/plain": [
       "count    10000.000000\n",
       "mean         0.335207\n",
       "std          0.676143\n",
       "min         -0.994500\n",
       "10%         -0.789750\n",
       "20%         -0.497140\n",
       "30%         -0.051600\n",
       "40%          0.401900\n",
       "50%          0.669600\n",
       "60%          0.817600\n",
       "70%          0.891000\n",
       "80%          0.935100\n",
       "95%          0.978300\n",
       "100%         0.998700\n",
       "max          0.998700\n",
       "Name: compound_score, dtype: float64"
      ]
     },
     "execution_count": 78,
     "metadata": {},
     "output_type": "execute_result"
    }
   ],
   "source": [
    "amazon.compound_score.describe(percentiles = [0.1,0.2,0.3,0.4,0.5,0.6,0.7,0.8,0.95,1])"
   ]
  },
  {
   "cell_type": "markdown",
   "id": "7011e2a6",
   "metadata": {},
   "source": [
    "#### sentiment analysis with TextBlob"
   ]
  },
  {
   "cell_type": "code",
   "execution_count": 80,
   "id": "34f66050",
   "metadata": {},
   "outputs": [
    {
     "name": "stdout",
     "output_type": "stream",
     "text": [
      "Collecting textblob\n",
      "  Downloading textblob-0.17.1-py2.py3-none-any.whl (636 kB)\n",
      "Requirement already satisfied: nltk>=3.1 in c:\\users\\dell\\anaconda3\\lib\\site-packages (from textblob) (3.6.5)\n",
      "Requirement already satisfied: click in c:\\users\\dell\\anaconda3\\lib\\site-packages (from nltk>=3.1->textblob) (8.0.3)\n",
      "Requirement already satisfied: joblib in c:\\users\\dell\\anaconda3\\lib\\site-packages (from nltk>=3.1->textblob) (1.1.0)\n",
      "Requirement already satisfied: regex>=2021.8.3 in c:\\users\\dell\\anaconda3\\lib\\site-packages (from nltk>=3.1->textblob) (2021.8.3)\n",
      "Requirement already satisfied: tqdm in c:\\users\\dell\\anaconda3\\lib\\site-packages (from nltk>=3.1->textblob) (4.62.3)\n",
      "Requirement already satisfied: colorama in c:\\users\\dell\\anaconda3\\lib\\site-packages (from click->nltk>=3.1->textblob) (0.4.4)\n",
      "Installing collected packages: textblob\n",
      "Successfully installed textblob-0.17.1\n"
     ]
    }
   ],
   "source": [
    "# !pip install textblob "
   ]
  },
  {
   "cell_type": "code",
   "execution_count": 81,
   "id": "1cef560e",
   "metadata": {},
   "outputs": [],
   "source": [
    "import textblob            #to import"
   ]
  },
  {
   "cell_type": "code",
   "execution_count": 82,
   "id": "16a93fc8",
   "metadata": {},
   "outputs": [],
   "source": [
    "from textblob import TextBlob"
   ]
  },
  {
   "cell_type": "code",
   "execution_count": 83,
   "id": "61812aaf",
   "metadata": {},
   "outputs": [],
   "source": [
    "text1 = 'food made at the resturant was very good'"
   ]
  },
  {
   "cell_type": "code",
   "execution_count": 86,
   "id": "a4c204e7",
   "metadata": {},
   "outputs": [],
   "source": [
    "output = TextBlob(text1)"
   ]
  },
  {
   "cell_type": "code",
   "execution_count": 87,
   "id": "2d4d83ba",
   "metadata": {},
   "outputs": [
    {
     "data": {
      "text/plain": [
       "Sentiment(polarity=0.9099999999999999, subjectivity=0.7800000000000001)"
      ]
     },
     "execution_count": 87,
     "metadata": {},
     "output_type": "execute_result"
    }
   ],
   "source": [
    "output.sentiment"
   ]
  },
  {
   "cell_type": "code",
   "execution_count": 88,
   "id": "1619b321",
   "metadata": {},
   "outputs": [],
   "source": [
    "text2 = 'food made at the resturant was very bad'"
   ]
  },
  {
   "cell_type": "code",
   "execution_count": 89,
   "id": "a8c65121",
   "metadata": {},
   "outputs": [],
   "source": [
    "output = TextBlob(text2)"
   ]
  },
  {
   "cell_type": "code",
   "execution_count": 90,
   "id": "ecbfb990",
   "metadata": {},
   "outputs": [
    {
     "data": {
      "text/plain": [
       "Sentiment(polarity=-0.9099999999999998, subjectivity=0.8666666666666667)"
      ]
     },
     "execution_count": 90,
     "metadata": {},
     "output_type": "execute_result"
    }
   ],
   "source": [
    "output.sentiment"
   ]
  },
  {
   "cell_type": "code",
   "execution_count": 91,
   "id": "253b7077",
   "metadata": {},
   "outputs": [
    {
     "data": {
      "text/plain": [
       "Sentiment(polarity=-0.2, subjectivity=0.4)"
      ]
     },
     "execution_count": 91,
     "metadata": {},
     "output_type": "execute_result"
    }
   ],
   "source": [
    "text3 = 'earth is round'\n",
    "output = TextBlob(text3)\n",
    "output.sentiment"
   ]
  },
  {
   "cell_type": "code",
   "execution_count": 93,
   "id": "5f000f40",
   "metadata": {},
   "outputs": [
    {
     "data": {
      "text/plain": [
       "Sentiment(polarity=0.0, subjectivity=0.0)"
      ]
     },
     "execution_count": 93,
     "metadata": {},
     "output_type": "execute_result"
    }
   ],
   "source": [
    "text4 = 'sun rises in east'\n",
    "output = TextBlob(text4)\n",
    "output.sentiment"
   ]
  },
  {
   "cell_type": "code",
   "execution_count": 97,
   "id": "cf1fecda",
   "metadata": {},
   "outputs": [
    {
     "data": {
      "text/plain": [
       "Sentiment(polarity=0.1, subjectivity=0.3)"
      ]
     },
     "execution_count": 97,
     "metadata": {},
     "output_type": "execute_result"
    }
   ],
   "source": [
    "text4 = 'invest in early edge'\n",
    "output = TextBlob(text4)\n",
    "output.sentiment"
   ]
  },
  {
   "cell_type": "code",
   "execution_count": 100,
   "id": "e446a4b6",
   "metadata": {},
   "outputs": [
    {
     "data": {
      "text/plain": [
       "0.1"
      ]
     },
     "execution_count": 100,
     "metadata": {},
     "output_type": "execute_result"
    }
   ],
   "source": [
    "output.sentiment[0]"
   ]
  },
  {
   "cell_type": "code",
   "execution_count": 101,
   "id": "c2acae29",
   "metadata": {},
   "outputs": [],
   "source": [
    "score_pol = []\n",
    "\n",
    "for i in range(0, amazon.shape[0]):\n",
    "    score = TextBlob(amazon.iloc[i][1]).sentiment\n",
    "    score1 = score[0]\n",
    "    score_pol.append(score1)\n",
    " "
   ]
  },
  {
   "cell_type": "code",
   "execution_count": 102,
   "id": "934f3a77",
   "metadata": {},
   "outputs": [],
   "source": [
    "amazon['sentiment_score'] = score_pol"
   ]
  },
  {
   "cell_type": "code",
   "execution_count": 103,
   "id": "a158b48a",
   "metadata": {},
   "outputs": [
    {
     "data": {
      "text/html": [
       "<div>\n",
       "<style scoped>\n",
       "    .dataframe tbody tr th:only-of-type {\n",
       "        vertical-align: middle;\n",
       "    }\n",
       "\n",
       "    .dataframe tbody tr th {\n",
       "        vertical-align: top;\n",
       "    }\n",
       "\n",
       "    .dataframe thead th {\n",
       "        text-align: right;\n",
       "    }\n",
       "</style>\n",
       "<table border=\"1\" class=\"dataframe\">\n",
       "  <thead>\n",
       "    <tr style=\"text-align: right;\">\n",
       "      <th></th>\n",
       "      <th>label</th>\n",
       "      <th>review</th>\n",
       "      <th>positive_score</th>\n",
       "      <th>negative_score</th>\n",
       "      <th>compound_score</th>\n",
       "      <th>sentiment_score</th>\n",
       "    </tr>\n",
       "  </thead>\n",
       "  <tbody>\n",
       "    <tr>\n",
       "      <th>0</th>\n",
       "      <td>pos</td>\n",
       "      <td>Stuning even for the non-gamer: This sound tra...</td>\n",
       "      <td>0.243</td>\n",
       "      <td>0.088</td>\n",
       "      <td>0.9454</td>\n",
       "      <td>-0.021875</td>\n",
       "    </tr>\n",
       "    <tr>\n",
       "      <th>1</th>\n",
       "      <td>pos</td>\n",
       "      <td>The best soundtrack ever to anything.: I'm rea...</td>\n",
       "      <td>0.145</td>\n",
       "      <td>0.018</td>\n",
       "      <td>0.8957</td>\n",
       "      <td>0.261111</td>\n",
       "    </tr>\n",
       "    <tr>\n",
       "      <th>2</th>\n",
       "      <td>pos</td>\n",
       "      <td>Amazing!: This soundtrack is my favorite music...</td>\n",
       "      <td>0.268</td>\n",
       "      <td>0.040</td>\n",
       "      <td>0.9858</td>\n",
       "      <td>0.274691</td>\n",
       "    </tr>\n",
       "    <tr>\n",
       "      <th>3</th>\n",
       "      <td>pos</td>\n",
       "      <td>Excellent Soundtrack: I truly like this soundt...</td>\n",
       "      <td>0.295</td>\n",
       "      <td>0.090</td>\n",
       "      <td>0.9814</td>\n",
       "      <td>0.272727</td>\n",
       "    </tr>\n",
       "    <tr>\n",
       "      <th>4</th>\n",
       "      <td>pos</td>\n",
       "      <td>Remember, Pull Your Jaw Off The Floor After He...</td>\n",
       "      <td>0.254</td>\n",
       "      <td>0.000</td>\n",
       "      <td>0.9781</td>\n",
       "      <td>0.324802</td>\n",
       "    </tr>\n",
       "  </tbody>\n",
       "</table>\n",
       "</div>"
      ],
      "text/plain": [
       "  label                                             review  positive_score  \\\n",
       "0   pos  Stuning even for the non-gamer: This sound tra...           0.243   \n",
       "1   pos  The best soundtrack ever to anything.: I'm rea...           0.145   \n",
       "2   pos  Amazing!: This soundtrack is my favorite music...           0.268   \n",
       "3   pos  Excellent Soundtrack: I truly like this soundt...           0.295   \n",
       "4   pos  Remember, Pull Your Jaw Off The Floor After He...           0.254   \n",
       "\n",
       "   negative_score  compound_score  sentiment_score  \n",
       "0           0.088          0.9454        -0.021875  \n",
       "1           0.018          0.8957         0.261111  \n",
       "2           0.040          0.9858         0.274691  \n",
       "3           0.090          0.9814         0.272727  \n",
       "4           0.000          0.9781         0.324802  "
      ]
     },
     "execution_count": 103,
     "metadata": {},
     "output_type": "execute_result"
    }
   ],
   "source": [
    "amazon.head()"
   ]
  },
  {
   "cell_type": "code",
   "execution_count": 104,
   "id": "7486d624",
   "metadata": {},
   "outputs": [
    {
     "data": {
      "text/plain": [
       "0.14501923626191635"
      ]
     },
     "execution_count": 104,
     "metadata": {},
     "output_type": "execute_result"
    }
   ],
   "source": [
    "amazon['sentiment_score'].mean()"
   ]
  },
  {
   "cell_type": "code",
   "execution_count": 105,
   "id": "6ef54a70",
   "metadata": {},
   "outputs": [
    {
     "data": {
      "text/plain": [
       "7411"
      ]
     },
     "execution_count": 105,
     "metadata": {},
     "output_type": "execute_result"
    }
   ],
   "source": [
    "len(amazon['sentiment_score'][amazon['sentiment_score']  > 0])"
   ]
  },
  {
   "cell_type": "code",
   "execution_count": 106,
   "id": "779e9587",
   "metadata": {},
   "outputs": [
    {
     "data": {
      "text/plain": [
       "2428"
      ]
     },
     "execution_count": 106,
     "metadata": {},
     "output_type": "execute_result"
    }
   ],
   "source": [
    "len(amazon['sentiment_score'][amazon['sentiment_score']  < 0])"
   ]
  },
  {
   "cell_type": "code",
   "execution_count": 108,
   "id": "e88bf95a",
   "metadata": {},
   "outputs": [
    {
     "data": {
      "text/plain": [
       "28"
      ]
     },
     "execution_count": 108,
     "metadata": {},
     "output_type": "execute_result"
    }
   ],
   "source": [
    "len(amazon['sentiment_score'][amazon['sentiment_score']  > 0.9])"
   ]
  },
  {
   "cell_type": "code",
   "execution_count": 111,
   "id": "73dfcba7",
   "metadata": {},
   "outputs": [
    {
     "data": {
      "text/plain": [
       "13"
      ]
     },
     "execution_count": 111,
     "metadata": {},
     "output_type": "execute_result"
    }
   ],
   "source": [
    "len(amazon['sentiment_score'][amazon['sentiment_score']  < -0.9])"
   ]
  },
  {
   "cell_type": "code",
   "execution_count": 113,
   "id": "3553e10c",
   "metadata": {},
   "outputs": [
    {
     "data": {
      "text/plain": [
       "count    10000.000000\n",
       "mean         0.145019\n",
       "std          0.247241\n",
       "min         -1.000000\n",
       "25%          0.000000\n",
       "50%          0.150000\n",
       "75%          0.298464\n",
       "max          1.000000\n",
       "Name: sentiment_score, dtype: float64"
      ]
     },
     "execution_count": 113,
     "metadata": {},
     "output_type": "execute_result"
    }
   ],
   "source": [
    "amazon['sentiment_score'].describe()"
   ]
  },
  {
   "cell_type": "code",
   "execution_count": 116,
   "id": "65b3aab0",
   "metadata": {
    "scrolled": true
   },
   "outputs": [
    {
     "name": "stdout",
     "output_type": "stream",
     "text": [
      "Collecting spacy\n",
      "  Downloading spacy-3.4.1-cp39-cp39-win_amd64.whl (11.8 MB)\n",
      "Collecting spacy-loggers<2.0.0,>=1.0.0\n",
      "  Downloading spacy_loggers-1.0.3-py3-none-any.whl (9.3 kB)\n",
      "Collecting pathy>=0.3.5\n",
      "  Downloading pathy-0.6.2-py3-none-any.whl (42 kB)\n",
      "Collecting spacy-legacy<3.1.0,>=3.0.9\n",
      "  Downloading spacy_legacy-3.0.10-py2.py3-none-any.whl (21 kB)\n",
      "Collecting typer<0.5.0,>=0.3.0\n",
      "  Downloading typer-0.4.2-py3-none-any.whl (27 kB)\n",
      "Collecting preshed<3.1.0,>=3.0.2\n",
      "  Downloading preshed-3.0.7-cp39-cp39-win_amd64.whl (96 kB)\n",
      "Requirement already satisfied: packaging>=20.0 in c:\\users\\dell\\anaconda3\\lib\\site-packages (from spacy) (21.0)\n",
      "Collecting srsly<3.0.0,>=2.4.3\n",
      "  Downloading srsly-2.4.4-cp39-cp39-win_amd64.whl (450 kB)\n",
      "Collecting murmurhash<1.1.0,>=0.28.0\n",
      "  Downloading murmurhash-1.0.8-cp39-cp39-win_amd64.whl (18 kB)\n",
      "Requirement already satisfied: tqdm<5.0.0,>=4.38.0 in c:\\users\\dell\\anaconda3\\lib\\site-packages (from spacy) (4.62.3)\n",
      "Requirement already satisfied: jinja2 in c:\\users\\dell\\anaconda3\\lib\\site-packages (from spacy) (2.11.3)\n",
      "Collecting langcodes<4.0.0,>=3.2.0\n",
      "  Downloading langcodes-3.3.0-py3-none-any.whl (181 kB)\n",
      "Collecting catalogue<2.1.0,>=2.0.6\n",
      "  Downloading catalogue-2.0.8-py3-none-any.whl (17 kB)\n",
      "Collecting cymem<2.1.0,>=2.0.2\n",
      "  Downloading cymem-2.0.6-cp39-cp39-win_amd64.whl (36 kB)\n",
      "Collecting pydantic!=1.8,!=1.8.1,<1.10.0,>=1.7.4\n",
      "  Downloading pydantic-1.9.2-cp39-cp39-win_amd64.whl (2.0 MB)\n",
      "Collecting wasabi<1.1.0,>=0.9.1\n",
      "  Downloading wasabi-0.10.1-py3-none-any.whl (26 kB)\n",
      "Collecting thinc<8.2.0,>=8.1.0\n",
      "  Downloading thinc-8.1.0-cp39-cp39-win_amd64.whl (1.3 MB)\n",
      "Requirement already satisfied: setuptools in c:\\users\\dell\\anaconda3\\lib\\site-packages (from spacy) (58.0.4)\n",
      "Requirement already satisfied: numpy>=1.15.0 in c:\\users\\dell\\anaconda3\\lib\\site-packages (from spacy) (1.20.3)\n",
      "Requirement already satisfied: requests<3.0.0,>=2.13.0 in c:\\users\\dell\\anaconda3\\lib\\site-packages (from spacy) (2.26.0)\n",
      "Requirement already satisfied: pyparsing>=2.0.2 in c:\\users\\dell\\anaconda3\\lib\\site-packages (from packaging>=20.0->spacy) (3.0.4)\n",
      "Collecting smart-open<6.0.0,>=5.2.1\n",
      "  Downloading smart_open-5.2.1-py3-none-any.whl (58 kB)\n",
      "Requirement already satisfied: typing-extensions>=3.7.4.3 in c:\\users\\dell\\anaconda3\\lib\\site-packages (from pydantic!=1.8,!=1.8.1,<1.10.0,>=1.7.4->spacy) (3.10.0.2)\n",
      "Requirement already satisfied: urllib3<1.27,>=1.21.1 in c:\\users\\dell\\anaconda3\\lib\\site-packages (from requests<3.0.0,>=2.13.0->spacy) (1.26.7)\n",
      "Requirement already satisfied: charset-normalizer~=2.0.0 in c:\\users\\dell\\anaconda3\\lib\\site-packages (from requests<3.0.0,>=2.13.0->spacy) (2.0.4)\n",
      "Requirement already satisfied: idna<4,>=2.5 in c:\\users\\dell\\anaconda3\\lib\\site-packages (from requests<3.0.0,>=2.13.0->spacy) (3.2)\n",
      "Requirement already satisfied: certifi>=2017.4.17 in c:\\users\\dell\\anaconda3\\lib\\site-packages (from requests<3.0.0,>=2.13.0->spacy) (2021.10.8)\n",
      "Collecting blis<0.8.0,>=0.7.8\n",
      "  Downloading blis-0.7.8-cp39-cp39-win_amd64.whl (6.6 MB)\n",
      "Requirement already satisfied: colorama in c:\\users\\dell\\anaconda3\\lib\\site-packages (from tqdm<5.0.0,>=4.38.0->spacy) (0.4.4)\n",
      "Requirement already satisfied: click<9.0.0,>=7.1.1 in c:\\users\\dell\\anaconda3\\lib\\site-packages (from typer<0.5.0,>=0.3.0->spacy) (8.0.3)\n",
      "Requirement already satisfied: MarkupSafe>=0.23 in c:\\users\\dell\\anaconda3\\lib\\site-packages (from jinja2->spacy) (1.1.1)\n",
      "Note: you may need to restart the kernel to use updated packages.Installing collected packages: murmurhash, cymem, catalogue, wasabi, typer, srsly, smart-open, pydantic, preshed, blis, thinc, spacy-loggers, spacy-legacy, pathy, langcodes, spacy\n",
      "Successfully installed blis-0.7.8 catalogue-2.0.8 cymem-2.0.6 langcodes-3.3.0 murmurhash-1.0.8 pathy-0.6.2 preshed-3.0.7 pydantic-1.9.2 smart-open-5.2.1 spacy-3.4.1 spacy-legacy-3.0.10 spacy-loggers-1.0.3 srsly-2.4.4 thinc-8.1.0 typer-0.4.2 wasabi-0.10.1\n",
      "\n"
     ]
    }
   ],
   "source": [
    "# pip install spacy"
   ]
  },
  {
   "cell_type": "code",
   "execution_count": 1,
   "id": "3e6d8aef",
   "metadata": {},
   "outputs": [
    {
     "name": "stdout",
     "output_type": "stream",
     "text": [
      "Requirement already satisfied: spacy[cuda113] in c:\\users\\dell\\anaconda3\\lib\\site-packages (3.4.1)\n",
      "Requirement already satisfied: numpy>=1.15.0 in c:\\users\\dell\\anaconda3\\lib\\site-packages (from spacy[cuda113]) (1.20.3)\n",
      "Requirement already satisfied: requests<3.0.0,>=2.13.0 in c:\\users\\dell\\anaconda3\\lib\\site-packages (from spacy[cuda113]) (2.26.0)\n",
      "Requirement already satisfied: cymem<2.1.0,>=2.0.2 in c:\\users\\dell\\anaconda3\\lib\\site-packages (from spacy[cuda113]) (2.0.6)Note: you may need to restart the kernel to use updated packages.\n",
      "\n",
      "Requirement already satisfied: jinja2 in c:\\users\\dell\\anaconda3\\lib\\site-packages (from spacy[cuda113]) (2.11.3)\n",
      "Requirement already satisfied: catalogue<2.1.0,>=2.0.6 in c:\\users\\dell\\anaconda3\\lib\\site-packages (from spacy[cuda113]) (2.0.8)\n",
      "Requirement already satisfied: setuptools in c:\\users\\dell\\anaconda3\\lib\\site-packages (from spacy[cuda113]) (58.0.4)\n"
     ]
    },
    {
     "name": "stderr",
     "output_type": "stream",
     "text": [
      "ERROR: Exception:\n",
      "Traceback (most recent call last):\n",
      "  File \"C:\\Users\\DELL\\anaconda3\\lib\\site-packages\\pip\\_vendor\\urllib3\\response.py\", line 438, in _error_catcher\n",
      "    yield\n",
      "  File \"C:\\Users\\DELL\\anaconda3\\lib\\site-packages\\pip\\_vendor\\urllib3\\response.py\", line 519, in read\n",
      "    data = self._fp.read(amt) if not fp_closed else b\"\"\n",
      "  File \"C:\\Users\\DELL\\anaconda3\\lib\\site-packages\\pip\\_vendor\\cachecontrol\\filewrapper.py\", line 62, in read\n",
      "    data = self.__fp.read(amt)\n",
      "  File \"C:\\Users\\DELL\\anaconda3\\lib\\http\\client.py\", line 462, in read\n",
      "    n = self.readinto(b)\n",
      "  File \"C:\\Users\\DELL\\anaconda3\\lib\\http\\client.py\", line 506, in readinto\n",
      "    n = self.fp.readinto(b)\n",
      "  File \"C:\\Users\\DELL\\anaconda3\\lib\\socket.py\", line 704, in readinto"
     ]
    },
    {
     "name": "stdout",
     "output_type": "stream",
     "text": [
      "Requirement already satisfied: typer<0.5.0,>=0.3.0 in c:\\users\\dell\\anaconda3\\lib\\site-packages (from spacy[cuda113]) (0.4.2)\n",
      "Requirement already satisfied: preshed<3.1.0,>=3.0.2 in c:\\users\\dell\\anaconda3\\lib\\site-packages (from spacy[cuda113]) (3.0.7)\n",
      "Requirement already satisfied: murmurhash<1.1.0,>=0.28.0 in c:\\users\\dell\\anaconda3\\lib\\site-packages (from spacy[cuda113]) (1.0.8)\n",
      "Requirement already satisfied: pathy>=0.3.5 in c:\\users\\dell\\anaconda3\\lib\\site-packages (from spacy[cuda113]) (0.6.2)\n",
      "Requirement already satisfied: pydantic!=1.8,!=1.8.1,<1.10.0,>=1.7.4 in c:\\users\\dell\\anaconda3\\lib\\site-packages (from spacy[cuda113]) (1.9.2)\n",
      "Requirement already satisfied: langcodes<4.0.0,>=3.2.0 in c:\\users\\dell\\anaconda3\\lib\\site-packages (from spacy[cuda113]) (3.3.0)\n",
      "Requirement already satisfied: spacy-legacy<3.1.0,>=3.0.9 in c:\\users\\dell\\anaconda3\\lib\\site-packages (from spacy[cuda113]) (3.0.10)\n",
      "Requirement already satisfied: thinc<8.2.0,>=8.1.0 in c:\\users\\dell\\anaconda3\\lib\\site-packages (from spacy[cuda113]) (8.1.0)\n",
      "Requirement already satisfied: packaging>=20.0 in c:\\users\\dell\\anaconda3\\lib\\site-packages (from spacy[cuda113]) (21.0)\n",
      "Requirement already satisfied: srsly<3.0.0,>=2.4.3 in c:\\users\\dell\\anaconda3\\lib\\site-packages (from spacy[cuda113]) (2.4.4)\n",
      "Requirement already satisfied: tqdm<5.0.0,>=4.38.0 in c:\\users\\dell\\anaconda3\\lib\\site-packages (from spacy[cuda113]) (4.62.3)\n",
      "Requirement already satisfied: spacy-loggers<2.0.0,>=1.0.0 in c:\\users\\dell\\anaconda3\\lib\\site-packages (from spacy[cuda113]) (1.0.3)\n",
      "Requirement already satisfied: wasabi<1.1.0,>=0.9.1 in c:\\users\\dell\\anaconda3\\lib\\site-packages (from spacy[cuda113]) (0.10.1)\n",
      "Collecting cupy-cuda113<11.0.0,>=5.0.0b4\n",
      "  Downloading cupy_cuda113-10.6.0-cp39-cp39-win_amd64.whl (56.9 MB)\n"
     ]
    },
    {
     "name": "stderr",
     "output_type": "stream",
     "text": [
      "\n",
      "    return self._sock.recv_into(b)\n",
      "  File \"C:\\Users\\DELL\\anaconda3\\lib\\ssl.py\", line 1241, in recv_into\n",
      "    return self.read(nbytes, buffer)\n",
      "  File \"C:\\Users\\DELL\\anaconda3\\lib\\ssl.py\", line 1099, in read\n",
      "    return self._sslobj.read(len, buffer)\n",
      "socket.timeout: The read operation timed out\n",
      "\n",
      "During handling of the above exception, another exception occurred:\n",
      "\n",
      "Traceback (most recent call last):\n",
      "  File \"C:\\Users\\DELL\\anaconda3\\lib\\site-packages\\pip\\_internal\\cli\\base_command.py\", line 173, in _main\n",
      "    status = self.run(options, args)\n",
      "  File \"C:\\Users\\DELL\\anaconda3\\lib\\site-packages\\pip\\_internal\\cli\\req_command.py\", line 203, in wrapper\n",
      "    return func(self, options, args)\n",
      "  File \"C:\\Users\\DELL\\anaconda3\\lib\\site-packages\\pip\\_internal\\commands\\install.py\", line 315, in run\n",
      "    requirement_set = resolver.resolve(\n",
      "  File \"C:\\Users\\DELL\\anaconda3\\lib\\site-packages\\pip\\_internal\\resolution\\resolvelib\\resolver.py\", line 94, in resolve\n",
      "    result = self._result = resolver.resolve(\n",
      "  File \"C:\\Users\\DELL\\anaconda3\\lib\\site-packages\\pip\\_vendor\\resolvelib\\resolvers.py\", line 472, in resolve\n",
      "    state = resolution.resolve(requirements, max_rounds=max_rounds)\n",
      "  File \"C:\\Users\\DELL\\anaconda3\\lib\\site-packages\\pip\\_vendor\\resolvelib\\resolvers.py\", line 366, in resolve\n",
      "    failure_causes = self._attempt_to_pin_criterion(name)\n",
      "  File \"C:\\Users\\DELL\\anaconda3\\lib\\site-packages\\pip\\_vendor\\resolvelib\\resolvers.py\", line 212, in _attempt_to_pin_criterion\n",
      "    criteria = self._get_updated_criteria(candidate)\n",
      "  File \"C:\\Users\\DELL\\anaconda3\\lib\\site-packages\\pip\\_vendor\\resolvelib\\resolvers.py\", line 203, in _get_updated_criteria\n",
      "    self._add_to_criteria(criteria, requirement, parent=candidate)\n",
      "  File \"C:\\Users\\DELL\\anaconda3\\lib\\site-packages\\pip\\_vendor\\resolvelib\\resolvers.py\", line 172, in _add_to_criteria\n",
      "    if not criterion.candidates:\n",
      "  File \"C:\\Users\\DELL\\anaconda3\\lib\\site-packages\\pip\\_vendor\\resolvelib\\structs.py\", line 151, in __bool__\n",
      "    return bool(self._sequence)\n",
      "  File \"C:\\Users\\DELL\\anaconda3\\lib\\site-packages\\pip\\_internal\\resolution\\resolvelib\\found_candidates.py\", line 140, in __bool__\n",
      "    return any(self)\n",
      "  File \"C:\\Users\\DELL\\anaconda3\\lib\\site-packages\\pip\\_internal\\resolution\\resolvelib\\found_candidates.py\", line 128, in <genexpr>\n",
      "    return (c for c in iterator if id(c) not in self._incompatible_ids)\n",
      "  File \"C:\\Users\\DELL\\anaconda3\\lib\\site-packages\\pip\\_internal\\resolution\\resolvelib\\found_candidates.py\", line 32, in _iter_built\n",
      "    candidate = func()\n",
      "  File \"C:\\Users\\DELL\\anaconda3\\lib\\site-packages\\pip\\_internal\\resolution\\resolvelib\\factory.py\", line 204, in _make_candidate_from_link\n",
      "    self._link_candidate_cache[link] = LinkCandidate(\n",
      "  File \"C:\\Users\\DELL\\anaconda3\\lib\\site-packages\\pip\\_internal\\resolution\\resolvelib\\candidates.py\", line 295, in __init__\n",
      "    super().__init__(\n",
      "  File \"C:\\Users\\DELL\\anaconda3\\lib\\site-packages\\pip\\_internal\\resolution\\resolvelib\\candidates.py\", line 156, in __init__\n",
      "    self.dist = self._prepare()\n",
      "  File \"C:\\Users\\DELL\\anaconda3\\lib\\site-packages\\pip\\_internal\\resolution\\resolvelib\\candidates.py\", line 227, in _prepare\n",
      "    dist = self._prepare_distribution()\n",
      "  File \"C:\\Users\\DELL\\anaconda3\\lib\\site-packages\\pip\\_internal\\resolution\\resolvelib\\candidates.py\", line 305, in _prepare_distribution\n",
      "    return self._factory.preparer.prepare_linked_requirement(\n",
      "  File \"C:\\Users\\DELL\\anaconda3\\lib\\site-packages\\pip\\_internal\\operations\\prepare.py\", line 508, in prepare_linked_requirement\n",
      "    return self._prepare_linked_requirement(req, parallel_builds)\n",
      "  File \"C:\\Users\\DELL\\anaconda3\\lib\\site-packages\\pip\\_internal\\operations\\prepare.py\", line 550, in _prepare_linked_requirement\n",
      "    local_file = unpack_url(\n",
      "  File \"C:\\Users\\DELL\\anaconda3\\lib\\site-packages\\pip\\_internal\\operations\\prepare.py\", line 239, in unpack_url\n",
      "    file = get_http_url(\n",
      "  File \"C:\\Users\\DELL\\anaconda3\\lib\\site-packages\\pip\\_internal\\operations\\prepare.py\", line 102, in get_http_url\n",
      "    from_path, content_type = download(link, temp_dir.path)\n",
      "  File \"C:\\Users\\DELL\\anaconda3\\lib\\site-packages\\pip\\_internal\\network\\download.py\", line 145, in __call__\n",
      "    for chunk in chunks:\n",
      "  File \"C:\\Users\\DELL\\anaconda3\\lib\\site-packages\\pip\\_internal\\cli\\progress_bars.py\", line 144, in iter\n",
      "    for x in it:\n",
      "  File \"C:\\Users\\DELL\\anaconda3\\lib\\site-packages\\pip\\_internal\\network\\utils.py\", line 63, in response_chunks\n",
      "    for chunk in response.raw.stream(\n",
      "  File \"C:\\Users\\DELL\\anaconda3\\lib\\site-packages\\pip\\_vendor\\urllib3\\response.py\", line 576, in stream\n",
      "    data = self.read(amt=amt, decode_content=decode_content)\n",
      "  File \"C:\\Users\\DELL\\anaconda3\\lib\\site-packages\\pip\\_vendor\\urllib3\\response.py\", line 541, in read\n",
      "    raise IncompleteRead(self._fp_bytes_read, self.length_remaining)\n",
      "  File \"C:\\Users\\DELL\\anaconda3\\lib\\contextlib.py\", line 137, in __exit__\n",
      "    self.gen.throw(typ, value, traceback)\n",
      "  File \"C:\\Users\\DELL\\anaconda3\\lib\\site-packages\\pip\\_vendor\\urllib3\\response.py\", line 443, in _error_catcher\n",
      "    raise ReadTimeoutError(self._pool, None, \"Read timed out.\")\n",
      "pip._vendor.urllib3.exceptions.ReadTimeoutError: HTTPSConnectionPool(host='files.pythonhosted.org', port=443): Read timed out.\n"
     ]
    }
   ],
   "source": [
    "# pip install -U spacy[cuda113]"
   ]
  },
  {
   "cell_type": "code",
   "execution_count": 2,
   "id": "2f516708",
   "metadata": {},
   "outputs": [],
   "source": [
    "import spacy"
   ]
  },
  {
   "cell_type": "code",
   "execution_count": 4,
   "id": "47c149b0",
   "metadata": {},
   "outputs": [],
   "source": [
    "import en_core_web_sm # this is the dictionary"
   ]
  },
  {
   "cell_type": "code",
   "execution_count": 5,
   "id": "c3777b16",
   "metadata": {},
   "outputs": [],
   "source": [
    "lang = spacy.load('en_core_web_sm')"
   ]
  },
  {
   "cell_type": "code",
   "execution_count": 6,
   "id": "b1f72333",
   "metadata": {},
   "outputs": [
    {
     "data": {
      "text/plain": [
       "spacy.tokens.doc.Doc"
      ]
     },
     "execution_count": 6,
     "metadata": {},
     "output_type": "execute_result"
    }
   ],
   "source": [
    "doc = lang('Mumbai is the financial capital of India. First quarter of the current year saw GDP of india decline by 24%')\n",
    "type(doc)"
   ]
  },
  {
   "cell_type": "code",
   "execution_count": 7,
   "id": "b93efe72",
   "metadata": {},
   "outputs": [
    {
     "name": "stdout",
     "output_type": "stream",
     "text": [
      "Mumbai\n",
      "is\n",
      "the\n",
      "financial\n",
      "capital\n",
      "of\n",
      "India\n",
      ".\n",
      "First\n",
      "quarter\n",
      "of\n",
      "the\n",
      "current\n",
      "year\n",
      "saw\n",
      "GDP\n",
      "of\n",
      "india\n",
      "decline\n",
      "by\n",
      "24\n",
      "%\n"
     ]
    }
   ],
   "source": [
    "for i in doc:     # line broken into words\n",
    "    print(i.text)"
   ]
  },
  {
   "cell_type": "code",
   "execution_count": 9,
   "id": "a8a5b9bc",
   "metadata": {},
   "outputs": [
    {
     "name": "stdout",
     "output_type": "stream",
     "text": [
      "Mumbai PROPN\n",
      "is AUX\n",
      "the DET\n",
      "financial ADJ\n",
      "capital NOUN\n",
      "of ADP\n",
      "India PROPN\n",
      ". PUNCT\n",
      "First ADJ\n",
      "quarter NOUN\n",
      "of ADP\n",
      "the DET\n",
      "current ADJ\n",
      "year NOUN\n",
      "saw VERB\n",
      "GDP PROPN\n",
      "of ADP\n",
      "india PROPN\n",
      "decline VERB\n",
      "by ADP\n",
      "24 NUM\n",
      "% NOUN\n"
     ]
    }
   ],
   "source": [
    "for i in doc:               # word conveerted into POS(part of species)\n",
    "    print(i.text , i.pos_)"
   ]
  },
  {
   "cell_type": "code",
   "execution_count": 10,
   "id": "e193c6cc",
   "metadata": {},
   "outputs": [
    {
     "name": "stdout",
     "output_type": "stream",
     "text": [
      "Mumbai is the financial capital of India.\n",
      "First quarter of the current year saw GDP of india decline by 24%\n"
     ]
    }
   ],
   "source": [
    "for sentences in doc.sents:\n",
    "    print(sentences)                # .sents is used to print the sentences"
   ]
  },
  {
   "cell_type": "code",
   "execution_count": 16,
   "id": "62ee2137",
   "metadata": {},
   "outputs": [
    {
     "data": {
      "text/plain": [
       "22"
      ]
     },
     "execution_count": 16,
     "metadata": {},
     "output_type": "execute_result"
    }
   ],
   "source": [
    "len(doc)"
   ]
  },
  {
   "cell_type": "code",
   "execution_count": 18,
   "id": "3f736d3d",
   "metadata": {},
   "outputs": [
    {
     "name": "stdout",
     "output_type": "stream",
     "text": [
      "Mumbai PROPN 6\n",
      "is AUX 2\n",
      "the DET 3\n",
      "financial ADJ 9\n",
      "capital NOUN 7\n",
      "of ADP 2\n",
      "India PROPN 5\n",
      ". PUNCT 1\n",
      "First ADJ 5\n",
      "quarter NOUN 7\n",
      "of ADP 2\n",
      "the DET 3\n",
      "current ADJ 7\n",
      "year NOUN 4\n",
      "saw VERB 3\n",
      "GDP PROPN 3\n",
      "of ADP 2\n",
      "india PROPN 5\n",
      "decline VERB 7\n",
      "by ADP 2\n",
      "24 NUM 2\n",
      "% NOUN 1\n"
     ]
    }
   ],
   "source": [
    "for i in doc:     # length of each and every word in doc\n",
    "    print(i.text , i.pos_ , len(i))"
   ]
  },
  {
   "cell_type": "code",
   "execution_count": 31,
   "id": "d2d9183d",
   "metadata": {},
   "outputs": [
    {
     "name": "stdout",
     "output_type": "stream",
     "text": [
      "India is a country.\n",
      "Maharashtra is a state.\n",
      "Pune is the city.\n",
      "Manjari is region\n"
     ]
    }
   ],
   "source": [
    "# how to get the number of sentences in doc\n",
    "word  = lang('India is a country. Maharashtra is a state. Pune is the city. Manjari is region')\n",
    "for sentences in word.sents:\n",
    "    print(sentences)"
   ]
  },
  {
   "cell_type": "code",
   "execution_count": 32,
   "id": "77b4411b",
   "metadata": {},
   "outputs": [
    {
     "name": "stdout",
     "output_type": "stream",
     "text": [
      "4\n"
     ]
    }
   ],
   "source": [
    "l1 = []\n",
    "for sentences in word.sents:\n",
    "    l1.append(sentences)\n",
    "print(len(l1))"
   ]
  },
  {
   "cell_type": "code",
   "execution_count": 34,
   "id": "01939198",
   "metadata": {},
   "outputs": [
    {
     "name": "stdout",
     "output_type": "stream",
     "text": [
      "4\n"
     ]
    }
   ],
   "source": [
    "l = 0\n",
    "for sentences in word.sents:\n",
    "    l = l + 1\n",
    "print(l)"
   ]
  },
  {
   "cell_type": "code",
   "execution_count": 39,
   "id": "e438c3db",
   "metadata": {},
   "outputs": [
    {
     "name": "stdout",
     "output_type": "stream",
     "text": [
      "My\n",
      "webside\n",
      "is\n",
      "www.abc.com\n",
      "and\n",
      "my\n",
      "email\n",
      "i\n",
      "d\n",
      "is\n",
      "xyz@gmail.com\n",
      ".\n",
      "this\n",
      "is\n",
      "just\n",
      "an\n",
      "example\n",
      ".\n"
     ]
    }
   ],
   "source": [
    "doc2 = lang('My webside is www.abc.com and my email id is xyz@gmail.com. this is just an example.')\n",
    "for token in doc2:\n",
    "    print(token)\n"
   ]
  },
  {
   "cell_type": "code",
   "execution_count": 41,
   "id": "7489986a",
   "metadata": {},
   "outputs": [
    {
     "name": "stdout",
     "output_type": "stream",
     "text": [
      "fares NOUN\n",
      "are AUX\n",
      "changed VERB\n",
      "at ADP\n",
      "20 NUM\n",
      "km NOUN\n",
      ". PUNCT\n",
      "Total ADJ\n",
      "cost NOUN\n",
      "is AUX\n",
      "20$. NUM\n",
      "I PRON\n",
      "live VERB\n",
      "in ADP\n",
      "pune NOUN\n"
     ]
    }
   ],
   "source": [
    "doc4 = lang('fares are changed at 20km. Total cost is 20$. I live in pune')\n",
    "for token in doc4:\n",
    "    print(token.text , token.pos_)"
   ]
  },
  {
   "cell_type": "code",
   "execution_count": 43,
   "id": "8f77ff30",
   "metadata": {},
   "outputs": [
    {
     "name": "stdout",
     "output_type": "stream",
     "text": [
      "fares | are | changed | at | 20 | km | . | Total | cost | is | 20$. | I | live | in | pune | "
     ]
    }
   ],
   "source": [
    "doc4 = lang('fares are changed at 20km. Total cost is 20$. I live in pune')\n",
    "for token in doc4:\n",
    "    print(token.text , end = ' | ')"
   ]
  },
  {
   "cell_type": "code",
   "execution_count": 51,
   "id": "14a0856a",
   "metadata": {},
   "outputs": [
    {
     "name": "stdout",
     "output_type": "stream",
     "text": [
      "Pune\n",
      "Ahmadabad\n"
     ]
    }
   ],
   "source": [
    "doc5 = lang ('Bullet train will run between Pune and Ahmadabad')\n",
    "for token in doc5.ents:          # ents = for the entities\n",
    "    print(token)"
   ]
  },
  {
   "cell_type": "code",
   "execution_count": 53,
   "id": "830eec1a",
   "metadata": {},
   "outputs": [
    {
     "name": "stdout",
     "output_type": "stream",
     "text": [
      "Apple\n",
      "1 billion\n"
     ]
    }
   ],
   "source": [
    "doc6 = lang ('sales of Apple around 1 billion doller')\n",
    "for token in doc6.ents:          # ents = for the entities\n",
    "    print(token)"
   ]
  },
  {
   "cell_type": "code",
   "execution_count": 57,
   "id": "847975c7",
   "metadata": {},
   "outputs": [
    {
     "name": "stdout",
     "output_type": "stream",
     "text": [
      "Akshay\n",
      "PERSON\n",
      "People, including fictional\n",
      "\n",
      "\n",
      "Pune\n",
      "GPE\n",
      "Countries, cities, states\n",
      "\n",
      "\n",
      "Maharashtra\n",
      "NORP\n",
      "Nationalities or religious or political groups\n",
      "\n",
      "\n",
      "India\n",
      "GPE\n",
      "Countries, cities, states\n",
      "\n",
      "\n"
     ]
    }
   ],
   "source": [
    "doc7 = lang ('Akshay lives in Pune which is part of Maharashtra and which is part of India')\n",
    "for token in doc7.ents:\n",
    "    print(token)\n",
    "    print(token.label_)\n",
    "    print(str(spacy.explain(token.label_)))   # just if you want the explanation of each token\n",
    "    print('\\n')\n"
   ]
  },
  {
   "cell_type": "code",
   "execution_count": 62,
   "id": "3f3a55fd",
   "metadata": {},
   "outputs": [
    {
     "name": "stdout",
     "output_type": "stream",
     "text": [
      "Amsterdam\n",
      "GPE\n",
      "Countries, cities, states\n",
      "\n",
      "\n",
      "Maharashtra\n",
      "NORP\n",
      "Nationalities or religious or political groups\n",
      "\n",
      "\n",
      "India\n",
      "GPE\n",
      "Countries, cities, states\n",
      "\n",
      "\n"
     ]
    }
   ],
   "source": [
    "doc8 = lang ('Amsterdam is part of Maharashtra and which is part of India')\n",
    "for token in doc8.ents:\n",
    "    print(token)\n",
    "    print(token.label_)\n",
    "    print(str(spacy.explain(token.label_)))   # just if you want the explanation of each token\n",
    "    print('\\n')"
   ]
  },
  {
   "cell_type": "code",
   "execution_count": 63,
   "id": "7dd50fa1",
   "metadata": {},
   "outputs": [
    {
     "name": "stdout",
     "output_type": "stream",
     "text": [
      "Apple\n",
      "ORG\n",
      "Companies, agencies, institutions, etc.\n",
      "\n",
      "\n",
      "Samsung\n",
      "ORG\n",
      "Companies, agencies, institutions, etc.\n",
      "\n",
      "\n"
     ]
    }
   ],
   "source": [
    "doc7 = lang ('Apple and Samsung is companies of smartphones')\n",
    "for token in doc7.ents:\n",
    "    print(token)\n",
    "    print(token.label_)\n",
    "    print(str(spacy.explain(token.label_)))   # just if you want the explanation of each token\n",
    "    print('\\n')"
   ]
  },
  {
   "cell_type": "code",
   "execution_count": 65,
   "id": "12f1028d",
   "metadata": {},
   "outputs": [],
   "source": [
    "doc9 = lang ('Oppo and Vivo is companies of smartphones')\n",
    "for token in doc9.ents:\n",
    "    print(token)\n",
    "    print(token.label_)\n",
    "    print(str(spacy.explain(token.label_)))   # just if you want the explanation of each token\n",
    "    print('\\n')"
   ]
  },
  {
   "cell_type": "code",
   "execution_count": 67,
   "id": "7288ec32",
   "metadata": {},
   "outputs": [
    {
     "data": {
      "text/html": [
       "<span class=\"tex2jax_ignore\"><div class=\"entities\" style=\"line-height: 2.5; direction: ltr\">\n",
       "<mark class=\"entity\" style=\"background: #bfe1d9; padding: 0.45em 0.6em; margin: 0 0.25em; line-height: 1; border-radius: 0.35em;\">\n",
       "    last year\n",
       "    <span style=\"font-size: 0.8em; font-weight: bold; line-height: 1; border-radius: 0.35em; vertical-align: middle; margin-left: 0.5rem\">DATE</span>\n",
       "</mark>\n",
       " \n",
       "<mark class=\"entity\" style=\"background: #7aecec; padding: 0.45em 0.6em; margin: 0 0.25em; line-height: 1; border-radius: 0.35em;\">\n",
       "    MGHector\n",
       "    <span style=\"font-size: 0.8em; font-weight: bold; line-height: 1; border-radius: 0.35em; vertical-align: middle; margin-left: 0.5rem\">ORG</span>\n",
       "</mark>\n",
       " sold \n",
       "<mark class=\"entity\" style=\"background: #e4e7d2; padding: 0.45em 0.6em; margin: 0 0.25em; line-height: 1; border-radius: 0.35em;\">\n",
       "    25000\n",
       "    <span style=\"font-size: 0.8em; font-weight: bold; line-height: 1; border-radius: 0.35em; vertical-align: middle; margin-left: 0.5rem\">CARDINAL</span>\n",
       "</mark>\n",
       " cars in \n",
       "<mark class=\"entity\" style=\"background: #feca74; padding: 0.45em 0.6em; margin: 0 0.25em; line-height: 1; border-radius: 0.35em;\">\n",
       "    India\n",
       "    <span style=\"font-size: 0.8em; font-weight: bold; line-height: 1; border-radius: 0.35em; vertical-align: middle; margin-left: 0.5rem\">GPE</span>\n",
       "</mark>\n",
       "</div></span>"
      ],
      "text/plain": [
       "<IPython.core.display.HTML object>"
      ]
     },
     "metadata": {},
     "output_type": "display_data"
    }
   ],
   "source": [
    "from spacy import displacy\n",
    "doc10 = lang('last year MGHector sold 25000 cars in India')\n",
    "displacy.render(doc10, style = 'ent')"
   ]
  },
  {
   "cell_type": "code",
   "execution_count": 71,
   "id": "239b0332",
   "metadata": {},
   "outputs": [
    {
     "data": {
      "text/html": [
       "<span class=\"tex2jax_ignore\"><div class=\"entities\" style=\"line-height: 2.5; direction: ltr\">\n",
       "<mark class=\"entity\" style=\"background: #bfe1d9; padding: 0.45em 0.6em; margin: 0 0.25em; line-height: 1; border-radius: 0.35em;\">\n",
       "    Today\n",
       "    <span style=\"font-size: 0.8em; font-weight: bold; line-height: 1; border-radius: 0.35em; vertical-align: middle; margin-left: 0.5rem\">DATE</span>\n",
       "</mark>\n",
       " date is \n",
       "<mark class=\"entity\" style=\"background: #bfe1d9; padding: 0.45em 0.6em; margin: 0 0.25em; line-height: 1; border-radius: 0.35em;\">\n",
       "    26 November 2022\n",
       "    <span style=\"font-size: 0.8em; font-weight: bold; line-height: 1; border-radius: 0.35em; vertical-align: middle; margin-left: 0.5rem\">DATE</span>\n",
       "</mark>\n",
       ". This is \n",
       "<mark class=\"entity\" style=\"background: #bfe1d9; padding: 0.45em 0.6em; margin: 0 0.25em; line-height: 1; border-radius: 0.35em;\">\n",
       "    the day\n",
       "    <span style=\"font-size: 0.8em; font-weight: bold; line-height: 1; border-radius: 0.35em; vertical-align: middle; margin-left: 0.5rem\">DATE</span>\n",
       "</mark>\n",
       " when I learn Spacy</div></span>"
      ],
      "text/plain": [
       "<IPython.core.display.HTML object>"
      ]
     },
     "metadata": {},
     "output_type": "display_data"
    }
   ],
   "source": [
    "doc11 = lang('Today date is 26 November 2022. This is the day when I learn Spacy')\n",
    "displacy.render(doc11, style = 'ent')"
   ]
  },
  {
   "cell_type": "code",
   "execution_count": 72,
   "id": "ceb7f9ca",
   "metadata": {},
   "outputs": [],
   "source": [
    "import nltk\n",
    "from nltk.stem.snowball import SnowballStemmer\n",
    "stemmer = SnowballStemmer(language = 'english')\n"
   ]
  },
  {
   "cell_type": "code",
   "execution_count": 86,
   "id": "6492e54d",
   "metadata": {
    "scrolled": true
   },
   "outputs": [
    {
     "name": "stdout",
     "output_type": "stream",
     "text": [
      "swim its stemming is ---->  \t swim\n",
      "swimmer its stemming is ---->  \t swimmer\n",
      "swimming its stemming is ---->  \t swim\n",
      "matches its stemming is ---->  \t match\n",
      "mens its stemming is ---->  \t men\n",
      "laughing its stemming is ---->  \t laugh\n",
      "cars its stemming is ---->  \t car\n",
      "loving its stemming is ---->  \t love\n",
      "humans its stemming is ---->  \t human\n",
      "Indians its stemming is ---->  \t indian\n",
      "Apples its stemming is ---->  \t appl\n",
      "Mangos its stemming is ---->  \t mango\n",
      "regardless its stemming is ---->  \t regardless\n",
      "ending its stemming is ---->  \t end\n",
      "Eagles its stemming is ---->  \t eagl\n",
      "thru its stemming is ---->  \t thru\n"
     ]
    }
   ],
   "source": [
    "wordlist = ['swim','swimmer','swimming','matches',\n",
    "           'mens','laughing','cars','loving',\n",
    "           'humans', 'Indians', 'Apples','Mangos', 'regardless', 'ending',\n",
    "           'Eagles','thru']\n",
    "for word in wordlist:\n",
    "    print(word , 'its stemming is ----> ' , '\\t' , stemmer.stem(word))"
   ]
  },
  {
   "cell_type": "code",
   "execution_count": 83,
   "id": "30943fd5",
   "metadata": {},
   "outputs": [
    {
     "name": "stdout",
     "output_type": "stream",
     "text": [
      "{'with', 'may', 'am', 'make', 'except', 'both', 'name', 'between', 'nowhere', '’ve', 'go', 'whereby', '’ll', 'very', 'wherein', 'most', 'towards', 'whatever', 'must', 'any', 'wherever', 'top', \"n't\", 'was', 'by', 'all', 'themselves', 'been', 'nine', 'over', 'us', 'so', 'behind', 'perhaps', 'almost', 'third', 'twelve', 'ten', 'himself', 'sometime', 'therefore', 'where', 'were', 'nor', 'five', 'beyond', \"'ve\", 'quite', 'she', 'among', 'empty', 'nobody', 're', 'often', 'nothing', 'not', 'yours', 'whither', 'seemed', 'latterly', 'noone', 'thereby', 'but', 'around', 'full', 'out', 'just', 'did', 'onto', 'keep', 'everywhere', 'for', '’re', 'formerly', 'regarding', 'sixty', 'why', 'n‘t', 'seem', 'done', 'the', 'whom', 'four', 'much', 'that', 'how', 'least', 'used', 'amount', 'being', 'only', 'side', 'somewhere', 'either', 'had', 'a', 'be', '‘d', 'hereafter', 'via', 'they', 'please', 'nevertheless', 'yourself', 'further', 'anyone', 'then', 'although', 'few', 'it', 'an', 'whence', '‘ve', 'never', 'or', 'no', 'up', 'now', 'elsewhere', 'my', 'show', 'his', 'until', 'however', 'once', 'doing', 'mostly', 'more', 'eight', 'is', 'thereafter', 'whether', 'alone', 'cannot', 'this', 'also', 'during', 'say', 'amongst', 'less', 'toward', 'hers', 'latter', 'under', 'thence', 'several', 'whose', 'serious', \"'d\", 'made', 'might', \"'m\", \"'s\", 'back', 'yet', 'since', 'ever', 'these', 'rather', \"'ll\", 'upon', 'throughout', 'him', 'other', 'last', 'across', 'give', 'seems', 'seeming', 'together', 'becoming', 'when', 'became', 'above', 'someone', 'such', 'everyone', 'many', 'whereupon', 'therein', 'six', 'twenty', '‘s', 'n’t', 'our', 'down', 'still', 'thus', 'moreover', 'others', 'which', 'whole', 'unless', 'on', 'due', 'afterwards', 'anything', 'whoever', '‘m', 'first', 'than', 'forty', 'along', \"'re\", 'namely', 'thereupon', 'whenever', 'per', '‘ll', 'beforehand', 'of', 'part', 'next', 'fifty', 'hundred', 'he', 'hereupon', '’m', 'put', 'sometimes', 'enough', 'same', 'will', 'could', 'thru', 'your', 'another', 'about', 'ca', 'we', 'there', 'as', 'get', 'becomes', 'really', 'me', '’s', 'even', 'anyhow', 'move', 'using', 'well', 'besides', 'here', 'hereby', 'should', 'anyway', 'herself', 'bottom', 'every', 'herein', 'each', 'through', 'indeed', 'its', 'their', 'former', 'after', 'have', 'one', 'into', 'see', 'anywhere', 'i', 'are', 'some', 'ours', 'everything', 'somehow', 'if', 'else', '’d', 'meanwhile', 'her', 'three', 'itself', 'front', 'again', 'something', 'from', 'because', 'mine', 'whereafter', 'before', 'at', 'within', 'hence', 'neither', 'has', 'them', 'though', 'while', 'without', 'you', 'does', 'can', 'otherwise', 'yourselves', 'ourselves', 'and', 'would', 'eleven', 'against', 'what', 'take', 'become', 'always', 'in', 'own', 'beside', 'below', 'who', 'those', 'call', 'none', 'already', 'off', 'myself', 'to', 'whereas', 'too', 'various', '‘re', 'two', 'fifteen', 'do'}\n"
     ]
    }
   ],
   "source": [
    "print(lang.Defaults.stop_words)"
   ]
  },
  {
   "cell_type": "code",
   "execution_count": 84,
   "id": "d41ac0a2",
   "metadata": {},
   "outputs": [
    {
     "data": {
      "text/plain": [
       "326"
      ]
     },
     "execution_count": 84,
     "metadata": {},
     "output_type": "execute_result"
    }
   ],
   "source": [
    "len((lang.Defaults.stop_words))"
   ]
  },
  {
   "cell_type": "code",
   "execution_count": 89,
   "id": "6e9b140a",
   "metadata": {},
   "outputs": [
    {
     "name": "stdout",
     "output_type": "stream",
     "text": [
      "True\n"
     ]
    }
   ],
   "source": [
    "print(lang.vocab['yourselves'].is_stop)"
   ]
  },
  {
   "cell_type": "code",
   "execution_count": 90,
   "id": "2481f585",
   "metadata": {},
   "outputs": [],
   "source": [
    "lang.Defaults.stop_words.add('okie')\n",
    "lang.vocab['okie'].is_stop = True"
   ]
  },
  {
   "cell_type": "code",
   "execution_count": 91,
   "id": "1efa6e52",
   "metadata": {},
   "outputs": [
    {
     "name": "stdout",
     "output_type": "stream",
     "text": [
      "True\n"
     ]
    }
   ],
   "source": [
    "print(lang.vocab['okie'].is_stop)"
   ]
  },
  {
   "cell_type": "code",
   "execution_count": 92,
   "id": "d24b13f2",
   "metadata": {},
   "outputs": [],
   "source": [
    "lang.Defaults.stop_words.add('bhaiyo_behno')\n",
    "lang.vocab['bhaiyo_behno'].is_stop = True"
   ]
  },
  {
   "cell_type": "code",
   "execution_count": 93,
   "id": "be002ee5",
   "metadata": {},
   "outputs": [
    {
     "name": "stdout",
     "output_type": "stream",
     "text": [
      "True\n"
     ]
    }
   ],
   "source": [
    "print(lang.vocab['bhaiyo_behno'].is_stop)"
   ]
  },
  {
   "cell_type": "code",
   "execution_count": 94,
   "id": "eaa83fee",
   "metadata": {},
   "outputs": [
    {
     "data": {
      "text/plain": [
       "328"
      ]
     },
     "execution_count": 94,
     "metadata": {},
     "output_type": "execute_result"
    }
   ],
   "source": [
    "len((lang.Defaults.stop_words))"
   ]
  },
  {
   "cell_type": "code",
   "execution_count": 96,
   "id": "aa516955",
   "metadata": {},
   "outputs": [],
   "source": [
    "lang.Defaults.stop_words.remove('okie')\n",
    "lang.vocab['okie'].is_stop = False"
   ]
  },
  {
   "cell_type": "code",
   "execution_count": 97,
   "id": "f3808cc0",
   "metadata": {},
   "outputs": [
    {
     "name": "stdout",
     "output_type": "stream",
     "text": [
      "False\n"
     ]
    }
   ],
   "source": [
    "print(lang.vocab['okie'].is_stop)"
   ]
  },
  {
   "cell_type": "code",
   "execution_count": 99,
   "id": "5478c809",
   "metadata": {},
   "outputs": [],
   "source": [
    "lang.Defaults.stop_words.remove('bhaiyo_behno')\n",
    "lang.vocab['bhaiyo_behno'].is_stop = False"
   ]
  },
  {
   "cell_type": "code",
   "execution_count": 100,
   "id": "4302901b",
   "metadata": {},
   "outputs": [
    {
     "name": "stdout",
     "output_type": "stream",
     "text": [
      "False\n"
     ]
    }
   ],
   "source": [
    "print(lang.vocab['bhaiyo_behno'].is_stop)"
   ]
  },
  {
   "cell_type": "code",
   "execution_count": 101,
   "id": "022835c0",
   "metadata": {},
   "outputs": [
    {
     "data": {
      "text/plain": [
       "326"
      ]
     },
     "execution_count": 101,
     "metadata": {},
     "output_type": "execute_result"
    }
   ],
   "source": [
    "len((lang.Defaults.stop_words))"
   ]
  },
  {
   "cell_type": "code",
   "execution_count": 102,
   "id": "dc2ffaec",
   "metadata": {},
   "outputs": [],
   "source": [
    "# explore the regular Expression"
   ]
  },
  {
   "cell_type": "code",
   "execution_count": null,
   "id": "4f4a8d37",
   "metadata": {},
   "outputs": [],
   "source": []
  }
 ],
 "metadata": {
  "kernelspec": {
   "display_name": "Python 3 (ipykernel)",
   "language": "python",
   "name": "python3"
  },
  "language_info": {
   "codemirror_mode": {
    "name": "ipython",
    "version": 3
   },
   "file_extension": ".py",
   "mimetype": "text/x-python",
   "name": "python",
   "nbconvert_exporter": "python",
   "pygments_lexer": "ipython3",
   "version": "3.9.7"
  }
 },
 "nbformat": 4,
 "nbformat_minor": 5
}
